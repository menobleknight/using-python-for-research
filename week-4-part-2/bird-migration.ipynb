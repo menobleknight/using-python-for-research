{
  "nbformat": 4,
  "nbformat_minor": 0,
  "metadata": {
    "colab": {
      "name": "bird-migration.ipynb",
      "provenance": [],
      "authorship_tag": "ABX9TyN1zQThookN0V/3bgQYcUUB",
      "include_colab_link": true
    },
    "kernelspec": {
      "name": "python3",
      "display_name": "Python 3"
    },
    "language_info": {
      "name": "python"
    }
  },
  "cells": [
    {
      "cell_type": "markdown",
      "metadata": {
        "id": "view-in-github",
        "colab_type": "text"
      },
      "source": [
        "<a href=\"https://colab.research.google.com/github/menobleknight/using-python-for-research/blob/main/week-4-part-2/bird-migration.ipynb\" target=\"_parent\"><img src=\"https://colab.research.google.com/assets/colab-badge.svg\" alt=\"Open In Colab\"/></a>"
      ]
    },
    {
      "cell_type": "code",
      "metadata": {
        "colab": {
          "base_uri": "https://localhost:8080/"
        },
        "id": "dRCYi6aP8u_K",
        "outputId": "b10d53f9-0634-4d91-f877-193a03c134ca"
      },
      "source": [
        "import pandas as pd\n",
        "\n",
        "bird_data = pd.read_csv(\"https://raw.githubusercontent.com/menobleknight/using-python-for-research/main/week-4-part-2/bird-tracking.csv\")\n",
        "\n",
        "bird_data.info()"
      ],
      "execution_count": 5,
      "outputs": [
        {
          "output_type": "stream",
          "text": [
            "<class 'pandas.core.frame.DataFrame'>\n",
            "RangeIndex: 61920 entries, 0 to 61919\n",
            "Data columns (total 9 columns):\n",
            " #   Column              Non-Null Count  Dtype  \n",
            "---  ------              --------------  -----  \n",
            " 0   Unnamed: 0          61920 non-null  int64  \n",
            " 1   altitude            61920 non-null  int64  \n",
            " 2   date_time           61920 non-null  object \n",
            " 3   device_info_serial  61920 non-null  int64  \n",
            " 4   direction           61477 non-null  float64\n",
            " 5   latitude            61920 non-null  float64\n",
            " 6   longitude           61920 non-null  float64\n",
            " 7   speed_2d            61477 non-null  float64\n",
            " 8   bird_name           61920 non-null  object \n",
            "dtypes: float64(4), int64(3), object(2)\n",
            "memory usage: 4.3+ MB\n"
          ],
          "name": "stdout"
        }
      ]
    },
    {
      "cell_type": "code",
      "metadata": {
        "colab": {
          "base_uri": "https://localhost:8080/",
          "height": 206
        },
        "id": "mxCAx3Gn9QLI",
        "outputId": "a7c4be99-b607-4362-8402-6983459e2249"
      },
      "source": [
        "bird_data.head()"
      ],
      "execution_count": 6,
      "outputs": [
        {
          "output_type": "execute_result",
          "data": {
            "text/html": [
              "<div>\n",
              "<style scoped>\n",
              "    .dataframe tbody tr th:only-of-type {\n",
              "        vertical-align: middle;\n",
              "    }\n",
              "\n",
              "    .dataframe tbody tr th {\n",
              "        vertical-align: top;\n",
              "    }\n",
              "\n",
              "    .dataframe thead th {\n",
              "        text-align: right;\n",
              "    }\n",
              "</style>\n",
              "<table border=\"1\" class=\"dataframe\">\n",
              "  <thead>\n",
              "    <tr style=\"text-align: right;\">\n",
              "      <th></th>\n",
              "      <th>Unnamed: 0</th>\n",
              "      <th>altitude</th>\n",
              "      <th>date_time</th>\n",
              "      <th>device_info_serial</th>\n",
              "      <th>direction</th>\n",
              "      <th>latitude</th>\n",
              "      <th>longitude</th>\n",
              "      <th>speed_2d</th>\n",
              "      <th>bird_name</th>\n",
              "    </tr>\n",
              "  </thead>\n",
              "  <tbody>\n",
              "    <tr>\n",
              "      <th>0</th>\n",
              "      <td>0</td>\n",
              "      <td>71</td>\n",
              "      <td>2013-08-15 00:18:08+00</td>\n",
              "      <td>851</td>\n",
              "      <td>-150.469753</td>\n",
              "      <td>49.419860</td>\n",
              "      <td>2.120733</td>\n",
              "      <td>0.150000</td>\n",
              "      <td>Eric</td>\n",
              "    </tr>\n",
              "    <tr>\n",
              "      <th>1</th>\n",
              "      <td>1</td>\n",
              "      <td>68</td>\n",
              "      <td>2013-08-15 00:48:07+00</td>\n",
              "      <td>851</td>\n",
              "      <td>-136.151141</td>\n",
              "      <td>49.419880</td>\n",
              "      <td>2.120746</td>\n",
              "      <td>2.438360</td>\n",
              "      <td>Eric</td>\n",
              "    </tr>\n",
              "    <tr>\n",
              "      <th>2</th>\n",
              "      <td>2</td>\n",
              "      <td>68</td>\n",
              "      <td>2013-08-15 01:17:58+00</td>\n",
              "      <td>851</td>\n",
              "      <td>160.797477</td>\n",
              "      <td>49.420310</td>\n",
              "      <td>2.120885</td>\n",
              "      <td>0.596657</td>\n",
              "      <td>Eric</td>\n",
              "    </tr>\n",
              "    <tr>\n",
              "      <th>3</th>\n",
              "      <td>3</td>\n",
              "      <td>73</td>\n",
              "      <td>2013-08-15 01:47:51+00</td>\n",
              "      <td>851</td>\n",
              "      <td>32.769360</td>\n",
              "      <td>49.420359</td>\n",
              "      <td>2.120859</td>\n",
              "      <td>0.310161</td>\n",
              "      <td>Eric</td>\n",
              "    </tr>\n",
              "    <tr>\n",
              "      <th>4</th>\n",
              "      <td>4</td>\n",
              "      <td>69</td>\n",
              "      <td>2013-08-15 02:17:42+00</td>\n",
              "      <td>851</td>\n",
              "      <td>45.191230</td>\n",
              "      <td>49.420331</td>\n",
              "      <td>2.120887</td>\n",
              "      <td>0.193132</td>\n",
              "      <td>Eric</td>\n",
              "    </tr>\n",
              "  </tbody>\n",
              "</table>\n",
              "</div>"
            ],
            "text/plain": [
              "   Unnamed: 0  altitude               date_time  ...  longitude  speed_2d  bird_name\n",
              "0           0        71  2013-08-15 00:18:08+00  ...   2.120733  0.150000       Eric\n",
              "1           1        68  2013-08-15 00:48:07+00  ...   2.120746  2.438360       Eric\n",
              "2           2        68  2013-08-15 01:17:58+00  ...   2.120885  0.596657       Eric\n",
              "3           3        73  2013-08-15 01:47:51+00  ...   2.120859  0.310161       Eric\n",
              "4           4        69  2013-08-15 02:17:42+00  ...   2.120887  0.193132       Eric\n",
              "\n",
              "[5 rows x 9 columns]"
            ]
          },
          "metadata": {
            "tags": []
          },
          "execution_count": 6
        }
      ]
    },
    {
      "cell_type": "code",
      "metadata": {
        "colab": {
          "base_uri": "https://localhost:8080/",
          "height": 265
        },
        "id": "kXJ5Ft9O9eyT",
        "outputId": "65c2659d-8ac2-4de4-c1f7-78b55828004d"
      },
      "source": [
        "# plot longitude and latitude\n",
        "\n",
        "import matplotlib.pyplot as plt\n",
        "import numpy as np\n",
        "\n",
        "# birds with name Eric\n",
        "indices = (bird_data.bird_name == \"Eric\")\n",
        "\n",
        "x, y = bird_data.longitude[indices], bird_data.latitude[indices]\n",
        "\n",
        "plt.plot(x, y, \".\");"
      ],
      "execution_count": 7,
      "outputs": [
        {
          "output_type": "display_data",
          "data": {
            "image/png": "[encoded data removed]",
            "text/plain": [
              "<Figure size 432x288 with 1 Axes>"
            ]
          },
          "metadata": {
            "tags": [],
            "needs_background": "light"
          }
        }
      ]
    },
    {
      "cell_type": "code",
      "metadata": {
        "colab": {
          "base_uri": "https://localhost:8080/"
        },
        "id": "KZSEwyzN_RA4",
        "outputId": "b87760a3-5f06-4875-92a9-784ba7bf614b"
      },
      "source": [
        "bird_names = pd.unique(bird_data.bird_name)\n",
        "bird_names"
      ],
      "execution_count": 8,
      "outputs": [
        {
          "output_type": "execute_result",
          "data": {
            "text/plain": [
              "array(['Eric', 'Nico', 'Sanne'], dtype=object)"
            ]
          },
          "metadata": {
            "tags": []
          },
          "execution_count": 8
        }
      ]
    },
    {
      "cell_type": "code",
      "metadata": {
        "colab": {
          "base_uri": "https://localhost:8080/",
          "height": 279
        },
        "id": "jZI8gf-u_aSV",
        "outputId": "b2c1c8b0-5006-4310-d2c7-27cbedca52c7"
      },
      "source": [
        "# plot longitudes and latitudes of all birds\n",
        "\n",
        "for bird_name in bird_names:\n",
        "    indices = (bird_data[\"bird_name\"] == bird_name)\n",
        "    x, y = bird_data.longitude[indices], bird_data.latitude[indices]\n",
        "    plt.plot(x, y, \".\")\n",
        "\n",
        "plt.xlabel(\"longitude\")\n",
        "plt.ylabel(\"latitude\")\n",
        "plt.legend(bird_names);"
      ],
      "execution_count": 9,
      "outputs": [
        {
          "output_type": "display_data",
          "data": {
            "image/png": "[encoded data removed]",
            "text/plain": [
              "<Figure size 432x288 with 1 Axes>"
            ]
          },
          "metadata": {
            "tags": [],
            "needs_background": "light"
          }
        }
      ]
    },
    {
      "cell_type": "code",
      "metadata": {
        "colab": {
          "base_uri": "https://localhost:8080/",
          "height": 265
        },
        "id": "2Jrn7YVSBYnV",
        "outputId": "ce1a64d8-e7d0-4cb0-b648-65ef0475df52"
      },
      "source": [
        "# speed of birds with name Eric\n",
        "\n",
        "indices = bird_data.bird_name == \"Eric\"\n",
        "speeds = bird_data.speed_2d[indices]\n",
        "plt.hist(speeds);"
      ],
      "execution_count": 10,
      "outputs": [
        {
          "output_type": "display_data",
          "data": {
            "image/png": "[encoded data removed]",
            "text/plain": [
              "<Figure size 432x288 with 1 Axes>"
            ]
          },
          "metadata": {
            "tags": [],
            "needs_background": "light"
          }
        }
      ]
    },
    {
      "cell_type": "code",
      "metadata": {
        "colab": {
          "base_uri": "https://localhost:8080/",
          "height": 279
        },
        "id": "3Au5s5BiGBS1",
        "outputId": "2902133d-00f7-4de4-b414-dbfa67048a2b"
      },
      "source": [
        "indices = bird_data.bird_name == \"Eric\"\n",
        "speeds = bird_data.speed_2d[indices]\n",
        "plt.hist(speeds, bins=np.linspace(0, 30 ,20), density=True)\n",
        "plt.xlabel(\"2D speeds (m/s)\")\n",
        "plt.ylabel(\"Frequency\");"
      ],
      "execution_count": 11,
      "outputs": [
        {
          "output_type": "display_data",
          "data": {
            "image/png": "[encoded data removed]",
            "text/plain": [
              "<Figure size 432x288 with 1 Axes>"
            ]
          },
          "metadata": {
            "tags": [],
            "needs_background": "light"
          }
        }
      ]
    },
    {
      "cell_type": "code",
      "metadata": {
        "colab": {
          "base_uri": "https://localhost:8080/",
          "height": 279
        },
        "id": "ku3tJwGBHlBa",
        "outputId": "8b7e70e4-96ef-4f23-d018-c5ae7cc3b7cb"
      },
      "source": [
        "# plotting with pandas\n",
        "\n",
        "bird_data.speed_2d.plot(kind=\"hist\", range=[0, 30])\n",
        "plt.xlabel(\"2D speeds\");"
      ],
      "execution_count": 12,
      "outputs": [
        {
          "output_type": "display_data",
          "data": {
            "image/png": "[encoded data removed]",
            "text/plain": [
              "<Figure size 432x288 with 1 Axes>"
            ]
          },
          "metadata": {
            "tags": [],
            "needs_background": "light"
          }
        }
      ]
    },
    {
      "cell_type": "code",
      "metadata": {
        "colab": {
          "base_uri": "https://localhost:8080/"
        },
        "id": "pmNT9d3SIVTY",
        "outputId": "05417de8-d515-49b5-c6a1-3df40c5b1c05"
      },
      "source": [
        "# dealing with timestamped data using datetime module\n",
        "\n",
        "bird_data.date_time[0:3]"
      ],
      "execution_count": 13,
      "outputs": [
        {
          "output_type": "execute_result",
          "data": {
            "text/plain": [
              "0    2013-08-15 00:18:08+00\n",
              "1    2013-08-15 00:48:07+00\n",
              "2    2013-08-15 01:17:58+00\n",
              "Name: date_time, dtype: object"
            ]
          },
          "metadata": {
            "tags": []
          },
          "execution_count": 13
        }
      ]
    },
    {
      "cell_type": "code",
      "metadata": {
        "colab": {
          "base_uri": "https://localhost:8080/"
        },
        "id": "nmcaDa6cIn9Y",
        "outputId": "94ba5d23-4a18-4d38-e044-3463708404d8"
      },
      "source": [
        "import datetime\n",
        "\n",
        "datetime.datetime.today()"
      ],
      "execution_count": 14,
      "outputs": [
        {
          "output_type": "execute_result",
          "data": {
            "text/plain": [
              "datetime.datetime(2021, 4, 18, 16, 15, 22, 284007)"
            ]
          },
          "metadata": {
            "tags": []
          },
          "execution_count": 14
        }
      ]
    },
    {
      "cell_type": "code",
      "metadata": {
        "id": "l37OUrcaI7e5"
      },
      "source": [
        "# difference between two timestamps\n",
        "\n",
        "time_1 = datetime.datetime.today()"
      ],
      "execution_count": 15,
      "outputs": []
    },
    {
      "cell_type": "code",
      "metadata": {
        "id": "xrkE6xvIJKb1"
      },
      "source": [
        "time_2 = datetime.datetime.today()"
      ],
      "execution_count": 16,
      "outputs": []
    },
    {
      "cell_type": "code",
      "metadata": {
        "colab": {
          "base_uri": "https://localhost:8080/"
        },
        "id": "pe9elBt4JUNn",
        "outputId": "52467757-4ab6-4786-c5c2-d4efcac1b08c"
      },
      "source": [
        "time_2 - time_1"
      ],
      "execution_count": 17,
      "outputs": [
        {
          "output_type": "execute_result",
          "data": {
            "text/plain": [
              "datetime.timedelta(microseconds=6000)"
            ]
          },
          "metadata": {
            "tags": []
          },
          "execution_count": 17
        }
      ]
    },
    {
      "cell_type": "code",
      "metadata": {
        "colab": {
          "base_uri": "https://localhost:8080/"
        },
        "id": "-UiSriz0Jghi",
        "outputId": "dc60986f-1573-472d-b866-7ab39c9a8505"
      },
      "source": [
        "time_2 = datetime.datetime.today()\n",
        "\n",
        "time_2 - time_1"
      ],
      "execution_count": 18,
      "outputs": [
        {
          "output_type": "execute_result",
          "data": {
            "text/plain": [
              "datetime.timedelta(microseconds=19947)"
            ]
          },
          "metadata": {
            "tags": []
          },
          "execution_count": 18
        }
      ]
    },
    {
      "cell_type": "code",
      "metadata": {
        "colab": {
          "base_uri": "https://localhost:8080/"
        },
        "id": "zCK53JWyJvvd",
        "outputId": "e273f3d4-8698-4022-c109-00d6af3394c5"
      },
      "source": [
        "date_str = bird_data.date_time[0]\n",
        "type(date_str)"
      ],
      "execution_count": 19,
      "outputs": [
        {
          "output_type": "execute_result",
          "data": {
            "text/plain": [
              "str"
            ]
          },
          "metadata": {
            "tags": []
          },
          "execution_count": 19
        }
      ]
    },
    {
      "cell_type": "code",
      "metadata": {
        "colab": {
          "base_uri": "https://localhost:8080/",
          "height": 38
        },
        "id": "ELjypG4WKRFm",
        "outputId": "11cd791f-8ac3-42ce-cdaf-f02d545a3e29"
      },
      "source": [
        "date_str"
      ],
      "execution_count": 20,
      "outputs": [
        {
          "output_type": "execute_result",
          "data": {
            "application/vnd.google.colaboratory.intrinsic+json": {
              "type": "string"
            },
            "text/plain": [
              "'2013-08-15 00:18:08+00'"
            ]
          },
          "metadata": {
            "tags": []
          },
          "execution_count": 20
        }
      ]
    },
    {
      "cell_type": "code",
      "metadata": {
        "colab": {
          "base_uri": "https://localhost:8080/",
          "height": 38
        },
        "id": "VUUbGGHgKTIc",
        "outputId": "ce684baa-1449-477d-8ec2-093ea321303a"
      },
      "source": [
        "date_str[:-3] # ignore '+00' i.e., UTC encoding, which is same for all timestamps"
      ],
      "execution_count": 21,
      "outputs": [
        {
          "output_type": "execute_result",
          "data": {
            "application/vnd.google.colaboratory.intrinsic+json": {
              "type": "string"
            },
            "text/plain": [
              "'2013-08-15 00:18:08'"
            ]
          },
          "metadata": {
            "tags": []
          },
          "execution_count": 21
        }
      ]
    },
    {
      "cell_type": "code",
      "metadata": {
        "colab": {
          "base_uri": "https://localhost:8080/"
        },
        "id": "U6WAA0pIK-MT",
        "outputId": "e4c65f3f-d86e-4314-dfcb-652760ebf239"
      },
      "source": [
        "datetime.datetime.strptime(date_str[:-3], \"%Y-%m-%d %H:%M:%S\")"
      ],
      "execution_count": 22,
      "outputs": [
        {
          "output_type": "execute_result",
          "data": {
            "text/plain": [
              "datetime.datetime(2013, 8, 15, 0, 18, 8)"
            ]
          },
          "metadata": {
            "tags": []
          },
          "execution_count": 22
        }
      ]
    },
    {
      "cell_type": "code",
      "metadata": {
        "colab": {
          "base_uri": "https://localhost:8080/"
        },
        "id": "FMaYeOJcLn2r",
        "outputId": "a501a0b9-43fb-4e42-b21d-bf0fdd556615"
      },
      "source": [
        "timestamps = []\n",
        "for k in range(len(bird_data)):\n",
        "    timestamps.append(datetime.datetime.strptime(bird_data.date_time.iloc[k][:-3], \"%Y-%m-%d %H:%M:%S\"))\n",
        "\n",
        "timestamps[:3]"
      ],
      "execution_count": 23,
      "outputs": [
        {
          "output_type": "execute_result",
          "data": {
            "text/plain": [
              "[datetime.datetime(2013, 8, 15, 0, 18, 8),\n",
              " datetime.datetime(2013, 8, 15, 0, 48, 7),\n",
              " datetime.datetime(2013, 8, 15, 1, 17, 58)]"
            ]
          },
          "metadata": {
            "tags": []
          },
          "execution_count": 23
        }
      ]
    },
    {
      "cell_type": "code",
      "metadata": {
        "id": "4CY9KO7HMkRb"
      },
      "source": [
        "# add new column to bird_data as \"timestamp\"\n",
        "\n",
        "bird_data[\"timestamp\"] = pd.Series(timestamps, index=bird_data.index)"
      ],
      "execution_count": 24,
      "outputs": []
    },
    {
      "cell_type": "code",
      "metadata": {
        "colab": {
          "base_uri": "https://localhost:8080/",
          "height": 206
        },
        "id": "YMqE6wfPNBm0",
        "outputId": "b3812500-7a0b-484f-a5d1-6d2864f9eb22"
      },
      "source": [
        "bird_data.head()"
      ],
      "execution_count": 25,
      "outputs": [
        {
          "output_type": "execute_result",
          "data": {
            "text/html": [
              "<div>\n",
              "<style scoped>\n",
              "    .dataframe tbody tr th:only-of-type {\n",
              "        vertical-align: middle;\n",
              "    }\n",
              "\n",
              "    .dataframe tbody tr th {\n",
              "        vertical-align: top;\n",
              "    }\n",
              "\n",
              "    .dataframe thead th {\n",
              "        text-align: right;\n",
              "    }\n",
              "</style>\n",
              "<table border=\"1\" class=\"dataframe\">\n",
              "  <thead>\n",
              "    <tr style=\"text-align: right;\">\n",
              "      <th></th>\n",
              "      <th>Unnamed: 0</th>\n",
              "      <th>altitude</th>\n",
              "      <th>date_time</th>\n",
              "      <th>device_info_serial</th>\n",
              "      <th>direction</th>\n",
              "      <th>latitude</th>\n",
              "      <th>longitude</th>\n",
              "      <th>speed_2d</th>\n",
              "      <th>bird_name</th>\n",
              "      <th>timestamp</th>\n",
              "    </tr>\n",
              "  </thead>\n",
              "  <tbody>\n",
              "    <tr>\n",
              "      <th>0</th>\n",
              "      <td>0</td>\n",
              "      <td>71</td>\n",
              "      <td>2013-08-15 00:18:08+00</td>\n",
              "      <td>851</td>\n",
              "      <td>-150.469753</td>\n",
              "      <td>49.419860</td>\n",
              "      <td>2.120733</td>\n",
              "      <td>0.150000</td>\n",
              "      <td>Eric</td>\n",
              "      <td>2013-08-15 00:18:08</td>\n",
              "    </tr>\n",
              "    <tr>\n",
              "      <th>1</th>\n",
              "      <td>1</td>\n",
              "      <td>68</td>\n",
              "      <td>2013-08-15 00:48:07+00</td>\n",
              "      <td>851</td>\n",
              "      <td>-136.151141</td>\n",
              "      <td>49.419880</td>\n",
              "      <td>2.120746</td>\n",
              "      <td>2.438360</td>\n",
              "      <td>Eric</td>\n",
              "      <td>2013-08-15 00:48:07</td>\n",
              "    </tr>\n",
              "    <tr>\n",
              "      <th>2</th>\n",
              "      <td>2</td>\n",
              "      <td>68</td>\n",
              "      <td>2013-08-15 01:17:58+00</td>\n",
              "      <td>851</td>\n",
              "      <td>160.797477</td>\n",
              "      <td>49.420310</td>\n",
              "      <td>2.120885</td>\n",
              "      <td>0.596657</td>\n",
              "      <td>Eric</td>\n",
              "      <td>2013-08-15 01:17:58</td>\n",
              "    </tr>\n",
              "    <tr>\n",
              "      <th>3</th>\n",
              "      <td>3</td>\n",
              "      <td>73</td>\n",
              "      <td>2013-08-15 01:47:51+00</td>\n",
              "      <td>851</td>\n",
              "      <td>32.769360</td>\n",
              "      <td>49.420359</td>\n",
              "      <td>2.120859</td>\n",
              "      <td>0.310161</td>\n",
              "      <td>Eric</td>\n",
              "      <td>2013-08-15 01:47:51</td>\n",
              "    </tr>\n",
              "    <tr>\n",
              "      <th>4</th>\n",
              "      <td>4</td>\n",
              "      <td>69</td>\n",
              "      <td>2013-08-15 02:17:42+00</td>\n",
              "      <td>851</td>\n",
              "      <td>45.191230</td>\n",
              "      <td>49.420331</td>\n",
              "      <td>2.120887</td>\n",
              "      <td>0.193132</td>\n",
              "      <td>Eric</td>\n",
              "      <td>2013-08-15 02:17:42</td>\n",
              "    </tr>\n",
              "  </tbody>\n",
              "</table>\n",
              "</div>"
            ],
            "text/plain": [
              "   Unnamed: 0  altitude  ... bird_name           timestamp\n",
              "0           0        71  ...      Eric 2013-08-15 00:18:08\n",
              "1           1        68  ...      Eric 2013-08-15 00:48:07\n",
              "2           2        68  ...      Eric 2013-08-15 01:17:58\n",
              "3           3        73  ...      Eric 2013-08-15 01:47:51\n",
              "4           4        69  ...      Eric 2013-08-15 02:17:42\n",
              "\n",
              "[5 rows x 10 columns]"
            ]
          },
          "metadata": {
            "tags": []
          },
          "execution_count": 25
        }
      ]
    },
    {
      "cell_type": "code",
      "metadata": {
        "colab": {
          "base_uri": "https://localhost:8080/"
        },
        "id": "0hr5qqkzweNA",
        "outputId": "60f99e68-3fad-46db-ac34-ce4b1a119640"
      },
      "source": [
        "# arithmetic with timestamps\n",
        "\n",
        "bird_data.timestamp[4] - bird_data.timestamp[3]"
      ],
      "execution_count": 26,
      "outputs": [
        {
          "output_type": "execute_result",
          "data": {
            "text/plain": [
              "Timedelta('0 days 00:29:51')"
            ]
          },
          "metadata": {
            "tags": []
          },
          "execution_count": 26
        }
      ]
    },
    {
      "cell_type": "code",
      "metadata": {
        "id": "FSm02KpbxHOm"
      },
      "source": [
        "# calculate time elapsed from the beginning of observation\n",
        "\n",
        "times = bird_data.timestamp[bird_data.bird_name == \"Eric\"]\n",
        "elapsed_time = [time - times[0] for time in times]"
      ],
      "execution_count": 28,
      "outputs": []
    },
    {
      "cell_type": "code",
      "metadata": {
        "colab": {
          "base_uri": "https://localhost:8080/"
        },
        "id": "D9DCwCzbyVu-",
        "outputId": "264d88f7-971e-4381-a795-1b2aae7dea42"
      },
      "source": [
        "elapsed_time[0]"
      ],
      "execution_count": 29,
      "outputs": [
        {
          "output_type": "execute_result",
          "data": {
            "text/plain": [
              "Timedelta('0 days 00:00:00')"
            ]
          },
          "metadata": {
            "tags": []
          },
          "execution_count": 29
        }
      ]
    },
    {
      "cell_type": "code",
      "metadata": {
        "colab": {
          "base_uri": "https://localhost:8080/"
        },
        "id": "zxSaFXzeyYLd",
        "outputId": "eae0178e-5076-4664-ead0-95f41f6ceaf4"
      },
      "source": [
        "elapsed_time[1000]"
      ],
      "execution_count": 30,
      "outputs": [
        {
          "output_type": "execute_result",
          "data": {
            "text/plain": [
              "Timedelta('12 days 02:02:00')"
            ]
          },
          "metadata": {
            "tags": []
          },
          "execution_count": 30
        }
      ]
    },
    {
      "cell_type": "code",
      "metadata": {
        "colab": {
          "base_uri": "https://localhost:8080/"
        },
        "id": "Lw43bTVdy0zY",
        "outputId": "aabc29e9-3c38-41a0-aab8-d2f64c6136ce"
      },
      "source": [
        "# check how many days have passed\n",
        "\n",
        "elapsed_time[1000] / datetime.timedelta(days=1)"
      ],
      "execution_count": 31,
      "outputs": [
        {
          "output_type": "execute_result",
          "data": {
            "text/plain": [
              "12.084722222222222"
            ]
          },
          "metadata": {
            "tags": []
          },
          "execution_count": 31
        }
      ]
    },
    {
      "cell_type": "code",
      "metadata": {
        "colab": {
          "base_uri": "https://localhost:8080/"
        },
        "id": "5rVMoaOXzTLr",
        "outputId": "3c58172b-570d-4d0f-b326-3a672d62cdc8"
      },
      "source": [
        "# check how many hours have passed\n",
        "\n",
        "elapsed_time[1000] / datetime.timedelta(hours=1)"
      ],
      "execution_count": 32,
      "outputs": [
        {
          "output_type": "execute_result",
          "data": {
            "text/plain": [
              "290.03333333333336"
            ]
          },
          "metadata": {
            "tags": []
          },
          "execution_count": 32
        }
      ]
    },
    {
      "cell_type": "code",
      "metadata": {
        "colab": {
          "base_uri": "https://localhost:8080/",
          "height": 279
        },
        "id": "lIcNnKs1z0fd",
        "outputId": "27a44bd2-bd97-4959-8618-880a81ebcb05"
      },
      "source": [
        "plt.plot(np.array(elapsed_time) / datetime.timedelta(days=1))\n",
        "plt.xlabel(\"Observations\")\n",
        "plt.ylabel(\"Elapsed time (days)\");"
      ],
      "execution_count": 33,
      "outputs": [
        {
          "output_type": "display_data",
          "data": {
            "image/png": "[encoded data removed]",
            "text/plain": [
              "<Figure size 432x288 with 1 Axes>"
            ]
          },
          "metadata": {
            "tags": [],
            "needs_background": "light"
          }
        }
      ]
    }
  ]
}