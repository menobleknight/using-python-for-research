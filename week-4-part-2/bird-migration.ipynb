{
  "nbformat": 4,
  "nbformat_minor": 0,
  "metadata": {
    "colab": {
      "name": "bird-migration.ipynb",
      "provenance": [],
      "authorship_tag": "ABX9TyNSCIKSAHMVZwHWkclDma6u",
      "include_colab_link": true
    },
    "kernelspec": {
      "name": "python3",
      "display_name": "Python 3"
    },
    "language_info": {
      "name": "python"
    }
  },
  "cells": [
    {
      "cell_type": "markdown",
      "metadata": {
        "id": "view-in-github",
        "colab_type": "text"
      },
      "source": [
        "<a href=\"https://colab.research.google.com/github/er-knight/using-python-for-research/blob/main/week-4-part-2/bird-migration.ipynb\" target=\"_parent\"><img src=\"https://colab.research.google.com/assets/colab-badge.svg\" alt=\"Open In Colab\"/></a>"
      ]
    },
    {
      "cell_type": "code",
      "metadata": {
        "colab": {
          "base_uri": "https://localhost:8080/"
        },
        "id": "dRCYi6aP8u_K",
        "outputId": "7b560661-3d36-48ab-cd33-01e9666b13c1"
      },
      "source": [
        "import pandas as pd\n",
        "\n",
        "bird_data = pd.read_csv(\"https://raw.githubusercontent.com/er-knight/using-python-for-research/main/week-4-part-2/bird-tracking.csv\")\n",
        "\n",
        "bird_data.info()"
      ],
      "execution_count": 1,
      "outputs": [
        {
          "output_type": "stream",
          "text": [
            "<class 'pandas.core.frame.DataFrame'>\n",
            "RangeIndex: 61920 entries, 0 to 61919\n",
            "Data columns (total 9 columns):\n",
            " #   Column              Non-Null Count  Dtype  \n",
            "---  ------              --------------  -----  \n",
            " 0   Unnamed: 0          61920 non-null  int64  \n",
            " 1   altitude            61920 non-null  int64  \n",
            " 2   date_time           61920 non-null  object \n",
            " 3   device_info_serial  61920 non-null  int64  \n",
            " 4   direction           61477 non-null  float64\n",
            " 5   latitude            61920 non-null  float64\n",
            " 6   longitude           61920 non-null  float64\n",
            " 7   speed_2d            61477 non-null  float64\n",
            " 8   bird_name           61920 non-null  object \n",
            "dtypes: float64(4), int64(3), object(2)\n",
            "memory usage: 4.3+ MB\n"
          ],
          "name": "stdout"
        }
      ]
    },
    {
      "cell_type": "code",
      "metadata": {
        "colab": {
          "base_uri": "https://localhost:8080/",
          "height": 206
        },
        "id": "mxCAx3Gn9QLI",
        "outputId": "447f0758-a27e-482b-89a5-79663542cae3"
      },
      "source": [
        "bird_data.head()"
      ],
      "execution_count": 2,
      "outputs": [
        {
          "output_type": "execute_result",
          "data": {
            "text/html": [
              "<div>\n",
              "<style scoped>\n",
              "    .dataframe tbody tr th:only-of-type {\n",
              "        vertical-align: middle;\n",
              "    }\n",
              "\n",
              "    .dataframe tbody tr th {\n",
              "        vertical-align: top;\n",
              "    }\n",
              "\n",
              "    .dataframe thead th {\n",
              "        text-align: right;\n",
              "    }\n",
              "</style>\n",
              "<table border=\"1\" class=\"dataframe\">\n",
              "  <thead>\n",
              "    <tr style=\"text-align: right;\">\n",
              "      <th></th>\n",
              "      <th>Unnamed: 0</th>\n",
              "      <th>altitude</th>\n",
              "      <th>date_time</th>\n",
              "      <th>device_info_serial</th>\n",
              "      <th>direction</th>\n",
              "      <th>latitude</th>\n",
              "      <th>longitude</th>\n",
              "      <th>speed_2d</th>\n",
              "      <th>bird_name</th>\n",
              "    </tr>\n",
              "  </thead>\n",
              "  <tbody>\n",
              "    <tr>\n",
              "      <th>0</th>\n",
              "      <td>0</td>\n",
              "      <td>71</td>\n",
              "      <td>2013-08-15 00:18:08+00</td>\n",
              "      <td>851</td>\n",
              "      <td>-150.469753</td>\n",
              "      <td>49.419860</td>\n",
              "      <td>2.120733</td>\n",
              "      <td>0.150000</td>\n",
              "      <td>Eric</td>\n",
              "    </tr>\n",
              "    <tr>\n",
              "      <th>1</th>\n",
              "      <td>1</td>\n",
              "      <td>68</td>\n",
              "      <td>2013-08-15 00:48:07+00</td>\n",
              "      <td>851</td>\n",
              "      <td>-136.151141</td>\n",
              "      <td>49.419880</td>\n",
              "      <td>2.120746</td>\n",
              "      <td>2.438360</td>\n",
              "      <td>Eric</td>\n",
              "    </tr>\n",
              "    <tr>\n",
              "      <th>2</th>\n",
              "      <td>2</td>\n",
              "      <td>68</td>\n",
              "      <td>2013-08-15 01:17:58+00</td>\n",
              "      <td>851</td>\n",
              "      <td>160.797477</td>\n",
              "      <td>49.420310</td>\n",
              "      <td>2.120885</td>\n",
              "      <td>0.596657</td>\n",
              "      <td>Eric</td>\n",
              "    </tr>\n",
              "    <tr>\n",
              "      <th>3</th>\n",
              "      <td>3</td>\n",
              "      <td>73</td>\n",
              "      <td>2013-08-15 01:47:51+00</td>\n",
              "      <td>851</td>\n",
              "      <td>32.769360</td>\n",
              "      <td>49.420359</td>\n",
              "      <td>2.120859</td>\n",
              "      <td>0.310161</td>\n",
              "      <td>Eric</td>\n",
              "    </tr>\n",
              "    <tr>\n",
              "      <th>4</th>\n",
              "      <td>4</td>\n",
              "      <td>69</td>\n",
              "      <td>2013-08-15 02:17:42+00</td>\n",
              "      <td>851</td>\n",
              "      <td>45.191230</td>\n",
              "      <td>49.420331</td>\n",
              "      <td>2.120887</td>\n",
              "      <td>0.193132</td>\n",
              "      <td>Eric</td>\n",
              "    </tr>\n",
              "  </tbody>\n",
              "</table>\n",
              "</div>"
            ],
            "text/plain": [
              "   Unnamed: 0  altitude               date_time  ...  longitude  speed_2d  bird_name\n",
              "0           0        71  2013-08-15 00:18:08+00  ...   2.120733  0.150000       Eric\n",
              "1           1        68  2013-08-15 00:48:07+00  ...   2.120746  2.438360       Eric\n",
              "2           2        68  2013-08-15 01:17:58+00  ...   2.120885  0.596657       Eric\n",
              "3           3        73  2013-08-15 01:47:51+00  ...   2.120859  0.310161       Eric\n",
              "4           4        69  2013-08-15 02:17:42+00  ...   2.120887  0.193132       Eric\n",
              "\n",
              "[5 rows x 9 columns]"
            ]
          },
          "metadata": {
            "tags": []
          },
          "execution_count": 2
        }
      ]
    },
    {
      "cell_type": "code",
      "metadata": {
        "colab": {
          "base_uri": "https://localhost:8080/",
          "height": 265
        },
        "id": "kXJ5Ft9O9eyT",
        "outputId": "9600832d-0193-4cce-fe32-19a15a07db1f"
      },
      "source": [
        "# plot longitude and latitude\n",
        "\n",
        "import matplotlib.pyplot as plt\n",
        "import numpy as np\n",
        "\n",
        "# birds with name Eric\n",
        "indices = (bird_data.bird_name == \"Eric\")\n",
        "\n",
        "x, y = bird_data.longitude[indices], bird_data.latitude[indices]\n",
        "\n",
        "plt.plot(x, y, \".\");"
      ],
      "execution_count": 3,
      "outputs": [
        {
          "output_type": "display_data",
          "data": {
            "image/png": "[encoded data removed]",
            "text/plain": [
              "<Figure size 432x288 with 1 Axes>"
            ]
          },
          "metadata": {
            "tags": [],
            "needs_background": "light"
          }
        }
      ]
    },
    {
      "cell_type": "code",
      "metadata": {
        "colab": {
          "base_uri": "https://localhost:8080/"
        },
        "id": "KZSEwyzN_RA4",
        "outputId": "37ea4dd4-0546-4d91-d423-6c26b7f8f4d7"
      },
      "source": [
        "bird_names = pd.unique(bird_data.bird_name)\n",
        "bird_names"
      ],
      "execution_count": 4,
      "outputs": [
        {
          "output_type": "execute_result",
          "data": {
            "text/plain": [
              "array(['Eric', 'Nico', 'Sanne'], dtype=object)"
            ]
          },
          "metadata": {
            "tags": []
          },
          "execution_count": 4
        }
      ]
    },
    {
      "cell_type": "code",
      "metadata": {
        "colab": {
          "base_uri": "https://localhost:8080/",
          "height": 279
        },
        "id": "jZI8gf-u_aSV",
        "outputId": "e86f1207-2aff-4e9c-ea33-cf7dca78606c"
      },
      "source": [
        "# plot longitudes and latitudes of all birds\n",
        "\n",
        "for bird_name in bird_names:\n",
        "    indices = (bird_data[\"bird_name\"] == bird_name)\n",
        "    x, y = bird_data.longitude[indices], bird_data.latitude[indices]\n",
        "    plt.plot(x, y, \".\")\n",
        "\n",
        "plt.xlabel(\"longitude\")\n",
        "plt.ylabel(\"latitude\")\n",
        "plt.legend(bird_names);"
      ],
      "execution_count": 5,
      "outputs": [
        {
          "output_type": "display_data",
          "data": {
            "image/png": "[encoded data removed]",
            "text/plain": [
              "<Figure size 432x288 with 1 Axes>"
            ]
          },
          "metadata": {
            "tags": [],
            "needs_background": "light"
          }
        }
      ]
    },
    {
      "cell_type": "code",
      "metadata": {
        "colab": {
          "base_uri": "https://localhost:8080/",
          "height": 265
        },
        "id": "2Jrn7YVSBYnV",
        "outputId": "56e286d7-c777-4962-b914-9a4ff274da83"
      },
      "source": [
        "# speed of birds with name Eric\n",
        "\n",
        "indices = bird_data.bird_name == \"Eric\"\n",
        "speeds = bird_data.speed_2d[indices]\n",
        "plt.hist(speeds);"
      ],
      "execution_count": 6,
      "outputs": [
        {
          "output_type": "display_data",
          "data": {
            "image/png": "[encoded data removed]",
            "text/plain": [
              "<Figure size 432x288 with 1 Axes>"
            ]
          },
          "metadata": {
            "tags": [],
            "needs_background": "light"
          }
        }
      ]
    },
    {
      "cell_type": "code",
      "metadata": {
        "colab": {
          "base_uri": "https://localhost:8080/",
          "height": 279
        },
        "id": "3Au5s5BiGBS1",
        "outputId": "8f04028b-61db-48bc-e1d6-c956b44a15ef"
      },
      "source": [
        "indices = bird_data.bird_name == \"Eric\"\n",
        "speeds = bird_data.speed_2d[indices]\n",
        "plt.hist(speeds, bins=np.linspace(0, 30 ,20), density=True)\n",
        "plt.xlabel(\"2D speeds (m/s)\")\n",
        "plt.ylabel(\"Frequency\");"
      ],
      "execution_count": 7,
      "outputs": [
        {
          "output_type": "display_data",
          "data": {
            "image/png": "[encoded data removed]",
            "text/plain": [
              "<Figure size 432x288 with 1 Axes>"
            ]
          },
          "metadata": {
            "tags": [],
            "needs_background": "light"
          }
        }
      ]
    },
    {
      "cell_type": "code",
      "metadata": {
        "colab": {
          "base_uri": "https://localhost:8080/",
          "height": 279
        },
        "id": "ku3tJwGBHlBa",
        "outputId": "8b6f07ba-c430-40b6-fa10-d1592076d4d4"
      },
      "source": [
        "# plotting with pandas\n",
        "\n",
        "bird_data.speed_2d.plot(kind=\"hist\", range=[0, 30])\n",
        "plt.xlabel(\"2D speeds\");"
      ],
      "execution_count": 8,
      "outputs": [
        {
          "output_type": "display_data",
          "data": {
            "image/png": "[encoded data removed]",
            "text/plain": [
              "<Figure size 432x288 with 1 Axes>"
            ]
          },
          "metadata": {
            "tags": [],
            "needs_background": "light"
          }
        }
      ]
    },
    {
      "cell_type": "code",
      "metadata": {
        "colab": {
          "base_uri": "https://localhost:8080/"
        },
        "id": "pmNT9d3SIVTY",
        "outputId": "a0c22fa4-8a39-41e3-d4c8-2848985a7fc3"
      },
      "source": [
        "# dealing with timestamped data using datetime module\n",
        "\n",
        "bird_data.date_time[0:3]"
      ],
      "execution_count": 9,
      "outputs": [
        {
          "output_type": "execute_result",
          "data": {
            "text/plain": [
              "0    2013-08-15 00:18:08+00\n",
              "1    2013-08-15 00:48:07+00\n",
              "2    2013-08-15 01:17:58+00\n",
              "Name: date_time, dtype: object"
            ]
          },
          "metadata": {
            "tags": []
          },
          "execution_count": 9
        }
      ]
    },
    {
      "cell_type": "code",
      "metadata": {
        "colab": {
          "base_uri": "https://localhost:8080/"
        },
        "id": "nmcaDa6cIn9Y",
        "outputId": "24b11d50-2d34-4ab2-bfe6-5a6e223c98b8"
      },
      "source": [
        "import datetime\n",
        "\n",
        "datetime.datetime.today()"
      ],
      "execution_count": 10,
      "outputs": [
        {
          "output_type": "execute_result",
          "data": {
            "text/plain": [
              "datetime.datetime(2021, 4, 24, 7, 29, 39, 260190)"
            ]
          },
          "metadata": {
            "tags": []
          },
          "execution_count": 10
        }
      ]
    },
    {
      "cell_type": "code",
      "metadata": {
        "id": "l37OUrcaI7e5"
      },
      "source": [
        "# difference between two timestamps\n",
        "\n",
        "time_1 = datetime.datetime.today()"
      ],
      "execution_count": 11,
      "outputs": []
    },
    {
      "cell_type": "code",
      "metadata": {
        "id": "xrkE6xvIJKb1"
      },
      "source": [
        "time_2 = datetime.datetime.today()"
      ],
      "execution_count": 12,
      "outputs": []
    },
    {
      "cell_type": "code",
      "metadata": {
        "colab": {
          "base_uri": "https://localhost:8080/"
        },
        "id": "pe9elBt4JUNn",
        "outputId": "1f4363ff-8f23-4036-ebbc-2ea88fc9d069"
      },
      "source": [
        "time_2 - time_1"
      ],
      "execution_count": 13,
      "outputs": [
        {
          "output_type": "execute_result",
          "data": {
            "text/plain": [
              "datetime.timedelta(microseconds=20919)"
            ]
          },
          "metadata": {
            "tags": []
          },
          "execution_count": 13
        }
      ]
    },
    {
      "cell_type": "code",
      "metadata": {
        "colab": {
          "base_uri": "https://localhost:8080/"
        },
        "id": "-UiSriz0Jghi",
        "outputId": "c0cfea63-8e36-478a-b563-5394b9a7d467"
      },
      "source": [
        "time_2 = datetime.datetime.today()\n",
        "\n",
        "time_2 - time_1"
      ],
      "execution_count": 14,
      "outputs": [
        {
          "output_type": "execute_result",
          "data": {
            "text/plain": [
              "datetime.timedelta(microseconds=54667)"
            ]
          },
          "metadata": {
            "tags": []
          },
          "execution_count": 14
        }
      ]
    },
    {
      "cell_type": "code",
      "metadata": {
        "colab": {
          "base_uri": "https://localhost:8080/"
        },
        "id": "zCK53JWyJvvd",
        "outputId": "401f77bd-81f2-46ec-d863-1f670d85625f"
      },
      "source": [
        "date_str = bird_data.date_time[0]\n",
        "type(date_str)"
      ],
      "execution_count": 15,
      "outputs": [
        {
          "output_type": "execute_result",
          "data": {
            "text/plain": [
              "str"
            ]
          },
          "metadata": {
            "tags": []
          },
          "execution_count": 15
        }
      ]
    },
    {
      "cell_type": "code",
      "metadata": {
        "colab": {
          "base_uri": "https://localhost:8080/",
          "height": 38
        },
        "id": "ELjypG4WKRFm",
        "outputId": "e2610d3a-6aa2-4df1-af1b-334e450b4e72"
      },
      "source": [
        "date_str"
      ],
      "execution_count": 16,
      "outputs": [
        {
          "output_type": "execute_result",
          "data": {
            "application/vnd.google.colaboratory.intrinsic+json": {
              "type": "string"
            },
            "text/plain": [
              "'2013-08-15 00:18:08+00'"
            ]
          },
          "metadata": {
            "tags": []
          },
          "execution_count": 16
        }
      ]
    },
    {
      "cell_type": "code",
      "metadata": {
        "colab": {
          "base_uri": "https://localhost:8080/",
          "height": 38
        },
        "id": "VUUbGGHgKTIc",
        "outputId": "ea3c8e20-92e8-4d7c-f7ba-fa4f340be3f3"
      },
      "source": [
        "date_str[:-3] # ignore '+00' i.e., UTC encoding, which is same for all timestamps"
      ],
      "execution_count": 17,
      "outputs": [
        {
          "output_type": "execute_result",
          "data": {
            "application/vnd.google.colaboratory.intrinsic+json": {
              "type": "string"
            },
            "text/plain": [
              "'2013-08-15 00:18:08'"
            ]
          },
          "metadata": {
            "tags": []
          },
          "execution_count": 17
        }
      ]
    },
    {
      "cell_type": "code",
      "metadata": {
        "colab": {
          "base_uri": "https://localhost:8080/"
        },
        "id": "U6WAA0pIK-MT",
        "outputId": "fb8930e3-ebc5-4168-9e94-223715cea099"
      },
      "source": [
        "datetime.datetime.strptime(date_str[:-3], \"%Y-%m-%d %H:%M:%S\")"
      ],
      "execution_count": 18,
      "outputs": [
        {
          "output_type": "execute_result",
          "data": {
            "text/plain": [
              "datetime.datetime(2013, 8, 15, 0, 18, 8)"
            ]
          },
          "metadata": {
            "tags": []
          },
          "execution_count": 18
        }
      ]
    },
    {
      "cell_type": "code",
      "metadata": {
        "colab": {
          "base_uri": "https://localhost:8080/"
        },
        "id": "FMaYeOJcLn2r",
        "outputId": "64097c2b-4e5b-4e64-c7af-5196f8eb716b"
      },
      "source": [
        "timestamps = []\n",
        "for k in range(len(bird_data)):\n",
        "    timestamps.append(datetime.datetime.strptime(bird_data.date_time.iloc[k][:-3], \"%Y-%m-%d %H:%M:%S\"))\n",
        "\n",
        "timestamps[:3]"
      ],
      "execution_count": 19,
      "outputs": [
        {
          "output_type": "execute_result",
          "data": {
            "text/plain": [
              "[datetime.datetime(2013, 8, 15, 0, 18, 8),\n",
              " datetime.datetime(2013, 8, 15, 0, 48, 7),\n",
              " datetime.datetime(2013, 8, 15, 1, 17, 58)]"
            ]
          },
          "metadata": {
            "tags": []
          },
          "execution_count": 19
        }
      ]
    },
    {
      "cell_type": "code",
      "metadata": {
        "id": "4CY9KO7HMkRb"
      },
      "source": [
        "# add new column to bird_data as \"timestamp\"\n",
        "\n",
        "bird_data[\"timestamp\"] = pd.Series(timestamps, index=bird_data.index)"
      ],
      "execution_count": 20,
      "outputs": []
    },
    {
      "cell_type": "code",
      "metadata": {
        "colab": {
          "base_uri": "https://localhost:8080/",
          "height": 206
        },
        "id": "YMqE6wfPNBm0",
        "outputId": "2908e0e8-2f26-434b-9c6b-b7c536182561"
      },
      "source": [
        "bird_data.head()"
      ],
      "execution_count": 21,
      "outputs": [
        {
          "output_type": "execute_result",
          "data": {
            "text/html": [
              "<div>\n",
              "<style scoped>\n",
              "    .dataframe tbody tr th:only-of-type {\n",
              "        vertical-align: middle;\n",
              "    }\n",
              "\n",
              "    .dataframe tbody tr th {\n",
              "        vertical-align: top;\n",
              "    }\n",
              "\n",
              "    .dataframe thead th {\n",
              "        text-align: right;\n",
              "    }\n",
              "</style>\n",
              "<table border=\"1\" class=\"dataframe\">\n",
              "  <thead>\n",
              "    <tr style=\"text-align: right;\">\n",
              "      <th></th>\n",
              "      <th>Unnamed: 0</th>\n",
              "      <th>altitude</th>\n",
              "      <th>date_time</th>\n",
              "      <th>device_info_serial</th>\n",
              "      <th>direction</th>\n",
              "      <th>latitude</th>\n",
              "      <th>longitude</th>\n",
              "      <th>speed_2d</th>\n",
              "      <th>bird_name</th>\n",
              "      <th>timestamp</th>\n",
              "    </tr>\n",
              "  </thead>\n",
              "  <tbody>\n",
              "    <tr>\n",
              "      <th>0</th>\n",
              "      <td>0</td>\n",
              "      <td>71</td>\n",
              "      <td>2013-08-15 00:18:08+00</td>\n",
              "      <td>851</td>\n",
              "      <td>-150.469753</td>\n",
              "      <td>49.419860</td>\n",
              "      <td>2.120733</td>\n",
              "      <td>0.150000</td>\n",
              "      <td>Eric</td>\n",
              "      <td>2013-08-15 00:18:08</td>\n",
              "    </tr>\n",
              "    <tr>\n",
              "      <th>1</th>\n",
              "      <td>1</td>\n",
              "      <td>68</td>\n",
              "      <td>2013-08-15 00:48:07+00</td>\n",
              "      <td>851</td>\n",
              "      <td>-136.151141</td>\n",
              "      <td>49.419880</td>\n",
              "      <td>2.120746</td>\n",
              "      <td>2.438360</td>\n",
              "      <td>Eric</td>\n",
              "      <td>2013-08-15 00:48:07</td>\n",
              "    </tr>\n",
              "    <tr>\n",
              "      <th>2</th>\n",
              "      <td>2</td>\n",
              "      <td>68</td>\n",
              "      <td>2013-08-15 01:17:58+00</td>\n",
              "      <td>851</td>\n",
              "      <td>160.797477</td>\n",
              "      <td>49.420310</td>\n",
              "      <td>2.120885</td>\n",
              "      <td>0.596657</td>\n",
              "      <td>Eric</td>\n",
              "      <td>2013-08-15 01:17:58</td>\n",
              "    </tr>\n",
              "    <tr>\n",
              "      <th>3</th>\n",
              "      <td>3</td>\n",
              "      <td>73</td>\n",
              "      <td>2013-08-15 01:47:51+00</td>\n",
              "      <td>851</td>\n",
              "      <td>32.769360</td>\n",
              "      <td>49.420359</td>\n",
              "      <td>2.120859</td>\n",
              "      <td>0.310161</td>\n",
              "      <td>Eric</td>\n",
              "      <td>2013-08-15 01:47:51</td>\n",
              "    </tr>\n",
              "    <tr>\n",
              "      <th>4</th>\n",
              "      <td>4</td>\n",
              "      <td>69</td>\n",
              "      <td>2013-08-15 02:17:42+00</td>\n",
              "      <td>851</td>\n",
              "      <td>45.191230</td>\n",
              "      <td>49.420331</td>\n",
              "      <td>2.120887</td>\n",
              "      <td>0.193132</td>\n",
              "      <td>Eric</td>\n",
              "      <td>2013-08-15 02:17:42</td>\n",
              "    </tr>\n",
              "  </tbody>\n",
              "</table>\n",
              "</div>"
            ],
            "text/plain": [
              "   Unnamed: 0  altitude  ... bird_name           timestamp\n",
              "0           0        71  ...      Eric 2013-08-15 00:18:08\n",
              "1           1        68  ...      Eric 2013-08-15 00:48:07\n",
              "2           2        68  ...      Eric 2013-08-15 01:17:58\n",
              "3           3        73  ...      Eric 2013-08-15 01:47:51\n",
              "4           4        69  ...      Eric 2013-08-15 02:17:42\n",
              "\n",
              "[5 rows x 10 columns]"
            ]
          },
          "metadata": {
            "tags": []
          },
          "execution_count": 21
        }
      ]
    },
    {
      "cell_type": "code",
      "metadata": {
        "colab": {
          "base_uri": "https://localhost:8080/"
        },
        "id": "0hr5qqkzweNA",
        "outputId": "bef80f01-1811-4534-f194-fbccea2dd99f"
      },
      "source": [
        "# arithmetic with timestamps\n",
        "\n",
        "bird_data.timestamp[4] - bird_data.timestamp[3]"
      ],
      "execution_count": 22,
      "outputs": [
        {
          "output_type": "execute_result",
          "data": {
            "text/plain": [
              "Timedelta('0 days 00:29:51')"
            ]
          },
          "metadata": {
            "tags": []
          },
          "execution_count": 22
        }
      ]
    },
    {
      "cell_type": "code",
      "metadata": {
        "id": "FSm02KpbxHOm"
      },
      "source": [
        "# calculate time elapsed from the beginning of observation\n",
        "\n",
        "times = bird_data.timestamp[bird_data.bird_name == \"Eric\"]\n",
        "elapsed_time = [time - times[0] for time in times]"
      ],
      "execution_count": 23,
      "outputs": []
    },
    {
      "cell_type": "code",
      "metadata": {
        "colab": {
          "base_uri": "https://localhost:8080/"
        },
        "id": "D9DCwCzbyVu-",
        "outputId": "3c5cc03f-ec68-496d-abd1-1e2ba31f7844"
      },
      "source": [
        "elapsed_time[0]"
      ],
      "execution_count": 24,
      "outputs": [
        {
          "output_type": "execute_result",
          "data": {
            "text/plain": [
              "Timedelta('0 days 00:00:00')"
            ]
          },
          "metadata": {
            "tags": []
          },
          "execution_count": 24
        }
      ]
    },
    {
      "cell_type": "code",
      "metadata": {
        "colab": {
          "base_uri": "https://localhost:8080/"
        },
        "id": "zxSaFXzeyYLd",
        "outputId": "fc1269c4-4a32-4b4f-a8c2-eacd8d3a9964"
      },
      "source": [
        "elapsed_time[1000]"
      ],
      "execution_count": 25,
      "outputs": [
        {
          "output_type": "execute_result",
          "data": {
            "text/plain": [
              "Timedelta('12 days 02:02:00')"
            ]
          },
          "metadata": {
            "tags": []
          },
          "execution_count": 25
        }
      ]
    },
    {
      "cell_type": "code",
      "metadata": {
        "colab": {
          "base_uri": "https://localhost:8080/"
        },
        "id": "Lw43bTVdy0zY",
        "outputId": "1717bf12-05a1-4ec2-a9d1-86a8d223567c"
      },
      "source": [
        "# check how many days have passed\n",
        "\n",
        "elapsed_time[1000] / datetime.timedelta(days=1)"
      ],
      "execution_count": 26,
      "outputs": [
        {
          "output_type": "execute_result",
          "data": {
            "text/plain": [
              "12.084722222222222"
            ]
          },
          "metadata": {
            "tags": []
          },
          "execution_count": 26
        }
      ]
    },
    {
      "cell_type": "code",
      "metadata": {
        "colab": {
          "base_uri": "https://localhost:8080/"
        },
        "id": "5rVMoaOXzTLr",
        "outputId": "836536e5-d782-46c8-b4f1-7149277af381"
      },
      "source": [
        "# check how many hours have passed\n",
        "\n",
        "elapsed_time[1000] / datetime.timedelta(hours=1)"
      ],
      "execution_count": 27,
      "outputs": [
        {
          "output_type": "execute_result",
          "data": {
            "text/plain": [
              "290.03333333333336"
            ]
          },
          "metadata": {
            "tags": []
          },
          "execution_count": 27
        }
      ]
    },
    {
      "cell_type": "code",
      "metadata": {
        "colab": {
          "base_uri": "https://localhost:8080/",
          "height": 279
        },
        "id": "lIcNnKs1z0fd",
        "outputId": "6c548c5e-e0ad-47f4-f13c-c1a726f1a0a4"
      },
      "source": [
        "plt.plot(np.array(elapsed_time) / datetime.timedelta(days=1))\n",
        "plt.xlabel(\"Observations\")\n",
        "plt.ylabel(\"Elapsed time (days)\");"
      ],
      "execution_count": 28,
      "outputs": [
        {
          "output_type": "display_data",
          "data": {
            "image/png": "[encoded data removed]",
            "text/plain": [
              "<Figure size 432x288 with 1 Axes>"
            ]
          },
          "metadata": {
            "tags": [],
            "needs_background": "light"
          }
        }
      ]
    },
    {
      "cell_type": "code",
      "metadata": {
        "id": "4qGSsLlVn-IW",
        "colab": {
          "base_uri": "https://localhost:8080/",
          "height": 279
        },
        "outputId": "6f3c851b-0031-40f8-b1d3-698ca46824e2"
      },
      "source": [
        "eric_data = bird_data[bird_data.bird_name == \"Eric\"]\n",
        "times = eric_data.timestamp\n",
        "elapsed_time = [time - times[0] for time in times]\n",
        "elapsed_days = np.array(elapsed_time) / datetime.timedelta(days=1)\n",
        "\n",
        "next_day = 1\n",
        "indices_ = []\n",
        "daily_mean_speed = []\n",
        "for index, time_ in enumerate(elapsed_days): \n",
        "    if time_ < next_day:\n",
        "        indices_.append(index)\n",
        "    else:\n",
        "        daily_mean_speed.append(np.mean(eric_data.speed_2d[indices_]))\n",
        "        next_day += 1\n",
        "        indices_ = []\n",
        "\n",
        "plt.plot(daily_mean_speed)\n",
        "plt.xlabel(\"day\")\n",
        "plt.ylabel(\"daily mean speed (m/s)\");"
      ],
      "execution_count": 29,
      "outputs": [
        {
          "output_type": "display_data",
          "data": {
            "image/png": "[encoded data removed]",
            "text/plain": [
              "<Figure size 432x288 with 1 Axes>"
            ]
          },
          "metadata": {
            "tags": [],
            "needs_background": "light"
          }
        }
      ]
    },
    {
      "cell_type": "code",
      "metadata": {
        "id": "2xiPIYZXNk5e"
      },
      "source": [
        "# don't run this code, it crashes and kills kernal\n",
        "# because there is error in \"cartopy\" module\n",
        "\n",
        "# import cartopy.crs as ccrs\n",
        "# import cartopy.feature as cfeature\n",
        "\n",
        "# project = ccrs.Mercator()\n",
        "\n",
        "# plt.figure(figsize=(10, 10))\n",
        "# ax = plt.axes(projection=project)\n",
        "# ax.set_extent((-25.0, 20.0, 52.0, 10.0))\n",
        "# ax.add_feature(cfeature.LAND)\n",
        "# ax.add_feature(cfeature.OCEAN)\n",
        "# ax.add_feature(cfeature.COASTLINE)\n",
        "# ax.add_feature(cfeature.BORDERS, linestyle=\":\")\n",
        "\n",
        "# for name in bird_names:\n",
        "#     i = bird_data[\"bird_name\"] == name\n",
        "#     x, y = bird_data.longitude[i], bird_data.latitude[i]\n",
        "#     ax.plot(x, y, '.', transform=ccrs.Geodetic(), label=name)"
      ],
      "execution_count": 30,
      "outputs": []
    },
    {
      "cell_type": "markdown",
      "metadata": {
        "id": "8KGgo1MOZiGf"
      },
      "source": [
        "__`output`__\n",
        "\n",
        "<p align=\"left\"> \n",
        "<img src=\"https://user-images.githubusercontent.com/60701544/115401500-17f06280-a208-11eb-82d6-547d3c3cc815.png\">\n",
        "</p>"
      ]
    }
  ]
}