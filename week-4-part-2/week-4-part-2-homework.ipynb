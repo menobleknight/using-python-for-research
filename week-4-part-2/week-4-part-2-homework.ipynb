{
  "nbformat": 4,
  "nbformat_minor": 0,
  "metadata": {
    "kernelspec": {
      "display_name": "Python 3",
      "language": "python",
      "name": "python3"
    },
    "language_info": {
      "codemirror_mode": {
        "name": "ipython",
        "version": 3
      },
      "file_extension": ".py",
      "mimetype": "text/x-python",
      "name": "python",
      "nbconvert_exporter": "python",
      "pygments_lexer": "ipython3",
      "version": "3.7.3"
    },
    "colab": {
      "name": "week-4-part-2-homework.ipynb",
      "provenance": [],
      "include_colab_link": true
    }
  },
  "cells": [
    {
      "cell_type": "markdown",
      "metadata": {
        "id": "view-in-github",
        "colab_type": "text"
      },
      "source": [
        "<a href=\"https://colab.research.google.com/github/er-knight/using-python-for-research/blob/main/week-4-part-2/week-4-part-2-homework.ipynb\" target=\"_parent\"><img src=\"https://colab.research.google.com/assets/colab-badge.svg\" alt=\"Open In Colab\"/></a>"
      ]
    },
    {
      "cell_type": "markdown",
      "metadata": {
        "id": "mhCT83fhdYbt"
      },
      "source": [
        "# **Using Python for Research Homework: Week 4, Case Study 2**\n",
        "\n",
        "In this case study, we will continue taking a look at patterns of flight for each of the three birds in our dataset."
      ]
    },
    {
      "cell_type": "code",
      "metadata": {
        "id": "wrtwrVFkdYb6",
        "outputId": "46f56ea0-60e8-415e-bfac-7febfda74fe6",
        "colab": {
          "base_uri": "https://localhost:8080/",
          "height": 206
        }
      },
      "source": [
        "# DO NOT EDIT THIS CODE\n",
        "import pandas as pd\n",
        "import numpy as np\n",
        "bird_data = pd.read_csv(\"https://raw.githubusercontent.com/er-knight/using-python-for-research/main/week-4-part-2/bird-tracking.csv\", index_col=0)\n",
        "bird_data.head()"
      ],
      "execution_count": 3,
      "outputs": [
        {
          "output_type": "execute_result",
          "data": {
            "text/html": [
              "<div>\n",
              "<style scoped>\n",
              "    .dataframe tbody tr th:only-of-type {\n",
              "        vertical-align: middle;\n",
              "    }\n",
              "\n",
              "    .dataframe tbody tr th {\n",
              "        vertical-align: top;\n",
              "    }\n",
              "\n",
              "    .dataframe thead th {\n",
              "        text-align: right;\n",
              "    }\n",
              "</style>\n",
              "<table border=\"1\" class=\"dataframe\">\n",
              "  <thead>\n",
              "    <tr style=\"text-align: right;\">\n",
              "      <th></th>\n",
              "      <th>altitude</th>\n",
              "      <th>date_time</th>\n",
              "      <th>device_info_serial</th>\n",
              "      <th>direction</th>\n",
              "      <th>latitude</th>\n",
              "      <th>longitude</th>\n",
              "      <th>speed_2d</th>\n",
              "      <th>bird_name</th>\n",
              "    </tr>\n",
              "  </thead>\n",
              "  <tbody>\n",
              "    <tr>\n",
              "      <th>0</th>\n",
              "      <td>71</td>\n",
              "      <td>2013-08-15 00:18:08+00</td>\n",
              "      <td>851</td>\n",
              "      <td>-150.469753</td>\n",
              "      <td>49.419860</td>\n",
              "      <td>2.120733</td>\n",
              "      <td>0.150000</td>\n",
              "      <td>Eric</td>\n",
              "    </tr>\n",
              "    <tr>\n",
              "      <th>1</th>\n",
              "      <td>68</td>\n",
              "      <td>2013-08-15 00:48:07+00</td>\n",
              "      <td>851</td>\n",
              "      <td>-136.151141</td>\n",
              "      <td>49.419880</td>\n",
              "      <td>2.120746</td>\n",
              "      <td>2.438360</td>\n",
              "      <td>Eric</td>\n",
              "    </tr>\n",
              "    <tr>\n",
              "      <th>2</th>\n",
              "      <td>68</td>\n",
              "      <td>2013-08-15 01:17:58+00</td>\n",
              "      <td>851</td>\n",
              "      <td>160.797477</td>\n",
              "      <td>49.420310</td>\n",
              "      <td>2.120885</td>\n",
              "      <td>0.596657</td>\n",
              "      <td>Eric</td>\n",
              "    </tr>\n",
              "    <tr>\n",
              "      <th>3</th>\n",
              "      <td>73</td>\n",
              "      <td>2013-08-15 01:47:51+00</td>\n",
              "      <td>851</td>\n",
              "      <td>32.769360</td>\n",
              "      <td>49.420359</td>\n",
              "      <td>2.120859</td>\n",
              "      <td>0.310161</td>\n",
              "      <td>Eric</td>\n",
              "    </tr>\n",
              "    <tr>\n",
              "      <th>4</th>\n",
              "      <td>69</td>\n",
              "      <td>2013-08-15 02:17:42+00</td>\n",
              "      <td>851</td>\n",
              "      <td>45.191230</td>\n",
              "      <td>49.420331</td>\n",
              "      <td>2.120887</td>\n",
              "      <td>0.193132</td>\n",
              "      <td>Eric</td>\n",
              "    </tr>\n",
              "  </tbody>\n",
              "</table>\n",
              "</div>"
            ],
            "text/plain": [
              "   altitude               date_time  ...  speed_2d  bird_name\n",
              "0        71  2013-08-15 00:18:08+00  ...  0.150000       Eric\n",
              "1        68  2013-08-15 00:48:07+00  ...  2.438360       Eric\n",
              "2        68  2013-08-15 01:17:58+00  ...  0.596657       Eric\n",
              "3        73  2013-08-15 01:47:51+00  ...  0.310161       Eric\n",
              "4        69  2013-08-15 02:17:42+00  ...  0.193132       Eric\n",
              "\n",
              "[5 rows x 8 columns]"
            ]
          },
          "metadata": {
            "tags": []
          },
          "execution_count": 3
        }
      ]
    },
    {
      "cell_type": "markdown",
      "metadata": {
        "id": "7kTtH1WFdYcA"
      },
      "source": [
        "### **Exercise 1**\n",
        "\n",
        "In this case study, we will continue taking a look at patterns of flight for each of the three birds in our dataset. We will group the flight patterns by bird and date, and plot the mean altitude for these groupings.\n",
        "\n",
        "`pandas` makes it easy to perform basic operations on groups within a dataframe without needing to loop through each value in the dataframe. In this exercise, we will group the dataframe by `birdname` and then find the average `speed_2d` for each bird.\n",
        "\n",
        "**Instructions**\n",
        "- Fill in the code to find the mean altitudes of each bird using the pre-loaded `birddata` dataframe. "
      ]
    },
    {
      "cell_type": "code",
      "metadata": {
        "id": "jd8bLhFddYcG",
        "outputId": "afd49250-078d-4b30-9902-a269e30b4b19",
        "colab": {
          "base_uri": "https://localhost:8080/"
        }
      },
      "source": [
        "# First, use `groupby()` to group the data by \"bird_name\".\n",
        "grouped_birds = bird_data.groupby(\"bird_name\")\n",
        "\n",
        "# Now calculate the mean of `speed_2d` using the `mean()` function.\n",
        "mean_speeds = grouped_birds.speed_2d.mean()\n",
        "\n",
        "# Find the mean `altitude` for each bird.\n",
        "mean_altitudes = grouped_birds.altitude.mean()\n",
        "\n",
        "mean_speeds"
      ],
      "execution_count": 19,
      "outputs": [
        {
          "output_type": "execute_result",
          "data": {
            "text/plain": [
              "bird_name\n",
              "Eric     2.300545\n",
              "Nico     2.908726\n",
              "Sanne    2.450434\n",
              "Name: speed_2d, dtype: float64"
            ]
          },
          "metadata": {
            "tags": []
          },
          "execution_count": 19
        }
      ]
    },
    {
      "cell_type": "markdown",
      "metadata": {
        "id": "gDGNwpscdYcL"
      },
      "source": [
        "### **Exercise 2**\n",
        "\n",
        "In this exercise, we will group the flight times by date and calculate the mean altitude within that day.\n",
        "\n",
        "**Instructions**\n",
        "- Convert `birddata.date_time` to the `pd.datetime` format, and store as `birddata[\"date\"]`.\n",
        "- Fill in the code to find the mean altitudes for each day."
      ]
    },
    {
      "cell_type": "code",
      "metadata": {
        "id": "69ZA0sUFdYcP",
        "outputId": "eea39592-40a8-4407-c4d0-6683cf44ee02",
        "colab": {
          "base_uri": "https://localhost:8080/"
        }
      },
      "source": [
        "# Convert bird_data.date_time to the `pd.datetime` format.\n",
        "bird_data.date_time = pd.to_datetime(bird_data.date_time)\n",
        "\n",
        "# Create a new column of day of observation\n",
        "bird_data[\"date\"] = bird_data.date_time.dt.date\n",
        "\n",
        "# Use `groupby()` to group the data by date.\n",
        "grouped_bydates = bird_data.groupby(\"date\")\n",
        "\n",
        "# Find the mean `altitude` for each date.\n",
        "mean_altitudes_perday = grouped_bydates.altitude.mean()\n",
        "mean_altitudes_perday.head()"
      ],
      "execution_count": 58,
      "outputs": [
        {
          "output_type": "execute_result",
          "data": {
            "text/plain": [
              "date\n",
              "2013-08-15    134.092000\n",
              "2013-08-16    134.839506\n",
              "2013-08-17    147.439024\n",
              "2013-08-18    129.608163\n",
              "2013-08-19    180.174797\n",
              "Name: altitude, dtype: float64"
            ]
          },
          "metadata": {
            "tags": []
          },
          "execution_count": 58
        }
      ]
    },
    {
      "cell_type": "markdown",
      "metadata": {
        "id": "XdkejJHaBnsZ"
      },
      "source": [
        "What is the mean altitude of the birds on `2013-09-12`?  \n",
        "Answer &rarr; 75.64609053497942"
      ]
    },
    {
      "cell_type": "code",
      "metadata": {
        "id": "LTW-tPpBBmn8",
        "outputId": "434661ec-41d8-4515-cfb4-c9497dc1495d",
        "colab": {
          "base_uri": "https://localhost:8080/"
        }
      },
      "source": [
        "mean_altitudes_perday[datetime.date(2013, 9, 12)]"
      ],
      "execution_count": 59,
      "outputs": [
        {
          "output_type": "execute_result",
          "data": {
            "text/plain": [
              "75.64609053497942"
            ]
          },
          "metadata": {
            "tags": []
          },
          "execution_count": 59
        }
      ]
    },
    {
      "cell_type": "markdown",
      "metadata": {
        "id": "IjelS6HGdYcS"
      },
      "source": [
        "### **Exercise 3**\n",
        "\n",
        "In this exercise, we will group the flight times by both bird and date, and calculate the mean altitude for each.\n",
        "\n",
        "**Instructions**\n",
        "- `birddata` already contains the `date` column. To find the average speed for each bird and day, create a new grouped dataframe called `grouped_birdday` that groups the data by both `bird_name` and date."
      ]
    },
    {
      "cell_type": "code",
      "metadata": {
        "id": "IENC5ZzvdYcW",
        "outputId": "a14a2b52-5bad-4d6f-d1f5-c3d66b44624e",
        "colab": {
          "base_uri": "https://localhost:8080/"
        }
      },
      "source": [
        "# Use `groupby()` to group the data by bird and date.\n",
        "grouped_birdday = bird_data.groupby([\"bird_name\", \"date\"])\n",
        "\n",
        "# Find the mean `altitude` for each bird and date.\n",
        "mean_altitudes_perday = grouped_birdday.altitude.mean()\n",
        "mean_altitudes_perday.head()"
      ],
      "execution_count": 72,
      "outputs": [
        {
          "output_type": "execute_result",
          "data": {
            "text/plain": [
              "bird_name  date      \n",
              "Eric       2013-08-15     74.988095\n",
              "           2013-08-16    127.773810\n",
              "           2013-08-17    125.890244\n",
              "           2013-08-18    121.353659\n",
              "           2013-08-19    134.928571\n",
              "Name: altitude, dtype: float64"
            ]
          },
          "metadata": {
            "tags": []
          },
          "execution_count": 72
        }
      ]
    },
    {
      "cell_type": "markdown",
      "metadata": {
        "id": "fVBcc5V2HyoO"
      },
      "source": [
        "What is the mean altitude of the bird Eric on `2013-08-18`?  \n",
        "Answer &rarr; 121.35365853658537 "
      ]
    },
    {
      "cell_type": "code",
      "metadata": {
        "id": "3e8Cc16vH_6g",
        "outputId": "ecf8c02c-303d-4538-d07d-2403b3a01957",
        "colab": {
          "base_uri": "https://localhost:8080/"
        }
      },
      "source": [
        "mean_altitudes_perday[\"Eric\"][datetime.date(2013, 8, 18)]"
      ],
      "execution_count": 73,
      "outputs": [
        {
          "output_type": "execute_result",
          "data": {
            "text/plain": [
              "121.35365853658537"
            ]
          },
          "metadata": {
            "tags": []
          },
          "execution_count": 73
        }
      ]
    },
    {
      "cell_type": "markdown",
      "metadata": {
        "id": "W2y4QOKMdYcZ"
      },
      "source": [
        "### **Exercise 4**\n",
        "\n",
        "Great! Now find the average speed for each bird and day.\n",
        "\n",
        "**Instructions**\n",
        "\n",
        "- Store these are three `pandas` `Series` objects, one for each bird.\n",
        "- Use the plotting code provided to plot the average speeds for each bird."
      ]
    },
    {
      "cell_type": "code",
      "metadata": {
        "id": "-MD-KOo4dYcc",
        "outputId": "a24d1965-33a3-496a-8942-18201a71ddd9",
        "colab": {
          "base_uri": "https://localhost:8080/",
          "height": 279
        }
      },
      "source": [
        "import matplotlib.pyplot as plt\n",
        "\n",
        "eric_daily_speed  = grouped_birdday.speed_2d.mean()[\"Eric\"]\n",
        "sanne_daily_speed = grouped_birdday.speed_2d.mean()[\"Sanne\"]\n",
        "nico_daily_speed  = grouped_birdday.speed_2d.mean()[\"Nico\"]\n",
        "\n",
        "eric_daily_speed.plot(label=\"Eric\")\n",
        "sanne_daily_speed.plot(label=\"Sanne\")\n",
        "nico_daily_speed.plot(label=\"Nico\")\n",
        "plt.legend(loc=\"upper left\")\n",
        "plt.show()"
      ],
      "execution_count": 74,
      "outputs": [
        {
          "output_type": "display_data",
          "data": {
            "image/png": "[encoded data removed]",
            "text/plain": [
              "<Figure size 432x288 with 1 Axes>"
            ]
          },
          "metadata": {
            "tags": [],
            "needs_background": "light"
          }
        }
      ]
    }
  ]
}