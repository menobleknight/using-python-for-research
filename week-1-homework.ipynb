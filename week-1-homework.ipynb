{
  "nbformat": 4,
  "nbformat_minor": 0,
  "metadata": {
    "kernelspec": {
      "display_name": "Python 3",
      "language": "python",
      "name": "python3"
    },
    "language_info": {
      "codemirror_mode": {
        "name": "ipython",
        "version": 3
      },
      "file_extension": ".py",
      "mimetype": "text/x-python",
      "name": "python",
      "nbconvert_exporter": "python",
      "pygments_lexer": "ipython3",
      "version": "3.7.3"
    },
    "colab": {
      "name": "week-1-homework.ipynb",
      "provenance": [],
      "collapsed_sections": [],
      "include_colab_link": true
    }
  },
  "cells": [
    {
      "cell_type": "markdown",
      "metadata": {
        "id": "view-in-github",
        "colab_type": "text"
      },
      "source": [
        "<a href=\"https://colab.research.google.com/github/menobleknight/using-python-for-research/blob/main/week-1-homework.ipynb\" target=\"_parent\"><img src=\"https://colab.research.google.com/assets/colab-badge.svg\" alt=\"Open In Colab\"/></a>"
      ]
    },
    {
      "cell_type": "markdown",
      "metadata": {
        "id": "hKypFWKbPMSX"
      },
      "source": [
        "# **Using Python for Research Homework: Week 1**\n",
        "\n",
        "In this homework, we will use objects, functions, and randomness to find the length of documents, approximate $\\pi$, and smooth out random noise."
      ]
    },
    {
      "cell_type": "markdown",
      "metadata": {
        "id": "JOg5S_VHPMSc"
      },
      "source": [
        "### **Exercise 1**\n",
        "\n",
        "In this five-part exercise, we will count the frequency of each letter in a given string.\n",
        "\n",
        "#### **Exercise 1a**\n",
        "\n",
        "- Import the `string` library.\n",
        "- Create a variable `alphabet` that consists of the lowercase and uppercase letters in the English alphabet using the `ascii_letters` data attribute of the `string` library."
      ]
    },
    {
      "cell_type": "code",
      "metadata": {
        "id": "TUY_irYrPMSe",
        "colab": {
          "base_uri": "https://localhost:8080/",
          "height": 38
        },
        "outputId": "73fa4b6c-1928-4789-cd79-20266677f44e"
      },
      "source": [
        "# write your code here!\n",
        "\n",
        "import string\n",
        "alphabet = string.ascii_letters\n",
        "alphabet"
      ],
      "execution_count": 2,
      "outputs": [
        {
          "output_type": "execute_result",
          "data": {
            "application/vnd.google.colaboratory.intrinsic+json": {
              "type": "string"
            },
            "text/plain": [
              "'abcdefghijklmnopqrstuvwxyzABCDEFGHIJKLMNOPQRSTUVWXYZ'"
            ]
          },
          "metadata": {
            "tags": []
          },
          "execution_count": 2
        }
      ]
    },
    {
      "cell_type": "markdown",
      "metadata": {
        "id": "Ksn9R3PzPMSf"
      },
      "source": [
        "#### **Exercise 1b**\n",
        "- The lower and upper case letters of the English alphabet should stored as the string variable `alphabet`.\n",
        "- Consider the sentence 'Jim quickly realized that the beautiful gowns are expensive'. Create a dictionary `count_letters` with keys consisting of each unique letter in the sentence and values consisting of the number of times each letter is used in this sentence. Count upper case and lower case letters separately in the dictionary."
      ]
    },
    {
      "cell_type": "code",
      "metadata": {
        "id": "4nUmPEPiPMSi",
        "outputId": "62106911-33da-43ad-9da6-e9b8a500e3f3",
        "colab": {
          "base_uri": "https://localhost:8080/"
        }
      },
      "source": [
        "sentence = 'Jim quickly realized that the beautiful gowns are expensive'\n",
        "\n",
        "count_letters = {}\n",
        "# write your code here!\n",
        "\n",
        "for letter in sentence:\n",
        "    if letter in alphabet:\n",
        "        if letter in count_letters:\n",
        "            count_letters[letter] += 1\n",
        "        else:\n",
        "            count_letters[letter] = 1\n",
        "\n",
        "count_letters"
      ],
      "execution_count": 3,
      "outputs": [
        {
          "output_type": "execute_result",
          "data": {
            "text/plain": [
              "{'J': 1,\n",
              " 'a': 4,\n",
              " 'b': 1,\n",
              " 'c': 1,\n",
              " 'd': 1,\n",
              " 'e': 8,\n",
              " 'f': 1,\n",
              " 'g': 1,\n",
              " 'h': 2,\n",
              " 'i': 5,\n",
              " 'k': 1,\n",
              " 'l': 3,\n",
              " 'm': 1,\n",
              " 'n': 2,\n",
              " 'o': 1,\n",
              " 'p': 1,\n",
              " 'q': 1,\n",
              " 'r': 2,\n",
              " 's': 2,\n",
              " 't': 4,\n",
              " 'u': 3,\n",
              " 'v': 1,\n",
              " 'w': 1,\n",
              " 'x': 1,\n",
              " 'y': 1,\n",
              " 'z': 1}"
            ]
          },
          "metadata": {
            "tags": []
          },
          "execution_count": 3
        }
      ]
    },
    {
      "cell_type": "markdown",
      "metadata": {
        "id": "v-4Ncf_vI2Ob"
      },
      "source": [
        "What is the 3rd value of the dictionary?  \n",
        "Answer → 1 "
      ]
    },
    {
      "cell_type": "code",
      "metadata": {
        "id": "bScmYQrCI44X",
        "outputId": "e6777106-4eac-4867-9db0-955f31c0f167",
        "colab": {
          "base_uri": "https://localhost:8080/"
        }
      },
      "source": [
        "list(count_letters.values())[2]"
      ],
      "execution_count": 4,
      "outputs": [
        {
          "output_type": "execute_result",
          "data": {
            "text/plain": [
              "1"
            ]
          },
          "metadata": {
            "tags": []
          },
          "execution_count": 4
        }
      ]
    },
    {
      "cell_type": "markdown",
      "metadata": {
        "id": "s0QmW0DmI8zK"
      },
      "source": [
        "What is the 8th value of the dictionary?  \n",
        "Answer → 3"
      ]
    },
    {
      "cell_type": "code",
      "metadata": {
        "id": "JXYSIdUzJBbu",
        "outputId": "dc42c532-6852-4d52-b220-5112d99cf8b4",
        "colab": {
          "base_uri": "https://localhost:8080/"
        }
      },
      "source": [
        "list(count_letters.values())[7]"
      ],
      "execution_count": 5,
      "outputs": [
        {
          "output_type": "execute_result",
          "data": {
            "text/plain": [
              "3"
            ]
          },
          "metadata": {
            "tags": []
          },
          "execution_count": 5
        }
      ]
    },
    {
      "cell_type": "markdown",
      "metadata": {
        "id": "vVI-akFePMSj"
      },
      "source": [
        "#### **Exercise 1c**\n",
        "- Rewrite your code from 1b to make a function called `counter` that takes a string `input_string` and returns a dictionary of letter counts `count_letters`.\n",
        "- Use your function to call `counter(sentence)`."
      ]
    },
    {
      "cell_type": "code",
      "metadata": {
        "id": "xarbXDjQPMSl",
        "outputId": "f8cfb736-4140-4810-e313-94c8ec2b3248",
        "colab": {
          "base_uri": "https://localhost:8080/"
        }
      },
      "source": [
        "# write your code here!\n",
        "\n",
        "def counter(input_string):\n",
        "    count_letters = {}\n",
        "    for letter in input_string:\n",
        "        if letter in alphabet:\n",
        "            if letter in count_letters:\n",
        "                count_letters[letter] += 1\n",
        "            else:\n",
        "                count_letters[letter] = 1\n",
        "\n",
        "    return count_letters\n",
        "\n",
        "counter(sentence)"
      ],
      "execution_count": 6,
      "outputs": [
        {
          "output_type": "execute_result",
          "data": {
            "text/plain": [
              "{'J': 1,\n",
              " 'a': 4,\n",
              " 'b': 1,\n",
              " 'c': 1,\n",
              " 'd': 1,\n",
              " 'e': 8,\n",
              " 'f': 1,\n",
              " 'g': 1,\n",
              " 'h': 2,\n",
              " 'i': 5,\n",
              " 'k': 1,\n",
              " 'l': 3,\n",
              " 'm': 1,\n",
              " 'n': 2,\n",
              " 'o': 1,\n",
              " 'p': 1,\n",
              " 'q': 1,\n",
              " 'r': 2,\n",
              " 's': 2,\n",
              " 't': 4,\n",
              " 'u': 3,\n",
              " 'v': 1,\n",
              " 'w': 1,\n",
              " 'x': 1,\n",
              " 'y': 1,\n",
              " 'z': 1}"
            ]
          },
          "metadata": {
            "tags": []
          },
          "execution_count": 6
        }
      ]
    },
    {
      "cell_type": "markdown",
      "metadata": {
        "id": "iFAqzrWkPMSl"
      },
      "source": [
        "#### **Exercise 1d**\n",
        "- Abraham Lincoln was a president during the American Civil War. His famous 1863 Gettysburg Address has been stored as `address`. Use the `counter` function from 1c to return a dictionary consisting of the count of each letter in this address and save it as `address_count`."
      ]
    },
    {
      "cell_type": "code",
      "metadata": {
        "id": "1YvciH3CPMSn",
        "outputId": "f28d98b6-5842-4cc1-aeed-211bcff2240f",
        "colab": {
          "base_uri": "https://localhost:8080/"
        }
      },
      "source": [
        "address = \"\"\"Four score and seven years ago our fathers brought forth on this continent, a new nation, \n",
        "conceived in Liberty, and dedicated to the proposition that all men are created equal. Now we are engaged in a \n",
        "great civil war, testing whether that nation, or any nation so conceived and so dedicated, can long endure. \n",
        "We are met on a great battle-field of that war. We have come to dedicate a portion of that field, as a final \n",
        "resting place for those who here gave their lives that that nation might live. It is altogether fitting and proper \n",
        "that we should do this. But, in a larger sense, we can not dedicate -- we can not consecrate -- we can not hallow -- \n",
        "this ground. The brave men, living and dead, who struggled here, have consecrated it, far above our poor power to add \n",
        "or detract. The world will little note, nor long remember what we say here, but it can never forget what they did here. \n",
        "It is for us the living, rather, to be dedicated here to the unfinished work which they who fought here have thus far so \n",
        "nobly advanced. It is rather for us to be here dedicated to the great task remaining before us -- that from these honored \n",
        "dead we take increased devotion to that cause for which they gave the last full measure of devotion -- that we here \n",
        "highly resolve that these dead shall not have died in vain -- that this nation, under God, shall have a new birth of \n",
        "freedom -- and that government of the people, by the people, for the people, shall not perish from the earth.\"\"\"   \n",
        "\n",
        "# Write your code here!\n",
        "\n",
        "address_count = counter(address)\n",
        "address_count"
      ],
      "execution_count": 7,
      "outputs": [
        {
          "output_type": "execute_result",
          "data": {
            "text/plain": [
              "{'B': 1,\n",
              " 'F': 1,\n",
              " 'G': 1,\n",
              " 'I': 3,\n",
              " 'L': 1,\n",
              " 'N': 1,\n",
              " 'T': 2,\n",
              " 'W': 2,\n",
              " 'a': 102,\n",
              " 'b': 13,\n",
              " 'c': 31,\n",
              " 'd': 58,\n",
              " 'e': 165,\n",
              " 'f': 26,\n",
              " 'g': 27,\n",
              " 'h': 80,\n",
              " 'i': 65,\n",
              " 'k': 3,\n",
              " 'l': 41,\n",
              " 'm': 13,\n",
              " 'n': 76,\n",
              " 'o': 93,\n",
              " 'p': 15,\n",
              " 'q': 1,\n",
              " 'r': 79,\n",
              " 's': 44,\n",
              " 't': 124,\n",
              " 'u': 21,\n",
              " 'v': 24,\n",
              " 'w': 26,\n",
              " 'y': 10}"
            ]
          },
          "metadata": {
            "tags": []
          },
          "execution_count": 7
        }
      ]
    },
    {
      "cell_type": "markdown",
      "metadata": {
        "id": "mHIIoF5zJZOn"
      },
      "source": [
        "How many times does the letter `h` appear in the Gettysburg Address?  \n",
        "Answer → 80"
      ]
    },
    {
      "cell_type": "code",
      "metadata": {
        "id": "_qxlMlVEJfmj",
        "outputId": "ea9bf63b-f200-49fd-a369-f6666bef8dfe",
        "colab": {
          "base_uri": "https://localhost:8080/"
        }
      },
      "source": [
        "address_count['h']"
      ],
      "execution_count": 8,
      "outputs": [
        {
          "output_type": "execute_result",
          "data": {
            "text/plain": [
              "80"
            ]
          },
          "metadata": {
            "tags": []
          },
          "execution_count": 8
        }
      ]
    },
    {
      "cell_type": "markdown",
      "metadata": {
        "id": "txb2PNUQPMSo"
      },
      "source": [
        "#### **Exercise 1f**\n",
        "- The frequency of each letter in the Gettysburg Address is already stored as `address_count`. Use this dictionary to find the most common letter in the Gettysburg address."
      ]
    },
    {
      "cell_type": "code",
      "metadata": {
        "id": "zmibyZ1lPMSq",
        "outputId": "903377e2-49de-4803-ad48-1f6d3e17bd08",
        "colab": {
          "base_uri": "https://localhost:8080/",
          "height": 38
        }
      },
      "source": [
        "# write your code here!\n",
        "\n",
        "maximum = 0\n",
        "most_frequent_letter = \"\"\n",
        "for letter in address_count:\n",
        "    if address_count[letter] > maximum:\n",
        "        maximum = address_count[letter]\n",
        "        most_frequent_letter = letter\n",
        "\n",
        "most_frequent_letter"
      ],
      "execution_count": 9,
      "outputs": [
        {
          "output_type": "execute_result",
          "data": {
            "application/vnd.google.colaboratory.intrinsic+json": {
              "type": "string"
            },
            "text/plain": [
              "'e'"
            ]
          },
          "metadata": {
            "tags": []
          },
          "execution_count": 9
        }
      ]
    },
    {
      "cell_type": "markdown",
      "metadata": {
        "id": "C5EeFE_APMSt"
      },
      "source": [
        "### **Exercise 2**\n",
        "\n",
        "Consider a circle inscribed in a square. The ratio of their areas (the ratio of the area of the circle to the area of the square) is $\\frac{\\pi}{4}$. In this six-part exercise, we will find a way to approximate this value.\n",
        "\n",
        "#### **Exercise 2a**\n",
        "- Using the `math` library, calculate and print the value of $\\frac{\\pi}{4}$."
      ]
    },
    {
      "cell_type": "code",
      "metadata": {
        "id": "dWtlfrR1PMSv",
        "outputId": "a0e31f3a-4fe1-4e39-e863-e23f7a328db8",
        "colab": {
          "base_uri": "https://localhost:8080/"
        }
      },
      "source": [
        "# write your code here\n",
        "\n",
        "import math\n",
        "math.pi / 4"
      ],
      "execution_count": 10,
      "outputs": [
        {
          "output_type": "execute_result",
          "data": {
            "text/plain": [
              "0.7853981633974483"
            ]
          },
          "metadata": {
            "tags": []
          },
          "execution_count": 10
        }
      ]
    },
    {
      "cell_type": "markdown",
      "metadata": {
        "id": "ZpBxxe_xPMSv"
      },
      "source": [
        "#### **Exercise 2b**\n",
        "- Using `random.uniform()`, create a function `rand()` that generates a single float between `-1` and `1`.\n",
        "- Call `rand()` once. For us to be able to check your solution, we will use `random.seed()` to fix the seed value of the random number generator."
      ]
    },
    {
      "cell_type": "code",
      "metadata": {
        "id": "_H0PhDPdPMSw",
        "outputId": "027a71fa-f70a-4056-d1da-453441db5782",
        "colab": {
          "base_uri": "https://localhost:8080/"
        }
      },
      "source": [
        "import random\n",
        "\n",
        "random.seed(1) # Fixes the see of the random number generator.\n",
        "\n",
        "def rand():\n",
        "    # define `rand` here!\n",
        "    return random.uniform(-1, 1)\n",
        "\n",
        "rand()"
      ],
      "execution_count": 11,
      "outputs": [
        {
          "output_type": "execute_result",
          "data": {
            "text/plain": [
              "-0.7312715117751976"
            ]
          },
          "metadata": {
            "tags": []
          },
          "execution_count": 11
        }
      ]
    },
    {
      "cell_type": "markdown",
      "metadata": {
        "id": "QKA2Zt2dPMSw"
      },
      "source": [
        "#### **Exercise 2c**\n",
        "- The distance between two points x and y is the square root of the sum of squared differences along each dimension of x and y. Write a function` distance(x, y)` that takes two vectors as its input and outputs the distance between them. Use your function to find the distance between `x = (0, 0)` and `y = (1, 1)`."
      ]
    },
    {
      "cell_type": "code",
      "metadata": {
        "id": "IaQh3ZjtPMSw",
        "outputId": "5c6420ea-c548-4e4b-ef2f-fa08cecffeff",
        "colab": {
          "base_uri": "https://localhost:8080/"
        }
      },
      "source": [
        "def distance(x, y):\n",
        "    # define your function here!\n",
        "    x1, y1 = x\n",
        "    x2, y2 = y\n",
        "    return math.sqrt((x2 - x1) ** 2 + (y2 - y1) ** 2)\n",
        "\n",
        "x = (0, 0)\n",
        "y = (1, 1)\n",
        "distance(x, y)"
      ],
      "execution_count": 12,
      "outputs": [
        {
          "output_type": "execute_result",
          "data": {
            "text/plain": [
              "1.4142135623730951"
            ]
          },
          "metadata": {
            "tags": []
          },
          "execution_count": 12
        }
      ]
    },
    {
      "cell_type": "markdown",
      "metadata": {
        "id": "DjelocdJPMSw"
      },
      "source": [
        "#### **Exercise 2d**\n",
        "\n",
        "- Write a function `in_circle(x, origin)` that determines whether a point in a two dimensional plane falls within a unit circle surrounding a given origin.\n",
        "    - Your function should return a boolean `True` if the distance between `x` and `origin` is less than 1 and `False` otherwise.\n",
        "    - Use `distance(x, y)` as defined in 2c.\n",
        "- Use your function to determine whether the point `(1, 1)` lies within the unit circle centered at `(0, 0)`."
      ]
    },
    {
      "cell_type": "code",
      "metadata": {
        "id": "7HqZjbsIPMSx",
        "outputId": "7a622fef-629a-45dc-9d8f-a95ff14971ed",
        "colab": {
          "base_uri": "https://localhost:8080/"
        }
      },
      "source": [
        "def in_circle(x, origin = (0, 0)):\n",
        "    # Define your function here!\n",
        "    if len(x) != 2:\n",
        "        return \"x is not two-dimensional!\"\n",
        "    elif distance(x, origin) < 1:\n",
        "        return True\n",
        "    else:\n",
        "        return False\n",
        "\n",
        "in_circle((1, 1))"
      ],
      "execution_count": 13,
      "outputs": [
        {
          "output_type": "execute_result",
          "data": {
            "text/plain": [
              "False"
            ]
          },
          "metadata": {
            "tags": []
          },
          "execution_count": 13
        }
      ]
    },
    {
      "cell_type": "markdown",
      "metadata": {
        "id": "or5GbfRmPMSy"
      },
      "source": [
        "#### **Exercise 2e**\n",
        "\n",
        "- Create a list `inside` of `R=10000` booleans that determines whether or not a point falls within the unit circle centered at `(0, 0)`. \n",
        "    - Use the `rand` function from 2b to generate `R` randomly located points.\n",
        "    - Use the function `in_circle` to test whether or not a given pint falls within the unit circle.\n",
        "- Find the proportion of points that fall within the circle by summing all `True` values in the `inside` list; then divide the answer by `R` to obtain a proportion.\n",
        "- Print your answer. This proportion is an estimate of the ratio of the two areas!"
      ]
    },
    {
      "cell_type": "code",
      "metadata": {
        "id": "6JyQe4GbPMSy",
        "outputId": "d8fce407-43b2-4993-bb46-607025762f53",
        "colab": {
          "base_uri": "https://localhost:8080/"
        }
      },
      "source": [
        "random.seed(1) \n",
        "\n",
        "# write your code here!\n",
        "\n",
        "inside = []\n",
        "R = 10000\n",
        "for i in range(R):\n",
        "    point = (rand(), rand())\n",
        "    inside.append(in_circle(point))\n",
        "\n",
        "sum(inside) / R"
      ],
      "execution_count": 14,
      "outputs": [
        {
          "output_type": "execute_result",
          "data": {
            "text/plain": [
              "0.779"
            ]
          },
          "metadata": {
            "tags": []
          },
          "execution_count": 14
        }
      ]
    },
    {
      "cell_type": "markdown",
      "metadata": {
        "id": "MbMcLanfPMSz"
      },
      "source": [
        "#### **Exercise 2f**\n",
        "\n",
        "- Find the difference between your estimate from part 2e and `math.pi / 4`. Note: `inside` and `R` are defined as in Exercise 2e."
      ]
    },
    {
      "cell_type": "code",
      "metadata": {
        "id": "59D7krmKPMSz",
        "outputId": "09ae2dc0-1244-409a-abd0-b85ca1c7a860",
        "colab": {
          "base_uri": "https://localhost:8080/"
        }
      },
      "source": [
        "# write your code here!\n",
        "\n",
        "(math.pi / 4) - (sum(inside) / R)"
      ],
      "execution_count": 15,
      "outputs": [
        {
          "output_type": "execute_result",
          "data": {
            "text/plain": [
              "0.006398163397448253"
            ]
          },
          "metadata": {
            "tags": []
          },
          "execution_count": 15
        }
      ]
    },
    {
      "cell_type": "markdown",
      "metadata": {
        "id": "dZm_XimVPMS0"
      },
      "source": [
        "### **Exercise 3**\n",
        "\n",
        "A list of numbers representing measurements obtained from a system of interest can often be noisy. One way to deal with noise to smoothen the values by replacing each value with the average of the value and the values of its neighbors.\n",
        "\n",
        "#### **Exercise 3a**\n",
        "\n",
        "- Write a function `moving_window_average(x, n_neighbors)` that takes a list `x` and the number of neighbors `n_neighbors` on either side of a given member of the list to consider.\n",
        "- For each value in `x`, `moving_window_average(x, n_neighbors)` computes the average of the value and the values of its neighbors.\n",
        "- `moving_window_average` should return a list of averaged values that is the same length as the original list.\n",
        "- If there are not enough neighbors (for cases near the edge), substitute the original value for a neighbor for each missing neighbor.\n",
        "- Use your function to find the moving window sum of `x=[0,10,5,3,1,5]` and `n_neighbors=1`."
      ]
    },
    {
      "cell_type": "code",
      "metadata": {
        "id": "AE2Gy_zPPMS0",
        "outputId": "c0709066-ec2a-4714-8fb8-518b689c9daa",
        "colab": {
          "base_uri": "https://localhost:8080/"
        }
      },
      "source": [
        "def moving_window_average(x, n_neighbors=1):\n",
        "    n = len(x)\n",
        "    width = n_neighbors * 2 + 1\n",
        "    x = [x[0]] * n_neighbors + x + [x[-1]] * n_neighbors\n",
        "    # To complete the function,\n",
        "    # return a list of the mean of values from i to i+width for all values i from 0 to n-1.\n",
        "    average = [] \n",
        "    for i in range(n_neighbors, n + 1):\n",
        "        average.append(sum(x[(i - n_neighbors) : (i + n_neighbors + 1)]) / width)\n",
        "\n",
        "    return average\n",
        "\n",
        "\n",
        "x = [0, 10, 5, 3, 1, 5]\n",
        "moving_window_average(x)"
      ],
      "execution_count": 16,
      "outputs": [
        {
          "output_type": "execute_result",
          "data": {
            "text/plain": [
              "[3.3333333333333335, 5.0, 6.0, 3.0, 3.0, 3.6666666666666665]"
            ]
          },
          "metadata": {
            "tags": []
          },
          "execution_count": 16
        }
      ]
    },
    {
      "cell_type": "markdown",
      "metadata": {
        "id": "yD0WJC98PMS1"
      },
      "source": [
        "#### **Exercise 3b**\n",
        "- Compute and store `R=1000` random values from 0-1 as `x`.\n",
        "- Compute the moving window average for `x` for values of `n_neighbors` ranging from 1 to 9 inclusive.\n",
        "- Store `x` as well as each of these averages as consecutive lists in a list called `Y`"
      ]
    },
    {
      "cell_type": "code",
      "metadata": {
        "id": "NeBuFuRlPMS2"
      },
      "source": [
        "random.seed(1) # This line fixes the value called by your function, and is used for answer-checking.\n",
        "    \n",
        "# write your code here!\n",
        "\n",
        "R = 1000\n",
        "x = []\n",
        "for i in range(R):\n",
        "    value = random.random()\n",
        "    x.append(value)\n",
        "\n",
        "Y = []\n",
        "Y.append(x)\n",
        "for n_neighbors in range(1, 10):\n",
        "    average = moving_window_average(x, n_neighbors)\n",
        "    Y.append(average)"
      ],
      "execution_count": 17,
      "outputs": []
    },
    {
      "cell_type": "markdown",
      "metadata": {
        "id": "50KvzYIfLlRj"
      },
      "source": [
        "What is the moving window average for the 10th entry in `x` for `n_neighbors = 5`?  \n",
        "Answer → 0.45325045824763405"
      ]
    },
    {
      "cell_type": "code",
      "metadata": {
        "id": "6Y649mvFLr7d",
        "outputId": "d4589dca-488f-4e44-b19f-de597e50de18",
        "colab": {
          "base_uri": "https://localhost:8080/"
        }
      },
      "source": [
        "Y[5][9]"
      ],
      "execution_count": 18,
      "outputs": [
        {
          "output_type": "execute_result",
          "data": {
            "text/plain": [
              "0.45325045824763405"
            ]
          },
          "metadata": {
            "tags": []
          },
          "execution_count": 18
        }
      ]
    },
    {
      "cell_type": "markdown",
      "metadata": {
        "id": "Ff97V5iVPMS2"
      },
      "source": [
        "#### **Exercise 3c**\n",
        "\n",
        "- For each list in `Y`, calculate and store the range (the maximum minus the minimum) in a new list ranges.\n",
        "- Print your answer. As the window width increases, does the range of each list increase or decrease? Why do you think that is?"
      ]
    },
    {
      "cell_type": "code",
      "metadata": {
        "id": "wXHmx9H5PMS2",
        "outputId": "a7fa08b0-5296-4340-a778-d3ae3bea9abd",
        "colab": {
          "base_uri": "https://localhost:8080/"
        }
      },
      "source": [
        "# write your code here!\n",
        "\n",
        "ranges = []\n",
        "for x in Y:\n",
        "    ranges.append(max(x) - min(x))\n",
        "\n",
        "ranges"
      ],
      "execution_count": 19,
      "outputs": [
        {
          "output_type": "execute_result",
          "data": {
            "text/plain": [
              "[0.9973152343362711,\n",
              " 0.9128390185520854,\n",
              " 0.801645771909397,\n",
              " 0.7137391224212468,\n",
              " 0.6230146948375028,\n",
              " 0.5042284086774562,\n",
              " 0.5071013753101629,\n",
              " 0.4590090496908159,\n",
              " 0.44659549539083265,\n",
              " 0.4433696944090051]"
            ]
          },
          "metadata": {
            "tags": []
          },
          "execution_count": 19
        }
      ]
    },
    {
      "cell_type": "markdown",
      "metadata": {
        "id": "2v5m3ZKVL1Qu"
      },
      "source": [
        "As the window width increases, does the range of each list increase or decrease? Why do you think that is?  \n",
        "Answer → decrease."
      ]
    }
  ]
}