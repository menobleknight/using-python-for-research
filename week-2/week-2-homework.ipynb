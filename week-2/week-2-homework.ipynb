{
  "nbformat": 4,
  "nbformat_minor": 0,
  "metadata": {
    "kernelspec": {
      "display_name": "Python 3",
      "language": "python",
      "name": "python3"
    },
    "language_info": {
      "codemirror_mode": {
        "name": "ipython",
        "version": 3
      },
      "file_extension": ".py",
      "mimetype": "text/x-python",
      "name": "python",
      "nbconvert_exporter": "python",
      "pygments_lexer": "ipython3",
      "version": "3.7.3"
    },
    "colab": {
      "name": "week-2-homework.ipynb",
      "provenance": [],
      "include_colab_link": true
    }
  },
  "cells": [
    {
      "cell_type": "markdown",
      "metadata": {
        "id": "view-in-github",
        "colab_type": "text"
      },
      "source": [
        "<a href=\"https://colab.research.google.com/github/menobleknight/using-python-for-research/blob/main/week-2/6-week-2-homework.ipynb\" target=\"_parent\"><img src=\"https://colab.research.google.com/assets/colab-badge.svg\" alt=\"Open In Colab\"/></a>"
      ]
    },
    {
      "cell_type": "markdown",
      "metadata": {
        "id": "_fl_pDdbRfEx"
      },
      "source": [
        "# **Using Python for Research Homework: Week 2**\n",
        "\n",
        "In this homework, we will use the tools we've covered in the past two weeks to create a tic-tac-toe (noughts and crosses) simulator and evaluate basic winning strategies."
      ]
    },
    {
      "cell_type": "markdown",
      "metadata": {
        "id": "7w50WKIgRfE2"
      },
      "source": [
        "### **Exercise 1**\n",
        "\n",
        "Tic-tac-toe (or noughts and crosses) is a simple strategy game in which two players take turns placing a mark on a 3x3 board, attempting to make a row, column, or diagonal of three with their mark. In this homework, we will use the tools we've covered in the past two weeks to create a tic-tac-toe simulator and evaluate basic winning strategies.\n",
        "\n",
        "In the following exercises, we will learn to create a tic-tac-toe board, place markers on the board, evaluate if either player has won, and use this to simulate two basic strategies.\n",
        "\n",
        "**Instructions**\n",
        "\n",
        "- For our tic-tac-toe board, we will use a numpy array with dimension 3 by 3. \n",
        "- Make a function `create_board()` that creates such a board with the value of each cell set to the integer `0`.\n",
        "- Call `create_board()` and store it."
      ]
    },
    {
      "cell_type": "code",
      "metadata": {
        "id": "8E5t1nUGRfE5",
        "outputId": "d1619d52-d67f-4abd-efb5-4f5c815c234b",
        "colab": {
          "base_uri": "https://localhost:8080/"
        }
      },
      "source": [
        "# write your code here!\n",
        "\n",
        "import numpy as np\n",
        "\n",
        "def create_board():\n",
        "    board = np.zeros((3, 3), dtype=int)\n",
        "    return board\n",
        "\n",
        "create_board() "
      ],
      "execution_count": 1,
      "outputs": [
        {
          "output_type": "execute_result",
          "data": {
            "text/plain": [
              "array([[0, 0, 0],\n",
              "       [0, 0, 0],\n",
              "       [0, 0, 0]])"
            ]
          },
          "metadata": {
            "tags": []
          },
          "execution_count": 1
        }
      ]
    },
    {
      "cell_type": "markdown",
      "metadata": {
        "id": "SQk5lg2oRfE7"
      },
      "source": [
        "### **Exercise 2**\n",
        "\n",
        "Players 1 and 2 will take turns changing values of this array from a 0 to a 1 or 2, indicating the number of the player who places a marker there.\n",
        "\n",
        "**Instructions**\n",
        "\n",
        "- Create a function `place(board, player, position)`, where:\n",
        "    - `player` is the current player (an integer 1 or 2).\n",
        "    - `position` is a tuple of length 2 specifying a desired location to place their marker.\n",
        "    - Your function should only allow the current player to place a marker on the board (change the board position to their number) if that position is empty (zero).\n",
        "- Use `create_board()` to store a board as `board`, and use `place` to have Player 1 place a marker on location `(0, 0)`."
      ]
    },
    {
      "cell_type": "code",
      "metadata": {
        "id": "6qP04l_eRfE9",
        "outputId": "fbb9562c-0f63-413a-f1ec-430de2e629d7",
        "colab": {
          "base_uri": "https://localhost:8080/"
        }
      },
      "source": [
        "# write your code here!\n",
        "\n",
        "def place(board, player, position):\n",
        "    if board[position] == 0:\n",
        "        board[position] = player\n",
        "        return board\n",
        "\n",
        "board = create_board()\n",
        "place(board, 1, (0, 0)) # place 1 at board[0][0]"
      ],
      "execution_count": 2,
      "outputs": [
        {
          "output_type": "execute_result",
          "data": {
            "text/plain": [
              "array([[1, 0, 0],\n",
              "       [0, 0, 0],\n",
              "       [0, 0, 0]])"
            ]
          },
          "metadata": {
            "tags": []
          },
          "execution_count": 2
        }
      ]
    },
    {
      "cell_type": "markdown",
      "metadata": {
        "id": "xtYgXuRvRfE-"
      },
      "source": [
        "### **Exercise 3**\n",
        "\n",
        "In this exercise, we will determine which positions are available to either player for placing their marker.\n",
        "\n",
        "**Instructions**\n",
        "- Create a function `possibilities(board)` that returns a list of all positions (tuples) on the board that are not occupied (0). (Hint: `numpy.where` is a handy function that returns a list of indices that meet a condition.)\n",
        "- `board` is already defined from previous exercises. Call `possibilities(board)` to see what it returns!"
      ]
    },
    {
      "cell_type": "code",
      "metadata": {
        "id": "iuczKmWlRfFA",
        "outputId": "d307b8d6-26a5-4f06-bec5-ab9665b2c0d9",
        "colab": {
          "base_uri": "https://localhost:8080/"
        }
      },
      "source": [
        "# write your code here!\n",
        "\n",
        "def possibilities(board):\n",
        "    return np.transpose(np.where(board == 0))\n",
        "    \n",
        "possibilities(board)"
      ],
      "execution_count": 3,
      "outputs": [
        {
          "output_type": "execute_result",
          "data": {
            "text/plain": [
              "array([[0, 1],\n",
              "       [0, 2],\n",
              "       [1, 0],\n",
              "       [1, 1],\n",
              "       [1, 2],\n",
              "       [2, 0],\n",
              "       [2, 1],\n",
              "       [2, 2]])"
            ]
          },
          "metadata": {
            "tags": []
          },
          "execution_count": 3
        }
      ]
    },
    {
      "cell_type": "markdown",
      "metadata": {
        "id": "50-ul0h5RfFB"
      },
      "source": [
        "### **Exercise 4**\n",
        "\n",
        "The next step is for the current player to place a marker among the available positions. In this exercise, we will select an available board position at random and place a marker there.\n",
        "\n",
        "**Instructions**\n",
        "\n",
        "- Write a function `random_place(board, player)` that places a marker for the current player at random among all the available positions (those currently set to 0).\n",
        "    - Find possible placements with `possibilities(board)`.\n",
        "    - Select one possible placement at random using `random.choice(selection)`.\n",
        "- `board` is already defined from previous exercises. Call `random_place(board, player)` to place a random marker for Player 2, and store this as board to update its value."
      ]
    },
    {
      "cell_type": "code",
      "metadata": {
        "id": "cvmNYAHLRfFC",
        "outputId": "b4182ed1-8efa-4efe-c9cd-8fa6ac6c1227",
        "colab": {
          "base_uri": "https://localhost:8080/"
        }
      },
      "source": [
        "import random \n",
        "random.seed(1)\n",
        "\n",
        "# write your code here!\n",
        "\n",
        "def random_place(board, player):\n",
        "    selections = possibilities(board)\n",
        "    if len(selections) > 0:\n",
        "        selection = random.choice(selections)\n",
        "        place(board, player, tuple(selection))\n",
        "\n",
        "    return board\n",
        "\n",
        "random_place(board, 2)\n",
        "board"
      ],
      "execution_count": 4,
      "outputs": [
        {
          "output_type": "execute_result",
          "data": {
            "text/plain": [
              "array([[1, 0, 0],\n",
              "       [2, 0, 0],\n",
              "       [0, 0, 0]])"
            ]
          },
          "metadata": {
            "tags": []
          },
          "execution_count": 4
        }
      ]
    },
    {
      "cell_type": "markdown",
      "metadata": {
        "id": "ZS1GlxzURfFD"
      },
      "source": [
        "### **Exercise 5**\n",
        "\n",
        "We will now have both players place three markers each.\n",
        "\n",
        "**Instructions**\n",
        "\n",
        "- A new `board` is already given. Call `random_place(board, player)` to place three pieces each on board for players 1 and 2.\n",
        "- Print board to see your result."
      ]
    },
    {
      "cell_type": "code",
      "metadata": {
        "id": "uI79-joQRfFE",
        "outputId": "38eaad4b-c00c-41cd-902e-3c30e75c3633",
        "colab": {
          "base_uri": "https://localhost:8080/"
        }
      },
      "source": [
        "random.seed(1)\n",
        "board = create_board()\n",
        "\n",
        "# write your code here!\n",
        "\n",
        "for i in range(3):\n",
        "    random_place(board, 1)\n",
        "    random_place(board, 2)\n",
        "\n",
        "board"
      ],
      "execution_count": 5,
      "outputs": [
        {
          "output_type": "execute_result",
          "data": {
            "text/plain": [
              "array([[2, 2, 1],\n",
              "       [0, 1, 0],\n",
              "       [0, 1, 2]])"
            ]
          },
          "metadata": {
            "tags": []
          },
          "execution_count": 5
        }
      ]
    },
    {
      "cell_type": "markdown",
      "metadata": {
        "id": "nzXo9gBJRfFG"
      },
      "source": [
        "### **Exercise 6**\n",
        "\n",
        "In the next few exercises, we will make functions that check whether either player has won the game.\n",
        "\n",
        "**Instructions**\n",
        "- Make a function `row_win(board, player)` that takes the player (integer) and determines if any row consists of only their marker. \n",
        "    - Have it return `True` if this condition is met and `False` otherwise.\n",
        "- `board` is already defined from previous exercises. Call `row_win` to check if Player 1 has a complete row."
      ]
    },
    {
      "cell_type": "code",
      "metadata": {
        "id": "kd6K04vuRfFH",
        "outputId": "fca1ca46-5b61-4534-c8f8-00ad3b073b4d",
        "colab": {
          "base_uri": "https://localhost:8080/"
        }
      },
      "source": [
        "# write your code here!\n",
        "\n",
        "def row_win(board, player):\n",
        "    if np.any(np.all(board == player, axis=1)): \n",
        "        # this checks if any row contains all positions equal to player.\n",
        "        return True\n",
        "    else:\n",
        "        return False\n",
        "\n",
        "row_win(board, 1)"
      ],
      "execution_count": 6,
      "outputs": [
        {
          "output_type": "execute_result",
          "data": {
            "text/plain": [
              "False"
            ]
          },
          "metadata": {
            "tags": []
          },
          "execution_count": 6
        }
      ]
    },
    {
      "cell_type": "markdown",
      "metadata": {
        "id": "BWLYeEykRfFI"
      },
      "source": [
        "### **Exercise 7**\n",
        "\n",
        "In the next few exercises, we will make functions that verify if either player has won the game.\n",
        "\n",
        "**Instructions**\n",
        "- Make a function `col_win(board, player)` that takes the player (integer) and determines if any column consists of only their marker. \n",
        "    - Have it return `True` if this condition is met and `False` otherwise.\n",
        "- `board` is already defined from previous exercises. Call `col_win` to check if Player 1 has a complete row."
      ]
    },
    {
      "cell_type": "code",
      "metadata": {
        "id": "_EIM6Uj0RfFI",
        "outputId": "035b09e8-021c-46c1-c521-db659ae6ff4c",
        "colab": {
          "base_uri": "https://localhost:8080/"
        }
      },
      "source": [
        "# write your code here! \n",
        "\n",
        "def col_win(board, player):\n",
        "    if np.any(np.all(board == player, axis=0)): \n",
        "        # this checks if any column contains all positions equal to player\n",
        "        return True\n",
        "    else:\n",
        "        return False\n",
        "\n",
        "col_win(board, 1)"
      ],
      "execution_count": 7,
      "outputs": [
        {
          "output_type": "execute_result",
          "data": {
            "text/plain": [
              "False"
            ]
          },
          "metadata": {
            "tags": []
          },
          "execution_count": 7
        }
      ]
    },
    {
      "cell_type": "markdown",
      "metadata": {
        "id": "QKkxl4YORfFI"
      },
      "source": [
        "### **Exercise 8**\n",
        "\n",
        "In the next few exercises, we will make functions that verify if either player has won the game.\n",
        "\n",
        "**Instructions**\n",
        "- Finally, create a function `diag_win(board, player)` that tests if either diagonal of the board consists of only their marker. Have it return `True` if this condition is met, and `False` otherwise.\n",
        "- `board` has been slightly modified from a previous exercise. Call `diag_win` to check if Player 2 has a complete diagonal."
      ]
    },
    {
      "cell_type": "code",
      "metadata": {
        "id": "W2vd-BmURfFI",
        "outputId": "d234ca13-f0c1-466c-8842-7f89352684bc",
        "colab": {
          "base_uri": "https://localhost:8080/"
        }
      },
      "source": [
        "board[1,1] = 2\n",
        "\n",
        "# write your code here!\n",
        "\n",
        "def diag_win(board, player):\n",
        "    if np.all(np.diag(board) == player) or np.all(np.diag(np.fliplr(board)) == player):\n",
        "        # np.diag() returns the diagonal of the array\n",
        "        # np.fliplr() rearranges columns in reverse order\n",
        "        return True\n",
        "    else:\n",
        "        return False\n",
        "\n",
        "diag_win(board, 2)"
      ],
      "execution_count": 8,
      "outputs": [
        {
          "output_type": "execute_result",
          "data": {
            "text/plain": [
              "True"
            ]
          },
          "metadata": {
            "tags": []
          },
          "execution_count": 8
        }
      ]
    },
    {
      "cell_type": "markdown",
      "metadata": {
        "id": "LxFIOURXRfFJ"
      },
      "source": [
        "### **Exercise 9**\n",
        "\n",
        "In the next few exercises, we will make functions that check whether either player has won the game.\n",
        "\n",
        "**Instructions**\n",
        "- Create a function `evaluate(board)` that uses `row_win`, `col_win`, and `diag_win` functions for both players. If one of them has won, return that player's number. If the board is full but no one has won, return -1. Otherwise, return 0.\n",
        "- `board` is already defined from previous exercises. Call evaluate to see if either player has won the game yet."
      ]
    },
    {
      "cell_type": "code",
      "metadata": {
        "id": "cMlj-u_xRfFJ",
        "outputId": "f77148b4-1cb5-4754-d689-c988bda20c73",
        "colab": {
          "base_uri": "https://localhost:8080/"
        }
      },
      "source": [
        "def evaluate(board):\n",
        "    winner = 0\n",
        "    for player in [1, 2]:\n",
        "        # add your code here!\n",
        "        if row_win(board, player) or col_win(board, player) or diag_win(board, player):\n",
        "            winner = player\n",
        "\n",
        "    if np.all(board != 0) and winner == 0:\n",
        "        winner = -1\n",
        "\n",
        "    return winner\n",
        "\n",
        "evaluate(board)"
      ],
      "execution_count": 9,
      "outputs": [
        {
          "output_type": "execute_result",
          "data": {
            "text/plain": [
              "2"
            ]
          },
          "metadata": {
            "tags": []
          },
          "execution_count": 9
        }
      ]
    },
    {
      "cell_type": "markdown",
      "metadata": {
        "id": "4GgGx2dMRfFK"
      },
      "source": [
        "### **Exercise 10**\n",
        "\n",
        "In this exercise, we will use all the functions we have made to simulate an entire game.\n",
        "\n",
        "**Instructions**\n",
        "\n",
        "- `create_board()`, `random_place(board, player)`, and `evaluate(board)` have been created in previous exercises. Create a function `play_game()` that:\n",
        "    - Creates a board.\n",
        "    - Alternates taking turns between two players (beginning with Player 1), placing a marker during each turn.\n",
        "    - Evaluates the board for a winner after each placement.\n",
        "    - Continues the game until one player wins (returning 1 or 2 to reflect the winning player), or the game is a draw (returning -1).\n",
        "- Call play_game 1000 times, and store the results of the game in a list called `results`."
      ]
    },
    {
      "cell_type": "code",
      "metadata": {
        "id": "_CzuTrgsRfFL"
      },
      "source": [
        "random.seed(1)\n",
        "\n",
        "# write your code here! \n",
        "\n",
        "def play_game():\n",
        "    board = create_board()\n",
        "    winner = 0\n",
        "    while winner == 0:\n",
        "        for player in [1, 2]:\n",
        "            random_place(board, player)\n",
        "            winner = evaluate(board)\n",
        "            if winner != 0:\n",
        "                break\n",
        "                \n",
        "    return winner\n",
        "\n",
        "results = [play_game() for i in range(1000)]"
      ],
      "execution_count": 10,
      "outputs": []
    },
    {
      "cell_type": "markdown",
      "metadata": {
        "id": "vfubr8RZWN3S"
      },
      "source": [
        "How many times does Player 1 win out of 1000 games?  \n",
        "Answer → 591"
      ]
    },
    {
      "cell_type": "code",
      "metadata": {
        "id": "nKR1HPUtWM7C",
        "outputId": "6b2041b5-9acd-4a12-cf4d-98cc9d683ba3",
        "colab": {
          "base_uri": "https://localhost:8080/"
        }
      },
      "source": [
        "results.count(1)"
      ],
      "execution_count": 11,
      "outputs": [
        {
          "output_type": "execute_result",
          "data": {
            "text/plain": [
              "591"
            ]
          },
          "metadata": {
            "tags": []
          },
          "execution_count": 11
        }
      ]
    },
    {
      "cell_type": "markdown",
      "metadata": {
        "id": "HvxQhFM4RfFL"
      },
      "source": [
        "#### **Exercise 11**\n",
        "\n",
        "In the previous exercise, we see that when guessing at random, it's better to go first, as expected. Let's see if Player 1 can improve their strategy. \n",
        "\n",
        "**Instructions**\n",
        "- Create a function `play_strategic_game()`, where Player 1 always starts with the middle square, and otherwise both players place their markers randomly.\n",
        "- Call `play_strategic_game` 1000 times."
      ]
    },
    {
      "cell_type": "code",
      "metadata": {
        "id": "Q8ydiIKzRfFL"
      },
      "source": [
        "random.seed(1)\n",
        "\n",
        "# write your code here\n",
        "\n",
        "def play_game():\n",
        "    board = create_board()\n",
        "    winner = 0\n",
        "    place(board, 1, (1, 1)) # player 1 starts with the middle square\n",
        "    while winner == 0:\n",
        "        for player in [2, 1]:\n",
        "            random_place(board, player)\n",
        "            winner = evaluate(board)\n",
        "            if winner != 0:\n",
        "                break\n",
        "                \n",
        "    return winner\n",
        "\n",
        "results = [play_game() for i in range(1000)]"
      ],
      "execution_count": 12,
      "outputs": []
    },
    {
      "cell_type": "markdown",
      "metadata": {
        "id": "nj5w7qRVWXmf"
      },
      "source": [
        "How many times does Player 1 win out of 1000 games with this new strategy?  \n",
        "Answer → 716"
      ]
    },
    {
      "cell_type": "code",
      "metadata": {
        "id": "XOjqp2X5Wb1s",
        "outputId": "d173b85d-ba25-41b9-c13b-7abf355bd2e5",
        "colab": {
          "base_uri": "https://localhost:8080/"
        }
      },
      "source": [
        "results.count(1)"
      ],
      "execution_count": 13,
      "outputs": [
        {
          "output_type": "execute_result",
          "data": {
            "text/plain": [
              "716"
            ]
          },
          "metadata": {
            "tags": []
          },
          "execution_count": 13
        }
      ]
    }
  ]
}
