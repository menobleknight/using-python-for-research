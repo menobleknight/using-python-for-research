{
  "nbformat": 4,
  "nbformat_minor": 0,
  "metadata": {
    "colab": {
      "name": "3-simulating-randomness.ipynb",
      "provenance": [],
      "authorship_tag": "ABX9TyMalm6Oili6X3bV1qIYGFZz",
      "include_colab_link": true
    },
    "kernelspec": {
      "name": "python3",
      "display_name": "Python 3"
    },
    "language_info": {
      "name": "python"
    }
  },
  "cells": [
    {
      "cell_type": "markdown",
      "metadata": {
        "id": "view-in-github",
        "colab_type": "text"
      },
      "source": [
        "<a href=\"https://colab.research.google.com/github/menobleknight/using-python-for-research/blob/main/week-2/3-simulating-randomness.ipynb\" target=\"_parent\"><img src=\"https://colab.research.google.com/assets/colab-badge.svg\" alt=\"Open In Colab\"/></a>"
      ]
    },
    {
      "cell_type": "markdown",
      "metadata": {
        "id": "TJO2rDqsg4EI"
      },
      "source": [
        "### `simulating randomness with` [`random.choice()`](https://docs.python.org/3.8/library/random.html#random.choice)"
      ]
    },
    {
      "cell_type": "code",
      "metadata": {
        "colab": {
          "base_uri": "https://localhost:8080/",
          "height": 38
        },
        "id": "iECLhSVNg6xM",
        "outputId": "4bafacf9-d1f0-458b-c0b8-47952464292a"
      },
      "source": [
        "import random\n",
        "import numpy as np\n",
        "import matplotlib.pyplot as plt\n",
        "\n",
        "# simulate coin toss\n",
        "random.choice([\"H\", \"T\"])"
      ],
      "execution_count": 11,
      "outputs": [
        {
          "output_type": "execute_result",
          "data": {
            "application/vnd.google.colaboratory.intrinsic+json": {
              "type": "string"
            },
            "text/plain": [
              "'T'"
            ]
          },
          "metadata": {
            "tags": []
          },
          "execution_count": 11
        }
      ]
    },
    {
      "cell_type": "code",
      "metadata": {
        "colab": {
          "base_uri": "https://localhost:8080/"
        },
        "id": "SzkV5ADihH8p",
        "outputId": "7740f77c-98a8-4197-e903-d465e3409dba"
      },
      "source": [
        "# simulate roll of 3 dice with one having 6 faces, one having 8 faces and one with 10 faces\n",
        "six_faces = range(1, 7)\n",
        "eight_faces = range(1, 9)\n",
        "ten_faces = range(1, 11)\n",
        "\n",
        "dice = random.choice([six_faces, eight_faces, ten_faces])\n",
        "dice"
      ],
      "execution_count": 12,
      "outputs": [
        {
          "output_type": "execute_result",
          "data": {
            "text/plain": [
              "range(1, 11)"
            ]
          },
          "metadata": {
            "tags": []
          },
          "execution_count": 12
        }
      ]
    },
    {
      "cell_type": "code",
      "metadata": {
        "colab": {
          "base_uri": "https://localhost:8080/"
        },
        "id": "aNxr6ijChOTt",
        "outputId": "b946963e-e364-456f-d841-76b36fdfcfa6"
      },
      "source": [
        "random.choice(dice)"
      ],
      "execution_count": 13,
      "outputs": [
        {
          "output_type": "execute_result",
          "data": {
            "text/plain": [
              "8"
            ]
          },
          "metadata": {
            "tags": []
          },
          "execution_count": 13
        }
      ]
    },
    {
      "cell_type": "code",
      "metadata": {
        "colab": {
          "base_uri": "https://localhost:8080/"
        },
        "id": "PkVPcqPphSAq",
        "outputId": "f4c70c85-f8ae-489d-d676-e7acb3ba0213"
      },
      "source": [
        "random.choice(random.choice([six_faces, eight_faces, ten_faces])) # all in one line"
      ],
      "execution_count": 14,
      "outputs": [
        {
          "output_type": "execute_result",
          "data": {
            "text/plain": [
              "3"
            ]
          },
          "metadata": {
            "tags": []
          },
          "execution_count": 14
        }
      ]
    },
    {
      "cell_type": "markdown",
      "metadata": {
        "id": "mu0uzoKIhYog"
      },
      "source": [
        "##### **[Law of Large Numbers (LLN)](https://en.wikipedia.org/wiki/Law_of_large_numbers)**\n",
        "In probability theory, the law of large numbers (LLN) is a theorem that describes the result of performing the same experiment a large number of times. According to the law, the average of the results obtained from a large number of trials should be close to the expected value and will tend to become closer to the expected value as more trials are performed\n",
        "\n",
        "Following histograms are examples of LLN."
      ]
    },
    {
      "cell_type": "code",
      "metadata": {
        "colab": {
          "base_uri": "https://localhost:8080/",
          "height": 265
        },
        "id": "xK8JfrYZhiFZ",
        "outputId": "325da9f3-7c36-4e8c-b0bc-f8c429a12fbb"
      },
      "source": [
        "# simulate 100 rolls of dice and plot it on histogram\n",
        "rolls = []\n",
        "for _ in range(100):\n",
        "    rolls.append(random.choice(range(1, 7))) # roll a die\n",
        "\n",
        "plt.hist(rolls, bins=np.linspace(0.5, 6.5, 7));"
      ],
      "execution_count": 15,
      "outputs": [
        {
          "output_type": "display_data",
          "data": {
            "image/png": "[encoded data removed]",
            "text/plain": [
              "<Figure size 432x288 with 1 Axes>"
            ]
          },
          "metadata": {
            "tags": [],
            "needs_background": "light"
          }
        }
      ]
    },
    {
      "cell_type": "code",
      "metadata": {
        "colab": {
          "base_uri": "https://localhost:8080/",
          "height": 265
        },
        "id": "KOdAI5K7iC6_",
        "outputId": "a5f8a20d-8250-4f8a-817b-c2c82cbe5151"
      },
      "source": [
        "# simulate 10000 rolls of dice and plot it on histogram\n",
        "rolls = []\n",
        "for _ in range(10000):\n",
        "    rolls.append(random.choice(range(1, 7))) # roll a die\n",
        "\n",
        "plt.hist(rolls, bins=np.linspace(0.5, 6.5, 7));"
      ],
      "execution_count": 16,
      "outputs": [
        {
          "output_type": "display_data",
          "data": {
            "image/png": "[encoded data removed]",
            "text/plain": [
              "<Figure size 432x288 with 1 Axes>"
            ]
          },
          "metadata": {
            "tags": [],
            "needs_background": "light"
          }
        }
      ]
    },
    {
      "cell_type": "code",
      "metadata": {
        "colab": {
          "base_uri": "https://localhost:8080/",
          "height": 265
        },
        "id": "h9fCLVIRiG44",
        "outputId": "7067ca1c-e5bc-42a0-a634-d4d34c634030"
      },
      "source": [
        "# simulate 1000000 rolls of dice and plot it on histogram\n",
        "rolls = []\n",
        "for _ in range(1000000):\n",
        "    rolls.append(random.choice(range(1, 7))) # roll a die\n",
        "\n",
        "plt.hist(rolls, bins=np.linspace(0.5, 6.5, 7));"
      ],
      "execution_count": 17,
      "outputs": [
        {
          "output_type": "display_data",
          "data": {
            "image/png": "[encoded data removed]",
            "text/plain": [
              "<Figure size 432x288 with 1 Axes>"
            ]
          },
          "metadata": {
            "tags": [],
            "needs_background": "light"
          }
        }
      ]
    },
    {
      "cell_type": "markdown",
      "metadata": {
        "id": "w8zv8h8ziNIr"
      },
      "source": [
        "#### **[Central Limit Theorem (CLT)](https://byjus.com/jee/central-limit-theorem/)**\n",
        "CLT states that the sum of a large number of random variables\n",
        "regardless of their distribution will approximately\n",
        "follow a normal distribution.\n",
        "\n",
        "Following histograms are examples of CLT."
      ]
    },
    {
      "cell_type": "code",
      "metadata": {
        "colab": {
          "base_uri": "https://localhost:8080/",
          "height": 265
        },
        "id": "kXY4h-KaiOW4",
        "outputId": "238876f1-89fe-42a0-f484-6fe40c4f99c1"
      },
      "source": [
        "# simulate 100 rolls of 10 different dice and plot it on histogram\n",
        "rolls_sum = []\n",
        "for _ in range(100):\n",
        "    s = 0 # sum of outcomes of 10 different dice \n",
        "    for roll in range(10):\n",
        "        s = s + random.choice(range(1, 7)) # roll a die\n",
        "    rolls_sum.append(s)\n",
        "\n",
        "plt.hist(rolls_sum);"
      ],
      "execution_count": 18,
      "outputs": [
        {
          "output_type": "display_data",
          "data": {
            "image/png": "[encoded data removed]",
            "text/plain": [
              "<Figure size 432x288 with 1 Axes>"
            ]
          },
          "metadata": {
            "tags": [],
            "needs_background": "light"
          }
        }
      ]
    },
    {
      "cell_type": "code",
      "metadata": {
        "colab": {
          "base_uri": "https://localhost:8080/",
          "height": 265
        },
        "id": "32p-lgXdiVa1",
        "outputId": "ef66fab2-8046-4d60-f06c-9b142aa4c45e"
      },
      "source": [
        "# simulate 10000 rolls of 10 different dice and plot it on histogram\n",
        "rolls_sum = []\n",
        "for _ in range(10000):\n",
        "    s = 0 # sum of outcomes of 10 different dice \n",
        "    for roll in range(10):\n",
        "        s = s + random.choice(range(1, 7)) # roll a die\n",
        "    rolls_sum.append(s)\n",
        "\n",
        "plt.hist(rolls_sum);"
      ],
      "execution_count": 19,
      "outputs": [
        {
          "output_type": "display_data",
          "data": {
            "image/png": "[encoded data removed]",
            "text/plain": [
              "<Figure size 432x288 with 1 Axes>"
            ]
          },
          "metadata": {
            "tags": [],
            "needs_background": "light"
          }
        }
      ]
    },
    {
      "cell_type": "code",
      "metadata": {
        "colab": {
          "base_uri": "https://localhost:8080/",
          "height": 265
        },
        "id": "GvhF_iUPiYww",
        "outputId": "bc8546d3-692e-4071-f773-c2bdd21da702"
      },
      "source": [
        "# simulate 1000000 rolls of 10 different dice and plot it on histogram\n",
        "rolls_sum = []\n",
        "for _ in range(1000000):\n",
        "    s = 0 # sum of outcomes of 10 different dice \n",
        "    for roll in range(10):\n",
        "        s = s + random.choice(range(1, 7)) # roll a die\n",
        "    rolls_sum.append(s)\n",
        "\n",
        "plt.hist(rolls_sum);"
      ],
      "execution_count": 20,
      "outputs": [
        {
          "output_type": "display_data",
          "data": {
            "image/png": "[encoded data removed]",
            "text/plain": [
              "<Figure size 432x288 with 1 Axes>"
            ]
          },
          "metadata": {
            "tags": [],
            "needs_background": "light"
          }
        }
      ]
    }
  ]
}
