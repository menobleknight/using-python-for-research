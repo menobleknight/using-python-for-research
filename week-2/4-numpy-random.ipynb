{
  "nbformat": 4,
  "nbformat_minor": 0,
  "metadata": {
    "colab": {
      "name": "4-numpy-random.ipynb",
      "provenance": [],
      "authorship_tag": "ABX9TyP0Oj/X92fx7Tz5ocvA5xi1",
      "include_colab_link": true
    },
    "kernelspec": {
      "name": "python3",
      "display_name": "Python 3"
    },
    "language_info": {
      "name": "python"
    }
  },
  "cells": [
    {
      "cell_type": "markdown",
      "metadata": {
        "id": "view-in-github",
        "colab_type": "text"
      },
      "source": [
        "<a href=\"https://colab.research.google.com/github/menobleknight/using-python-for-research/blob/main/week-2/4-numpy-random.ipynb\" target=\"_parent\"><img src=\"https://colab.research.google.com/assets/colab-badge.svg\" alt=\"Open In Colab\"/></a>"
      ]
    },
    {
      "cell_type": "markdown",
      "metadata": {
        "id": "YCz5GP1rjJ1V"
      },
      "source": [
        "### [`numpy.random`](https://numpy.org/doc/stable/reference/random/index.html)"
      ]
    },
    {
      "cell_type": "code",
      "metadata": {
        "colab": {
          "base_uri": "https://localhost:8080/"
        },
        "id": "XAykaTYZjRhE",
        "outputId": "566c90ee-ad7e-4188-cdaf-bc42e79677dc"
      },
      "source": [
        "import numpy as np\n",
        "import matplotlib.pyplot as plt\n",
        "\n",
        "np.random.random() # random floating-point number in interval [0.0, 1.0)"
      ],
      "execution_count": 12,
      "outputs": [
        {
          "output_type": "execute_result",
          "data": {
            "text/plain": [
              "0.04427904235575841"
            ]
          },
          "metadata": {
            "tags": []
          },
          "execution_count": 12
        }
      ]
    },
    {
      "cell_type": "code",
      "metadata": {
        "colab": {
          "base_uri": "https://localhost:8080/"
        },
        "id": "Y7F4KmbyjXI2",
        "outputId": "6f084d08-2806-43da-ac14-b19d77827b56"
      },
      "source": [
        "np.random.random(5) # 1D array of random numbers with 5 elements"
      ],
      "execution_count": 13,
      "outputs": [
        {
          "output_type": "execute_result",
          "data": {
            "text/plain": [
              "array([0.17361215, 0.79781109, 0.50938897, 0.1194816 , 0.48223992])"
            ]
          },
          "metadata": {
            "tags": []
          },
          "execution_count": 13
        }
      ]
    },
    {
      "cell_type": "code",
      "metadata": {
        "colab": {
          "base_uri": "https://localhost:8080/"
        },
        "id": "cvlyZrTEja2t",
        "outputId": "37875890-d743-428f-b19c-b2fcac5ace40"
      },
      "source": [
        "np.random.random((5, 3)) # 2D array of random numbers with 15 elements"
      ],
      "execution_count": 14,
      "outputs": [
        {
          "output_type": "execute_result",
          "data": {
            "text/plain": [
              "array([[0.79913186, 0.9166565 , 0.93628569],\n",
              "       [0.43095888, 0.60902668, 0.97233453],\n",
              "       [0.97215438, 0.12133916, 0.88799474],\n",
              "       [0.77248316, 0.77998372, 0.09807335],\n",
              "       [0.80378144, 0.00197457, 0.74046864]])"
            ]
          },
          "metadata": {
            "tags": []
          },
          "execution_count": 14
        }
      ]
    },
    {
      "cell_type": "code",
      "metadata": {
        "colab": {
          "base_uri": "https://localhost:8080/"
        },
        "id": "Kp2lN9tJjeBn",
        "outputId": "2442efb7-589a-47f1-c266-c3709cfe4c9c"
      },
      "source": [
        "np.random.normal(0, 1) # random number from distribution with mean=0 and standard-deviation=1"
      ],
      "execution_count": 15,
      "outputs": [
        {
          "output_type": "execute_result",
          "data": {
            "text/plain": [
              "-0.22631112419328475"
            ]
          },
          "metadata": {
            "tags": []
          },
          "execution_count": 15
        }
      ]
    },
    {
      "cell_type": "code",
      "metadata": {
        "colab": {
          "base_uri": "https://localhost:8080/"
        },
        "id": "bYZjShZ3jhvM",
        "outputId": "3faeec3b-74cb-4b1e-e8eb-8754f6e2aac3"
      },
      "source": [
        "np.random.normal(0, 1, 5) # 5 random numbers from distribution with mean=0 and standard-deviation=1"
      ],
      "execution_count": 16,
      "outputs": [
        {
          "output_type": "execute_result",
          "data": {
            "text/plain": [
              "array([-0.51745899,  0.86587409, -0.08221219, -0.97126688, -0.46228033])"
            ]
          },
          "metadata": {
            "tags": []
          },
          "execution_count": 16
        }
      ]
    },
    {
      "cell_type": "code",
      "metadata": {
        "colab": {
          "base_uri": "https://localhost:8080/"
        },
        "id": "7z-6o58xjlk4",
        "outputId": "8073b8bd-8ede-4712-8830-4567399925b5"
      },
      "source": [
        "np.random.randint(1, 7) # roll of dice"
      ],
      "execution_count": 17,
      "outputs": [
        {
          "output_type": "execute_result",
          "data": {
            "text/plain": [
              "5"
            ]
          },
          "metadata": {
            "tags": []
          },
          "execution_count": 17
        }
      ]
    },
    {
      "cell_type": "code",
      "metadata": {
        "colab": {
          "base_uri": "https://localhost:8080/"
        },
        "id": "AmNu36h-joTI",
        "outputId": "0c5a087e-5fd8-4e5c-c075-a2e9c6783b1e"
      },
      "source": [
        "X = np.random.randint(1, 7, (10, 3)) # rolls of dice in 10 rows and 3 columns\n",
        "X"
      ],
      "execution_count": 18,
      "outputs": [
        {
          "output_type": "execute_result",
          "data": {
            "text/plain": [
              "array([[4, 4, 5],\n",
              "       [6, 2, 2],\n",
              "       [2, 1, 2],\n",
              "       [2, 3, 1],\n",
              "       [3, 3, 6],\n",
              "       [2, 2, 4],\n",
              "       [6, 1, 5],\n",
              "       [1, 2, 3],\n",
              "       [6, 4, 6],\n",
              "       [3, 4, 1]])"
            ]
          },
          "metadata": {
            "tags": []
          },
          "execution_count": 18
        }
      ]
    },
    {
      "cell_type": "code",
      "metadata": {
        "colab": {
          "base_uri": "https://localhost:8080/"
        },
        "id": "ybLZwrgmkDU8",
        "outputId": "c82eb89c-d940-430c-b0cf-b7a47d7ca281"
      },
      "source": [
        "np.sum(X) # sum of elements in X"
      ],
      "execution_count": 19,
      "outputs": [
        {
          "output_type": "execute_result",
          "data": {
            "text/plain": [
              "96"
            ]
          },
          "metadata": {
            "tags": []
          },
          "execution_count": 19
        }
      ]
    },
    {
      "cell_type": "code",
      "metadata": {
        "colab": {
          "base_uri": "https://localhost:8080/"
        },
        "id": "BqtCKe9GkGi5",
        "outputId": "9afc8051-36ec-4b25-8631-afa7e24853ac"
      },
      "source": [
        "np.sum(X, axis=0) # sum of X all over the rows"
      ],
      "execution_count": 20,
      "outputs": [
        {
          "output_type": "execute_result",
          "data": {
            "text/plain": [
              "array([35, 26, 35])"
            ]
          },
          "metadata": {
            "tags": []
          },
          "execution_count": 20
        }
      ]
    },
    {
      "cell_type": "code",
      "metadata": {
        "colab": {
          "base_uri": "https://localhost:8080/"
        },
        "id": "4raW3ybHkJdo",
        "outputId": "8a5a410c-6f28-41b8-ebe3-b2870538f34c"
      },
      "source": [
        "np.sum(X, axis=1) # sum of X all over the columns"
      ],
      "execution_count": 21,
      "outputs": [
        {
          "output_type": "execute_result",
          "data": {
            "text/plain": [
              "array([13, 10,  5,  6, 12,  8, 12,  6, 16,  8])"
            ]
          },
          "metadata": {
            "tags": []
          },
          "execution_count": 21
        }
      ]
    },
    {
      "cell_type": "code",
      "metadata": {
        "colab": {
          "base_uri": "https://localhost:8080/",
          "height": 265
        },
        "id": "cLisvXumkMka",
        "outputId": "04afa6cb-0111-40af-ac30-e1d2c4902144"
      },
      "source": [
        "# simulate 100 rolls of 10 different dice and plot it on histogram\n",
        "\n",
        "X = np.random.randint(1, 7, (100, 10)) # 100 rows and 10 columns\n",
        "Y = np.sum(X, axis=1) # sum over the columns\n",
        "plt.hist(Y);"
      ],
      "execution_count": 22,
      "outputs": [
        {
          "output_type": "display_data",
          "data": {
            "image/png": "[encoded data removed]",
            "text/plain": [
              "<Figure size 432x288 with 1 Axes>"
            ]
          },
          "metadata": {
            "tags": [],
            "needs_background": "light"
          }
        }
      ]
    },
    {
      "cell_type": "code",
      "metadata": {
        "colab": {
          "base_uri": "https://localhost:8080/",
          "height": 265
        },
        "id": "2b0PIqHOkeup",
        "outputId": "9a7549a3-444f-4d59-e0ba-a85720fc477e"
      },
      "source": [
        "# simulate 10000 rolls of 10 different dice and plot it on histogram\n",
        "\n",
        "X = np.random.randint(1, 7, (10000, 10)) # 100 rows and 10 columns\n",
        "Y = np.sum(X, axis=1) # sum over the columns\n",
        "plt.hist(Y);"
      ],
      "execution_count": 23,
      "outputs": [
        {
          "output_type": "display_data",
          "data": {
            "image/png": "[encoded data removed]",
            "text/plain": [
              "<Figure size 432x288 with 1 Axes>"
            ]
          },
          "metadata": {
            "tags": [],
            "needs_background": "light"
          }
        }
      ]
    },
    {
      "cell_type": "code",
      "metadata": {
        "colab": {
          "base_uri": "https://localhost:8080/",
          "height": 265
        },
        "id": "K2bntIWzkkUp",
        "outputId": "6bf7a852-db2c-4161-de6f-b2099ba33793"
      },
      "source": [
        "# simulate 1000000 rolls of 10 different dice and plot it on histogram\n",
        "\n",
        "X = np.random.randint(1, 7, (1000000, 10)) # 100 rows and 10 columns\n",
        "Y = np.sum(X, axis=1) # sum over the columns\n",
        "plt.hist(Y);"
      ],
      "execution_count": 24,
      "outputs": [
        {
          "output_type": "display_data",
          "data": {
            "image/png": "[encoded data removed]",
            "text/plain": [
              "<Figure size 432x288 with 1 Axes>"
            ]
          },
          "metadata": {
            "tags": [],
            "needs_background": "light"
          }
        }
      ]
    }
  ]
}