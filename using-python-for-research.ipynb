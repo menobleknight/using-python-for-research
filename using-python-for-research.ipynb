{
  "nbformat": 4,
  "nbformat_minor": 0,
  "metadata": {
    "colab": {
      "name": "using-python-for-research.ipynb",
      "provenance": [],
      "collapsed_sections": []
    },
    "kernelspec": {
      "name": "python3",
      "display_name": "Python 3"
    },
    "language_info": {
      "name": "python"
    }
  },
  "cells": [
    {
      "cell_type": "markdown",
      "metadata": {
        "id": "VGZjb1rAB7WU"
      },
      "source": [
        "[`course link`](https://learning.edx.org/course/course-v1:HarvardX+PH526x+2T2020/home)\n",
        "\n"
      ]
    },
    {
      "cell_type": "markdown",
      "metadata": {
        "id": "DFkLh4dznzV2"
      },
      "source": [
        "\n",
        "### **Using Python for Research Homework: Week 1**\n",
        "\n",
        "In this homework, we will use objects, functions, and randomness to find the length of documents, approximate π, and smooth out random noise."
      ]
    },
    {
      "cell_type": "markdown",
      "metadata": {
        "id": "zVQjVD__azqa"
      },
      "source": [
        "### **Exercise 1**\n",
        "\n",
        "In this five-part exercise, we will count the frequency of each letter in a given string.\n",
        "#### **Exercise 1a**\n",
        "\n",
        "- Import the `string` library.\n",
        "- Create a variable `alphabet` that consists of the lowercase and uppercase letters in the English alphabet using the `ascii_letters` data attribute of the `string` library."
      ]
    },
    {
      "cell_type": "code",
      "metadata": {
        "id": "9AXbxmjyom_k",
        "colab": {
          "base_uri": "https://localhost:8080/",
          "height": 38
        },
        "outputId": "3da7b0e1-7c63-4eda-bf06-11cee456e2f3"
      },
      "source": [
        "# write your code here!\n",
        "import string\n",
        "alphabet = string.ascii_letters\n",
        "alphabet"
      ],
      "execution_count": null,
      "outputs": [
        {
          "output_type": "execute_result",
          "data": {
            "application/vnd.google.colaboratory.intrinsic+json": {
              "type": "string"
            },
            "text/plain": [
              "'abcdefghijklmnopqrstuvwxyzABCDEFGHIJKLMNOPQRSTUVWXYZ'"
            ]
          },
          "metadata": {
            "tags": []
          },
          "execution_count": 4
        }
      ]
    },
    {
      "cell_type": "markdown",
      "metadata": {
        "id": "oadC8tSVpJc-"
      },
      "source": [
        "\n",
        "#### **Exercise 1b**\n",
        "\n",
        "- The lower and upper case letters of the English alphabet should stored as the string variable `alphabet`.\n",
        "- Consider the sentence 'Jim quickly realized that the beautiful gowns are expensive'. Create a dictionary `count_letters` with keys consisting of each unique letter in the sentence and values consisting of the number of times each letter is used in this sentence. Count upper case and lower case letters separately in the dictionary.\n",
        "\n"
      ]
    },
    {
      "cell_type": "code",
      "metadata": {
        "id": "2S3UNZRQpbjO",
        "colab": {
          "base_uri": "https://localhost:8080/"
        },
        "outputId": "4eff51dd-4682-48c3-d6c3-c8bc9a3c57b4"
      },
      "source": [
        "sentence = 'Jim quickly realized that the beautiful gowns are expensive'\n",
        "\n",
        "count_letters = {}\n",
        "# write your code here!\n",
        "for letter in sentence:\n",
        "    if letter in alphabet:\n",
        "        if letter in count_letters:\n",
        "            count_letters[letter] += 1\n",
        "        else:\n",
        "            count_letters[letter] = 1\n",
        "\n",
        "count_letters"
      ],
      "execution_count": null,
      "outputs": [
        {
          "output_type": "execute_result",
          "data": {
            "text/plain": [
              "{'J': 1,\n",
              " 'a': 4,\n",
              " 'b': 1,\n",
              " 'c': 1,\n",
              " 'd': 1,\n",
              " 'e': 8,\n",
              " 'f': 1,\n",
              " 'g': 1,\n",
              " 'h': 2,\n",
              " 'i': 5,\n",
              " 'k': 1,\n",
              " 'l': 3,\n",
              " 'm': 1,\n",
              " 'n': 2,\n",
              " 'o': 1,\n",
              " 'p': 1,\n",
              " 'q': 1,\n",
              " 'r': 2,\n",
              " 's': 2,\n",
              " 't': 4,\n",
              " 'u': 3,\n",
              " 'v': 1,\n",
              " 'w': 1,\n",
              " 'x': 1,\n",
              " 'y': 1,\n",
              " 'z': 1}"
            ]
          },
          "metadata": {
            "tags": []
          },
          "execution_count": 5
        }
      ]
    },
    {
      "cell_type": "markdown",
      "metadata": {
        "id": "AfKWMNr2uv37"
      },
      "source": [
        "What is the 3rd value of the dictionary?  \n",
        "Answer → 1 \n",
        "\n",
        "\n"
      ]
    },
    {
      "cell_type": "code",
      "metadata": {
        "colab": {
          "base_uri": "https://localhost:8080/"
        },
        "id": "5w9KcKLo6tsn",
        "outputId": "9d59c3c1-93b5-4682-9b67-91fd48d64658"
      },
      "source": [
        "list(count_letters.values())[2]"
      ],
      "execution_count": null,
      "outputs": [
        {
          "output_type": "stream",
          "text": [
            "1\n"
          ],
          "name": "stdout"
        }
      ]
    },
    {
      "cell_type": "markdown",
      "metadata": {
        "id": "YX9y45Xp6vD_"
      },
      "source": [
        "What is the 8th value of the dictionary?  \n",
        "Answer → 3"
      ]
    },
    {
      "cell_type": "code",
      "metadata": {
        "id": "H-LNLI7YvNES",
        "colab": {
          "base_uri": "https://localhost:8080/"
        },
        "outputId": "b1178227-5d8a-4406-aa46-48cc5c3d9dea"
      },
      "source": [
        "list(count_letters.values())[7]"
      ],
      "execution_count": null,
      "outputs": [
        {
          "output_type": "execute_result",
          "data": {
            "text/plain": [
              "3"
            ]
          },
          "metadata": {
            "tags": []
          },
          "execution_count": 7
        }
      ]
    },
    {
      "cell_type": "markdown",
      "metadata": {
        "id": "tL0S80QYsH-a"
      },
      "source": [
        "\n",
        "#### **Exercise 1c**\n",
        "\n",
        "- Rewrite your code from 1b to make a function called `counter` that takes a string `input_string` and returns a dictionary of letter counts `count_letters`.\n",
        "- Use your function to call `counter(sentence)`.\n",
        "\n"
      ]
    },
    {
      "cell_type": "code",
      "metadata": {
        "id": "4uPSne5QsdH1",
        "colab": {
          "base_uri": "https://localhost:8080/"
        },
        "outputId": "aebc0ab7-c1cc-42ba-e9c5-7731d2dc101b"
      },
      "source": [
        "# write your code here!\n",
        "def counter(input_string):\n",
        "    count_letters = {}\n",
        "    for letter in input_string:\n",
        "        if letter in alphabet:\n",
        "            if letter in count_letters:\n",
        "                count_letters[letter] += 1\n",
        "            else:\n",
        "                count_letters[letter] = 1\n",
        "\n",
        "    return count_letters\n",
        "\n",
        "counter(sentence)"
      ],
      "execution_count": null,
      "outputs": [
        {
          "output_type": "execute_result",
          "data": {
            "text/plain": [
              "{'J': 1,\n",
              " 'a': 4,\n",
              " 'b': 1,\n",
              " 'c': 1,\n",
              " 'd': 1,\n",
              " 'e': 8,\n",
              " 'f': 1,\n",
              " 'g': 1,\n",
              " 'h': 2,\n",
              " 'i': 5,\n",
              " 'k': 1,\n",
              " 'l': 3,\n",
              " 'm': 1,\n",
              " 'n': 2,\n",
              " 'o': 1,\n",
              " 'p': 1,\n",
              " 'q': 1,\n",
              " 'r': 2,\n",
              " 's': 2,\n",
              " 't': 4,\n",
              " 'u': 3,\n",
              " 'v': 1,\n",
              " 'w': 1,\n",
              " 'x': 1,\n",
              " 'y': 1,\n",
              " 'z': 1}"
            ]
          },
          "metadata": {
            "tags": []
          },
          "execution_count": 9
        }
      ]
    },
    {
      "cell_type": "markdown",
      "metadata": {
        "id": "HIdpiZrvxGTT"
      },
      "source": [
        "#### **Exercise 1d**\n",
        "\n",
        "- Abraham Lincoln was a president during the American Civil War. His famous 1863 Gettysburg Address has been stored as `address`. Use the `counter` function from 1c to return a dictionary consisting of the count of each letter in this address and save it as `address_count`.\n",
        "\n"
      ]
    },
    {
      "cell_type": "code",
      "metadata": {
        "id": "daFF4jRnxVYd",
        "colab": {
          "base_uri": "https://localhost:8080/"
        },
        "outputId": "5612a566-b805-491e-d663-37fbc8270b12"
      },
      "source": [
        "address = \"\"\"Four score and seven years ago our fathers brought forth on this continent, a new nation, \n",
        "conceived in Liberty, and dedicated to the proposition that all men are created equal. Now we are engaged in a \n",
        "great civil war, testing whether that nation, or any nation so conceived and so dedicated, can long endure. \n",
        "We are met on a great battle-field of that war. We have come to dedicate a portion of that field, as a final \n",
        "resting place for those who here gave their lives that that nation might live. It is altogether fitting and proper \n",
        "that we should do this. But, in a larger sense, we can not dedicate -- we can not consecrate -- we can not hallow -- \n",
        "this ground. The brave men, living and dead, who struggled here, have consecrated it, far above our poor power to add \n",
        "or detract. The world will little note, nor long remember what we say here, but it can never forget what they did here. \n",
        "It is for us the living, rather, to be dedicated here to the unfinished work which they who fought here have thus far so \n",
        "nobly advanced. It is rather for us to be here dedicated to the great task remaining before us -- that from these honored \n",
        "dead we take increased devotion to that cause for which they gave the last full measure of devotion -- that we here \n",
        "highly resolve that these dead shall not have died in vain -- that this nation, under God, shall have a new birth of \n",
        "freedom -- and that government of the people, by the people, for the people, shall not perish from the earth.\"\"\"   \n",
        "\n",
        "# Write your code here!\n",
        "address_count = counter(address)\n",
        "address_count"
      ],
      "execution_count": null,
      "outputs": [
        {
          "output_type": "execute_result",
          "data": {
            "text/plain": [
              "{'B': 1,\n",
              " 'F': 1,\n",
              " 'G': 1,\n",
              " 'I': 3,\n",
              " 'L': 1,\n",
              " 'N': 1,\n",
              " 'T': 2,\n",
              " 'W': 2,\n",
              " 'a': 102,\n",
              " 'b': 13,\n",
              " 'c': 31,\n",
              " 'd': 58,\n",
              " 'e': 165,\n",
              " 'f': 26,\n",
              " 'g': 27,\n",
              " 'h': 80,\n",
              " 'i': 65,\n",
              " 'k': 3,\n",
              " 'l': 41,\n",
              " 'm': 13,\n",
              " 'n': 76,\n",
              " 'o': 93,\n",
              " 'p': 15,\n",
              " 'q': 1,\n",
              " 'r': 79,\n",
              " 's': 44,\n",
              " 't': 124,\n",
              " 'u': 21,\n",
              " 'v': 24,\n",
              " 'w': 26,\n",
              " 'y': 10}"
            ]
          },
          "metadata": {
            "tags": []
          },
          "execution_count": 10
        }
      ]
    },
    {
      "cell_type": "markdown",
      "metadata": {
        "id": "3peff6Q3yR52"
      },
      "source": [
        "How many times does the letter `h` appear in the Gettysburg Address?  \n",
        "Answer → 80"
      ]
    },
    {
      "cell_type": "code",
      "metadata": {
        "id": "Lg3WC0GOyU-p",
        "colab": {
          "base_uri": "https://localhost:8080/"
        },
        "outputId": "1c74b11f-41d7-4693-dabc-e93a11dfcae7"
      },
      "source": [
        "address_count['h']"
      ],
      "execution_count": null,
      "outputs": [
        {
          "output_type": "execute_result",
          "data": {
            "text/plain": [
              "80"
            ]
          },
          "metadata": {
            "tags": []
          },
          "execution_count": 11
        }
      ]
    },
    {
      "cell_type": "markdown",
      "metadata": {
        "id": "LbsIzVC84Z9c"
      },
      "source": [
        "#### **Exercise 1e**\n",
        "\n",
        "- The frequency of each letter in the Gettysburg Address is already stored as `address_count`. Use this dictionary to find the most common letter in the Gettysburg address.\n",
        "\n"
      ]
    },
    {
      "cell_type": "code",
      "metadata": {
        "id": "2ZfcOF1F42Se",
        "colab": {
          "base_uri": "https://localhost:8080/",
          "height": 38
        },
        "outputId": "9bfcaf14-f08e-444c-b7b7-691d070d26c5"
      },
      "source": [
        "# write your code here!\n",
        "maximum = 0\n",
        "most_frequent_letter = \"\"\n",
        "for letter in address_count:\n",
        "    if address_count[letter] > maximum:\n",
        "        maximum = address_count[letter]\n",
        "        most_frequent_letter = letter\n",
        "\n",
        "most_frequent_letter"
      ],
      "execution_count": null,
      "outputs": [
        {
          "output_type": "execute_result",
          "data": {
            "application/vnd.google.colaboratory.intrinsic+json": {
              "type": "string"
            },
            "text/plain": [
              "'e'"
            ]
          },
          "metadata": {
            "tags": []
          },
          "execution_count": 12
        }
      ]
    },
    {
      "cell_type": "markdown",
      "metadata": {
        "id": "xoNB60pt6-2m"
      },
      "source": [
        "\n",
        "### **Exercise 2**\n",
        "\n",
        "Consider a circle inscribed in a square. The ratio of their areas (the ratio of the area of the circle to the area of the square) is $\\frac{\\pi}{4}$. In this six-part exercise, we will find a way to approximate this value.\n",
        "\n",
        "#### **Exercise 2a**\n",
        "- Using the `math` library, calculate and print the value of $\\frac{\\pi}{4}$."
      ]
    },
    {
      "cell_type": "code",
      "metadata": {
        "id": "U5bQskcL7bLz",
        "colab": {
          "base_uri": "https://localhost:8080/"
        },
        "outputId": "2900f5d3-52fe-43d2-d77c-ade85381547a"
      },
      "source": [
        "# write your code here\n",
        "import math\n",
        "math.pi / 4"
      ],
      "execution_count": null,
      "outputs": [
        {
          "output_type": "execute_result",
          "data": {
            "text/plain": [
              "0.7853981633974483"
            ]
          },
          "metadata": {
            "tags": []
          },
          "execution_count": 13
        }
      ]
    },
    {
      "cell_type": "markdown",
      "metadata": {
        "id": "e_bo4ugK79p0"
      },
      "source": [
        "#### **Exercise 2b**\n",
        "\n",
        "- Using `random.uniform()`, create a function `rand()` that generates a single float between `-1` and `1`.\n",
        "- Call `rand()` once. For us to be able to check your solution, we will use `random.seed()` to fix the seed value of the random number generator.\n",
        "\n"
      ]
    },
    {
      "cell_type": "code",
      "metadata": {
        "id": "SLwo-T0w8VIE",
        "colab": {
          "base_uri": "https://localhost:8080/"
        },
        "outputId": "e9f3151b-7d16-4f0a-e345-d5a37b7f27df"
      },
      "source": [
        "import random\n",
        "\n",
        "random.seed(1) # Fixes the see of the random number generator.\n",
        "\n",
        "def rand():\n",
        "    # define `rand` here!\n",
        "    return random.uniform(-1, 1)\n",
        "\n",
        "rand()"
      ],
      "execution_count": null,
      "outputs": [
        {
          "output_type": "execute_result",
          "data": {
            "text/plain": [
              "-0.7312715117751976"
            ]
          },
          "metadata": {
            "tags": []
          },
          "execution_count": 14
        }
      ]
    },
    {
      "cell_type": "markdown",
      "metadata": {
        "id": "MMfWdnjZ9D-W"
      },
      "source": [
        "#### **Exercise 2c**\n",
        "\n",
        "- The distance between two points `x` and `y` is the square root of the sum of squared differences along each dimension of `x` and `y`. Write a function `distance(x, y)` that takes two vectors as its input and outputs the distance between them. Use your function to find the distance between `x = (0, 0)` and `y = (1, 1)`.\n",
        "- distance between two points `(x1, x2)` and `(y1, y2)` is ${\\sqrt(}(x_{2}-x_{1})^{2}+(y_{2}-y_{1})^{2})$.\n"
      ]
    },
    {
      "cell_type": "code",
      "metadata": {
        "id": "Hn7Ul4Zf9ZBB",
        "colab": {
          "base_uri": "https://localhost:8080/"
        },
        "outputId": "8874a9e1-ba6f-4269-d4ec-bbd20d627b8e"
      },
      "source": [
        "def distance(x, y):\n",
        "    # define your function here!\n",
        "    x1, y1 = x\n",
        "    x2, y2 = y\n",
        "    return math.sqrt((x2 - x1) ** 2 + (y2 - y1) ** 2)\n",
        "\n",
        "x = (0, 0)\n",
        "y = (1, 1)\n",
        "distance(x, y)"
      ],
      "execution_count": null,
      "outputs": [
        {
          "output_type": "execute_result",
          "data": {
            "text/plain": [
              "1.4142135623730951"
            ]
          },
          "metadata": {
            "tags": []
          },
          "execution_count": 15
        }
      ]
    },
    {
      "cell_type": "markdown",
      "metadata": {
        "id": "qIHaNSLR-X7q"
      },
      "source": [
        "#### **Exercise 2d**\n",
        "- Write a function `in_circle(x, origin)` that determines whether a point in a two dimensional plane falls within a unit circle surrounding a given origin.\n",
        "- Your function should return a boolean `True` if the distance between `x` and `origin` is less than `1` and `False` otherwise.\n",
        "- Use `distance(x, y)` as defined in 2c.\n",
        "- Use your function to determine whether the point `(1, 1)` lies within the unit circle centered at `(0, 0)`.\n"
      ]
    },
    {
      "cell_type": "code",
      "metadata": {
        "id": "bPcY4GqC_GfP",
        "colab": {
          "base_uri": "https://localhost:8080/"
        },
        "outputId": "f26968ce-7b59-41e3-e262-e59552478204"
      },
      "source": [
        "def in_circle(x, origin = (0, 0)):\n",
        "    # Define your function here!\n",
        "    if len(x) != 2:\n",
        "        return \"x is not two-dimensional!\"\n",
        "    elif distance(x, origin) < 1:\n",
        "        return True\n",
        "    else:\n",
        "        return False\n",
        "\n",
        "in_circle((1, 1))"
      ],
      "execution_count": null,
      "outputs": [
        {
          "output_type": "execute_result",
          "data": {
            "text/plain": [
              "False"
            ]
          },
          "metadata": {
            "tags": []
          },
          "execution_count": 16
        }
      ]
    },
    {
      "cell_type": "markdown",
      "metadata": {
        "id": "OBvtw93cA6QA"
      },
      "source": [
        "#### **Exercise 2e**\n",
        "\n",
        "- Create a list `inside` of `R = 10000` booleans that determines whether or not a point falls within the unit circle centered at `(0, 0)`.\n",
        "    - Use the `rand` function from 2b to generate `R` randomly located points.\n",
        "    - Use the function `in_circle` to test whether or not a given point falls within the unit circle.\n",
        "- Find the proportion of points that fall within the circle by summing all `True` values in the `inside` list; then divide the answer by `R` to obtain a proportion.\n",
        "- Print your answer. This proportion is an estimate of the ratio of the two areas!\n",
        "\n"
      ]
    },
    {
      "cell_type": "code",
      "metadata": {
        "id": "S6l93K_1Bn4s",
        "colab": {
          "base_uri": "https://localhost:8080/"
        },
        "outputId": "c10d18da-93eb-458b-c5d0-4f201381cdde"
      },
      "source": [
        "random.seed(1) \n",
        "\n",
        "# write your code here!\n",
        "inside = []\n",
        "R = 10000\n",
        "for i in range(R):\n",
        "    point = (rand(), rand())\n",
        "    inside.append(in_circle(point))\n",
        "\n",
        "sum(inside) / R"
      ],
      "execution_count": null,
      "outputs": [
        {
          "output_type": "execute_result",
          "data": {
            "text/plain": [
              "0.779"
            ]
          },
          "metadata": {
            "tags": []
          },
          "execution_count": 17
        }
      ]
    },
    {
      "cell_type": "markdown",
      "metadata": {
        "id": "bZD3O31zDP3l"
      },
      "source": [
        "#### **Exercise 2f**\n",
        "\n",
        "- Find the difference between your estimate from part 2e and `math.pi / 4`. Note: `inside` and `R` are defined as in Exercise 2e.\n",
        "\n"
      ]
    },
    {
      "cell_type": "code",
      "metadata": {
        "id": "iiJ6IVBBDiDd",
        "colab": {
          "base_uri": "https://localhost:8080/"
        },
        "outputId": "1cac42bd-2ae0-4f2f-d0d4-f3b1f1f8f5cf"
      },
      "source": [
        "# write your code here!\n",
        "(math.pi / 4) - (sum(inside) / R)"
      ],
      "execution_count": null,
      "outputs": [
        {
          "output_type": "execute_result",
          "data": {
            "text/plain": [
              "0.006398163397448253"
            ]
          },
          "metadata": {
            "tags": []
          },
          "execution_count": 18
        }
      ]
    },
    {
      "cell_type": "markdown",
      "metadata": {
        "id": "Yfmhu2nyElaF"
      },
      "source": [
        "\n",
        "### **Exercise 3**\n",
        "\n",
        "A list of numbers representing measurements obtained from a system of interest can often be noisy. One way to deal with noise to smoothen the values by replacing each value with the average of the value and the values of its neighbors.\n",
        "\n",
        "#### **Exercise 3a**\n",
        "\n",
        "- Write a function `moving_window_average(x, n_neighbors)` that takes a list `x` and the number of neighbors `n_neighbors` on either side of a given member of the list to consider.\n",
        "- For each value in `x`, `moving_window_average(x, n_neighbors)` computes the average of the value and the values of its neighbors.\n",
        "- `moving_window_average` should return a list of averaged values that is the same length as the original list.\n",
        "- If there are not enough neighbors (for cases near the edge), substitute the original value for a neighbor for each missing neighbor.\n",
        "- Use your function to find the moving window sum of `x = [0, 10, 5, 3, 1, 5]` and `n_neighbors = 1`.\n",
        "\n"
      ]
    },
    {
      "cell_type": "code",
      "metadata": {
        "id": "uAVTN0D6GEgG",
        "colab": {
          "base_uri": "https://localhost:8080/"
        },
        "outputId": "965ace3d-dfe0-4699-e5b0-a69476f9179c"
      },
      "source": [
        "def moving_window_average(x, n_neighbors=1):\n",
        "    n = len(x)\n",
        "    width = n_neighbors * 2 + 1\n",
        "    x = [x[0]] * n_neighbors + x + [x[-1]] * n_neighbors\n",
        "    # To complete the function,\n",
        "    # return a list of the mean of values from i to i+width for all values i from 0 to n-1.\n",
        "    average = [] \n",
        "    for i in range(n_neighbors, n + 1):\n",
        "        average.append(sum(x[(i - n_neighbors) : (i + n_neighbors + 1)]) / width)\n",
        "\n",
        "    return average\n",
        "\n",
        "\n",
        "x = [0, 10, 5, 3, 1, 5]\n",
        "moving_window_average(x)"
      ],
      "execution_count": null,
      "outputs": [
        {
          "output_type": "execute_result",
          "data": {
            "text/plain": [
              "[3.3333333333333335, 5.0, 6.0, 3.0, 3.0, 3.6666666666666665]"
            ]
          },
          "metadata": {
            "tags": []
          },
          "execution_count": 19
        }
      ]
    },
    {
      "cell_type": "markdown",
      "metadata": {
        "id": "YV4ry0QQMYLn"
      },
      "source": [
        "\n",
        "#### **Exercise 3b**\n",
        "\n",
        "- Compute and store `R = 1000` random values from `0` to `1` as `x`.\n",
        "- Compute the moving window average for `x` for values of `n_neighbors` ranging from `1` to `9` inclusive.\n",
        "- Store `x` as well as each of these averages as consecutive lists in a list called `Y`."
      ]
    },
    {
      "cell_type": "code",
      "metadata": {
        "id": "CxwzAE1NMxuj"
      },
      "source": [
        "random.seed(1) # This line fixes the value called by your function, and is used for answer-checking.\n",
        "    \n",
        "# write your code here!\n",
        "R = 1000\n",
        "x = []\n",
        "for i in range(R):\n",
        "    value = random.random()\n",
        "    x.append(value)\n",
        "\n",
        "Y = []\n",
        "Y.append(x)\n",
        "for n_neighbors in range(1, 10):\n",
        "    average = moving_window_average(x, n_neighbors)\n",
        "    Y.append(average)"
      ],
      "execution_count": null,
      "outputs": []
    },
    {
      "cell_type": "markdown",
      "metadata": {
        "id": "uLFh-gCGOS-R"
      },
      "source": [
        "What is the moving window average for the 10th entry in `x` for `n_neighbors = 5`?  \n",
        "Answer → 0.45325045824763405"
      ]
    },
    {
      "cell_type": "code",
      "metadata": {
        "id": "CA8X3hr8Oh5e",
        "colab": {
          "base_uri": "https://localhost:8080/"
        },
        "outputId": "ad529079-0620-4b14-9d73-aba9d5b66d83"
      },
      "source": [
        "Y[5][9]"
      ],
      "execution_count": null,
      "outputs": [
        {
          "output_type": "execute_result",
          "data": {
            "text/plain": [
              "0.45325045824763405"
            ]
          },
          "metadata": {
            "tags": []
          },
          "execution_count": 22
        }
      ]
    },
    {
      "cell_type": "markdown",
      "metadata": {
        "id": "zS6i_m5DPTsh"
      },
      "source": [
        "#### **Exercise 3c**\n",
        "\n",
        "- For each list in `Y`, calculate and store the range (the maximum minus the minimum) in a new list `ranges`.\n",
        "- Print your answer. \n",
        "\n"
      ]
    },
    {
      "cell_type": "code",
      "metadata": {
        "id": "HoV9rs9NPkpE",
        "colab": {
          "base_uri": "https://localhost:8080/"
        },
        "outputId": "ed42c2af-be4c-4311-c24e-d88cae3795e4"
      },
      "source": [
        "# write your code here!\n",
        "ranges = []\n",
        "for x in Y:\n",
        "    ranges.append(max(x) - min(x))\n",
        "\n",
        "ranges"
      ],
      "execution_count": null,
      "outputs": [
        {
          "output_type": "execute_result",
          "data": {
            "text/plain": [
              "[0.9973152343362711,\n",
              " 0.9128390185520854,\n",
              " 0.801645771909397,\n",
              " 0.7137391224212468,\n",
              " 0.6230146948375028,\n",
              " 0.5042284086774562,\n",
              " 0.5071013753101629,\n",
              " 0.4590090496908159,\n",
              " 0.44659549539083265,\n",
              " 0.4433696944090051]"
            ]
          },
          "metadata": {
            "tags": []
          },
          "execution_count": 23
        }
      ]
    },
    {
      "cell_type": "markdown",
      "metadata": {
        "id": "eBrbzN2VQVsd"
      },
      "source": [
        "As the window width increases, does the range of each list increase or decrease? Why do you think that is?  \n",
        "Answer → decrease."
      ]
    },
    {
      "cell_type": "markdown",
      "metadata": {
        "id": "EhNcayclIkr7"
      },
      "source": [
        "### [`numpy`](https://numpy.org/)\n",
        "\n"
      ]
    },
    {
      "cell_type": "code",
      "metadata": {
        "colab": {
          "base_uri": "https://localhost:8080/"
        },
        "id": "7Z6NcId9H8lx",
        "outputId": "64bcb19d-ee4a-431b-b512-9943e34e7b6f"
      },
      "source": [
        "import numpy as np\n",
        "\n",
        "np.zeros((5, 3))"
      ],
      "execution_count": 2,
      "outputs": [
        {
          "output_type": "execute_result",
          "data": {
            "text/plain": [
              "array([[0., 0., 0.],\n",
              "       [0., 0., 0.],\n",
              "       [0., 0., 0.],\n",
              "       [0., 0., 0.],\n",
              "       [0., 0., 0.]])"
            ]
          },
          "metadata": {
            "tags": []
          },
          "execution_count": 2
        }
      ]
    },
    {
      "cell_type": "code",
      "metadata": {
        "colab": {
          "base_uri": "https://localhost:8080/"
        },
        "id": "5ZaJKk7YJ6Zx",
        "outputId": "804d241b-2a7f-410b-c213-2a4398354fca"
      },
      "source": [
        "np.ones((5, 3))"
      ],
      "execution_count": null,
      "outputs": [
        {
          "output_type": "execute_result",
          "data": {
            "text/plain": [
              "array([[1., 1., 1.],\n",
              "       [1., 1., 1.],\n",
              "       [1., 1., 1.],\n",
              "       [1., 1., 1.],\n",
              "       [1., 1., 1.]])"
            ]
          },
          "metadata": {
            "tags": []
          },
          "execution_count": 32
        }
      ]
    },
    {
      "cell_type": "code",
      "metadata": {
        "colab": {
          "base_uri": "https://localhost:8080/"
        },
        "id": "-ST6KtNLKAc0",
        "outputId": "74bb0c0d-ce49-4004-d5f9-3ea5f671fe7c"
      },
      "source": [
        "np.empty((5, 3))"
      ],
      "execution_count": null,
      "outputs": [
        {
          "output_type": "execute_result",
          "data": {
            "text/plain": [
              "array([[1., 1., 1.],\n",
              "       [1., 1., 1.],\n",
              "       [1., 1., 1.],\n",
              "       [1., 1., 1.],\n",
              "       [1., 1., 1.]])"
            ]
          },
          "metadata": {
            "tags": []
          },
          "execution_count": 33
        }
      ]
    },
    {
      "cell_type": "code",
      "metadata": {
        "colab": {
          "base_uri": "https://localhost:8080/"
        },
        "id": "-JKT8piHKFY1",
        "outputId": "af790dd3-9de1-4295-e517-a9210176813b"
      },
      "source": [
        "A = np.array([[1, 2, 3], [4, 5, 6]])\n",
        "A"
      ],
      "execution_count": null,
      "outputs": [
        {
          "output_type": "execute_result",
          "data": {
            "text/plain": [
              "array([[1, 2, 3],\n",
              "       [4, 5, 6]])"
            ]
          },
          "metadata": {
            "tags": []
          },
          "execution_count": 37
        }
      ]
    },
    {
      "cell_type": "code",
      "metadata": {
        "colab": {
          "base_uri": "https://localhost:8080/"
        },
        "id": "-H6raj5HKqpD",
        "outputId": "9b74c0d8-abca-45ff-b8b6-52cafc388e2c"
      },
      "source": [
        "np.transpose(A)"
      ],
      "execution_count": null,
      "outputs": [
        {
          "output_type": "execute_result",
          "data": {
            "text/plain": [
              "array([[1, 4],\n",
              "       [2, 5],\n",
              "       [3, 6]])"
            ]
          },
          "metadata": {
            "tags": []
          },
          "execution_count": 38
        }
      ]
    },
    {
      "cell_type": "code",
      "metadata": {
        "colab": {
          "base_uri": "https://localhost:8080/"
        },
        "id": "CsxL0yu7Mc_3",
        "outputId": "c4196fa9-e367-4344-92f2-9b63bea4d085"
      },
      "source": [
        "X = np.array([[1, 2, 3], [4, 5, 6]])\n",
        "X[1, :] # second row"
      ],
      "execution_count": null,
      "outputs": [
        {
          "output_type": "execute_result",
          "data": {
            "text/plain": [
              "array([4, 5, 6])"
            ]
          },
          "metadata": {
            "tags": []
          },
          "execution_count": 44
        }
      ]
    },
    {
      "cell_type": "code",
      "metadata": {
        "colab": {
          "base_uri": "https://localhost:8080/"
        },
        "id": "lWxFqCXbNKU8",
        "outputId": "5ed8a879-7140-4153-b271-3fba1789f8cf"
      },
      "source": [
        "X[:, 1] # second column"
      ],
      "execution_count": null,
      "outputs": [
        {
          "output_type": "execute_result",
          "data": {
            "text/plain": [
              "array([2, 5])"
            ]
          },
          "metadata": {
            "tags": []
          },
          "execution_count": 45
        }
      ]
    },
    {
      "cell_type": "code",
      "metadata": {
        "colab": {
          "base_uri": "https://localhost:8080/"
        },
        "id": "rZ4fZmZsME4G",
        "outputId": "b02613a7-aa92-46b8-ebb3-603f02ab3e73"
      },
      "source": [
        "x = np.array([1, 2, 3])\n",
        "y = np.array([4, 5, 6])\n",
        "x + y # matrix addition"
      ],
      "execution_count": null,
      "outputs": [
        {
          "output_type": "execute_result",
          "data": {
            "text/plain": [
              "array([5, 7, 9])"
            ]
          },
          "metadata": {
            "tags": []
          },
          "execution_count": 46
        }
      ]
    },
    {
      "cell_type": "code",
      "metadata": {
        "colab": {
          "base_uri": "https://localhost:8080/"
        },
        "id": "eVLVZfTUN3re",
        "outputId": "6450f376-6928-440a-c5e7-9b343f63514c"
      },
      "source": [
        "z = np.array([1, 2, 3, 4, 5, 6])\n",
        "i = np.array([0, 2, 4]) # indices\n",
        "z[i]"
      ],
      "execution_count": null,
      "outputs": [
        {
          "output_type": "execute_result",
          "data": {
            "text/plain": [
              "array([1, 3, 5])"
            ]
          },
          "metadata": {
            "tags": []
          },
          "execution_count": 48
        }
      ]
    },
    {
      "cell_type": "code",
      "metadata": {
        "colab": {
          "base_uri": "https://localhost:8080/"
        },
        "id": "eCxTExXDOwSm",
        "outputId": "5a83d1d1-cb9e-43ae-b1d2-f853357510b4"
      },
      "source": [
        "z > 4 # element greater than 4 are True and others are False"
      ],
      "execution_count": null,
      "outputs": [
        {
          "output_type": "execute_result",
          "data": {
            "text/plain": [
              "array([False, False, False, False,  True,  True])"
            ]
          },
          "metadata": {
            "tags": []
          },
          "execution_count": 49
        }
      ]
    },
    {
      "cell_type": "code",
      "metadata": {
        "colab": {
          "base_uri": "https://localhost:8080/"
        },
        "id": "Ee-FzjZePi_0",
        "outputId": "8b0f5332-f60f-4f7e-c1cf-fdf5e0d5f81d"
      },
      "source": [
        "i = z > 4 # indices where element is greater than 4\n",
        "z[i] # logical indexing"
      ],
      "execution_count": null,
      "outputs": [
        {
          "output_type": "execute_result",
          "data": {
            "text/plain": [
              "array([5, 6])"
            ]
          },
          "metadata": {
            "tags": []
          },
          "execution_count": 51
        }
      ]
    },
    {
      "cell_type": "code",
      "metadata": {
        "colab": {
          "base_uri": "https://localhost:8080/"
        },
        "id": "mAgpTKa8RAAl",
        "outputId": "ff0c6522-d9fe-4588-b14f-470a7fdee606"
      },
      "source": [
        "np.linspace(1, 100, 10) # linearly distributed 10 numbers from 1 to 100"
      ],
      "execution_count": null,
      "outputs": [
        {
          "output_type": "execute_result",
          "data": {
            "text/plain": [
              "array([  1.,  12.,  23.,  34.,  45.,  56.,  67.,  78.,  89., 100.])"
            ]
          },
          "metadata": {
            "tags": []
          },
          "execution_count": 59
        }
      ]
    },
    {
      "cell_type": "code",
      "metadata": {
        "colab": {
          "base_uri": "https://localhost:8080/"
        },
        "id": "oB1k1fVDRjTa",
        "outputId": "ffd2e0dd-0e6c-470a-fb8e-581c696cb65d"
      },
      "source": [
        "np.logspace(np.log10(10), np.log10(100), 10) # logarithmically distributed 10 numbers from log10(10) to log10(100)"
      ],
      "execution_count": null,
      "outputs": [
        {
          "output_type": "execute_result",
          "data": {
            "text/plain": [
              "array([ 10.        ,  12.91549665,  16.68100537,  21.5443469 ,\n",
              "        27.82559402,  35.93813664,  46.41588834,  59.94842503,\n",
              "        77.42636827, 100.        ])"
            ]
          },
          "metadata": {
            "tags": []
          },
          "execution_count": 60
        }
      ]
    },
    {
      "cell_type": "code",
      "metadata": {
        "colab": {
          "base_uri": "https://localhost:8080/"
        },
        "id": "iXuhl76AS3r9",
        "outputId": "a37e6a7a-b26c-4ea8-f54f-bd840d3d7959"
      },
      "source": [
        "Y = np.array([[1, 2, 3], [4, 5, 6], [7, 8, 9]])\n",
        "Y.shape"
      ],
      "execution_count": null,
      "outputs": [
        {
          "output_type": "execute_result",
          "data": {
            "text/plain": [
              "(3, 3)"
            ]
          },
          "metadata": {
            "tags": []
          },
          "execution_count": 61
        }
      ]
    },
    {
      "cell_type": "code",
      "metadata": {
        "colab": {
          "base_uri": "https://localhost:8080/"
        },
        "id": "1-1Hfg9OTB2p",
        "outputId": "bfe44f06-77de-4a0e-c7a3-318d87d8a4b7"
      },
      "source": [
        "Y.size # number of elements in Y"
      ],
      "execution_count": null,
      "outputs": [
        {
          "output_type": "execute_result",
          "data": {
            "text/plain": [
              "9"
            ]
          },
          "metadata": {
            "tags": []
          },
          "execution_count": 63
        }
      ]
    },
    {
      "cell_type": "code",
      "metadata": {
        "colab": {
          "base_uri": "https://localhost:8080/"
        },
        "id": "r-V7rPqnTUck",
        "outputId": "2099fa2e-fc5d-4620-dc03-08b8ca2a7852"
      },
      "source": [
        "r = np.random.random(10) # 10 random numbers\n",
        "r"
      ],
      "execution_count": null,
      "outputs": [
        {
          "output_type": "execute_result",
          "data": {
            "text/plain": [
              "array([0.28958566, 0.10593372, 0.19866306, 0.0772881 , 0.05968346,\n",
              "       0.60195565, 0.60466452, 0.3904429 , 0.92562052, 0.5442213 ])"
            ]
          },
          "metadata": {
            "tags": []
          },
          "execution_count": 64
        }
      ]
    },
    {
      "cell_type": "code",
      "metadata": {
        "colab": {
          "base_uri": "https://localhost:8080/"
        },
        "id": "DVZo1EtjTbRq",
        "outputId": "294197bd-916d-467b-aade-3523928cf160"
      },
      "source": [
        "np.any(r > 0.9)"
      ],
      "execution_count": null,
      "outputs": [
        {
          "output_type": "execute_result",
          "data": {
            "text/plain": [
              "True"
            ]
          },
          "metadata": {
            "tags": []
          },
          "execution_count": 65
        }
      ]
    },
    {
      "cell_type": "code",
      "metadata": {
        "colab": {
          "base_uri": "https://localhost:8080/"
        },
        "id": "ME3kVjucTmxL",
        "outputId": "9e9e3b7c-b12e-498d-d0dd-aec935335af7"
      },
      "source": [
        "np.all(r <= 0.1)"
      ],
      "execution_count": null,
      "outputs": [
        {
          "output_type": "execute_result",
          "data": {
            "text/plain": [
              "False"
            ]
          },
          "metadata": {
            "tags": []
          },
          "execution_count": 68
        }
      ]
    },
    {
      "cell_type": "markdown",
      "metadata": {
        "id": "unSXZ5I5tmfd"
      },
      "source": [
        "### [`matplotlib.pyplot`](https://matplotlib.org)"
      ]
    },
    {
      "cell_type": "code",
      "metadata": {
        "colab": {
          "base_uri": "https://localhost:8080/",
          "height": 265
        },
        "id": "7uN21gsFuFAh",
        "outputId": "4875decb-c700-43c8-c090-b787d7e63381"
      },
      "source": [
        "import matplotlib.pyplot as plt\n",
        "\n",
        "plt.plot([0, 1, 4, 9, 16]); \n",
        "# use ';' to avoid showing matplotlib object"
      ],
      "execution_count": 1,
      "outputs": [
        {
          "output_type": "display_data",
          "data": {
            "image/png": "[encoded data removed]",
            "text/plain": [
              "<Figure size 432x288 with 1 Axes>"
            ]
          },
          "metadata": {
            "tags": [],
            "needs_background": "light"
          }
        }
      ]
    },
    {
      "cell_type": "code",
      "metadata": {
        "colab": {
          "base_uri": "https://localhost:8080/"
        },
        "id": "zmnHA-omXDXF",
        "outputId": "cac796bc-9fef-4027-83b4-2cfc93c864e2"
      },
      "source": [
        "x = np.linspace(0, 10, 20)\n",
        "x"
      ],
      "execution_count": null,
      "outputs": [
        {
          "output_type": "execute_result",
          "data": {
            "text/plain": [
              "array([ 0.        ,  0.52631579,  1.05263158,  1.57894737,  2.10526316,\n",
              "        2.63157895,  3.15789474,  3.68421053,  4.21052632,  4.73684211,\n",
              "        5.26315789,  5.78947368,  6.31578947,  6.84210526,  7.36842105,\n",
              "        7.89473684,  8.42105263,  8.94736842,  9.47368421, 10.        ])"
            ]
          },
          "metadata": {
            "tags": []
          },
          "execution_count": 22
        }
      ]
    },
    {
      "cell_type": "code",
      "metadata": {
        "colab": {
          "base_uri": "https://localhost:8080/"
        },
        "id": "OKOkVK2RXoRn",
        "outputId": "0c5663cf-db56-4f5a-c892-0b4774a903dc"
      },
      "source": [
        "y = x ** 2 # raise every element in x to the power 2\n",
        "y"
      ],
      "execution_count": null,
      "outputs": [
        {
          "output_type": "execute_result",
          "data": {
            "text/plain": [
              "array([  0.        ,   0.27700831,   1.10803324,   2.49307479,\n",
              "         4.43213296,   6.92520776,   9.97229917,  13.5734072 ,\n",
              "        17.72853186,  22.43767313,  27.70083102,  33.51800554,\n",
              "        39.88919668,  46.81440443,  54.29362881,  62.32686981,\n",
              "        70.91412742,  80.05540166,  89.75069252, 100.        ])"
            ]
          },
          "metadata": {
            "tags": []
          },
          "execution_count": 23
        }
      ]
    },
    {
      "cell_type": "code",
      "metadata": {
        "colab": {
          "base_uri": "https://localhost:8080/",
          "height": 265
        },
        "id": "E-vlq6ajXqnM",
        "outputId": "f56b7eda-adce-48ad-943e-25cbd7362b9c"
      },
      "source": [
        "plt.plot(x, y);"
      ],
      "execution_count": null,
      "outputs": [
        {
          "output_type": "display_data",
          "data": {
            "image/png": "[encoded data removed]",
            "text/plain": [
              "<Figure size 432x288 with 1 Axes>"
            ]
          },
          "metadata": {
            "tags": [],
            "needs_background": "light"
          }
        }
      ]
    },
    {
      "cell_type": "code",
      "metadata": {
        "colab": {
          "base_uri": "https://localhost:8080/"
        },
        "id": "wjaJFkzwYDGg",
        "outputId": "9794a7e8-5d85-4284-a707-8bd85a849abd"
      },
      "source": [
        "z = x ** 1.5\n",
        "z"
      ],
      "execution_count": null,
      "outputs": [
        {
          "output_type": "execute_result",
          "data": {
            "text/plain": [
              "array([ 0.        ,  0.38182961,  1.07997721,  1.98404483,  3.05463684,\n",
              "        4.26898477,  5.61172621,  7.07158325,  8.6398177 , 10.30939934,\n",
              "       12.07451231, 13.93024088, 15.87235863, 17.89718087, 20.00145789,\n",
              "       22.18229554, 24.43709474, 26.76350449, 29.15938474, 31.6227766 ])"
            ]
          },
          "metadata": {
            "tags": []
          },
          "execution_count": 25
        }
      ]
    },
    {
      "cell_type": "code",
      "metadata": {
        "colab": {
          "base_uri": "https://localhost:8080/",
          "height": 265
        },
        "id": "GG0VhU34YO4S",
        "outputId": "d2f653a2-2c0d-4746-82d7-4ef06410a805"
      },
      "source": [
        "plt.plot(x, y, \"bo-\"); # b (blue), o (dots), - (solid line) "
      ],
      "execution_count": null,
      "outputs": [
        {
          "output_type": "display_data",
          "data": {
            "image/png": "[encoded data removed]",
            "text/plain": [
              "<Figure size 432x288 with 1 Axes>"
            ]
          },
          "metadata": {
            "tags": [],
            "needs_background": "light"
          }
        }
      ]
    },
    {
      "cell_type": "code",
      "metadata": {
        "colab": {
          "base_uri": "https://localhost:8080/",
          "height": 265
        },
        "id": "GnwhZlerY8Er",
        "outputId": "897f7a4f-eebb-4d39-eab4-3adf5adafa50"
      },
      "source": [
        "plt.plot(x, y, \"bo-\", linewidth=\"2\", markersize=\"4\");"
      ],
      "execution_count": null,
      "outputs": [
        {
          "output_type": "display_data",
          "data": {
            "image/png": "[encoded data removed]",
            "text/plain": [
              "<Figure size 432x288 with 1 Axes>"
            ]
          },
          "metadata": {
            "tags": [],
            "needs_background": "light"
          }
        }
      ]
    },
    {
      "cell_type": "code",
      "metadata": {
        "colab": {
          "base_uri": "https://localhost:8080/",
          "height": 265
        },
        "id": "FJ_UzzMxZR4S",
        "outputId": "442f9640-144f-44c7-b71c-bca520339aeb"
      },
      "source": [
        "plt.plot(x, z, \"gs-\"); # g (green), s (square), - (solid line)"
      ],
      "execution_count": null,
      "outputs": [
        {
          "output_type": "display_data",
          "data": {
            "image/png": "[encoded data removed]",
            "text/plain": [
              "<Figure size 432x288 with 1 Axes>"
            ]
          },
          "metadata": {
            "tags": [],
            "needs_background": "light"
          }
        }
      ]
    },
    {
      "cell_type": "code",
      "metadata": {
        "colab": {
          "base_uri": "https://localhost:8080/",
          "height": 279
        },
        "id": "RTcwXUoSaoLR",
        "outputId": "1d57587a-e54b-4b2e-c198-890ffc2daf65"
      },
      "source": [
        "plt.plot(x, y, \"bo-\", label=\"first\")\n",
        "plt.plot(x, z, \"gs-\", label=\"second\")\n",
        "plt.xlabel(\"X\")\n",
        "plt.ylabel(\"Y\")\n",
        "plt.legend(loc=\"upper left\");"
      ],
      "execution_count": null,
      "outputs": [
        {
          "output_type": "display_data",
          "data": {
            "image/png": "[encoded data removed]",
            "text/plain": [
              "<Figure size 432x288 with 1 Axes>"
            ]
          },
          "metadata": {
            "tags": [],
            "needs_background": "light"
          }
        }
      ]
    },
    {
      "cell_type": "code",
      "metadata": {
        "colab": {
          "base_uri": "https://localhost:8080/"
        },
        "id": "sP_zPpFscNw4",
        "outputId": "a28c54b1-514a-4325-baca-ed3c1a69da41"
      },
      "source": [
        "x = np.logspace(-1, 1, 20) # 20 logarithmically distributed elements from log10(0.1) to log10(10) \n",
        "x"
      ],
      "execution_count": null,
      "outputs": [
        {
          "output_type": "execute_result",
          "data": {
            "text/plain": [
              "array([ 0.1       ,  0.1274275 ,  0.16237767,  0.20691381,  0.26366509,\n",
              "        0.33598183,  0.42813324,  0.54555948,  0.6951928 ,  0.88586679,\n",
              "        1.12883789,  1.43844989,  1.83298071,  2.33572147,  2.97635144,\n",
              "        3.79269019,  4.83293024,  6.15848211,  7.8475997 , 10.        ])"
            ]
          },
          "metadata": {
            "tags": []
          },
          "execution_count": 36
        }
      ]
    },
    {
      "cell_type": "code",
      "metadata": {
        "colab": {
          "base_uri": "https://localhost:8080/"
        },
        "id": "qQiPsjJjgyt9",
        "outputId": "fa5a25e7-b996-4388-db59-39b8eea30fcc"
      },
      "source": [
        "y = x ** 2\n",
        "y"
      ],
      "execution_count": null,
      "outputs": [
        {
          "output_type": "execute_result",
          "data": {
            "text/plain": [
              "array([1.00000000e-02, 1.62377674e-02, 2.63665090e-02, 4.28133240e-02,\n",
              "       6.95192796e-02, 1.12883789e-01, 1.83298071e-01, 2.97635144e-01,\n",
              "       4.83293024e-01, 7.84759970e-01, 1.27427499e+00, 2.06913808e+00,\n",
              "       3.35981829e+00, 5.45559478e+00, 8.85866790e+00, 1.43844989e+01,\n",
              "       2.33572147e+01, 3.79269019e+01, 6.15848211e+01, 1.00000000e+02])"
            ]
          },
          "metadata": {
            "tags": []
          },
          "execution_count": 37
        }
      ]
    },
    {
      "cell_type": "code",
      "metadata": {
        "colab": {
          "base_uri": "https://localhost:8080/"
        },
        "id": "aw7--TEjg21z",
        "outputId": "68940330-045a-4af7-85ed-ef8cd8f43e65"
      },
      "source": [
        "z = x ** 1.5\n",
        "z"
      ],
      "execution_count": null,
      "outputs": [
        {
          "output_type": "execute_result",
          "data": {
            "text/plain": [
              "array([ 0.03162278,  0.04548778,  0.06543189,  0.0941205 ,  0.13538762,\n",
              "        0.1947483 ,  0.28013568,  0.40296113,  0.5796394 ,  0.83378222,\n",
              "        1.19935395,  1.72521055,  2.48162892,  3.56969885,  5.13483291,\n",
              "        7.38619982, 10.62467831, 15.28306733, 21.98392649, 31.6227766 ])"
            ]
          },
          "metadata": {
            "tags": []
          },
          "execution_count": 38
        }
      ]
    },
    {
      "cell_type": "code",
      "metadata": {
        "colab": {
          "base_uri": "https://localhost:8080/",
          "height": 283
        },
        "id": "6TiLXoaZg9S7",
        "outputId": "ecb40725-9cc2-4933-e477-611eea85a2ba"
      },
      "source": [
        "plt.loglog(x, y, \"bo-\", label=\"first\") # plotting using logarithmic axes\n",
        "plt.loglog(x, z, \"gs-\", label=\"second\")\n",
        "plt.xlabel(\"X\")\n",
        "plt.ylabel(\"Y\")\n",
        "plt.legend(loc=\"upper left\");"
      ],
      "execution_count": null,
      "outputs": [
        {
          "output_type": "display_data",
          "data": {
            "image/png": "[encoded data removed]",
            "text/plain": [
              "<Figure size 432x288 with 1 Axes>"
            ]
          },
          "metadata": {
            "tags": [],
            "needs_background": "light"
          }
        }
      ]
    },
    {
      "cell_type": "code",
      "metadata": {
        "colab": {
          "base_uri": "https://localhost:8080/",
          "height": 265
        },
        "id": "y0GNOv2rhxPY",
        "outputId": "df16b361-60ed-4af6-e786-12e18bb5eb26"
      },
      "source": [
        "x = np.random.normal(size=1000)\n",
        "plt.hist(x); # plotting histogram"
      ],
      "execution_count": null,
      "outputs": [
        {
          "output_type": "display_data",
          "data": {
            "image/png": "[encoded data removed]",
            "text/plain": [
              "<Figure size 432x288 with 1 Axes>"
            ]
          },
          "metadata": {
            "tags": [],
            "needs_background": "light"
          }
        }
      ]
    },
    {
      "cell_type": "code",
      "metadata": {
        "colab": {
          "base_uri": "https://localhost:8080/",
          "height": 265
        },
        "id": "ImEyGGeJjHjn",
        "outputId": "35bd3149-bfa2-4444-f559-fcdeafeb7f56"
      },
      "source": [
        "plt.hist(x, density=True); "
      ],
      "execution_count": null,
      "outputs": [
        {
          "output_type": "display_data",
          "data": {
            "image/png": "[encoded data removed]",
            "text/plain": [
              "<Figure size 432x288 with 1 Axes>"
            ]
          },
          "metadata": {
            "tags": [],
            "needs_background": "light"
          }
        }
      ]
    },
    {
      "cell_type": "code",
      "metadata": {
        "colab": {
          "base_uri": "https://localhost:8080/",
          "height": 265
        },
        "id": "kL5pSI-LkA_h",
        "outputId": "7a627df7-31ea-44ee-a2d7-6ba3af6995ab"
      },
      "source": [
        "plt.hist(x, density=True, bins=np.linspace(-5, 5, 21)); "
      ],
      "execution_count": null,
      "outputs": [
        {
          "output_type": "display_data",
          "data": {
            "image/png": "[encoded data removed]",
            "text/plain": [
              "<Figure size 432x288 with 1 Axes>"
            ]
          },
          "metadata": {
            "tags": [],
            "needs_background": "light"
          }
        }
      ]
    },
    {
      "cell_type": "code",
      "metadata": {
        "colab": {
          "base_uri": "https://localhost:8080/",
          "height": 265
        },
        "id": "_BvF6ne4ktb0",
        "outputId": "2d5a4423-9c5c-4a10-aa36-3c73b81dfb9f"
      },
      "source": [
        "x = np.random.gamma(2, 3, 100000) # 100000 values\n",
        "plt.hist(x, bins=30);"
      ],
      "execution_count": null,
      "outputs": [
        {
          "output_type": "display_data",
          "data": {
            "image/png": "[encoded data removed]",
            "text/plain": [
              "<Figure size 432x288 with 1 Axes>"
            ]
          },
          "metadata": {
            "tags": [],
            "needs_background": "light"
          }
        }
      ]
    },
    {
      "cell_type": "code",
      "metadata": {
        "colab": {
          "base_uri": "https://localhost:8080/",
          "height": 265
        },
        "id": "dytWVRmdlPmR",
        "outputId": "cb0b88fe-c81b-4221-f266-e1ef1c38c5ba"
      },
      "source": [
        "plt.hist(x, bins=30, density=True);"
      ],
      "execution_count": null,
      "outputs": [
        {
          "output_type": "display_data",
          "data": {
            "image/png": "[encoded data removed]",
            "text/plain": [
              "<Figure size 432x288 with 1 Axes>"
            ]
          },
          "metadata": {
            "tags": [],
            "needs_background": "light"
          }
        }
      ]
    },
    {
      "cell_type": "code",
      "metadata": {
        "colab": {
          "base_uri": "https://localhost:8080/",
          "height": 265
        },
        "id": "wzvQ_KlQlaKB",
        "outputId": "77ba75d7-7fda-417b-92dc-ef34026cb78f"
      },
      "source": [
        "plt.hist(x, bins=30, cumulative=True);"
      ],
      "execution_count": null,
      "outputs": [
        {
          "output_type": "display_data",
          "data": {
            "image/png": "[encoded data removed]",
            "text/plain": [
              "<Figure size 432x288 with 1 Axes>"
            ]
          },
          "metadata": {
            "tags": [],
            "needs_background": "light"
          }
        }
      ]
    },
    {
      "cell_type": "code",
      "metadata": {
        "colab": {
          "base_uri": "https://localhost:8080/",
          "height": 265
        },
        "id": "ha7htTpgjgSY",
        "outputId": "c068e587-6ef4-4a66-d1e5-67d8f1c7d5e6"
      },
      "source": [
        "plt.hist(x, bins=30, density=True, cumulative=True);"
      ],
      "execution_count": null,
      "outputs": [
        {
          "output_type": "display_data",
          "data": {
            "image/png": "[encoded data removed]",
            "text/plain": [
              "<Figure size 432x288 with 1 Axes>"
            ]
          },
          "metadata": {
            "tags": [],
            "needs_background": "light"
          }
        }
      ]
    },
    {
      "cell_type": "code",
      "metadata": {
        "colab": {
          "base_uri": "https://localhost:8080/",
          "height": 265
        },
        "id": "oWpiGnqxj6TH",
        "outputId": "feb30bd7-d71d-48f2-ac94-386cadac3cb7"
      },
      "source": [
        "plt.hist(x, bins=30, density=True, cumulative=True, histtype=\"step\");"
      ],
      "execution_count": null,
      "outputs": [
        {
          "output_type": "display_data",
          "data": {
            "image/png": "[encoded data removed]",
            "text/plain": [
              "<Figure size 432x288 with 1 Axes>"
            ]
          },
          "metadata": {
            "tags": [],
            "needs_background": "light"
          }
        }
      ]
    },
    {
      "cell_type": "code",
      "metadata": {
        "colab": {
          "base_uri": "https://localhost:8080/",
          "height": 265
        },
        "id": "wZfAYO2-kWKi",
        "outputId": "a28fac30-7b37-4a6f-e152-ca7dead82d20"
      },
      "source": [
        "x = np.random.gamma(2, 3, 100000) # 100000 values\n",
        "\n",
        "# plotting subplots\n",
        "plt.subplot(221) # must be three digit number (same as plt.subplot(3, 3, 3))\n",
        "plt.hist(x, bins=30);\n",
        "plt.subplot(222)\n",
        "plt.hist(x, bins=30, density=True);\n",
        "plt.subplot(223)\n",
        "plt.hist(x, bins=30, cumulative=True);\n",
        "plt.subplot(224)\n",
        "plt.hist(x, bins=30, density=True, cumulative=True, histtype=\"step\");"
      ],
      "execution_count": null,
      "outputs": [
        {
          "output_type": "display_data",
          "data": {
            "image/png": "[encoded data removed]",
            "text/plain": [
              "<Figure size 432x288 with 4 Axes>"
            ]
          },
          "metadata": {
            "tags": [],
            "needs_background": "light"
          }
        }
      ]
    },
    {
      "cell_type": "markdown",
      "metadata": {
        "id": "o9kqf58koS2v"
      },
      "source": [
        "### `simulating randomness with` [`random.choice()`](https://docs.python.org/3.8/library/random.html#random.choice)"
      ]
    },
    {
      "cell_type": "code",
      "metadata": {
        "colab": {
          "base_uri": "https://localhost:8080/",
          "height": 38
        },
        "id": "J3hVXoaKo1NI",
        "outputId": "a92854e9-99e6-4e21-b838-c59f6bca3237"
      },
      "source": [
        "import random\n",
        "\n",
        "# simulate coin toss\n",
        "random.choice([\"H\", \"T\"])"
      ],
      "execution_count": null,
      "outputs": [
        {
          "output_type": "execute_result",
          "data": {
            "application/vnd.google.colaboratory.intrinsic+json": {
              "type": "string"
            },
            "text/plain": [
              "'T'"
            ]
          },
          "metadata": {
            "tags": []
          },
          "execution_count": 23
        }
      ]
    },
    {
      "cell_type": "code",
      "metadata": {
        "colab": {
          "base_uri": "https://localhost:8080/"
        },
        "id": "3zidbyMipaWg",
        "outputId": "0430244f-1c6e-4db1-b42b-c2d21ee379b1"
      },
      "source": [
        "# simulate roll of dice\n",
        "random.choice(range(1, 7))"
      ],
      "execution_count": null,
      "outputs": [
        {
          "output_type": "execute_result",
          "data": {
            "text/plain": [
              "6"
            ]
          },
          "metadata": {
            "tags": []
          },
          "execution_count": 24
        }
      ]
    },
    {
      "cell_type": "code",
      "metadata": {
        "colab": {
          "base_uri": "https://localhost:8080/"
        },
        "id": "VOITe_Q3rEkL",
        "outputId": "220f63fa-f802-4bb1-8869-a67d021fc739"
      },
      "source": [
        "# simulate roll of 3 dice with one having 6 faces, one having 8 faces and one with 10 faces\n",
        "six_faces = range(1, 7)\n",
        "eight_faces = range(1, 9)\n",
        "ten_faces = range(1, 11)\n",
        "\n",
        "dice = random.choice([six_faces, eight_faces, ten_faces])\n",
        "dice"
      ],
      "execution_count": null,
      "outputs": [
        {
          "output_type": "execute_result",
          "data": {
            "text/plain": [
              "range(1, 11)"
            ]
          },
          "metadata": {
            "tags": []
          },
          "execution_count": 26
        }
      ]
    },
    {
      "cell_type": "code",
      "metadata": {
        "colab": {
          "base_uri": "https://localhost:8080/"
        },
        "id": "saIZgyPmr54j",
        "outputId": "06a6e655-f413-433b-9e87-2137873eaad7"
      },
      "source": [
        "random.choice(dice)"
      ],
      "execution_count": null,
      "outputs": [
        {
          "output_type": "execute_result",
          "data": {
            "text/plain": [
              "6"
            ]
          },
          "metadata": {
            "tags": []
          },
          "execution_count": 27
        }
      ]
    },
    {
      "cell_type": "code",
      "metadata": {
        "colab": {
          "base_uri": "https://localhost:8080/"
        },
        "id": "v5QMGA_9sACW",
        "outputId": "7996809b-316f-4556-e7b4-3d765d6f5c42"
      },
      "source": [
        "random.choice(random.choice([six_faces, eight_faces, ten_faces])) # all in one line"
      ],
      "execution_count": null,
      "outputs": [
        {
          "output_type": "execute_result",
          "data": {
            "text/plain": [
              "2"
            ]
          },
          "metadata": {
            "tags": []
          },
          "execution_count": 28
        }
      ]
    },
    {
      "cell_type": "markdown",
      "metadata": {
        "id": "gWoslu-K2WKL"
      },
      "source": [
        "##### **[Law of Large Numbers (LLN)](https://en.wikipedia.org/wiki/Law_of_large_numbers)**\n",
        "In probability theory, the law of large numbers (LLN) is a theorem that describes the result of performing the same experiment a large number of times. According to the law, the average of the results obtained from a large number of trials should be close to the expected value and will tend to become closer to the expected value as more trials are performed\n",
        "\n",
        "Following histograms are examples of LLN."
      ]
    },
    {
      "cell_type": "code",
      "metadata": {
        "colab": {
          "base_uri": "https://localhost:8080/",
          "height": 265
        },
        "id": "K4S5znVQsfde",
        "outputId": "2f03f9b8-63a2-4848-fe44-a888aa48809d"
      },
      "source": [
        "# simulate 100 rolls of dice and plot it on histogram\n",
        "rolls = []\n",
        "for _ in range(100):\n",
        "    rolls.append(random.choice(range(1, 7))) # roll a die\n",
        "\n",
        "plt.hist(rolls, bins=np.linspace(0.5, 6.5, 7));"
      ],
      "execution_count": null,
      "outputs": [
        {
          "output_type": "display_data",
          "data": {
            "image/png": "[encoded data removed]",
            "text/plain": [
              "<Figure size 432x288 with 1 Axes>"
            ]
          },
          "metadata": {
            "tags": [],
            "needs_background": "light"
          }
        }
      ]
    },
    {
      "cell_type": "code",
      "metadata": {
        "colab": {
          "base_uri": "https://localhost:8080/",
          "height": 265
        },
        "id": "ynAVw2FgvJOr",
        "outputId": "923283bf-b73b-46fe-af88-aaa32897a6d0"
      },
      "source": [
        "# simulate 10000 rolls of dice and plot it on histogram\n",
        "rolls = []\n",
        "for _ in range(10000):\n",
        "    rolls.append(random.choice(range(1, 7))) # roll a die\n",
        "\n",
        "plt.hist(rolls, bins=np.linspace(0.5, 6.5, 7));"
      ],
      "execution_count": null,
      "outputs": [
        {
          "output_type": "display_data",
          "data": {
            "image/png": "[encoded data removed]",
            "text/plain": [
              "<Figure size 432x288 with 1 Axes>"
            ]
          },
          "metadata": {
            "tags": [],
            "needs_background": "light"
          }
        }
      ]
    },
    {
      "cell_type": "code",
      "metadata": {
        "colab": {
          "base_uri": "https://localhost:8080/",
          "height": 265
        },
        "id": "LuzuDGGcvWFw",
        "outputId": "ba80f698-7ea8-44ff-b5b9-f30db26e712e"
      },
      "source": [
        "# simulate 1000000 rolls of dice and plot it on histogram\n",
        "rolls = []\n",
        "for _ in range(1000000):\n",
        "    rolls.append(random.choice(range(1, 7))) # roll a die\n",
        "\n",
        "plt.hist(rolls, bins=np.linspace(0.5, 6.5, 7));"
      ],
      "execution_count": null,
      "outputs": [
        {
          "output_type": "display_data",
          "data": {
            "image/png": "[encoded data removed]",
            "text/plain": [
              "<Figure size 432x288 with 1 Axes>"
            ]
          },
          "metadata": {
            "tags": [],
            "needs_background": "light"
          }
        }
      ]
    },
    {
      "cell_type": "markdown",
      "metadata": {
        "id": "FZiHxPY12kvu"
      },
      "source": [
        "#### **[Central Limit Theorem (CLT)](https://byjus.com/jee/central-limit-theorem/)**\n",
        "CLT states that the sum of a large number of random variables\n",
        "regardless of their distribution will approximately\n",
        "follow a normal distribution.\n",
        "\n",
        "Following histograms are examples of CLT."
      ]
    },
    {
      "cell_type": "code",
      "metadata": {
        "colab": {
          "base_uri": "https://localhost:8080/",
          "height": 265
        },
        "id": "D6K2Q_aVyBGl",
        "outputId": "ee46ae42-3c9f-4ddd-b0bc-1bb52f5a3732"
      },
      "source": [
        "# simulate 100 rolls of 10 different dice and plot it on histogram\n",
        "rolls_sum = []\n",
        "for _ in range(100):\n",
        "    s = 0 # sum of outcomes of 10 different dice \n",
        "    for roll in range(10):\n",
        "        s = s + random.choice(range(1, 7)) # roll a die\n",
        "    rolls_sum.append(s)\n",
        "\n",
        "plt.hist(rolls_sum);"
      ],
      "execution_count": null,
      "outputs": [
        {
          "output_type": "display_data",
          "data": {
            "image/png": "[encoded data removed]",
            "text/plain": [
              "<Figure size 432x288 with 1 Axes>"
            ]
          },
          "metadata": {
            "tags": [],
            "needs_background": "light"
          }
        }
      ]
    },
    {
      "cell_type": "code",
      "metadata": {
        "colab": {
          "base_uri": "https://localhost:8080/",
          "height": 269
        },
        "id": "qSOMHQUDzXnw",
        "outputId": "7cb04afb-bc3f-4a58-9b35-f9e97e18b7f7"
      },
      "source": [
        "# simulate 10000 rolls of 10 different dice and plot it on histogram\n",
        "rolls_sum = []\n",
        "for _ in range(10000):\n",
        "    s = 0 # sum of outcomes of 10 different dice \n",
        "    for roll in range(10):\n",
        "        s = s + random.choice(range(1, 7)) # roll a die\n",
        "    rolls_sum.append(s)\n",
        "\n",
        "plt.hist(rolls_sum);"
      ],
      "execution_count": null,
      "outputs": [
        {
          "output_type": "display_data",
          "data": {
            "image/png": "[encoded data removed]",
            "text/plain": [
              "<Figure size 432x288 with 1 Axes>"
            ]
          },
          "metadata": {
            "tags": [],
            "needs_background": "light"
          }
        }
      ]
    },
    {
      "cell_type": "code",
      "metadata": {
        "colab": {
          "base_uri": "https://localhost:8080/",
          "height": 265
        },
        "id": "yuuxzeUozdkv",
        "outputId": "584a6a24-6c17-4acf-dae9-f15978ba3101"
      },
      "source": [
        "# simulate 1000000 rolls of 10 different dice and plot it on histogram\n",
        "rolls_sum = []\n",
        "for _ in range(1000000):\n",
        "    s = 0 # sum of outcomes of 10 different dice \n",
        "    for roll in range(10):\n",
        "        s = s + random.choice(range(1, 7)) # roll a die\n",
        "    rolls_sum.append(s)\n",
        "\n",
        "plt.hist(rolls_sum);"
      ],
      "execution_count": null,
      "outputs": [
        {
          "output_type": "display_data",
          "data": {
            "image/png": "[encoded data removed]",
            "text/plain": [
              "<Figure size 432x288 with 1 Axes>"
            ]
          },
          "metadata": {
            "tags": [],
            "needs_background": "light"
          }
        }
      ]
    },
    {
      "cell_type": "markdown",
      "metadata": {
        "id": "hjKdG34N4hG5"
      },
      "source": [
        "### [`numpy.random`](https://numpy.org/doc/stable/reference/random/index.html)"
      ]
    },
    {
      "cell_type": "code",
      "metadata": {
        "colab": {
          "base_uri": "https://localhost:8080/"
        },
        "id": "5J-Hv-1548P3",
        "outputId": "5867ff21-5054-4687-9629-17a3ca763de5"
      },
      "source": [
        "import numpy as np\n",
        "\n",
        "np.random.random() # random floating-point number in interval [0.0, 1.0)"
      ],
      "execution_count": null,
      "outputs": [
        {
          "output_type": "execute_result",
          "data": {
            "text/plain": [
              "0.3605720126751969"
            ]
          },
          "metadata": {
            "tags": []
          },
          "execution_count": 46
        }
      ]
    },
    {
      "cell_type": "code",
      "metadata": {
        "colab": {
          "base_uri": "https://localhost:8080/"
        },
        "id": "UpeS-Nod5hvJ",
        "outputId": "3ee1edf2-03bc-4b25-ada4-e0f9e4066a97"
      },
      "source": [
        "np.random.random(5) # 1D array of random numbers with 5 elements"
      ],
      "execution_count": null,
      "outputs": [
        {
          "output_type": "execute_result",
          "data": {
            "text/plain": [
              "array([0.68962714, 0.5353913 , 0.46284069, 0.85275272, 0.00354985])"
            ]
          },
          "metadata": {
            "tags": []
          },
          "execution_count": 47
        }
      ]
    },
    {
      "cell_type": "code",
      "metadata": {
        "colab": {
          "base_uri": "https://localhost:8080/"
        },
        "id": "SkCGFNOY575F",
        "outputId": "06f14f7d-b186-404f-ec24-e5c131badfc4"
      },
      "source": [
        "np.random.random((5, 3)) # 2D array of random numbers with 15 elements"
      ],
      "execution_count": null,
      "outputs": [
        {
          "output_type": "execute_result",
          "data": {
            "text/plain": [
              "array([[0.4464299 , 0.91892154, 0.41455591],\n",
              "       [0.50215566, 0.61967507, 0.38443269],\n",
              "       [0.27427447, 0.3889441 , 0.10856647],\n",
              "       [0.27044221, 0.60889079, 0.06081015],\n",
              "       [0.65446479, 0.00877388, 0.60721052]])"
            ]
          },
          "metadata": {
            "tags": []
          },
          "execution_count": 48
        }
      ]
    },
    {
      "cell_type": "code",
      "metadata": {
        "colab": {
          "base_uri": "https://localhost:8080/"
        },
        "id": "1WEW8l2a6jNR",
        "outputId": "cc2789d5-c131-4d51-f171-26258d44d120"
      },
      "source": [
        "np.random.normal(0, 1) # random number from distribution with mean=0 and standard-deviation=1"
      ],
      "execution_count": null,
      "outputs": [
        {
          "output_type": "execute_result",
          "data": {
            "text/plain": [
              "2.697598226020841"
            ]
          },
          "metadata": {
            "tags": []
          },
          "execution_count": 50
        }
      ]
    },
    {
      "cell_type": "code",
      "metadata": {
        "colab": {
          "base_uri": "https://localhost:8080/"
        },
        "id": "NbmkVtb07Jaj",
        "outputId": "e8af86af-c6dc-4e49-cba1-28acb22924fc"
      },
      "source": [
        "np.random.normal(0, 1, 5) # 5 random numbers from distribution with mean=0 and standard-deviation=1"
      ],
      "execution_count": null,
      "outputs": [
        {
          "output_type": "execute_result",
          "data": {
            "text/plain": [
              "array([ 1.43220777,  0.7249794 ,  0.71125078, -1.57320831,  0.77465392])"
            ]
          },
          "metadata": {
            "tags": []
          },
          "execution_count": 51
        }
      ]
    },
    {
      "cell_type": "code",
      "metadata": {
        "colab": {
          "base_uri": "https://localhost:8080/"
        },
        "id": "336kBdyh8Tlv",
        "outputId": "3394ef07-910b-48b9-cf57-aef74e9acd85"
      },
      "source": [
        "np.random.randint(1, 7) # roll of dice"
      ],
      "execution_count": null,
      "outputs": [
        {
          "output_type": "execute_result",
          "data": {
            "text/plain": [
              "2"
            ]
          },
          "metadata": {
            "tags": []
          },
          "execution_count": 52
        }
      ]
    },
    {
      "cell_type": "code",
      "metadata": {
        "colab": {
          "base_uri": "https://localhost:8080/"
        },
        "id": "GZLeLJyd8dqr",
        "outputId": "2b1c8b83-2400-457b-9720-d7217b0f094b"
      },
      "source": [
        "X = np.random.randint(1, 7, (10, 3)) # rolls of dice in 10 rows and 3 columns\n",
        "X"
      ],
      "execution_count": null,
      "outputs": [
        {
          "output_type": "execute_result",
          "data": {
            "text/plain": [
              "array([[6, 3, 2],\n",
              "       [5, 5, 1],\n",
              "       [4, 3, 5],\n",
              "       [6, 5, 2],\n",
              "       [4, 6, 3],\n",
              "       [6, 1, 5],\n",
              "       [4, 5, 2],\n",
              "       [2, 3, 1],\n",
              "       [5, 5, 1],\n",
              "       [3, 4, 2]])"
            ]
          },
          "metadata": {
            "tags": []
          },
          "execution_count": 53
        }
      ]
    },
    {
      "cell_type": "code",
      "metadata": {
        "colab": {
          "base_uri": "https://localhost:8080/"
        },
        "id": "-kNoqwTm8-2q",
        "outputId": "e841089c-9830-4ee6-e31a-beb778208383"
      },
      "source": [
        "np.sum(X) # sum of elements in X"
      ],
      "execution_count": null,
      "outputs": [
        {
          "output_type": "execute_result",
          "data": {
            "text/plain": [
              "109"
            ]
          },
          "metadata": {
            "tags": []
          },
          "execution_count": 54
        }
      ]
    },
    {
      "cell_type": "code",
      "metadata": {
        "colab": {
          "base_uri": "https://localhost:8080/"
        },
        "id": "QLjuC75N9EAj",
        "outputId": "251bf1cb-2d43-4c10-a6ea-3896d4ee226e"
      },
      "source": [
        "np.sum(X, axis=0) # sum of X all over the rows"
      ],
      "execution_count": null,
      "outputs": [
        {
          "output_type": "execute_result",
          "data": {
            "text/plain": [
              "array([45, 40, 24])"
            ]
          },
          "metadata": {
            "tags": []
          },
          "execution_count": 55
        }
      ]
    },
    {
      "cell_type": "code",
      "metadata": {
        "colab": {
          "base_uri": "https://localhost:8080/"
        },
        "id": "kNQYAMS_9hE7",
        "outputId": "3c79c1ee-7cb5-4a02-cd0e-2e5c29e10a42"
      },
      "source": [
        "np.sum(X, axis=1) # sum of X all over the columns"
      ],
      "execution_count": null,
      "outputs": [
        {
          "output_type": "execute_result",
          "data": {
            "text/plain": [
              "array([11, 11, 12, 13, 13, 12, 11,  6, 11,  9])"
            ]
          },
          "metadata": {
            "tags": []
          },
          "execution_count": 56
        }
      ]
    },
    {
      "cell_type": "code",
      "metadata": {
        "colab": {
          "base_uri": "https://localhost:8080/",
          "height": 265
        },
        "id": "gDJ2I5tl950d",
        "outputId": "9c2173d2-dba4-4256-fa8a-66970ff51e06"
      },
      "source": [
        "# simulate 100 rolls of 10 different dice and plot it on histogram\n",
        "\n",
        "X = np.random.randint(1, 7, (100, 10)) # 100 rows and 10 columns\n",
        "Y = np.sum(X, axis=1) # sum over the columns\n",
        "plt.hist(Y);"
      ],
      "execution_count": null,
      "outputs": [
        {
          "output_type": "display_data",
          "data": {
            "image/png": "[encoded data removed]",
            "text/plain": [
              "<Figure size 432x288 with 1 Axes>"
            ]
          },
          "metadata": {
            "tags": [],
            "needs_background": "light"
          }
        }
      ]
    },
    {
      "cell_type": "code",
      "metadata": {
        "colab": {
          "base_uri": "https://localhost:8080/",
          "height": 266
        },
        "id": "ekxdUXJa-w3Q",
        "outputId": "401646c5-c932-4a93-e373-6bdd6a3782fc"
      },
      "source": [
        "# simulate 10000 rolls of 10 different dice and plot it on histogram\n",
        "\n",
        "X = np.random.randint(1, 7, (10000, 10)) # 100 rows and 10 columns\n",
        "Y = np.sum(X, axis=1) # sum over the columns\n",
        "plt.hist(Y);"
      ],
      "execution_count": null,
      "outputs": [
        {
          "output_type": "display_data",
          "data": {
            "image/png": "[encoded data removed]",
            "text/plain": [
              "<Figure size 432x288 with 1 Axes>"
            ]
          },
          "metadata": {
            "tags": [],
            "needs_background": "light"
          }
        }
      ]
    },
    {
      "cell_type": "code",
      "metadata": {
        "colab": {
          "base_uri": "https://localhost:8080/",
          "height": 265
        },
        "id": "X9-WIJVS-4V5",
        "outputId": "17cb04f3-048d-4664-9c07-011ffb3acdd4"
      },
      "source": [
        "# simulate 1000000 rolls of 10 different dice and plot it on histogram\n",
        "\n",
        "X = np.random.randint(1, 7, (1000000, 10)) # 100 rows and 10 columns\n",
        "Y = np.sum(X, axis=1) # sum over the columns\n",
        "plt.hist(Y);"
      ],
      "execution_count": null,
      "outputs": [
        {
          "output_type": "display_data",
          "data": {
            "image/png": "[encoded data removed]",
            "text/plain": [
              "<Figure size 432x288 with 1 Axes>"
            ]
          },
          "metadata": {
            "tags": [],
            "needs_background": "light"
          }
        }
      ]
    },
    {
      "cell_type": "markdown",
      "metadata": {
        "id": "bngeGpIVgTxv"
      },
      "source": [
        "### `random walks`"
      ]
    },
    {
      "cell_type": "code",
      "metadata": {
        "colab": {
          "base_uri": "https://localhost:8080/"
        },
        "id": "2I1vccZvgXe8",
        "outputId": "f9511206-8a79-4fd8-f42a-cbe9402b62a6"
      },
      "source": [
        "# random walk of 5 points (in 2D plane)\n",
        "\n",
        "delta_X = np.random.normal(0, 1, (2, 5)) # displacements\n",
        "delta_X"
      ],
      "execution_count": 18,
      "outputs": [
        {
          "output_type": "execute_result",
          "data": {
            "text/plain": [
              "array([[ 0.48579024, -2.83855906, -0.32835952, -0.63794287, -0.96996533],\n",
              "       [-0.33415408, -0.51777754,  0.07311579, -0.07451477,  1.01811941]])"
            ]
          },
          "metadata": {
            "tags": []
          },
          "execution_count": 18
        }
      ]
    },
    {
      "cell_type": "code",
      "metadata": {
        "colab": {
          "base_uri": "https://localhost:8080/",
          "height": 265
        },
        "id": "RQiCbtKHnjcb",
        "outputId": "1ae5ec9c-1043-4cb8-c579-d2be92eced7f"
      },
      "source": [
        "plt.plot(delta_X[0], delta_X[1], 'go'); # delta_X[0] (x coordinate), delta_X[1] (y coordinate)\n",
        "#  'go' - green circles"
      ],
      "execution_count": 19,
      "outputs": [
        {
          "output_type": "display_data",
          "data": {
            "image/png": "[encoded data removed]",
            "text/plain": [
              "<Figure size 432x288 with 1 Axes>"
            ]
          },
          "metadata": {
            "tags": [],
            "needs_background": "light"
          }
        }
      ]
    },
    {
      "cell_type": "code",
      "metadata": {
        "colab": {
          "base_uri": "https://localhost:8080/"
        },
        "id": "vvJLnytdoLbY",
        "outputId": "85564603-d8a1-4e8d-9113-1e968d5f94f8"
      },
      "source": [
        "# cumulative sum\n",
        "X = np.cumsum(delta_X, axis=1)\n",
        "X"
      ],
      "execution_count": 20,
      "outputs": [
        {
          "output_type": "execute_result",
          "data": {
            "text/plain": [
              "array([[ 0.48579024, -2.35276882, -2.68112834, -3.31907122, -4.28903655],\n",
              "       [-0.33415408, -0.85193161, -0.77881583, -0.85333059,  0.16478881]])"
            ]
          },
          "metadata": {
            "tags": []
          },
          "execution_count": 20
        }
      ]
    },
    {
      "cell_type": "code",
      "metadata": {
        "colab": {
          "base_uri": "https://localhost:8080/",
          "height": 266
        },
        "id": "DTMbAaQjo0uy",
        "outputId": "0ef6bdf5-3ba4-418b-ff3b-99b192392f16"
      },
      "source": [
        "plt.plot(X[0], X[1], 'ro-'); # 'ro-' red circles connected with lines"
      ],
      "execution_count": 21,
      "outputs": [
        {
          "output_type": "display_data",
          "data": {
            "image/png": "[encoded data removed]",
            "text/plain": [
              "<Figure size 432x288 with 1 Axes>"
            ]
          },
          "metadata": {
            "tags": [],
            "needs_background": "light"
          }
        }
      ]
    },
    {
      "cell_type": "code",
      "metadata": {
        "colab": {
          "base_uri": "https://localhost:8080/"
        },
        "id": "uk3nJJdwpSN6",
        "outputId": "674617c6-7603-4e46-e3fd-b054c08b74d6"
      },
      "source": [
        "# random walks are supposed to start at origin (0, 0)\n",
        "\n",
        "X_0 = np.array([[0], [0]]) # origin\n",
        "X = np.concatenate((X_0, X), axis=1) # concatenate origin with cumulative sum (X)\n",
        "X"
      ],
      "execution_count": 22,
      "outputs": [
        {
          "output_type": "execute_result",
          "data": {
            "text/plain": [
              "array([[ 0.        ,  0.48579024, -2.35276882, -2.68112834, -3.31907122,\n",
              "        -4.28903655],\n",
              "       [ 0.        , -0.33415408, -0.85193161, -0.77881583, -0.85333059,\n",
              "         0.16478881]])"
            ]
          },
          "metadata": {
            "tags": []
          },
          "execution_count": 22
        }
      ]
    },
    {
      "cell_type": "code",
      "metadata": {
        "colab": {
          "base_uri": "https://localhost:8080/",
          "height": 266
        },
        "id": "OYwXgKc2rFLf",
        "outputId": "3eddaf7a-acaa-4d04-e8ff-1013b0873f81"
      },
      "source": [
        "plt.plot(X[0], X[1], 'ro-');"
      ],
      "execution_count": 23,
      "outputs": [
        {
          "output_type": "display_data",
          "data": {
            "image/png": "[encoded data removed]",
            "text/plain": [
              "<Figure size 432x288 with 1 Axes>"
            ]
          },
          "metadata": {
            "tags": [],
            "needs_background": "light"
          }
        }
      ]
    },
    {
      "cell_type": "code",
      "metadata": {
        "colab": {
          "base_uri": "https://localhost:8080/",
          "height": 268
        },
        "id": "aJ7nyI1jsisw",
        "outputId": "1519774c-a868-45d9-9bab-ef65dcfe3bf3"
      },
      "source": [
        "# random walk of 100 points (in 2D plane)\n",
        "\n",
        "delta_X = np.random.normal(0, 1, (2, 100)) \n",
        "X = np.cumsum(delta_X, axis=1)\n",
        "X_0 = np.array([[0], [0]])\n",
        "X = np.concatenate((X_0, X), axis=1)\n",
        "plt.plot(X[0], X[1], 'ro-');"
      ],
      "execution_count": 25,
      "outputs": [
        {
          "output_type": "display_data",
          "data": {
            "image/png": "[encoded data removed]",
            "text/plain": [
              "<Figure size 432x288 with 1 Axes>"
            ]
          },
          "metadata": {
            "tags": [],
            "needs_background": "light"
          }
        }
      ]
    },
    {
      "cell_type": "code",
      "metadata": {
        "colab": {
          "base_uri": "https://localhost:8080/",
          "height": 265
        },
        "id": "GEIGijuRs66C",
        "outputId": "992b8dd0-54ae-4109-e907-3a76d42aa052"
      },
      "source": [
        "# random walk of 10000 points (in 2D plane)\n",
        "\n",
        "delta_X = np.random.normal(0, 1, (2, 10000)) \n",
        "X = np.cumsum(delta_X, axis=1)\n",
        "X_0 = np.array([[0], [0]])\n",
        "X = np.concatenate((X_0, X), axis=1)\n",
        "plt.plot(X[0], X[1], 'ro-');"
      ],
      "execution_count": 26,
      "outputs": [
        {
          "output_type": "display_data",
          "data": {
            "image/png": "[encoded data removed]",
            "text/plain": [
              "<Figure size 432x288 with 1 Axes>"
            ]
          },
          "metadata": {
            "tags": [],
            "needs_background": "light"
          }
        }
      ]
    },
    {
      "cell_type": "code",
      "metadata": {
        "colab": {
          "base_uri": "https://localhost:8080/",
          "height": 265
        },
        "id": "4-MLAZiTs_uT",
        "outputId": "bfb27ff3-dda7-45f4-9a52-94dc04c4cfa4"
      },
      "source": [
        "# random walk of 1000000 points (in 2D plane)\n",
        "\n",
        "delta_X = np.random.normal(0, 1, (2, 1000000)) \n",
        "X = np.cumsum(delta_X, axis=1)\n",
        "X_0 = np.array([[0], [0]])\n",
        "X = np.concatenate((X_0, X), axis=1)\n",
        "plt.plot(X[0], X[1], 'ro-');"
      ],
      "execution_count": 27,
      "outputs": [
        {
          "output_type": "display_data",
          "data": {
            "image/png": "[encoded data removed]",
            "text/plain": [
              "<Figure size 432x288 with 1 Axes>"
            ]
          },
          "metadata": {
            "tags": [],
            "needs_background": "light"
          }
        }
      ]
    },
    {
      "cell_type": "markdown",
      "metadata": {
        "id": "TY59qffZbc92"
      },
      "source": [
        "---\n",
        "### **Using Python for Research Homework: Week 2**\n",
        "\n",
        "In this homework, we will use the tools we've covered in the past two weeks to create a tic-tac-toe (noughts and crosses) simulator and evaluate basic winning strategies.\n"
      ]
    },
    {
      "cell_type": "markdown",
      "metadata": {
        "id": "Ob-qYiqubinY"
      },
      "source": [
        "### **Exercise 1**\n",
        "\n",
        "Tic-tac-toe (or noughts and crosses) is a simple strategy game in which two players take turns placing a mark on a 3x3 board, attempting to make a row, column, or diagonal of three with their mark. In this homework, we will use the tools we've covered in the past two weeks to create a tic-tac-toe simulator and evaluate basic winning strategies.\n",
        "\n",
        "In the following exercises, we will learn to create a tic-tac-toe board, place markers on the board, evaluate if either player has won, and use this to simulate two basic strategies.\n",
        "\n",
        "**Instructions**\n",
        "\n",
        "- For our tic-tac-toe board, we will use a numpy array with dimension 3 by 3.\n",
        "- Make a function `create_board()` that creates such a board with the value of each cell set to the integer `0`.\n",
        "- Call `create_board()` and store it.\n",
        "\n"
      ]
    },
    {
      "cell_type": "code",
      "metadata": {
        "colab": {
          "base_uri": "https://localhost:8080/"
        },
        "id": "h2SV0_v8cJUR",
        "outputId": "f6081b13-fed4-4190-852a-8b8561d0d6eb"
      },
      "source": [
        "# write your code here!\n",
        "\n",
        "import numpy as np\n",
        "\n",
        "def create_board():\n",
        "    board = np.zeros((3, 3), dtype=int)\n",
        "    return board\n",
        "\n",
        "create_board() "
      ],
      "execution_count": 2,
      "outputs": [
        {
          "output_type": "execute_result",
          "data": {
            "text/plain": [
              "array([[0, 0, 0],\n",
              "       [0, 0, 0],\n",
              "       [0, 0, 0]])"
            ]
          },
          "metadata": {
            "tags": []
          },
          "execution_count": 2
        }
      ]
    },
    {
      "cell_type": "markdown",
      "metadata": {
        "id": "Lxu-m4d1c6my"
      },
      "source": [
        "### **Exercise 2**\n",
        "\n",
        "Players 1 and 2 will take turns changing values of this array from a 0 to a 1 or 2, indicating the number of the player who places a marker there.\n",
        "\n",
        "**Instructions**\n",
        "\n",
        "- Create a function `place(board, player, position)`, where: \n",
        "    - `player` is the current player (an integer 1 or 2).\n",
        "    - `position` is a tuple of length 2 specifying a desired location to place their marker.\n",
        "    - Your function should only allow the current player to place a marker on the board (change the board position to their number) if that position is empty (zero).\n",
        "- Use `create_board()` to store a board as `board`, and use `place` to have Player 1 place a marker on location `(0, 0)`.\n"
      ]
    },
    {
      "cell_type": "code",
      "metadata": {
        "colab": {
          "base_uri": "https://localhost:8080/"
        },
        "id": "dmptma-OeLO1",
        "outputId": "22d8ed38-c95e-463e-ec79-4620df0d9e86"
      },
      "source": [
        "# write your code here!\n",
        "\n",
        "def place(board, player, position):\n",
        "    if board[position] == 0:\n",
        "        board[position] = player\n",
        "        return board\n",
        "\n",
        "board = create_board()\n",
        "place(board, 1, (0, 0)) # place 1 at board[0][0]"
      ],
      "execution_count": 13,
      "outputs": [
        {
          "output_type": "execute_result",
          "data": {
            "text/plain": [
              "array([[1, 0, 0],\n",
              "       [0, 0, 0],\n",
              "       [0, 0, 0]])"
            ]
          },
          "metadata": {
            "tags": []
          },
          "execution_count": 13
        }
      ]
    },
    {
      "cell_type": "markdown",
      "metadata": {
        "id": "s-q2I7hHfFQ9"
      },
      "source": [
        "### **Exercise 3**\n",
        "\n",
        "In this exercise, we will determine which positions are available to either player for placing their marker.\n",
        "Instructions\n",
        "\n",
        "- Create a function `possibilities(board)` that returns a list of all positions (tuples) on the board that are not occupied (`0`). (Hint: `numpy.where` is a handy function that returns a list of indices that meet a condition.)\n",
        "- `board` is already defined from previous exercises. Call `possibilities(board)` to see what it returns!\n",
        "\n"
      ]
    },
    {
      "cell_type": "code",
      "metadata": {
        "colab": {
          "base_uri": "https://localhost:8080/"
        },
        "id": "MtAuMXWufdCT",
        "outputId": "ec4bdc49-e867-4d30-f627-bd27960cbfa2"
      },
      "source": [
        "# write your code here!\n",
        "\n",
        "def possibilities(board):\n",
        "    return np.transpose(np.where(board == 0))\n",
        "    \n",
        "possibilities(board)"
      ],
      "execution_count": 14,
      "outputs": [
        {
          "output_type": "execute_result",
          "data": {
            "text/plain": [
              "array([[0, 1],\n",
              "       [0, 2],\n",
              "       [1, 0],\n",
              "       [1, 1],\n",
              "       [1, 2],\n",
              "       [2, 0],\n",
              "       [2, 1],\n",
              "       [2, 2]])"
            ]
          },
          "metadata": {
            "tags": []
          },
          "execution_count": 14
        }
      ]
    },
    {
      "cell_type": "markdown",
      "metadata": {
        "id": "m_NRBxCJioPL"
      },
      "source": [
        "### **Exercise 4**\n",
        "\n",
        "The next step is for the current player to place a marker among the available positions. In this exercise, we will select an available board position at random and place a marker there.\n",
        "Instructions\n",
        "\n",
        "- Write a function `random_place(board, player)` that places a marker for the current player at random among all the available positions (those currently set to `0`).\n",
        "    - Find possible placements with `possibilities(board)`.\n",
        "    - Select one possible placement at random using `random.choice(selection)`.\n",
        "- `board` is already defined from previous exercises. Call `random_place(board, player)` to place a random marker for Player 2, and store this as board to update its value.\n",
        "\n"
      ]
    },
    {
      "cell_type": "code",
      "metadata": {
        "colab": {
          "base_uri": "https://localhost:8080/"
        },
        "id": "bWa6K_mzjK9O",
        "outputId": "901b3c63-c83b-47d2-e029-4035672cca9a"
      },
      "source": [
        "import random \n",
        "random.seed(1)\n",
        "\n",
        "# write your code here!\n",
        "\n",
        "def random_place(board, player):\n",
        "    selections = possibilities(board)\n",
        "    if len(selections) > 0:\n",
        "        selection = random.choice(selections)\n",
        "        place(board, player, tuple(selection))\n",
        "\n",
        "    return board\n",
        "\n",
        "random_place(board, 2)\n",
        "board"
      ],
      "execution_count": 15,
      "outputs": [
        {
          "output_type": "execute_result",
          "data": {
            "text/plain": [
              "array([[1, 0, 0],\n",
              "       [2, 0, 0],\n",
              "       [0, 0, 0]])"
            ]
          },
          "metadata": {
            "tags": []
          },
          "execution_count": 15
        }
      ]
    },
    {
      "cell_type": "markdown",
      "metadata": {
        "id": "9tOGp_7V_5zZ"
      },
      "source": [
        "### **Exercise 5**\n",
        "\n",
        "We will now have both players place three markers each.\n",
        "\n",
        "**Instructions**\n",
        "\n",
        "- A new `board` is already given. Call `random_place(board, player)` to place three pieces each on board for players 1 and 2.\n",
        "- Print board to see your result.\n"
      ]
    },
    {
      "cell_type": "code",
      "metadata": {
        "colab": {
          "base_uri": "https://localhost:8080/"
        },
        "id": "4klfq1lsASDo",
        "outputId": "8b2f1f71-2751-4d52-8c91-1ed1e333a568"
      },
      "source": [
        "random.seed(1)\n",
        "board = create_board()\n",
        "\n",
        "# write your code here!\n",
        "\n",
        "for i in range(3):\n",
        "    random_place(board, 1)\n",
        "    random_place(board, 2)\n",
        "\n",
        "board"
      ],
      "execution_count": 18,
      "outputs": [
        {
          "output_type": "execute_result",
          "data": {
            "text/plain": [
              "array([[2, 2, 1],\n",
              "       [0, 1, 0],\n",
              "       [0, 1, 2]])"
            ]
          },
          "metadata": {
            "tags": []
          },
          "execution_count": 18
        }
      ]
    },
    {
      "cell_type": "markdown",
      "metadata": {
        "id": "qbrNTlfyC4Fg"
      },
      "source": [
        "### **Exercise 6**\n",
        "\n",
        "In the next few exercises, we will make functions that check whether either player has won the game.\n",
        "\n",
        "**Instructions**\n",
        "\n",
        "- Make a function `row_win(board, player)` that takes the player (integer) and determines if any row consists of only their marker.\n",
        "    - Have it return `True` if this condition is met and `False` otherwise.\n",
        "- `board` is already defined from previous exercises. Call `row_win` to check if Player 1 has a complete row.\n"
      ]
    },
    {
      "cell_type": "code",
      "metadata": {
        "colab": {
          "base_uri": "https://localhost:8080/"
        },
        "id": "QvzolBqDDY_J",
        "outputId": "557f86c2-b4b4-4e94-a3ea-a770977b7a5b"
      },
      "source": [
        "# write your code here!\n",
        "\n",
        "def row_win(board, player):\n",
        "    if np.any(np.all(board == player, axis=1)): \n",
        "        # this checks if any row contains all positions equal to player.\n",
        "        return True\n",
        "    else:\n",
        "        return False\n",
        "\n",
        "row_win(board, 1)"
      ],
      "execution_count": 28,
      "outputs": [
        {
          "output_type": "execute_result",
          "data": {
            "text/plain": [
              "False"
            ]
          },
          "metadata": {
            "tags": []
          },
          "execution_count": 28
        }
      ]
    },
    {
      "cell_type": "markdown",
      "metadata": {
        "id": "dt2ED3qFERGp"
      },
      "source": [
        "### **Exercise 7**\n",
        "\n",
        "In the next few exercises, we will make functions that verify if either player has won the game.\n",
        "\n",
        "**Instructions**\n",
        "\n",
        "- Make a function `col_win(board, player)` that takes the player (integer) and determines if any column consists of only their marker.\n",
        "    - Have it return `True` if this condition is met and `False` otherwise.\n",
        "- `board` is already defined from previous exercises. Call `col_win` to check if Player 1 has a complete row.\n",
        "\n"
      ]
    },
    {
      "cell_type": "code",
      "metadata": {
        "colab": {
          "base_uri": "https://localhost:8080/"
        },
        "id": "7LGw8vfWEkdI",
        "outputId": "834c9170-bbd1-4eef-9af0-39164749f2a7"
      },
      "source": [
        "# write your code here!\n",
        "\n",
        "def col_win(board, player):\n",
        "    if np.any(np.all(board == player, axis=0)): \n",
        "        # this checks if any column contains all positions equal to player\n",
        "        return True\n",
        "    else:\n",
        "        return False\n",
        "\n",
        "col_win(board, 1)"
      ],
      "execution_count": 29,
      "outputs": [
        {
          "output_type": "execute_result",
          "data": {
            "text/plain": [
              "False"
            ]
          },
          "metadata": {
            "tags": []
          },
          "execution_count": 29
        }
      ]
    },
    {
      "cell_type": "markdown",
      "metadata": {
        "id": "X6T1JRwEGkqE"
      },
      "source": [
        "### **Exercise 8**\n",
        "\n",
        "In the next few exercises, we will make functions that verify if either player has won the game.\n",
        "\n",
        "**Instructions**\n",
        "\n",
        "- Finally, create a function `diag_win(board, player)` that tests if either diagonal of the board consists of only their marker. Have it return `True` if this condition is met, and `False` otherwise.\n",
        "- `board` has been slightly modified from a previous exercise. Call `diag_win` to check if Player 2 has a complete diagonal.\n",
        "\n"
      ]
    },
    {
      "cell_type": "code",
      "metadata": {
        "colab": {
          "base_uri": "https://localhost:8080/"
        },
        "id": "yK4V5McUG6E6",
        "outputId": "43306665-7575-44fa-e91a-98545b19d9ef"
      },
      "source": [
        "board[1, 1] = 2\n",
        "\n",
        "# write your code here!\n",
        "\n",
        "def diag_win(board, player):\n",
        "    if np.all(np.diag(board) == player) or np.all(np.diag(np.fliplr(board)) == player):\n",
        "        # np.diag() returns the diagonal of the array\n",
        "        # np.fliplr() rearranges columns in reverse order\n",
        "        return True\n",
        "    else:\n",
        "        return False\n",
        "\n",
        "diag_win(board, 2)"
      ],
      "execution_count": 30,
      "outputs": [
        {
          "output_type": "execute_result",
          "data": {
            "text/plain": [
              "True"
            ]
          },
          "metadata": {
            "tags": []
          },
          "execution_count": 30
        }
      ]
    },
    {
      "cell_type": "markdown",
      "metadata": {
        "id": "LvHoh6f2iXlB"
      },
      "source": [
        "### **Exercise 9**\n",
        "\n",
        "In the next few exercises, we will make functions that check whether either player has won the game.\n",
        "\n",
        "**Instructions**\n",
        "\n",
        "- Create a function `evaluate(board)` that uses `row_win`, `col_win`, and `diag_win` functions for both players. If one of them has won, return that player's number. If the board is full but no one has won, return `-1`. Otherwise, return `0`.\n",
        "- `board` is already defined from previous exercises. Call evaluate to see if either player has won the game yet.\n",
        "\n"
      ]
    },
    {
      "cell_type": "code",
      "metadata": {
        "colab": {
          "base_uri": "https://localhost:8080/"
        },
        "id": "pS09jXmFiwJD",
        "outputId": "9038c834-779e-4789-b2ae-cc0c03d81904"
      },
      "source": [
        "def evaluate(board):\n",
        "    winner = 0\n",
        "    for player in [1, 2]:\n",
        "        # add your code here!\n",
        "        if row_win(board, player) or col_win(board, player) or diag_win(board, player):\n",
        "            winner = player\n",
        "\n",
        "    if np.all(board != 0) and winner == 0:\n",
        "        winner = -1\n",
        "\n",
        "    return winner\n",
        "\n",
        "evaluate(board)"
      ],
      "execution_count": 33,
      "outputs": [
        {
          "output_type": "execute_result",
          "data": {
            "text/plain": [
              "2"
            ]
          },
          "metadata": {
            "tags": []
          },
          "execution_count": 33
        }
      ]
    },
    {
      "cell_type": "markdown",
      "metadata": {
        "id": "AqnYA_SdkZSl"
      },
      "source": [
        "### **Exercise 10**\n",
        "\n",
        "In this exercise, we will use all the functions we have made to simulate an entire game.\n",
        "\n",
        "**Instructions**\n",
        "\n",
        "- `create_board()`, `random_place(board, player)`, and `evaluate(board)` have been created in previous exercises. Create a function `play_game()` that:\n",
        "    - Creates a board.\n",
        "    - Alternates taking turns between two players (beginning with Player 1), placing a marker during each turn.\n",
        "    - Evaluates the board for a winner after each placement.\n",
        "        Continues the game until one player wins (returning 1 or 2 to reflect the winning player), or the game is a draw (returning -1).\n",
        "- Call `play_game` 1000 times, and store the results of the game in a list called `results`.\n",
        "\n"
      ]
    },
    {
      "cell_type": "code",
      "metadata": {
        "id": "e4PP-0q2k30u"
      },
      "source": [
        "random.seed(1)\n",
        "\n",
        "# write your code here!\n",
        "\n",
        "def play_game():\n",
        "    board = create_board()\n",
        "    winner = 0\n",
        "    while winner == 0:\n",
        "        for player in [1, 2]:\n",
        "            random_place(board, player)\n",
        "            winner = evaluate(board)\n",
        "            if winner != 0:\n",
        "                break\n",
        "                \n",
        "    return winner\n",
        "\n",
        "results = [play_game() for i in range(1000)]"
      ],
      "execution_count": 39,
      "outputs": []
    },
    {
      "cell_type": "markdown",
      "metadata": {
        "id": "pZxLS58zneUF"
      },
      "source": [
        "How many times does Player 1 win out of 1000 games?  \n",
        "Answer → 591"
      ]
    },
    {
      "cell_type": "code",
      "metadata": {
        "colab": {
          "base_uri": "https://localhost:8080/"
        },
        "id": "aXbs5umInmRU",
        "outputId": "ece8840c-568f-494f-a5a6-fb054c02d6cd"
      },
      "source": [
        "results.count(1)"
      ],
      "execution_count": 40,
      "outputs": [
        {
          "output_type": "execute_result",
          "data": {
            "text/plain": [
              "591"
            ]
          },
          "metadata": {
            "tags": []
          },
          "execution_count": 40
        }
      ]
    },
    {
      "cell_type": "markdown",
      "metadata": {
        "id": "IW801TIqpjGZ"
      },
      "source": [
        "### **Exercise 11**\n",
        "\n",
        "In the previous exercise, we see that when guessing at random, it's better to go first, as expected. Let's see if Player 1 can improve their strategy.\n",
        "\n",
        "**Instructions**\n",
        "\n",
        "- Create a function `play_strategic_game()`, where Player 1 always starts with the middle square, and otherwise both players place their markers randomly.\n",
        "- Call `play_strategic_game` 1000 times.\n",
        "\n"
      ]
    },
    {
      "cell_type": "code",
      "metadata": {
        "id": "_re22h4kpvhx"
      },
      "source": [
        "random.seed(1)\n",
        "\n",
        "# write your code here\n",
        "\n",
        "def play_game():\n",
        "    board = create_board()\n",
        "    winner = 0\n",
        "    place(board, 1, (1, 1)) # player 1 starts with the middle square\n",
        "    while winner == 0:\n",
        "        for player in [2, 1]:\n",
        "            random_place(board, player)\n",
        "            winner = evaluate(board)\n",
        "            if winner != 0:\n",
        "                break\n",
        "                \n",
        "    return winner\n",
        "\n",
        "results = [play_game() for i in range(1000)]"
      ],
      "execution_count": 43,
      "outputs": []
    },
    {
      "cell_type": "markdown",
      "metadata": {
        "id": "V6GZQFT2qx3L"
      },
      "source": [
        "How many times does Player 1 win out of 1000 games with this new strategy?  \n",
        "Answer → 716"
      ]
    },
    {
      "cell_type": "code",
      "metadata": {
        "colab": {
          "base_uri": "https://localhost:8080/"
        },
        "id": "ecBLWtywq7iE",
        "outputId": "eae2b85a-5d92-4a8c-95c8-1f2da8f21b29"
      },
      "source": [
        "results.count(1)"
      ],
      "execution_count": 44,
      "outputs": [
        {
          "output_type": "execute_result",
          "data": {
            "text/plain": [
              "716"
            ]
          },
          "metadata": {
            "tags": []
          },
          "execution_count": 44
        }
      ]
    }
  ]
}