{
  "nbformat": 4,
  "nbformat_minor": 0,
  "metadata": {
    "colab": {
      "name": "dna-translation.ipynb",
      "provenance": [],
      "authorship_tag": "ABX9TyNfn2hXjDyG4uZ4mvbKUjA/",
      "include_colab_link": true
    },
    "kernelspec": {
      "name": "python3",
      "display_name": "Python 3"
    },
    "language_info": {
      "name": "python"
    }
  },
  "cells": [
    {
      "cell_type": "markdown",
      "metadata": {
        "id": "view-in-github",
        "colab_type": "text"
      },
      "source": [
        "<a href=\"https://colab.research.google.com/github/menobleknight/using-python-for-research/blob/main/dna-translation/dna-translation.ipynb\" target=\"_parent\"><img src=\"https://colab.research.google.com/assets/colab-badge.svg\" alt=\"Open In Colab\"/></a>"
      ]
    },
    {
      "cell_type": "markdown",
      "metadata": {
        "id": "k5DJW7uj3-Bw"
      },
      "source": [
        "### `Case Study: DNA Translation`\n",
        "\n",
        "**Instructions**\n",
        "- Download [`DNA`](https://www.ncbi.nlm.nih.gov/nuccore/NM_207618.2?from=1&to=1157) and [`protein`](https://www.ncbi.nlm.nih.gov/nuccore/NM_207618.2?from=21&to=938) sequence data and store them in a two different files `dna.txt` and `protein.txt`.\n",
        "- Import `DNA` data in python.\n",
        "- Create an algorithm to translate the `DNA`.\n",
        "- Check if translated `DNA` matches with the downloaded `protein` sequence."
      ]
    },
    {
      "cell_type": "code",
      "metadata": {
        "colab": {
          "base_uri": "https://localhost:8080/",
          "height": 150
        },
        "id": "OIUz1q084I_z",
        "outputId": "27a7968a-0b84-43f0-ba51-35aba8f32966"
      },
      "source": [
        "def read_seq(path):\n",
        "    import urllib, bs4\n",
        "    with urllib.request.urlopen(path) as f:\n",
        "        seq = str(bs4.BeautifulSoup(f)('td')[1].contents[0])\n",
        "\n",
        "    return seq\n",
        "\n",
        "path = \"https://github.com/menobleknight/using-python-for-research/blob/main/dna-translation/dna.txt\" # dna.txt\n",
        "seq = read_seq(path)\n",
        "seq"
      ],
      "execution_count": 12,
      "outputs": [
        {
          "output_type": "execute_result",
          "data": {
            "application/vnd.google.colaboratory.intrinsic+json": {
              "type": "string"
            },
            "text/plain": [
              "'GGTCAGAAAAAGCCCTCTCCATGTCTACTCACGATACATCCCTGAAAACCACTGAGGAAGTGGCTTTTCAGATCATCTTGCTTTGCCAGTTTGGGGTTGGGACTTTTGCCAATGTATTTCTCTTTGTCTATAATTTCTCTCCAATCTCGACTGGTTCTAAACAGAGGCCCAGACAAGTGATTTTAAGACACATGGCTGTGGCCAATGCCTTAACTCTCTTCCTCACTATATTTCCAAACAACATGATGACTTTTGCTCCAATTATTCCTCAAACTGACCTCAAATGTAAATTAGAATTCTTCACTCGCCTCGTGGCAAGAAGCACAAACTTGTGTTCAACTTGTGTTCTGAGTATCCATCAGTTTGTCACACTTGTTCCTGTTAATTCAGGTAAAGGAATACTCAGAGCAAGTGTCACAAACATGGCAAGTTATTCTTGTTACAGTTGTTGGTTCTTCAGTGTCTTAAATAACATCTACATTCCAATTAAGGTCACTGGTCCACAGTTAACAGACAATAACAATAACTCTAAAAGCAAGTTGTTCTGTTCCACTTCTGATTTCAGTGTAGGCATTGTCTTCTTGAGGTTTGCCCATGATGCCACATTCATGAGCATCATGGTCTGGACCAGTGTCTCCATGGTACTTCTCCTCCATAGACATTGTCAGAGAATGCAGTACATATTCACTCTCAATCAGGACCCCAGGGGCCAAGCAGAGACCACAGCAACCCATACTATCCTGATGCTGGTAGTCACATTTGTTGGCTTTTATCTTCTAAGTCTTATTTGTATCATCTTTTACACCTATTTTATATATTCTCATCATTCCCTGAGGCATTGCAATGACATTTTGGTTTCGGGTTTCCCTACAATTTCTCCTTTACTGTTGACCTTCAGAGACCCTAAGGGTCCTTGTTCTGTGTTCTTCAACTGTTGAAAGCCAGAGTCACTAAAAATGCCAAACACAGAAGACAGCTTTGCTAATACCATTAAATACTTTATTCCATAAATATGTTTTTAAAAGCTTGTATGAACAAGGTATGGTGCTCACTGCTATACTTATAAAAGAGTAAGGTTATAATCACTTGTTGATATGAAAAGATTTCTGGTTGGAATCTGATTGAAACAGTGAGTTATTCACCACCCTCCATTCTCT'"
            ]
          },
          "metadata": {
            "tags": []
          },
          "execution_count": 12
        }
      ]
    },
    {
      "cell_type": "code",
      "metadata": {
        "colab": {
          "base_uri": "https://localhost:8080/",
          "height": 38
        },
        "id": "XzPgv56t4ZPl",
        "outputId": "90481052-8e4b-4f60-bad6-4e35f37109e2"
      },
      "source": [
        "def translate(seq):\n",
        "    \"\"\" \n",
        "    Translate a string containing a nucleotide sequence into a string containing the corresponding sequence of amino acids. \n",
        "    Nucleotides are translated in triplets using the table dictionary; each amino acid 4 is encoded with a string of length 1. \n",
        "    \"\"\"\n",
        "    table = {\n",
        "        'ATA':'I', 'ATC':'I', 'ATT':'I', 'ATG':'M',\n",
        "        'ACA':'T', 'ACC':'T', 'ACG':'T', 'ACT':'T',\n",
        "        'AAC':'N', 'AAT':'N', 'AAA':'K', 'AAG':'K',\n",
        "        'AGC':'S', 'AGT':'S', 'AGA':'R', 'AGG':'R',\n",
        "        'CTA':'L', 'CTC':'L', 'CTG':'L', 'CTT':'L',\n",
        "        'CCA':'P', 'CCC':'P', 'CCG':'P', 'CCT':'P',\n",
        "        'CAC':'H', 'CAT':'H', 'CAA':'Q', 'CAG':'Q',\n",
        "        'CGA':'R', 'CGC':'R', 'CGG':'R', 'CGT':'R',\n",
        "        'GTA':'V', 'GTC':'V', 'GTG':'V', 'GTT':'V',\n",
        "        'GCA':'A', 'GCC':'A', 'GCG':'A', 'GCT':'A',\n",
        "        'GAC':'D', 'GAT':'D', 'GAA':'E', 'GAG':'E',\n",
        "        'GGA':'G', 'GGC':'G', 'GGG':'G', 'GGT':'G',\n",
        "        'TCA':'S', 'TCC':'S', 'TCG':'S', 'TCT':'S',\n",
        "        'TTC':'F', 'TTT':'F', 'TTA':'L', 'TTG':'L',\n",
        "        'TAC':'Y', 'TAT':'Y', 'TAA':'_', 'TAG':'_',\n",
        "        'TGC':'C', 'TGT':'C', 'TGA':'_', 'TGG':'W',\n",
        "    }\n",
        "    protein = \"\"\n",
        "    if len(seq) % 3 == 0:\n",
        "        for i in range(0, len(seq), 3):\n",
        "            codon = seq[i:i+3]\n",
        "            protein += table[codon]\n",
        "\n",
        "    return protein\n",
        "\n",
        "translate(\"GCC\")"
      ],
      "execution_count": 13,
      "outputs": [
        {
          "output_type": "execute_result",
          "data": {
            "application/vnd.google.colaboratory.intrinsic+json": {
              "type": "string"
            },
            "text/plain": [
              "'A'"
            ]
          },
          "metadata": {
            "tags": []
          },
          "execution_count": 13
        }
      ]
    },
    {
      "cell_type": "code",
      "metadata": {
        "colab": {
          "base_uri": "https://localhost:8080/",
          "height": 75
        },
        "id": "Ya5BfdYJ4iu-",
        "outputId": "950c3cbc-a333-4352-e5cb-1df7d726e843"
      },
      "source": [
        "dna_path = \"https://github.com/menobleknight/using-python-for-research/blob/main/dna-translation/dna.txt\" # dna.tx\n",
        "dna = read_seq(dna_path)\n",
        "\n",
        "prt_path = \"https://github.com/menobleknight/using-python-for-research/blob/main/dna-translation/protein.txt\" # protein.txt\n",
        "prt = read_seq(prt_path)\n",
        "\n",
        "prt"
      ],
      "execution_count": 14,
      "outputs": [
        {
          "output_type": "execute_result",
          "data": {
            "application/vnd.google.colaboratory.intrinsic+json": {
              "type": "string"
            },
            "text/plain": [
              "'MSTHDTSLKTTEEVAFQIILLCQFGVGTFANVFLFVYNFSPISTGSKQRPRQVILRHMAVANALTLFLTIFPNNMMTFAPIIPQTDLKCKLEFFTRLVARSTNLCSTCVLSIHQFVTLVPVNSGKGILRASVTNMASYSCYSCWFFSVLNNIYIPIKVTGPQLTDNNNNSKSKLFCSTSDFSVGIVFLRFAHDATFMSIMVWTSVSMVLLLHRHCQRMQYIFTLNQDPRGQAETTATHTILMLVVTFVGFYLLSLICIIFYTYFIYSHHSLRHCNDILVSGFPTISPLLLTFRDPKGPCSVFFNC'"
            ]
          },
          "metadata": {
            "tags": []
          },
          "execution_count": 14
        }
      ]
    },
    {
      "cell_type": "code",
      "metadata": {
        "colab": {
          "base_uri": "https://localhost:8080/",
          "height": 75
        },
        "id": "0jy4QM4U4orL",
        "outputId": "f498f1e2-9a3e-4aea-f655-b0006b99eff1"
      },
      "source": [
        "translate(dna[20:938]) # at NCBI website, dna is encoded from position 21 to 938 (1-based indexing)"
      ],
      "execution_count": 15,
      "outputs": [
        {
          "output_type": "execute_result",
          "data": {
            "application/vnd.google.colaboratory.intrinsic+json": {
              "type": "string"
            },
            "text/plain": [
              "'MSTHDTSLKTTEEVAFQIILLCQFGVGTFANVFLFVYNFSPISTGSKQRPRQVILRHMAVANALTLFLTIFPNNMMTFAPIIPQTDLKCKLEFFTRLVARSTNLCSTCVLSIHQFVTLVPVNSGKGILRASVTNMASYSCYSCWFFSVLNNIYIPIKVTGPQLTDNNNNSKSKLFCSTSDFSVGIVFLRFAHDATFMSIMVWTSVSMVLLLHRHCQRMQYIFTLNQDPRGQAETTATHTILMLVVTFVGFYLLSLICIIFYTYFIYSHHSLRHCNDILVSGFPTISPLLLTFRDPKGPCSVFFNC_'"
            ]
          },
          "metadata": {
            "tags": []
          },
          "execution_count": 15
        }
      ]
    },
    {
      "cell_type": "code",
      "metadata": {
        "colab": {
          "base_uri": "https://localhost:8080/",
          "height": 75
        },
        "id": "YsBQM6cL4zVX",
        "outputId": "d7399fbe-15fd-4a21-c0cf-470bf02fabc1"
      },
      "source": [
        "translate(dna[20:935]) # to skip last codon (underscore)"
      ],
      "execution_count": 16,
      "outputs": [
        {
          "output_type": "execute_result",
          "data": {
            "application/vnd.google.colaboratory.intrinsic+json": {
              "type": "string"
            },
            "text/plain": [
              "'MSTHDTSLKTTEEVAFQIILLCQFGVGTFANVFLFVYNFSPISTGSKQRPRQVILRHMAVANALTLFLTIFPNNMMTFAPIIPQTDLKCKLEFFTRLVARSTNLCSTCVLSIHQFVTLVPVNSGKGILRASVTNMASYSCYSCWFFSVLNNIYIPIKVTGPQLTDNNNNSKSKLFCSTSDFSVGIVFLRFAHDATFMSIMVWTSVSMVLLLHRHCQRMQYIFTLNQDPRGQAETTATHTILMLVVTFVGFYLLSLICIIFYTYFIYSHHSLRHCNDILVSGFPTISPLLLTFRDPKGPCSVFFNC'"
            ]
          },
          "metadata": {
            "tags": []
          },
          "execution_count": 16
        }
      ]
    },
    {
      "cell_type": "code",
      "metadata": {
        "colab": {
          "base_uri": "https://localhost:8080/"
        },
        "id": "yPNrI0n05LZX",
        "outputId": "55b8951f-c72e-4c6f-b24c-465a79915325"
      },
      "source": [
        "prt == translate(dna[20:935])"
      ],
      "execution_count": 17,
      "outputs": [
        {
          "output_type": "execute_result",
          "data": {
            "text/plain": [
              "True"
            ]
          },
          "metadata": {
            "tags": []
          },
          "execution_count": 17
        }
      ]
    }
  ]
}