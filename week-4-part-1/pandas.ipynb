{
  "nbformat": 4,
  "nbformat_minor": 0,
  "metadata": {
    "colab": {
      "name": "pandas.ipynb",
      "provenance": [],
      "collapsed_sections": [],
      "authorship_tag": "ABX9TyPAQigzfR+IH/Pc/2RF7OWb",
      "include_colab_link": true
    },
    "kernelspec": {
      "name": "python3",
      "display_name": "Python 3"
    },
    "language_info": {
      "name": "python"
    }
  },
  "cells": [
    {
      "cell_type": "markdown",
      "metadata": {
        "id": "view-in-github",
        "colab_type": "text"
      },
      "source": [
        "<a href=\"https://colab.research.google.com/github/menobleknight/using-python-for-research/blob/main/week-4-part-1/pandas.ipynb\" target=\"_parent\"><img src=\"https://colab.research.google.com/assets/colab-badge.svg\" alt=\"Open In Colab\"/></a>"
      ]
    },
    {
      "cell_type": "markdown",
      "metadata": {
        "id": "eYtuwJsziVrF"
      },
      "source": [
        "### [`pandas.Series`](https://pandas.pydata.org/pandas-docs/stable/reference/api/pandas.Series.html)\n",
        "\n",
        "- `It is a one-dimensional array-like object.`\n"
      ]
    },
    {
      "cell_type": "code",
      "metadata": {
        "colab": {
          "base_uri": "https://localhost:8080/"
        },
        "id": "eeXneK-AhAo_",
        "outputId": "9ce3c06a-8683-463b-bc0a-e14dd5d4df70"
      },
      "source": [
        "import pandas as pd\n",
        "\n",
        "x = pd.Series([6, 3, 8, 6]) # creating Series from List\n",
        "x"
      ],
      "execution_count": 13,
      "outputs": [
        {
          "output_type": "execute_result",
          "data": {
            "text/plain": [
              "0    6\n",
              "1    3\n",
              "2    8\n",
              "3    6\n",
              "dtype: int64"
            ]
          },
          "metadata": {
            "tags": []
          },
          "execution_count": 13
        }
      ]
    },
    {
      "cell_type": "code",
      "metadata": {
        "colab": {
          "base_uri": "https://localhost:8080/"
        },
        "id": "82gkdAvHj1Z4",
        "outputId": "4eb892bc-b7ce-4950-cb62-a3ec6a2dc53b"
      },
      "source": [
        "x = pd.Series([6, 3, 8, 6], index=[\"q\", \"w\", \"e\", \"r\"]) # specifying indices\n",
        "x"
      ],
      "execution_count": 14,
      "outputs": [
        {
          "output_type": "execute_result",
          "data": {
            "text/plain": [
              "q    6\n",
              "w    3\n",
              "e    8\n",
              "r    6\n",
              "dtype: int64"
            ]
          },
          "metadata": {
            "tags": []
          },
          "execution_count": 14
        }
      ]
    },
    {
      "cell_type": "code",
      "metadata": {
        "colab": {
          "base_uri": "https://localhost:8080/"
        },
        "id": "lbvcvSS2kByk",
        "outputId": "b24c26a0-7a8b-4f5a-eeae-f03940a1f625"
      },
      "source": [
        "x[\"w\"]"
      ],
      "execution_count": 15,
      "outputs": [
        {
          "output_type": "execute_result",
          "data": {
            "text/plain": [
              "3"
            ]
          },
          "metadata": {
            "tags": []
          },
          "execution_count": 15
        }
      ]
    },
    {
      "cell_type": "code",
      "metadata": {
        "colab": {
          "base_uri": "https://localhost:8080/"
        },
        "id": "ejxqg5XOkHxk",
        "outputId": "a6549016-96a0-44da-990a-0f22d90e94f8"
      },
      "source": [
        "x[[\"r\", \"w\"]]"
      ],
      "execution_count": 16,
      "outputs": [
        {
          "output_type": "execute_result",
          "data": {
            "text/plain": [
              "r    6\n",
              "w    3\n",
              "dtype: int64"
            ]
          },
          "metadata": {
            "tags": []
          },
          "execution_count": 16
        }
      ]
    },
    {
      "cell_type": "code",
      "metadata": {
        "colab": {
          "base_uri": "https://localhost:8080/"
        },
        "id": "15HbsxVjnU0R",
        "outputId": "896ee55d-8ead-47c3-caac-fedf00531dbf"
      },
      "source": [
        "x.index"
      ],
      "execution_count": 17,
      "outputs": [
        {
          "output_type": "execute_result",
          "data": {
            "text/plain": [
              "Index(['q', 'w', 'e', 'r'], dtype='object')"
            ]
          },
          "metadata": {
            "tags": []
          },
          "execution_count": 17
        }
      ]
    },
    {
      "cell_type": "code",
      "metadata": {
        "colab": {
          "base_uri": "https://localhost:8080/"
        },
        "id": "NL3EGeywna8_",
        "outputId": "e54a6e5b-fe6b-4f66-c2f0-cd0415c3b1af"
      },
      "source": [
        "sorted(x.index)"
      ],
      "execution_count": 18,
      "outputs": [
        {
          "output_type": "execute_result",
          "data": {
            "text/plain": [
              "['e', 'q', 'r', 'w']"
            ]
          },
          "metadata": {
            "tags": []
          },
          "execution_count": 18
        }
      ]
    },
    {
      "cell_type": "code",
      "metadata": {
        "colab": {
          "base_uri": "https://localhost:8080/"
        },
        "id": "Upb3B_96ndu1",
        "outputId": "adf59f72-53bb-42d1-b59d-631825dcaabe"
      },
      "source": [
        "x.reindex(sorted(x.index))"
      ],
      "execution_count": 19,
      "outputs": [
        {
          "output_type": "execute_result",
          "data": {
            "text/plain": [
              "e    8\n",
              "q    6\n",
              "r    6\n",
              "w    3\n",
              "dtype: int64"
            ]
          },
          "metadata": {
            "tags": []
          },
          "execution_count": 19
        }
      ]
    },
    {
      "cell_type": "code",
      "metadata": {
        "colab": {
          "base_uri": "https://localhost:8080/"
        },
        "id": "v76E7TZKkO4l",
        "outputId": "8465eedb-793f-47e2-9519-2df61df1e570"
      },
      "source": [
        "age = {\"Tim\": 29, \"Jim\": 31, \"Pam\": 27, \"Sam\": 35} # creating Series from Dictionary\n",
        "\n",
        "x = pd.Series(age)\n",
        "x"
      ],
      "execution_count": null,
      "outputs": [
        {
          "output_type": "execute_result",
          "data": {
            "text/plain": [
              "Tim    29\n",
              "Jim    31\n",
              "Pam    27\n",
              "Sam    35\n",
              "dtype: int64"
            ]
          },
          "metadata": {
            "tags": []
          },
          "execution_count": 5
        }
      ]
    },
    {
      "cell_type": "code",
      "metadata": {
        "colab": {
          "base_uri": "https://localhost:8080/"
        },
        "id": "aiiGGFx-o3O1",
        "outputId": "d590b17b-9124-4a15-9abd-3cffcdf4582f"
      },
      "source": [
        "x = pd.Series([6, 3, 8, 6], index=[\"q\", \"w\", \"e\", \"r\"])\n",
        "y = pd.Series([7, 3, 5, 2], index=[\"e\", \"q\", \"r\", \"t\"])\n",
        "\n",
        "x + y # NaN is introduced where index doesn't match"
      ],
      "execution_count": 21,
      "outputs": [
        {
          "output_type": "execute_result",
          "data": {
            "text/plain": [
              "e    15.0\n",
              "q     9.0\n",
              "r    11.0\n",
              "t     NaN\n",
              "w     NaN\n",
              "dtype: float64"
            ]
          },
          "metadata": {
            "tags": []
          },
          "execution_count": 21
        }
      ]
    },
    {
      "cell_type": "markdown",
      "metadata": {
        "id": "ZLgP9RPYi8cc"
      },
      "source": [
        "### [`pandas.DataFrame`](https://pandas.pydata.org/pandas-docs/stable/reference/api/pandas.DataFrame.html)\n",
        "\n",
        "- `It is a two-dimensional array-like object.`"
      ]
    },
    {
      "cell_type": "code",
      "metadata": {
        "colab": {
          "base_uri": "https://localhost:8080/",
          "height": 175
        },
        "id": "G1xfIaEskr_q",
        "outputId": "3a14b017-86a5-4099-c02f-4296813ec935"
      },
      "source": [
        "data = {\n",
        "    \"name\" : [\"Tim\", \"Jim\", \"Pam\", \"Sam\"],\n",
        "    \"age\" : [29, 31, 27, 35],\n",
        "    \"ZIP\" : [\"02115\", \"02130\", \"67700\", \"00100\"] \n",
        "}\n",
        "\n",
        "x = pd.DataFrame(data, columns=data.keys())\n",
        "x"
      ],
      "execution_count": null,
      "outputs": [
        {
          "output_type": "execute_result",
          "data": {
            "text/html": [
              "<div>\n",
              "<style scoped>\n",
              "    .dataframe tbody tr th:only-of-type {\n",
              "        vertical-align: middle;\n",
              "    }\n",
              "\n",
              "    .dataframe tbody tr th {\n",
              "        vertical-align: top;\n",
              "    }\n",
              "\n",
              "    .dataframe thead th {\n",
              "        text-align: right;\n",
              "    }\n",
              "</style>\n",
              "<table border=\"1\" class=\"dataframe\">\n",
              "  <thead>\n",
              "    <tr style=\"text-align: right;\">\n",
              "      <th></th>\n",
              "      <th>name</th>\n",
              "      <th>age</th>\n",
              "      <th>ZIP</th>\n",
              "    </tr>\n",
              "  </thead>\n",
              "  <tbody>\n",
              "    <tr>\n",
              "      <th>0</th>\n",
              "      <td>Tim</td>\n",
              "      <td>29</td>\n",
              "      <td>02115</td>\n",
              "    </tr>\n",
              "    <tr>\n",
              "      <th>1</th>\n",
              "      <td>Jim</td>\n",
              "      <td>31</td>\n",
              "      <td>02130</td>\n",
              "    </tr>\n",
              "    <tr>\n",
              "      <th>2</th>\n",
              "      <td>Pam</td>\n",
              "      <td>27</td>\n",
              "      <td>67700</td>\n",
              "    </tr>\n",
              "    <tr>\n",
              "      <th>3</th>\n",
              "      <td>Sam</td>\n",
              "      <td>35</td>\n",
              "      <td>00100</td>\n",
              "    </tr>\n",
              "  </tbody>\n",
              "</table>\n",
              "</div>"
            ],
            "text/plain": [
              "  name  age    ZIP\n",
              "0  Tim   29  02115\n",
              "1  Jim   31  02130\n",
              "2  Pam   27  67700\n",
              "3  Sam   35  00100"
            ]
          },
          "metadata": {
            "tags": []
          },
          "execution_count": 9
        }
      ]
    },
    {
      "cell_type": "code",
      "metadata": {
        "colab": {
          "base_uri": "https://localhost:8080/"
        },
        "id": "bu3fQF_El89q",
        "outputId": "03896c72-d337-4653-812a-b42cbe77ff3d"
      },
      "source": [
        "x[\"name\"]"
      ],
      "execution_count": null,
      "outputs": [
        {
          "output_type": "execute_result",
          "data": {
            "text/plain": [
              "0    Tim\n",
              "1    Jim\n",
              "2    Pam\n",
              "3    Sam\n",
              "Name: name, dtype: object"
            ]
          },
          "metadata": {
            "tags": []
          },
          "execution_count": 10
        }
      ]
    },
    {
      "cell_type": "code",
      "metadata": {
        "colab": {
          "base_uri": "https://localhost:8080/"
        },
        "id": "GBIMzMqRmAUi",
        "outputId": "bd7e4cc8-9313-46f6-976b-ed2676bf9fac"
      },
      "source": [
        "x.name"
      ],
      "execution_count": null,
      "outputs": [
        {
          "output_type": "execute_result",
          "data": {
            "text/plain": [
              "0    Tim\n",
              "1    Jim\n",
              "2    Pam\n",
              "3    Sam\n",
              "Name: name, dtype: object"
            ]
          },
          "metadata": {
            "tags": []
          },
          "execution_count": 11
        }
      ]
    }
  ]
}