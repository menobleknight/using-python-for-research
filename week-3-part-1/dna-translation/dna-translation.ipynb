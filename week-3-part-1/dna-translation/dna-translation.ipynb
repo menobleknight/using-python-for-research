{
  "nbformat": 4,
  "nbformat_minor": 0,
  "metadata": {
    "colab": {
      "name": "dna-translation.ipynb",
      "provenance": [],
      "authorship_tag": "ABX9TyMPPeeofiByFQAhjPRAz7W3",
      "include_colab_link": true
    },
    "kernelspec": {
      "name": "python3",
      "display_name": "Python 3"
    },
    "language_info": {
      "name": "python"
    }
  },
  "cells": [
    {
      "cell_type": "markdown",
      "metadata": {
        "id": "view-in-github",
        "colab_type": "text"
      },
      "source": [
        "<a href=\"https://colab.research.google.com/github/er-knight/using-python-for-research/blob/main/week-3-part-1/dna-translation/dna-translation.ipynb\" target=\"_parent\"><img src=\"https://colab.research.google.com/assets/colab-badge.svg\" alt=\"Open In Colab\"/></a>"
      ]
    },
    {
      "cell_type": "markdown",
      "metadata": {
        "id": "k5DJW7uj3-Bw"
      },
      "source": [
        "### `Case Study: DNA Translation`\n",
        "\n",
        "**Instructions**\n",
        "- Download [`DNA`](https://www.ncbi.nlm.nih.gov/nuccore/NM_207618.2?from=1&to=1157) and [`protein`](https://www.ncbi.nlm.nih.gov/nuccore/NM_207618.2?from=21&to=938) sequence data and store them in a two different files `dna.txt` and `protein.txt`.\n",
        "- Import `DNA` data in python.\n",
        "- Create an algorithm to translate the `DNA`.\n",
        "- Check if translated `DNA` matches with the downloaded `protein` sequence."
      ]
    },
    {
      "cell_type": "code",
      "metadata": {
        "colab": {
          "base_uri": "https://localhost:8080/",
          "height": 150
        },
        "id": "OIUz1q084I_z",
        "outputId": "c616b8a0-9c19-4d74-da94-0464902c6c67"
      },
      "source": [
        "def read_seq(path):\n",
        "    import urllib.request, urllib.parse\n",
        "    \n",
        "    # if there are non-ascii characters in file_path\n",
        "    path = urllib.parse.quote(path, safe=\"/:\") # don't encode '/' and ':'\n",
        "    with urllib.request.urlopen(path) as f:\n",
        "        seq = f.read().decode('utf-8') # read() returns data as bytes, decode data to str using 'utf-8'\n",
        "\n",
        "    seq = seq.strip('\\n') # remove '\\n'\n",
        " \n",
        "    return seq\n",
        "\n",
        "path = \"https://raw.githubusercontent.com/er-knight/using-python-for-research/main/week-3-part-1/dna-translation/dna.txt\" # dna.txt\n",
        "seq = read_seq(path)\n",
        "seq"
      ],
      "execution_count": 2,
      "outputs": [
        {
          "output_type": "execute_result",
          "data": {
            "application/vnd.google.colaboratory.intrinsic+json": {
              "type": "string"
            },
            "text/plain": [
              "'GGTCAGAAAAAGCCCTCTCCATGTCTACTCACGATACATCCCTGAAAACCACTGAGGAAGTGGCTTTTCAGATCATCTTGCTTTGCCAGTTTGGGGTTGGGACTTTTGCCAATGTATTTCTCTTTGTCTATAATTTCTCTCCAATCTCGACTGGTTCTAAACAGAGGCCCAGACAAGTGATTTTAAGACACATGGCTGTGGCCAATGCCTTAACTCTCTTCCTCACTATATTTCCAAACAACATGATGACTTTTGCTCCAATTATTCCTCAAACTGACCTCAAATGTAAATTAGAATTCTTCACTCGCCTCGTGGCAAGAAGCACAAACTTGTGTTCAACTTGTGTTCTGAGTATCCATCAGTTTGTCACACTTGTTCCTGTTAATTCAGGTAAAGGAATACTCAGAGCAAGTGTCACAAACATGGCAAGTTATTCTTGTTACAGTTGTTGGTTCTTCAGTGTCTTAAATAACATCTACATTCCAATTAAGGTCACTGGTCCACAGTTAACAGACAATAACAATAACTCTAAAAGCAAGTTGTTCTGTTCCACTTCTGATTTCAGTGTAGGCATTGTCTTCTTGAGGTTTGCCCATGATGCCACATTCATGAGCATCATGGTCTGGACCAGTGTCTCCATGGTACTTCTCCTCCATAGACATTGTCAGAGAATGCAGTACATATTCACTCTCAATCAGGACCCCAGGGGCCAAGCAGAGACCACAGCAACCCATACTATCCTGATGCTGGTAGTCACATTTGTTGGCTTTTATCTTCTAAGTCTTATTTGTATCATCTTTTACACCTATTTTATATATTCTCATCATTCCCTGAGGCATTGCAATGACATTTTGGTTTCGGGTTTCCCTACAATTTCTCCTTTACTGTTGACCTTCAGAGACCCTAAGGGTCCTTGTTCTGTGTTCTTCAACTGTTGAAAGCCAGAGTCACTAAAAATGCCAAACACAGAAGACAGCTTTGCTAATACCATTAAATACTTTATTCCATAAATATGTTTTTAAAAGCTTGTATGAACAAGGTATGGTGCTCACTGCTATACTTATAAAAGAGTAAGGTTATAATCACTTGTTGATATGAAAAGATTTCTGGTTGGAATCTGATTGAAACAGTGAGTTATTCACCACCCTCCATTCTCT'"
            ]
          },
          "metadata": {
            "tags": []
          },
          "execution_count": 2
        }
      ]
    },
    {
      "cell_type": "code",
      "metadata": {
        "colab": {
          "base_uri": "https://localhost:8080/",
          "height": 38
        },
        "id": "XzPgv56t4ZPl",
        "outputId": "017221d0-3d6d-4394-ed30-7596e64c14ac"
      },
      "source": [
        "def translate(seq):\n",
        "    \"\"\" \n",
        "    Translate a string containing a nucleotide sequence into a string containing the corresponding sequence of amino acids. \n",
        "    Nucleotides are translated in triplets using the table dictionary; each amino acid 4 is encoded with a string of length 1. \n",
        "    \"\"\"\n",
        "    table = {\n",
        "        'ATA':'I', 'ATC':'I', 'ATT':'I', 'ATG':'M',\n",
        "        'ACA':'T', 'ACC':'T', 'ACG':'T', 'ACT':'T',\n",
        "        'AAC':'N', 'AAT':'N', 'AAA':'K', 'AAG':'K',\n",
        "        'AGC':'S', 'AGT':'S', 'AGA':'R', 'AGG':'R',\n",
        "        'CTA':'L', 'CTC':'L', 'CTG':'L', 'CTT':'L',\n",
        "        'CCA':'P', 'CCC':'P', 'CCG':'P', 'CCT':'P',\n",
        "        'CAC':'H', 'CAT':'H', 'CAA':'Q', 'CAG':'Q',\n",
        "        'CGA':'R', 'CGC':'R', 'CGG':'R', 'CGT':'R',\n",
        "        'GTA':'V', 'GTC':'V', 'GTG':'V', 'GTT':'V',\n",
        "        'GCA':'A', 'GCC':'A', 'GCG':'A', 'GCT':'A',\n",
        "        'GAC':'D', 'GAT':'D', 'GAA':'E', 'GAG':'E',\n",
        "        'GGA':'G', 'GGC':'G', 'GGG':'G', 'GGT':'G',\n",
        "        'TCA':'S', 'TCC':'S', 'TCG':'S', 'TCT':'S',\n",
        "        'TTC':'F', 'TTT':'F', 'TTA':'L', 'TTG':'L',\n",
        "        'TAC':'Y', 'TAT':'Y', 'TAA':'_', 'TAG':'_',\n",
        "        'TGC':'C', 'TGT':'C', 'TGA':'_', 'TGG':'W',\n",
        "    }\n",
        "    protein = \"\"\n",
        "    if len(seq) % 3 == 0:\n",
        "        for i in range(0, len(seq), 3):\n",
        "            codon = seq[i:i+3]\n",
        "            protein += table[codon]\n",
        "\n",
        "    return protein\n",
        "\n",
        "translate(\"GCC\")"
      ],
      "execution_count": 3,
      "outputs": [
        {
          "output_type": "execute_result",
          "data": {
            "application/vnd.google.colaboratory.intrinsic+json": {
              "type": "string"
            },
            "text/plain": [
              "'A'"
            ]
          },
          "metadata": {
            "tags": []
          },
          "execution_count": 3
        }
      ]
    },
    {
      "cell_type": "code",
      "metadata": {
        "colab": {
          "base_uri": "https://localhost:8080/",
          "height": 75
        },
        "id": "Ya5BfdYJ4iu-",
        "outputId": "fe53fa68-e71d-4140-ed7a-8afcc9d34c65"
      },
      "source": [
        "dna_path = \"https://raw.githubusercontent.com/er-knight/using-python-for-research/main/week-3-part-1/dna-translation/dna.txt\" # dna.tx\n",
        "dna = read_seq(dna_path)\n",
        "\n",
        "prt_path = \"https://raw.githubusercontent.com/er-knight/using-python-for-research/main/week-3-part-1/dna-translation/protein.txt\" # protein.txt\n",
        "prt = read_seq(prt_path)\n",
        "\n",
        "prt"
      ],
      "execution_count": 4,
      "outputs": [
        {
          "output_type": "execute_result",
          "data": {
            "application/vnd.google.colaboratory.intrinsic+json": {
              "type": "string"
            },
            "text/plain": [
              "'MSTHDTSLKTTEEVAFQIILLCQFGVGTFANVFLFVYNFSPISTGSKQRPRQVILRHMAVANALTLFLTIFPNNMMTFAPIIPQTDLKCKLEFFTRLVARSTNLCSTCVLSIHQFVTLVPVNSGKGILRASVTNMASYSCYSCWFFSVLNNIYIPIKVTGPQLTDNNNNSKSKLFCSTSDFSVGIVFLRFAHDATFMSIMVWTSVSMVLLLHRHCQRMQYIFTLNQDPRGQAETTATHTILMLVVTFVGFYLLSLICIIFYTYFIYSHHSLRHCNDILVSGFPTISPLLLTFRDPKGPCSVFFNC'"
            ]
          },
          "metadata": {
            "tags": []
          },
          "execution_count": 4
        }
      ]
    },
    {
      "cell_type": "code",
      "metadata": {
        "colab": {
          "base_uri": "https://localhost:8080/",
          "height": 75
        },
        "id": "0jy4QM4U4orL",
        "outputId": "e0650074-73ee-4aed-abf1-b220ebb05b1b"
      },
      "source": [
        "translate(dna[20:938]) # at NCBI website, dna is encoded from position 21 to 938 (1-based indexing)"
      ],
      "execution_count": 5,
      "outputs": [
        {
          "output_type": "execute_result",
          "data": {
            "application/vnd.google.colaboratory.intrinsic+json": {
              "type": "string"
            },
            "text/plain": [
              "'MSTHDTSLKTTEEVAFQIILLCQFGVGTFANVFLFVYNFSPISTGSKQRPRQVILRHMAVANALTLFLTIFPNNMMTFAPIIPQTDLKCKLEFFTRLVARSTNLCSTCVLSIHQFVTLVPVNSGKGILRASVTNMASYSCYSCWFFSVLNNIYIPIKVTGPQLTDNNNNSKSKLFCSTSDFSVGIVFLRFAHDATFMSIMVWTSVSMVLLLHRHCQRMQYIFTLNQDPRGQAETTATHTILMLVVTFVGFYLLSLICIIFYTYFIYSHHSLRHCNDILVSGFPTISPLLLTFRDPKGPCSVFFNC_'"
            ]
          },
          "metadata": {
            "tags": []
          },
          "execution_count": 5
        }
      ]
    },
    {
      "cell_type": "code",
      "metadata": {
        "colab": {
          "base_uri": "https://localhost:8080/",
          "height": 75
        },
        "id": "YsBQM6cL4zVX",
        "outputId": "8746d7a0-05cb-4ccf-edb2-f72a27405afe"
      },
      "source": [
        "translate(dna[20:935]) # to skip last codon (underscore)"
      ],
      "execution_count": 6,
      "outputs": [
        {
          "output_type": "execute_result",
          "data": {
            "application/vnd.google.colaboratory.intrinsic+json": {
              "type": "string"
            },
            "text/plain": [
              "'MSTHDTSLKTTEEVAFQIILLCQFGVGTFANVFLFVYNFSPISTGSKQRPRQVILRHMAVANALTLFLTIFPNNMMTFAPIIPQTDLKCKLEFFTRLVARSTNLCSTCVLSIHQFVTLVPVNSGKGILRASVTNMASYSCYSCWFFSVLNNIYIPIKVTGPQLTDNNNNSKSKLFCSTSDFSVGIVFLRFAHDATFMSIMVWTSVSMVLLLHRHCQRMQYIFTLNQDPRGQAETTATHTILMLVVTFVGFYLLSLICIIFYTYFIYSHHSLRHCNDILVSGFPTISPLLLTFRDPKGPCSVFFNC'"
            ]
          },
          "metadata": {
            "tags": []
          },
          "execution_count": 6
        }
      ]
    },
    {
      "cell_type": "code",
      "metadata": {
        "colab": {
          "base_uri": "https://localhost:8080/"
        },
        "id": "yPNrI0n05LZX",
        "outputId": "cb481c11-23e6-476f-b8ff-55f79bf022f9"
      },
      "source": [
        "prt == translate(dna[20:935])"
      ],
      "execution_count": 7,
      "outputs": [
        {
          "output_type": "execute_result",
          "data": {
            "text/plain": [
              "True"
            ]
          },
          "metadata": {
            "tags": []
          },
          "execution_count": 7
        }
      ]
    }
  ]
}