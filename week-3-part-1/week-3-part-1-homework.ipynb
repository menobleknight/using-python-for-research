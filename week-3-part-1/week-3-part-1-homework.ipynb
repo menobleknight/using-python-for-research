{
  "nbformat": 4,
  "nbformat_minor": 0,
  "metadata": {
    "kernelspec": {
      "display_name": "Python 3",
      "language": "python",
      "name": "python3"
    },
    "language_info": {
      "codemirror_mode": {
        "name": "ipython",
        "version": 3
      },
      "file_extension": ".py",
      "mimetype": "text/x-python",
      "name": "python",
      "nbconvert_exporter": "python",
      "pygments_lexer": "ipython3",
      "version": "3.7.3"
    },
    "colab": {
      "name": "week-3-part-1-homework.ipynb",
      "provenance": [],
      "include_colab_link": true
    }
  },
  "cells": [
    {
      "cell_type": "markdown",
      "metadata": {
        "id": "view-in-github",
        "colab_type": "text"
      },
      "source": [
        "<a href=\"https://colab.research.google.com/github/er-knight/using-python-for-research/blob/main/week-3-part-1/week-3-part-1-homework.ipynb\" target=\"_parent\"><img src=\"https://colab.research.google.com/assets/colab-badge.svg\" alt=\"Open In Colab\"/></a>"
      ]
    },
    {
      "cell_type": "markdown",
      "metadata": {
        "id": "GoyC-9SzoPVy"
      },
      "source": [
        "# **Using Python for Research Homework: Week 3, Case Study 1**\n",
        "\n",
        "A cipher is a secret code for a language.  In this case study, we will explore a cipher that is reported by contemporary Greek historians to have been used by Julius Caesar to send secret messages to generals during times of war."
      ]
    },
    {
      "cell_type": "markdown",
      "metadata": {
        "id": "wzfRNOMFoPV4"
      },
      "source": [
        "### **Exercise 1**\n",
        "\n",
        "A cipher is a secret code for a language. In this case study, we will explore a cipher that is reported by contemporary Greek historians to have been used by Julius Caesar to send secret messages to generals during times of war.\n",
        "\n",
        "The Caesar cipher shifts each letter of a message to another letter in the alphabet located a fixed distance from the original letter. If our encryption key were `1`, we would shift `h` to the next letter `i`, `i` to the next letter `j`, and so on. If we reach the end of the alphabet, which for us is the space character, we simply loop back to `a`. To decode the message, we make a similar shift, except we move the same number of steps backwards in the alphabet.\n",
        "\n",
        "Over the next five exercises, we will create our own Caesar cipher, as well as a message decoder for this cipher. In this exercise, we will define the alphabet used in the cipher.\n",
        "\n",
        "**Instructions**\n",
        "- The `string` library has been imported. Create a string called `alphabet` consisting of the space character `' '` followed by (concatenated with) the lowercase letters. Note that we're only using the lowercase letters in this exercise."
      ]
    },
    {
      "cell_type": "code",
      "metadata": {
        "id": "2sozxjZcoPV5",
        "colab": {
          "base_uri": "https://localhost:8080/",
          "height": 38
        },
        "outputId": "1863141e-636c-4006-bc6c-8d4283757770"
      },
      "source": [
        "import string\n",
        "\n",
        "# write your code here!\n",
        "\n",
        "alphabet = \" \" + string.ascii_lowercase\n",
        "alphabet"
      ],
      "execution_count": null,
      "outputs": [
        {
          "output_type": "execute_result",
          "data": {
            "application/vnd.google.colaboratory.intrinsic+json": {
              "type": "string"
            },
            "text/plain": [
              "' abcdefghijklmnopqrstuvwxyz'"
            ]
          },
          "metadata": {
            "tags": []
          },
          "execution_count": 8
        }
      ]
    },
    {
      "cell_type": "markdown",
      "metadata": {
        "id": "FX05Ct3ooPV7"
      },
      "source": [
        "### **Exercise 2** \n",
        "\n",
        "In this exercise, we will define a dictionary that specifies the index of each character in `alphabet`.\n",
        "\n",
        "**Instructions**\n",
        "- `alphabet` has already defined in the last exercise. Create a dictionary with keys consisting of the characters in alphabet and values consisting of the numbers from 0 to 26.\n",
        "- Store this as `positions`."
      ]
    },
    {
      "cell_type": "code",
      "metadata": {
        "id": "phW6oUk4oPV8",
        "colab": {
          "base_uri": "https://localhost:8080/"
        },
        "outputId": "a256eecb-83dd-416f-c9ee-026f27cde193"
      },
      "source": [
        "# write your code here!\n",
        "\n",
        "positions = {}\n",
        "for index, char in enumerate(alphabet):\n",
        "    positions[char] = index\n",
        "\n",
        "positions"
      ],
      "execution_count": null,
      "outputs": [
        {
          "output_type": "execute_result",
          "data": {
            "text/plain": [
              "{' ': 0,\n",
              " 'a': 1,\n",
              " 'b': 2,\n",
              " 'c': 3,\n",
              " 'd': 4,\n",
              " 'e': 5,\n",
              " 'f': 6,\n",
              " 'g': 7,\n",
              " 'h': 8,\n",
              " 'i': 9,\n",
              " 'j': 10,\n",
              " 'k': 11,\n",
              " 'l': 12,\n",
              " 'm': 13,\n",
              " 'n': 14,\n",
              " 'o': 15,\n",
              " 'p': 16,\n",
              " 'q': 17,\n",
              " 'r': 18,\n",
              " 's': 19,\n",
              " 't': 20,\n",
              " 'u': 21,\n",
              " 'v': 22,\n",
              " 'w': 23,\n",
              " 'x': 24,\n",
              " 'y': 25,\n",
              " 'z': 26}"
            ]
          },
          "metadata": {
            "tags": []
          },
          "execution_count": 11
        }
      ]
    },
    {
      "cell_type": "markdown",
      "metadata": {
        "id": "czyYm55XranK"
      },
      "source": [
        "What is the value of the key `n` in the positions dictionary?  \n",
        "Answer → 14"
      ]
    },
    {
      "cell_type": "code",
      "metadata": {
        "id": "0kpR7k85rii2",
        "colab": {
          "base_uri": "https://localhost:8080/"
        },
        "outputId": "51d1edab-d28a-482a-a989-19da65ed4079"
      },
      "source": [
        "positions['n']"
      ],
      "execution_count": null,
      "outputs": [
        {
          "output_type": "execute_result",
          "data": {
            "text/plain": [
              "14"
            ]
          },
          "metadata": {
            "tags": []
          },
          "execution_count": 12
        }
      ]
    },
    {
      "cell_type": "markdown",
      "metadata": {
        "id": "g-JWjj36oPV-"
      },
      "source": [
        "### **Exercise 3**\n",
        "\n",
        "In this exercise, we will encode a message with a Caesar cipher.\n",
        "\n",
        "**Instructions**\n",
        "\n",
        "- `alphabet` and `positions` have already been defined in previous exercises. Use `positions` to create an encoded message based on message where each character in message has been shifted forward by 1 position, as defined by positions.\n",
        "- Note that you can ensure the result remains within 0-26 using result % 27\n",
        "- Store this as `encoded_message`."
      ]
    },
    {
      "cell_type": "code",
      "metadata": {
        "id": "lDtP2zCLoPV_",
        "colab": {
          "base_uri": "https://localhost:8080/",
          "height": 38
        },
        "outputId": "b1929e39-1ca0-46fd-a515-10c8c3c8c83e"
      },
      "source": [
        "message = \"hi my name is caesar\"\n",
        "\n",
        "# write your code here!\n",
        "\n",
        "encoded_list = []\n",
        "for char in message:\n",
        "    position = positions[char]\n",
        "    encoded_position = (position + 1) % 27\n",
        "    encoded_list.append(alphabet[encoded_position])\n",
        "\n",
        "encoded_message = \"\".join(encoded_list)\n",
        "encoded_message"
      ],
      "execution_count": null,
      "outputs": [
        {
          "output_type": "execute_result",
          "data": {
            "application/vnd.google.colaboratory.intrinsic+json": {
              "type": "string"
            },
            "text/plain": [
              "'ijanzaobnfajtadbftbs'"
            ]
          },
          "metadata": {
            "tags": []
          },
          "execution_count": 18
        }
      ]
    },
    {
      "cell_type": "markdown",
      "metadata": {
        "id": "vr_ywAVpoPWA"
      },
      "source": [
        "### **Exercise 4**\n",
        "\n",
        "In this exercise, we will define a function that encodes a message with any given encryption key.\n",
        "\n",
        "**Instructions**\n",
        "- `alphabet`, `position` and `message` remain defined from previous exercises. Define a function `encoding` that takes a message as input as well as an int encryption key `key` to encode a message with the Caesar cipher by shifting each letter in message by key positions.\n",
        "- Your function should return a string consisting of these encoded letters.\n",
        "- Use `encoding` to encode message using `key = 3` and save the result as `encoded_message`.\n",
        "Print `encoded_message`."
      ]
    },
    {
      "cell_type": "code",
      "metadata": {
        "id": "DWohK-I_oPWB",
        "colab": {
          "base_uri": "https://localhost:8080/",
          "height": 38
        },
        "outputId": "21daa556-756c-4e51-a9e0-6103c2ce8db6"
      },
      "source": [
        "# write your code here \n",
        "\n",
        "def encoding(message, key):\n",
        "    encoded_list = []\n",
        "    for char in message:\n",
        "        position = positions[char]\n",
        "        encoded_position = (position + key) % 27\n",
        "        encoded_list.append(alphabet[encoded_position])\n",
        "\n",
        "    encoded_message = \"\".join(encoded_list)\n",
        "\n",
        "    return encoded_message\n",
        "\n",
        "encoded_message = encoding(message, 3)\n",
        "encoded_message"
      ],
      "execution_count": null,
      "outputs": [
        {
          "output_type": "execute_result",
          "data": {
            "application/vnd.google.colaboratory.intrinsic+json": {
              "type": "string"
            },
            "text/plain": [
              "'klcpacqdphclvcfdhvdu'"
            ]
          },
          "metadata": {
            "tags": []
          },
          "execution_count": 24
        }
      ]
    },
    {
      "cell_type": "markdown",
      "metadata": {
        "id": "oKqfe7yxoPWB"
      },
      "source": [
        "### **Exercise 5**\n",
        "\n",
        "In this exercise, we will decode an encoded message.\n",
        "\n",
        "**Instructions**\n",
        "- Use `encoding` to decode `encoded_message`.\n",
        "- Store your encoded message as `decoded_message`.\n",
        "- Print `decoded_message`. Does this recover your original message?"
      ]
    },
    {
      "cell_type": "code",
      "metadata": {
        "id": "DR4tfywioPWD",
        "colab": {
          "base_uri": "https://localhost:8080/",
          "height": 38
        },
        "outputId": "8cb59aad-9f6e-492a-bf99-833c71efdd53"
      },
      "source": [
        "# write your code here!\n",
        "\n",
        "decoded_message = encoding(encoded_message, -3)\n",
        "decoded_message"
      ],
      "execution_count": null,
      "outputs": [
        {
          "output_type": "execute_result",
          "data": {
            "application/vnd.google.colaboratory.intrinsic+json": {
              "type": "string"
            },
            "text/plain": [
              "'hi my name is caesar'"
            ]
          },
          "metadata": {
            "tags": []
          },
          "execution_count": 26
        }
      ]
    }
  ]
}