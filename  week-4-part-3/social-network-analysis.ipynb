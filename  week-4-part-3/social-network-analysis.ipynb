{
  "nbformat": 4,
  "nbformat_minor": 0,
  "metadata": {
    "colab": {
      "name": "social-network-analysis.ipynb",
      "provenance": [],
      "authorship_tag": "ABX9TyPDEKdZgNJ2Ds5jnCNA8BHC",
      "include_colab_link": true
    },
    "kernelspec": {
      "name": "python3",
      "display_name": "Python 3"
    },
    "language_info": {
      "name": "python"
    }
  },
  "cells": [
    {
      "cell_type": "markdown",
      "metadata": {
        "id": "view-in-github",
        "colab_type": "text"
      },
      "source": [
        "<a href=\"https://colab.research.google.com/github/er-knight/using-python-for-research/blob/main/%20week-4-part-3/social-network-analysis.ipynb\" target=\"_parent\"><img src=\"https://colab.research.google.com/assets/colab-badge.svg\" alt=\"Open In Colab\"/></a>"
      ]
    },
    {
      "cell_type": "markdown",
      "metadata": {
        "id": "_PTXU00ZOS1m"
      },
      "source": [
        "### [`networkx`](https://networkx.org/)"
      ]
    },
    {
      "cell_type": "code",
      "metadata": {
        "id": "hoxIRktELBWT"
      },
      "source": [
        "import networkx as nx\n",
        "\n",
        "G = nx.Graph()"
      ],
      "execution_count": 1,
      "outputs": []
    },
    {
      "cell_type": "code",
      "metadata": {
        "id": "Ruawcgw2LwC0"
      },
      "source": [
        "G.add_node(1) # add single node to the graph"
      ],
      "execution_count": 2,
      "outputs": []
    },
    {
      "cell_type": "code",
      "metadata": {
        "id": "MDXkad2QL4PJ"
      },
      "source": [
        "G.add_nodes_from([2, 3]) # add multiple node to the graph"
      ],
      "execution_count": 3,
      "outputs": []
    },
    {
      "cell_type": "code",
      "metadata": {
        "id": "8wVso0_rMIzH"
      },
      "source": [
        "G.add_nodes_from([\"u\", \"v\"]) # add multiple nodes, with label as string"
      ],
      "execution_count": 4,
      "outputs": []
    },
    {
      "cell_type": "code",
      "metadata": {
        "colab": {
          "base_uri": "https://localhost:8080/"
        },
        "id": "ITykelldMcbw",
        "outputId": "ea72e191-b273-458b-8ff3-73569f64ece9"
      },
      "source": [
        "G.nodes() # get nodes of the graph"
      ],
      "execution_count": 5,
      "outputs": [
        {
          "output_type": "execute_result",
          "data": {
            "text/plain": [
              "NodeView((1, 2, 3, 'u', 'v'))"
            ]
          },
          "metadata": {
            "tags": []
          },
          "execution_count": 5
        }
      ]
    },
    {
      "cell_type": "code",
      "metadata": {
        "id": "e5WHNBXEMvyV"
      },
      "source": [
        "G.add_edge(1, 2) # edge is added as pair of nodes"
      ],
      "execution_count": 6,
      "outputs": []
    },
    {
      "cell_type": "code",
      "metadata": {
        "id": "XZurF8CCM_om"
      },
      "source": [
        "G.add_edge(\"u\", \"v\") # add an edge between node \"u\" and node \"v\""
      ],
      "execution_count": 7,
      "outputs": []
    },
    {
      "cell_type": "code",
      "metadata": {
        "id": "wGQeghAQNJuM"
      },
      "source": [
        "G.add_edges_from([(1, 3), (1, 4), (1, 5), (1, 6)]) # add multiple edges"
      ],
      "execution_count": 8,
      "outputs": []
    },
    {
      "cell_type": "code",
      "metadata": {
        "id": "lBTWM4-RNhU3"
      },
      "source": [
        "G.add_edge(\"u\", \"w\") # if any node of the edge is not present, then it is added"
      ],
      "execution_count": 9,
      "outputs": []
    },
    {
      "cell_type": "code",
      "metadata": {
        "colab": {
          "base_uri": "https://localhost:8080/"
        },
        "id": "2IrXgkiaN_5R",
        "outputId": "ab32c1f3-f258-4f07-a15c-3d6d9c24c486"
      },
      "source": [
        "G.edges() # get edges present in the graph"
      ],
      "execution_count": 10,
      "outputs": [
        {
          "output_type": "execute_result",
          "data": {
            "text/plain": [
              "EdgeView([(1, 2), (1, 3), (1, 4), (1, 5), (1, 6), ('u', 'v'), ('u', 'w')])"
            ]
          },
          "metadata": {
            "tags": []
          },
          "execution_count": 10
        }
      ]
    },
    {
      "cell_type": "code",
      "metadata": {
        "id": "NyWCUpVfORbb"
      },
      "source": [
        "G.remove_node(2) # remove a node"
      ],
      "execution_count": 11,
      "outputs": []
    },
    {
      "cell_type": "code",
      "metadata": {
        "colab": {
          "base_uri": "https://localhost:8080/"
        },
        "id": "sxcmuwpgPBrN",
        "outputId": "7a948d33-8730-4221-d304-34e77de71fff"
      },
      "source": [
        "G.nodes() # node 2 has been removed"
      ],
      "execution_count": 12,
      "outputs": [
        {
          "output_type": "execute_result",
          "data": {
            "text/plain": [
              "NodeView((1, 3, 'u', 'v', 4, 5, 6, 'w'))"
            ]
          },
          "metadata": {
            "tags": []
          },
          "execution_count": 12
        }
      ]
    },
    {
      "cell_type": "code",
      "metadata": {
        "id": "ER3Ox6zqPOew"
      },
      "source": [
        "G.remove_nodes_from([4, 5]) # remove multiple nodes"
      ],
      "execution_count": 13,
      "outputs": []
    },
    {
      "cell_type": "code",
      "metadata": {
        "colab": {
          "base_uri": "https://localhost:8080/"
        },
        "id": "w0Ohl5dUPWPY",
        "outputId": "3d468d5b-8867-4c21-8561-ce9a9111cf61"
      },
      "source": [
        "G.nodes() # node 4 and 5 has been removed"
      ],
      "execution_count": 14,
      "outputs": [
        {
          "output_type": "execute_result",
          "data": {
            "text/plain": [
              "NodeView((1, 3, 'u', 'v', 6, 'w'))"
            ]
          },
          "metadata": {
            "tags": []
          },
          "execution_count": 14
        }
      ]
    },
    {
      "cell_type": "code",
      "metadata": {
        "id": "eBTAeG1qPmlI"
      },
      "source": [
        "G.remove_edge(1, 3) # remove an edge from graph"
      ],
      "execution_count": 15,
      "outputs": []
    },
    {
      "cell_type": "code",
      "metadata": {
        "colab": {
          "base_uri": "https://localhost:8080/"
        },
        "id": "SNwNBSnZPuY7",
        "outputId": "2c4de213-006a-44af-b807-eec77d5cc5c3"
      },
      "source": [
        "G.edges() # edge (1, 3) has been removed"
      ],
      "execution_count": 16,
      "outputs": [
        {
          "output_type": "execute_result",
          "data": {
            "text/plain": [
              "EdgeView([(1, 6), ('u', 'v'), ('u', 'w')])"
            ]
          },
          "metadata": {
            "tags": []
          },
          "execution_count": 16
        }
      ]
    },
    {
      "cell_type": "code",
      "metadata": {
        "id": "JVx3zpzgPzDR"
      },
      "source": [
        "G.remove_edges_from([(1, 2), (\"u\", \"v\")]) # remove multiple edges from graph"
      ],
      "execution_count": 17,
      "outputs": []
    },
    {
      "cell_type": "code",
      "metadata": {
        "colab": {
          "base_uri": "https://localhost:8080/"
        },
        "id": "5aD1mcFSQBW0",
        "outputId": "4e796d10-d4ca-4f53-b702-5aa7409682fc"
      },
      "source": [
        "G.edges() # edges (1, 2) and (\"u\", \"v\") has been removed (edge (1, 2) is not present though)"
      ],
      "execution_count": 18,
      "outputs": [
        {
          "output_type": "execute_result",
          "data": {
            "text/plain": [
              "EdgeView([(1, 6), ('u', 'w')])"
            ]
          },
          "metadata": {
            "tags": []
          },
          "execution_count": 18
        }
      ]
    },
    {
      "cell_type": "code",
      "metadata": {
        "colab": {
          "base_uri": "https://localhost:8080/"
        },
        "id": "lJkhxNIsQpYj",
        "outputId": "a04f62d3-9545-4066-8148-7117eb3cdbfe"
      },
      "source": [
        "G.number_of_nodes() # get tota number of nodes in a graph"
      ],
      "execution_count": 19,
      "outputs": [
        {
          "output_type": "execute_result",
          "data": {
            "text/plain": [
              "6"
            ]
          },
          "metadata": {
            "tags": []
          },
          "execution_count": 19
        }
      ]
    },
    {
      "cell_type": "code",
      "metadata": {
        "colab": {
          "base_uri": "https://localhost:8080/"
        },
        "id": "7rJFcKTqQwjM",
        "outputId": "d3bce8b8-7370-41d2-88d9-0434949034d5"
      },
      "source": [
        "G.nodes() # check which 6 nodes are present"
      ],
      "execution_count": 20,
      "outputs": [
        {
          "output_type": "execute_result",
          "data": {
            "text/plain": [
              "NodeView((1, 3, 'u', 'v', 6, 'w'))"
            ]
          },
          "metadata": {
            "tags": []
          },
          "execution_count": 20
        }
      ]
    },
    {
      "cell_type": "code",
      "metadata": {
        "colab": {
          "base_uri": "https://localhost:8080/"
        },
        "id": "BVB_Ck_5Q5TY",
        "outputId": "683033c6-f150-4521-e491-50455f1dba5a"
      },
      "source": [
        "G.number_of_edges() # get tota number of edges in a graph"
      ],
      "execution_count": 21,
      "outputs": [
        {
          "output_type": "execute_result",
          "data": {
            "text/plain": [
              "2"
            ]
          },
          "metadata": {
            "tags": []
          },
          "execution_count": 21
        }
      ]
    },
    {
      "cell_type": "markdown",
      "metadata": {
        "id": "bl503KxCefsi"
      },
      "source": [
        "#### [`karate club graph`]()\n",
        "\n",
        "- `networkx contains many types of random graph generators.`\n",
        "- `In addition, it also contains a few empirical data sets.`\n",
        "- `Let's use one of them called the karate club graph. In this network, the nodes represent members of a karate club and the edges correspond to friendships between the members.`"
      ]
    },
    {
      "cell_type": "code",
      "metadata": {
        "colab": {
          "base_uri": "https://localhost:8080/",
          "height": 319
        },
        "id": "CZqbvKTIeA53",
        "outputId": "5af9bef2-97d8-4a8f-b1f1-4e380392f4c6"
      },
      "source": [
        "G = nx.karate_club_graph()\n",
        "nx.draw(G, with_labels=True, node_color=\"lightblue\", edge_color=\"gray\")"
      ],
      "execution_count": 25,
      "outputs": [
        {
          "output_type": "display_data",
          "data": {
            "image/png": "[encoded data removed]",
            "text/plain": [
              "<Figure size 432x288 with 1 Axes>"
            ]
          },
          "metadata": {
            "tags": []
          }
        }
      ]
    },
    {
      "cell_type": "code",
      "metadata": {
        "colab": {
          "base_uri": "https://localhost:8080/"
        },
        "id": "-3mWNpPTfq8N",
        "outputId": "9225e738-767f-4690-8671-16ee9a2a779c"
      },
      "source": [
        "G.degree()"
      ],
      "execution_count": 26,
      "outputs": [
        {
          "output_type": "execute_result",
          "data": {
            "text/plain": [
              "DegreeView({0: 16, 1: 9, 2: 10, 3: 6, 4: 3, 5: 4, 6: 4, 7: 4, 8: 5, 9: 2, 10: 3, 11: 1, 12: 2, 13: 5, 14: 2, 15: 2, 16: 2, 17: 2, 18: 2, 19: 3, 20: 2, 21: 2, 22: 2, 23: 5, 24: 3, 25: 3, 26: 2, 27: 4, 28: 3, 29: 4, 30: 4, 31: 6, 32: 12, 33: 17})"
            ]
          },
          "metadata": {
            "tags": []
          },
          "execution_count": 26
        }
      ]
    },
    {
      "cell_type": "code",
      "metadata": {
        "colab": {
          "base_uri": "https://localhost:8080/"
        },
        "id": "HPiA2tN8gxfF",
        "outputId": "a33c5b44-15ee-4ecf-d3ec-172505478656"
      },
      "source": [
        "G.degree()[33] # degree of node 33"
      ],
      "execution_count": 28,
      "outputs": [
        {
          "output_type": "execute_result",
          "data": {
            "text/plain": [
              "17"
            ]
          },
          "metadata": {
            "tags": []
          },
          "execution_count": 28
        }
      ]
    },
    {
      "cell_type": "code",
      "metadata": {
        "colab": {
          "base_uri": "https://localhost:8080/"
        },
        "id": "_F0Av4Rng9MO",
        "outputId": "6c1d8288-4aac-4919-842c-0ee3124cd61f"
      },
      "source": [
        "G.degree(33) # another way to find degree of node 33"
      ],
      "execution_count": 29,
      "outputs": [
        {
          "output_type": "execute_result",
          "data": {
            "text/plain": [
              "17"
            ]
          },
          "metadata": {
            "tags": []
          },
          "execution_count": 29
        }
      ]
    }
  ]
}