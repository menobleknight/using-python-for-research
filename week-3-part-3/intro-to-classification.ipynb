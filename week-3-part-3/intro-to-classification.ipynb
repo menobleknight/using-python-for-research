{
  "nbformat": 4,
  "nbformat_minor": 0,
  "metadata": {
    "colab": {
      "name": "intro-to-classification.ipynb",
      "provenance": [],
      "collapsed_sections": [],
      "authorship_tag": "ABX9TyP3OR4KS+uZ1GOd08Td0Syb",
      "include_colab_link": true
    },
    "kernelspec": {
      "name": "python3",
      "display_name": "Python 3"
    },
    "language_info": {
      "name": "python"
    }
  },
  "cells": [
    {
      "cell_type": "markdown",
      "metadata": {
        "id": "view-in-github",
        "colab_type": "text"
      },
      "source": [
        "<a href=\"https://colab.research.google.com/github/menobleknight/using-python-for-research/blob/main/week-3-part-3/intro-to-classification.ipynb\" target=\"_parent\"><img src=\"https://colab.research.google.com/assets/colab-badge.svg\" alt=\"Open In Colab\"/></a>"
      ]
    },
    {
      "cell_type": "markdown",
      "metadata": {
        "id": "Qe-gdIhq5vC6"
      },
      "source": [
        "### `Introduction to kNN Classification`\n",
        "- `Statistical learning refers to a collection of mathematical and computation tools to understand data.`\n",
        "- `In what is often called supervised learning, the goal is to estimate or predict an output based on one or more inputs.`\n",
        "- `The inputs have many names, like predictors, independent variables features, and variables being called common.`\n",
        "- `The output or outputs are often called response variables, or dependent variables.`\n",
        "- `If the response is quantitative - say, a number that measures weight or height, we call these problems regression problems.`\n",
        "- `If the response is qualitative - say, yes or no, or blue or green, we call these problems classification problems.`"
      ]
    },
    {
      "cell_type": "code",
      "metadata": {
        "id": "Er9tggJU7jUj"
      },
      "source": [
        "# distance between two points\n",
        "\n",
        "import numpy as np\n",
        "\n",
        "p1 = np.array([1, 1])\n",
        "p2 = np.array([4, 4])"
      ],
      "execution_count": null,
      "outputs": []
    },
    {
      "cell_type": "code",
      "metadata": {
        "colab": {
          "base_uri": "https://localhost:8080/"
        },
        "id": "i94Cgj588mEa",
        "outputId": "edbe0938-f137-476e-bff3-71048dbdef59"
      },
      "source": [
        "p2 - p1"
      ],
      "execution_count": null,
      "outputs": [
        {
          "output_type": "execute_result",
          "data": {
            "text/plain": [
              "array([3, 3])"
            ]
          },
          "metadata": {
            "tags": []
          },
          "execution_count": 3
        }
      ]
    },
    {
      "cell_type": "code",
      "metadata": {
        "colab": {
          "base_uri": "https://localhost:8080/"
        },
        "id": "XJZtmVle8y0D",
        "outputId": "623a93b2-26d6-4d4c-a034-ac32785e77fe"
      },
      "source": [
        "np.power(p2 - p1, 2)"
      ],
      "execution_count": null,
      "outputs": [
        {
          "output_type": "execute_result",
          "data": {
            "text/plain": [
              "array([9, 9])"
            ]
          },
          "metadata": {
            "tags": []
          },
          "execution_count": 4
        }
      ]
    },
    {
      "cell_type": "code",
      "metadata": {
        "colab": {
          "base_uri": "https://localhost:8080/"
        },
        "id": "DKFRiw6A84Ws",
        "outputId": "0f9be317-35d1-4666-a7a0-1283b158a821"
      },
      "source": [
        "np.sum(np.power(p2 - p1, 2))"
      ],
      "execution_count": null,
      "outputs": [
        {
          "output_type": "execute_result",
          "data": {
            "text/plain": [
              "18"
            ]
          },
          "metadata": {
            "tags": []
          },
          "execution_count": 5
        }
      ]
    },
    {
      "cell_type": "code",
      "metadata": {
        "colab": {
          "base_uri": "https://localhost:8080/"
        },
        "id": "5mspFdx49EJi",
        "outputId": "04247f93-55fc-401b-8fa2-27f1db1f6a14"
      },
      "source": [
        "np.sqrt(np.sum(np.power(p2 - p1, 2)))"
      ],
      "execution_count": null,
      "outputs": [
        {
          "output_type": "execute_result",
          "data": {
            "text/plain": [
              "4.242640687119285"
            ]
          },
          "metadata": {
            "tags": []
          },
          "execution_count": 6
        }
      ]
    },
    {
      "cell_type": "code",
      "metadata": {
        "colab": {
          "base_uri": "https://localhost:8080/"
        },
        "id": "7qxOk9rn9KDa",
        "outputId": "98298f6a-2b6f-4df6-82b7-c01683b82a1e"
      },
      "source": [
        "def distance(p1, p2):\n",
        "    ''' finds the distance between point p1 and p2 '''\n",
        "    return np.sqrt(np.sum(np.power(p2 - p1, 2)))\n",
        "\n",
        "p1 = np.array([1, 1])\n",
        "p2 = np.array([4, 4])\n",
        "distance(p1, p2)"
      ],
      "execution_count": null,
      "outputs": [
        {
          "output_type": "execute_result",
          "data": {
            "text/plain": [
              "4.242640687119285"
            ]
          },
          "metadata": {
            "tags": []
          },
          "execution_count": 7
        }
      ]
    },
    {
      "cell_type": "code",
      "metadata": {
        "colab": {
          "base_uri": "https://localhost:8080/"
        },
        "id": "DAQGTSLu-zSS",
        "outputId": "015c07ba-d12a-439d-91f0-dd56b47ed18b"
      },
      "source": [
        "# most common vote (or majority vote) in sequence of votes\n",
        "\n",
        "import random\n",
        "\n",
        "def majority_vote(votes):\n",
        "    ''' return most common vote in votes '''\n",
        "    vote_counts = {}\n",
        "    for vote in votes:\n",
        "        if vote in vote_counts:\n",
        "            vote_counts[vote] += 1\n",
        "        else:\n",
        "            vote_counts[vote] = 1\n",
        "\n",
        "    winners = []\n",
        "    max_count = max(vote_counts.values())\n",
        "    for vote, count in vote_counts.items():\n",
        "        if count == max_count:\n",
        "            winners.append(vote)\n",
        "\n",
        "    return random.choice(winners) # in case of multiple winners\n",
        "\n",
        "votes = [1, 2, 3, 1, 2, 3, 3, 3, 3]\n",
        "winner = majority_vote(votes)\n",
        "winner"
      ],
      "execution_count": 16,
      "outputs": [
        {
          "output_type": "execute_result",
          "data": {
            "text/plain": [
              "3"
            ]
          },
          "metadata": {
            "tags": []
          },
          "execution_count": 16
        }
      ]
    },
    {
      "cell_type": "code",
      "metadata": {
        "colab": {
          "base_uri": "https://localhost:8080/"
        },
        "id": "ypGE9A0cBEdy",
        "outputId": "7dc44360-ce6d-46dc-b9e8-226ddae5be53"
      },
      "source": [
        "votes = [1, 2, 3, 1, 2, 3, 3, 3, 3, 2, 2, 2]\n",
        "majority_vote(votes) # random.choice([2, 3])"
      ],
      "execution_count": 17,
      "outputs": [
        {
          "output_type": "execute_result",
          "data": {
            "text/plain": [
              "2"
            ]
          },
          "metadata": {
            "tags": []
          },
          "execution_count": 17
        }
      ]
    },
    {
      "cell_type": "code",
      "metadata": {
        "colab": {
          "base_uri": "https://localhost:8080/"
        },
        "id": "eVWXsGssBU2s",
        "outputId": "c2e3b78d-1672-4ebb-f664-f589d9c15bd7"
      },
      "source": [
        "votes = [1, 2, 3, 1, 2, 3, 3, 3, 3, 2, 2, 2]\n",
        "majority_vote(votes) # random.choice([2, 3])"
      ],
      "execution_count": 20,
      "outputs": [
        {
          "output_type": "execute_result",
          "data": {
            "text/plain": [
              "2"
            ]
          },
          "metadata": {
            "tags": []
          },
          "execution_count": 20
        }
      ]
    },
    {
      "cell_type": "code",
      "metadata": {
        "colab": {
          "base_uri": "https://localhost:8080/"
        },
        "id": "VP3-RMGuB9dv",
        "outputId": "069ff3c1-f6ff-45bd-e8ec-69d4260fd871"
      },
      "source": [
        "votes = [1, 2, 3, 1, 2, 3, 3, 3, 3, 2, 2, 2]\n",
        "majority_vote(votes) # random.choice([2, 3])"
      ],
      "execution_count": 21,
      "outputs": [
        {
          "output_type": "execute_result",
          "data": {
            "text/plain": [
              "3"
            ]
          },
          "metadata": {
            "tags": []
          },
          "execution_count": 21
        }
      ]
    },
    {
      "cell_type": "code",
      "metadata": {
        "colab": {
          "base_uri": "https://localhost:8080/"
        },
        "id": "fmSZBg2_COGx",
        "outputId": "8d32085b-9fe4-4e5c-dae6-625cbcdb51e5"
      },
      "source": [
        "# finding majority vote is same as finding mode \n",
        "\n",
        "import scipy.stats as ss\n",
        "\n",
        "def majority_vote_short(votes):\n",
        "    ''' return most common vote in votes '''\n",
        "    mode, count = ss.mstats.mode(votes)\n",
        "    return mode\n",
        "\n",
        "votes = [1, 2, 3, 1, 2, 3, 3, 3, 3, 2, 2, 2]\n",
        "majority_vote_short(votes)"
      ],
      "execution_count": 22,
      "outputs": [
        {
          "output_type": "execute_result",
          "data": {
            "text/plain": [
              "array([2.])"
            ]
          },
          "metadata": {
            "tags": []
          },
          "execution_count": 22
        }
      ]
    },
    {
      "cell_type": "code",
      "metadata": {
        "colab": {
          "base_uri": "https://localhost:8080/"
        },
        "id": "vsyiLYW0D9lk",
        "outputId": "f0cfe9ca-80bd-4544-8ac0-1c336a5b72f2"
      },
      "source": [
        "votes = [1, 2, 3, 1, 2, 3, 3, 3, 3, 2, 2, 2]\n",
        "majority_vote_short(votes) # returns same value every time"
      ],
      "execution_count": 23,
      "outputs": [
        {
          "output_type": "execute_result",
          "data": {
            "text/plain": [
              "array([2.])"
            ]
          },
          "metadata": {
            "tags": []
          },
          "execution_count": 23
        }
      ]
    },
    {
      "cell_type": "code",
      "metadata": {
        "colab": {
          "base_uri": "https://localhost:8080/",
          "height": 265
        },
        "id": "vpg9zEx-EUwR",
        "outputId": "6460d178-cad5-4cfc-bc0d-6db95b7903bb"
      },
      "source": [
        "# finding nearest neighbors\n",
        "\n",
        "import matplotlib.pyplot as plt\n",
        "\n",
        "points = np.array([[1, 1], [1, 2], [1, 3], [2, 1], [2, 2], [2, 3], [3, 1], [3, 2], [3, 3]])\n",
        "p = np.array([2.5, 2])\n",
        "\n",
        "plt.plot(points[:, 0], points[:, 1], \"ro\"); # \"ro\" - red circle\n",
        "plt.plot(p[0], p[1], \"bo\"); # \"bo\" - blue circle"
      ],
      "execution_count": 26,
      "outputs": [
        {
          "output_type": "display_data",
          "data": {
            "image/png": "[encoded data removed]",
            "text/plain": [
              "<Figure size 432x288 with 1 Axes>"
            ]
          },
          "metadata": {
            "tags": [],
            "needs_background": "light"
          }
        }
      ]
    },
    {
      "cell_type": "code",
      "metadata": {
        "colab": {
          "base_uri": "https://localhost:8080/"
        },
        "id": "o2n6A6k6GUIO",
        "outputId": "439ab39c-1cd2-4dab-d386-dda89cd40490"
      },
      "source": [
        "distances = np.zeros(points.shape[0]) # length of distances is same as number of rows in points\n",
        "\n",
        "for i in range(len(points)):\n",
        "    distances[i] = distance(p, points[i])\n",
        "\n",
        "distances"
      ],
      "execution_count": 28,
      "outputs": [
        {
          "output_type": "execute_result",
          "data": {
            "text/plain": [
              "array([1.80277564, 1.5       , 1.80277564, 1.11803399, 0.5       ,\n",
              "       1.11803399, 1.11803399, 0.5       , 1.11803399])"
            ]
          },
          "metadata": {
            "tags": []
          },
          "execution_count": 28
        }
      ]
    },
    {
      "cell_type": "code",
      "metadata": {
        "colab": {
          "base_uri": "https://localhost:8080/"
        },
        "id": "dg8pT7J2HIpp",
        "outputId": "effc6f4e-aafe-4147-9c08-c98f78ac9b3e"
      },
      "source": [
        "points[4]"
      ],
      "execution_count": 29,
      "outputs": [
        {
          "output_type": "execute_result",
          "data": {
            "text/plain": [
              "array([2, 2])"
            ]
          },
          "metadata": {
            "tags": []
          },
          "execution_count": 29
        }
      ]
    },
    {
      "cell_type": "code",
      "metadata": {
        "colab": {
          "base_uri": "https://localhost:8080/"
        },
        "id": "lbqEqNkFHLag",
        "outputId": "e4a9f32a-9016-4198-f664-2b89b9d495c1"
      },
      "source": [
        "distances[4] # distance of points[4] = [2, 2] from p = [2.5, 2]"
      ],
      "execution_count": 30,
      "outputs": [
        {
          "output_type": "execute_result",
          "data": {
            "text/plain": [
              "0.5"
            ]
          },
          "metadata": {
            "tags": []
          },
          "execution_count": 30
        }
      ]
    },
    {
      "cell_type": "code",
      "metadata": {
        "colab": {
          "base_uri": "https://localhost:8080/"
        },
        "id": "k3TjjcouHdrX",
        "outputId": "513520d8-270d-4dce-89ca-9d3cf60c266b"
      },
      "source": [
        "points[7]"
      ],
      "execution_count": 31,
      "outputs": [
        {
          "output_type": "execute_result",
          "data": {
            "text/plain": [
              "array([3, 2])"
            ]
          },
          "metadata": {
            "tags": []
          },
          "execution_count": 31
        }
      ]
    },
    {
      "cell_type": "code",
      "metadata": {
        "colab": {
          "base_uri": "https://localhost:8080/"
        },
        "id": "5heEKxWcHiXe",
        "outputId": "4224e3a8-48ab-41cd-e9e0-f3da19fd4def"
      },
      "source": [
        "distances[4] # distance of points[4] = [3, 2] from p = [2.5, 2]"
      ],
      "execution_count": 32,
      "outputs": [
        {
          "output_type": "execute_result",
          "data": {
            "text/plain": [
              "0.5"
            ]
          },
          "metadata": {
            "tags": []
          },
          "execution_count": 32
        }
      ]
    },
    {
      "cell_type": "code",
      "metadata": {
        "colab": {
          "base_uri": "https://localhost:8080/"
        },
        "id": "ZQ8pBjR9HwMD",
        "outputId": "a305d556-06e3-4e17-8d09-2c3cd328f51c"
      },
      "source": [
        "distances"
      ],
      "execution_count": 33,
      "outputs": [
        {
          "output_type": "execute_result",
          "data": {
            "text/plain": [
              "array([1.80277564, 1.5       , 1.80277564, 1.11803399, 0.5       ,\n",
              "       1.11803399, 1.11803399, 0.5       , 1.11803399])"
            ]
          },
          "metadata": {
            "tags": []
          },
          "execution_count": 33
        }
      ]
    },
    {
      "cell_type": "code",
      "metadata": {
        "colab": {
          "base_uri": "https://localhost:8080/"
        },
        "id": "Bt29FJbwHyyM",
        "outputId": "2393aaa8-d1bd-44a8-e224-e99d2919ab77"
      },
      "source": [
        "indices = np.argsort(distances)\n",
        "indices"
      ],
      "execution_count": 34,
      "outputs": [
        {
          "output_type": "execute_result",
          "data": {
            "text/plain": [
              "array([4, 7, 3, 5, 6, 8, 1, 0, 2])"
            ]
          },
          "metadata": {
            "tags": []
          },
          "execution_count": 34
        }
      ]
    },
    {
      "cell_type": "code",
      "metadata": {
        "colab": {
          "base_uri": "https://localhost:8080/"
        },
        "id": "7uMTh6iLICQV",
        "outputId": "af33855a-ba25-4682-b26b-6a263fe332d8"
      },
      "source": [
        "distances[indices] # we get sorted array of distances"
      ],
      "execution_count": 35,
      "outputs": [
        {
          "output_type": "execute_result",
          "data": {
            "text/plain": [
              "array([0.5       , 0.5       , 1.11803399, 1.11803399, 1.11803399,\n",
              "       1.11803399, 1.5       , 1.80277564, 1.80277564])"
            ]
          },
          "metadata": {
            "tags": []
          },
          "execution_count": 35
        }
      ]
    },
    {
      "cell_type": "code",
      "metadata": {
        "colab": {
          "base_uri": "https://localhost:8080/"
        },
        "id": "B93iVaJmISPd",
        "outputId": "31d1facd-9aa5-4a0f-d95b-9ef0cab7f56a"
      },
      "source": [
        "distances[indices[0:2]] # first two points with minimum distance from p = [2.5, 2]"
      ],
      "execution_count": 36,
      "outputs": [
        {
          "output_type": "execute_result",
          "data": {
            "text/plain": [
              "array([0.5, 0.5])"
            ]
          },
          "metadata": {
            "tags": []
          },
          "execution_count": 36
        }
      ]
    },
    {
      "cell_type": "code",
      "metadata": {
        "colab": {
          "base_uri": "https://localhost:8080/"
        },
        "id": "tNwd6YF-Ii7h",
        "outputId": "79e52e65-f7b6-4593-cc77-afd613cbe4e7"
      },
      "source": [
        "def find_nearest_neighbors(p, points, k=5):\n",
        "    ''' finds the k nearest neighbors of point p and return their indices. '''\n",
        "    distances = np.zeros(points.shape[0])\n",
        "    for i in range(len(points)):\n",
        "        distances[i] = distance(p, points[i])\n",
        "\n",
        "    indices = np.argsort(distances)\n",
        "\n",
        "    return indices[:k]\n",
        "\n",
        "points = np.array([[1, 1], [1, 2], [1, 3], [2, 1], [2, 2], [2, 3], [3, 1], [3, 2], [3, 3]])\n",
        "p = np.array([2.5, 2])\n",
        "\n",
        "indices = find_nearest_neighbors(p, points, k=2) # 2 nearest neighbors\n",
        "points[indices]"
      ],
      "execution_count": 38,
      "outputs": [
        {
          "output_type": "execute_result",
          "data": {
            "text/plain": [
              "array([[2, 2],\n",
              "       [3, 2]])"
            ]
          },
          "metadata": {
            "tags": []
          },
          "execution_count": 38
        }
      ]
    },
    {
      "cell_type": "code",
      "metadata": {
        "colab": {
          "base_uri": "https://localhost:8080/"
        },
        "id": "App9_S5yKA7S",
        "outputId": "521e068a-61d2-4508-b8d7-27e14af4cbb7"
      },
      "source": [
        "indices = find_nearest_neighbors(p, points, k=3) # 3 nearest neighbors\n",
        "points[indices]"
      ],
      "execution_count": 39,
      "outputs": [
        {
          "output_type": "execute_result",
          "data": {
            "text/plain": [
              "array([[2, 2],\n",
              "       [3, 2],\n",
              "       [2, 1]])"
            ]
          },
          "metadata": {
            "tags": []
          },
          "execution_count": 39
        }
      ]
    },
    {
      "cell_type": "code",
      "metadata": {
        "colab": {
          "base_uri": "https://localhost:8080/"
        },
        "id": "iYMLa3aBKMIk",
        "outputId": "1492b2d8-9357-430f-a369-8d517986db68"
      },
      "source": [
        "indices = find_nearest_neighbors(p, points, k=4) # 4 nearest neighbors\n",
        "points[indices]"
      ],
      "execution_count": 40,
      "outputs": [
        {
          "output_type": "execute_result",
          "data": {
            "text/plain": [
              "array([[2, 2],\n",
              "       [3, 2],\n",
              "       [2, 1],\n",
              "       [2, 3]])"
            ]
          },
          "metadata": {
            "tags": []
          },
          "execution_count": 40
        }
      ]
    },
    {
      "cell_type": "code",
      "metadata": {
        "colab": {
          "base_uri": "https://localhost:8080/"
        },
        "id": "SibBgS4qKcM6",
        "outputId": "f3f90101-b85c-4029-cbc1-fde91f372e79"
      },
      "source": [
        "# predict the class of new point\n",
        "\n",
        "def knn_predict(p, points, outcomes, k=5):\n",
        "    indices = find_nearest_neighbors(p, points, k) # find nearest neighbors\n",
        "    return majority_vote(outcomes[indices])\n",
        "\n",
        "outcomes = np.array([0, 0, 0, 0, 1, 1, 1, 1, 1]) # first 4 points belongs to class 0 and next 5 points belongs to class 1\n",
        "\n",
        "p = np.array([2.5, 2.7])\n",
        "knn_predict(p, points, outcomes, k=2)"
      ],
      "execution_count": 41,
      "outputs": [
        {
          "output_type": "execute_result",
          "data": {
            "text/plain": [
              "1"
            ]
          },
          "metadata": {
            "tags": []
          },
          "execution_count": 41
        }
      ]
    },
    {
      "cell_type": "markdown",
      "metadata": {
        "id": "jfg2dW5dMVVN"
      },
      "source": [
        "- `we have 2 different classes of our point - class 0 and class 1.`\n",
        "- `point p = [2.5, 2.7] belongs to class 1, according to knn_predict().`"
      ]
    },
    {
      "cell_type": "code",
      "metadata": {
        "colab": {
          "base_uri": "https://localhost:8080/"
        },
        "id": "UeDaAiUsMr3U",
        "outputId": "2bcc98aa-d0c0-4260-c16b-61b3e4440e29"
      },
      "source": [
        "p = np.array([1.0, 2.7])\n",
        "knn_predict(p, points, outcomes, k=2)"
      ],
      "execution_count": 42,
      "outputs": [
        {
          "output_type": "execute_result",
          "data": {
            "text/plain": [
              "0"
            ]
          },
          "metadata": {
            "tags": []
          },
          "execution_count": 42
        }
      ]
    },
    {
      "cell_type": "markdown",
      "metadata": {
        "id": "QZta7koNM37v"
      },
      "source": [
        "- `similarly point p = [1.0, 2.7] belongs to class 0, according to knn_predict().`"
      ]
    },
    {
      "cell_type": "code",
      "metadata": {
        "colab": {
          "base_uri": "https://localhost:8080/"
        },
        "id": "FNWmmxDESAkn",
        "outputId": "099b6234-1fd1-48d2-882d-3446ab8b7193"
      },
      "source": [
        "# generating synthetic data\n",
        "\n",
        "import scipy.stats as ss\n",
        "\n",
        "ss.norm(0, 1).rvs((5, 2)) # mean = 0, standard-deviation = 1, 5 row and 2 columns"
      ],
      "execution_count": 43,
      "outputs": [
        {
          "output_type": "execute_result",
          "data": {
            "text/plain": [
              "array([[-1.84047015, -0.37680919],\n",
              "       [ 0.69926335, -0.74470343],\n",
              "       [-0.33039644, -0.06431417],\n",
              "       [-0.74340474, -1.04226604],\n",
              "       [-1.34185244, -0.72876658]])"
            ]
          },
          "metadata": {
            "tags": []
          },
          "execution_count": 43
        }
      ]
    },
    {
      "cell_type": "code",
      "metadata": {
        "colab": {
          "base_uri": "https://localhost:8080/"
        },
        "id": "NUg2RpoTS5f7",
        "outputId": "a9571004-ce9d-4d67-cf48-f6d6de18bab4"
      },
      "source": [
        "ss.norm(1, 1).rvs((5, 2)) # mean = 1, standard-deviation = 1, 5 row and 2 columns"
      ],
      "execution_count": 44,
      "outputs": [
        {
          "output_type": "execute_result",
          "data": {
            "text/plain": [
              "array([[ 1.40348061,  1.70993507],\n",
              "       [ 0.56281391, -0.20854063],\n",
              "       [ 1.81743303,  1.44150333],\n",
              "       [-0.0242506 ,  0.85122418],\n",
              "       [ 1.69338413,  0.74859018]])"
            ]
          },
          "metadata": {
            "tags": []
          },
          "execution_count": 44
        }
      ]
    },
    {
      "cell_type": "code",
      "metadata": {
        "colab": {
          "base_uri": "https://localhost:8080/"
        },
        "id": "Dx5nDy5bTEqP",
        "outputId": "5a5db77a-a8ab-4828-ed8b-0283e6181613"
      },
      "source": [
        "np.concatenate((ss.norm(0, 1).rvs((5, 2)), ss.norm(1, 1).rvs((5, 2))), axis=0) # concatenate along rows (10 rows and 2 columns)"
      ],
      "execution_count": 45,
      "outputs": [
        {
          "output_type": "execute_result",
          "data": {
            "text/plain": [
              "array([[-0.61384238, -0.06654529],\n",
              "       [-0.45168615,  1.22268833],\n",
              "       [-1.15091229, -0.22610866],\n",
              "       [-0.41402676,  1.00078442],\n",
              "       [ 1.22707938, -1.94856043],\n",
              "       [-0.4931675 ,  1.48102001],\n",
              "       [ 0.92972551,  0.77788811],\n",
              "       [ 0.44503303,  0.16365368],\n",
              "       [ 1.56397496,  0.11705214],\n",
              "       [ 0.99214941,  0.92231152]])"
            ]
          },
          "metadata": {
            "tags": []
          },
          "execution_count": 45
        }
      ]
    },
    {
      "cell_type": "code",
      "metadata": {
        "colab": {
          "base_uri": "https://localhost:8080/"
        },
        "id": "8Tn-ldnUUJzG",
        "outputId": "1cfcc997-ce52-4bfa-f586-73a0417727f2"
      },
      "source": [
        "np.repeat(0, 5) "
      ],
      "execution_count": 46,
      "outputs": [
        {
          "output_type": "execute_result",
          "data": {
            "text/plain": [
              "array([0, 0, 0, 0, 0])"
            ]
          },
          "metadata": {
            "tags": []
          },
          "execution_count": 46
        }
      ]
    },
    {
      "cell_type": "code",
      "metadata": {
        "colab": {
          "base_uri": "https://localhost:8080/"
        },
        "id": "hTNqxFaBUUTo",
        "outputId": "3a442bf3-cfd7-4375-d078-119867ea5869"
      },
      "source": [
        "np.repeat(1, 5)"
      ],
      "execution_count": 47,
      "outputs": [
        {
          "output_type": "execute_result",
          "data": {
            "text/plain": [
              "array([1, 1, 1, 1, 1])"
            ]
          },
          "metadata": {
            "tags": []
          },
          "execution_count": 47
        }
      ]
    },
    {
      "cell_type": "code",
      "metadata": {
        "colab": {
          "base_uri": "https://localhost:8080/"
        },
        "id": "9J2rOW-vUZ7l",
        "outputId": "77fbcbde-e478-4f16-8bea-6ae320813738"
      },
      "source": [
        "np.concatenate((np.repeat(0, 5), np.repeat(1, 5)))"
      ],
      "execution_count": 49,
      "outputs": [
        {
          "output_type": "execute_result",
          "data": {
            "text/plain": [
              "array([0, 0, 0, 0, 0, 1, 1, 1, 1, 1])"
            ]
          },
          "metadata": {
            "tags": []
          },
          "execution_count": 49
        }
      ]
    },
    {
      "cell_type": "code",
      "metadata": {
        "id": "Kl6o7f6uUBfj"
      },
      "source": [
        "def generate_synthetic_data(n=50):\n",
        "    ''' create two sets of points from bivariate normal distributions. '''\n",
        "    points = np.concatenate((ss.norm(0, 1).rvs((n, 2)), ss.norm(1, 1).rvs((n, 2))), axis=0)\n",
        "    outcomes = np.concatenate((np.repeat(0, n), np.repeat(1, n)))\n",
        "\n",
        "    return (points, outcomes)\n",
        "\n",
        "n = 20\n",
        "(points, outcomes) = generate_synthetic_data(n)"
      ],
      "execution_count": 50,
      "outputs": []
    },
    {
      "cell_type": "code",
      "metadata": {
        "colab": {
          "base_uri": "https://localhost:8080/",
          "height": 265
        },
        "id": "_giBtcRhWESo",
        "outputId": "8b8dcd67-75a7-44a2-eab1-1ed96d2d4bd5"
      },
      "source": [
        "plt.plot(points[:n, 0], points[:n, 1], \"ro\"); # values in class 0 i.e., first n values\n",
        "plt.plot(points[n:, 0], points[n:, 1], \"bo\"); # values in class 1 i.e., last n values"
      ],
      "execution_count": 55,
      "outputs": [
        {
          "output_type": "display_data",
          "data": {
            "image/png": "[encoded data removed]",
            "text/plain": [
              "<Figure size 432x288 with 1 Axes>"
            ]
          },
          "metadata": {
            "tags": [],
            "needs_background": "light"
          }
        }
      ]
    },
    {
      "cell_type": "code",
      "metadata": {
        "colab": {
          "base_uri": "https://localhost:8080/"
        },
        "id": "XfrOQh3y3UNK",
        "outputId": "b1519b48-cdf9-4f5b-f2d7-6c5a84759cd5"
      },
      "source": [
        "x = np.arange(0, 10, 2)\n",
        "y = np.arange(0, 10, 2)\n",
        "columns, rows = np.meshgrid(x, y) # generated 2D grid\n",
        "print(f'x coordinates: \\n{columns}\\n') # x coordinates\n",
        "print(f'y coordinates: \\n{rows}')      # y coordinates"
      ],
      "execution_count": 66,
      "outputs": [
        {
          "output_type": "stream",
          "text": [
            "x coordinates: \n",
            "[[0 2 4 6 8]\n",
            " [0 2 4 6 8]\n",
            " [0 2 4 6 8]\n",
            " [0 2 4 6 8]\n",
            " [0 2 4 6 8]]\n",
            "\n",
            "y coordinates: \n",
            "[[0 0 0 0 0]\n",
            " [2 2 2 2 2]\n",
            " [4 4 4 4 4]\n",
            " [6 6 6 6 6]\n",
            " [8 8 8 8 8]]\n"
          ],
          "name": "stdout"
        }
      ]
    },
    {
      "cell_type": "code",
      "metadata": {
        "id": "8FzE4LPYWFfS"
      },
      "source": [
        "def make_prediction_grid(predictors, outcomes, limits, h, k):\n",
        "    ''' classify each point on prediction grid. '''\n",
        "    (x_min, x_max, y_min, y_max) = limits\n",
        "    x = np.arange(x_min, x_max, h)\n",
        "    y = np.arange(y_min, y_max, h)\n",
        "    x_, y_ = np.meshgrid(x, y)\n",
        "\n",
        "    prediction_grid = np.zeros(x_.shape, dtype=int) # or np.zeros(y_.shape, dtype=int)\n",
        "\n",
        "    for i, _x in enumerate(x):\n",
        "        for j, _y in enumerate(y):\n",
        "            p = np.array([_x, _y])\n",
        "            prediction_grid[j, i] = knn_predict(p, predictors, outcomes, k)\n",
        "\n",
        "    return (x_, y_, prediction_grid)"
      ],
      "execution_count": 70,
      "outputs": []
    },
    {
      "cell_type": "code",
      "metadata": {
        "id": "7b9CN4Ck8OiY"
      },
      "source": [
        "def plot_prediction_grid (x_, y_, prediction_grid):\n",
        "    ''' plot knn predictions for every point on the grid. '''\n",
        "    from matplotlib.colors import ListedColormap\n",
        "\n",
        "    background_colormap = ListedColormap ([\"hotpink\",\"lightskyblue\", \"yellowgreen\"])\n",
        "    observation_colormap = ListedColormap ([\"red\",\"blue\",\"green\"])\n",
        "\n",
        "    plt.pcolormesh(x_, y_, prediction_grid, cmap=background_colormap, alpha=0.5)\n",
        "    plt.scatter(predictors[:, 0], predictors [:, 1], c=outcomes, cmap=observation_colormap, s=50)\n",
        "    plt.xlabel('variable 1')\n",
        "    plt.ylabel('variable 2')\n",
        "    plt.xticks(()) \n",
        "    plt.yticks(())\n",
        "    plt.xlim(np.min(x_), np.max(x_))\n",
        "    plt.ylim (np.min(y_), np.max(y_))\n",
        "    plt.plot();"
      ],
      "execution_count": 71,
      "outputs": []
    },
    {
      "cell_type": "code",
      "metadata": {
        "colab": {
          "base_uri": "https://localhost:8080/",
          "height": 589
        },
        "id": "o6x3J5Jb7C5k",
        "outputId": "fe8eb1f2-0c7a-4afe-d5bc-c26d64e62812"
      },
      "source": [
        "(predictors, outcomes) = generate_synthetic_data()\n",
        "\n",
        "k = 5\n",
        "limits = (-3, 4, -3, 4)\n",
        "h = 0.1 # step size\n",
        "(x_, y_, prediction_grid) = make_prediction_grid(predictors, outcomes, limits, h, k)\n",
        "plot_prediction_grid(x_, y_, prediction_grid)"
      ],
      "execution_count": 77,
      "outputs": [
        {
          "output_type": "display_data",
          "data": {
            "image/png": "[encoded data removed]",
            "text/plain": [
              "<Figure size 720x720 with 1 Axes>"
            ]
          },
          "metadata": {
            "tags": []
          }
        }
      ]
    },
    {
      "cell_type": "code",
      "metadata": {
        "colab": {
          "base_uri": "https://localhost:8080/",
          "height": 589
        },
        "id": "STJZPBq0_G7W",
        "outputId": "77a2166c-edba-4230-fc83-a859fe1aef00"
      },
      "source": [
        "k = 50 # as k increases, decision boundary becomes smooth\n",
        "limits = (-3, 4, -3, 4)\n",
        "h = 0.1 # step size\n",
        "(x_, y_, prediction_grid) = make_prediction_grid(predictors, outcomes, limits, h, k)\n",
        "plot_prediction_grid(x_, y_, prediction_grid)"
      ],
      "execution_count": 78,
      "outputs": [
        {
          "output_type": "display_data",
          "data": {
            "image/png": "[encoded data removed]",
            "text/plain": [
              "<Figure size 720x720 with 1 Axes>"
            ]
          },
          "metadata": {
            "tags": []
          }
        }
      ]
    },
    {
      "cell_type": "markdown",
      "metadata": {
        "id": "uovIe3GDB0Yk"
      },
      "source": [
        "**`Iris data-set`**\n",
        "\n",
        "- `Iris data set created by Ron Fisher in 1933.`\n",
        "- `It consists of 150 different iris flowers.`\n",
        "- `50 from each of three different species.`\n",
        "- `For each flower, we have the following covariates :`\n",
        "    - `sepal length` \n",
        "    - `sepal width` \n",
        "    - `petal length`\n",
        "    - `petal width`\n"
      ]
    },
    {
      "cell_type": "code",
      "metadata": {
        "colab": {
          "base_uri": "https://localhost:8080/",
          "height": 268
        },
        "id": "I7birEyOBOb5",
        "outputId": "979bb1d5-ed58-4c5f-e299-226d414f489a"
      },
      "source": [
        "# testing knn classifier on real data-set\n",
        "\n",
        "from sklearn import datasets\n",
        "\n",
        "iris = datasets.load_iris()\n",
        "predictors = iris.data[:, 0:2] # select first two columns only\n",
        "outcomes = iris.target\n",
        "\n",
        "plt.plot(predictors[outcomes == 0][:, 0], predictors[outcomes == 0][:, 1], \"ro\");\n",
        "plt.plot(predictors[outcomes == 1][:, 0], predictors[outcomes == 1][:, 1], \"go\");\n",
        "plt.plot(predictors[outcomes == 2][:, 0], predictors[outcomes == 2][:, 1], \"bo\");"
      ],
      "execution_count": 79,
      "outputs": [
        {
          "output_type": "display_data",
          "data": {
            "image/png": "[encoded data removed]",
            "text/plain": [
              "<Figure size 432x288 with 1 Axes>"
            ]
          },
          "metadata": {
            "tags": [],
            "needs_background": "light"
          }
        }
      ]
    },
    {
      "cell_type": "code",
      "metadata": {
        "colab": {
          "base_uri": "https://localhost:8080/",
          "height": 589
        },
        "id": "-OKjZ0-bDsAO",
        "outputId": "a05153e5-15c4-45a6-e761-67869f36a3fc"
      },
      "source": [
        "k = 5\n",
        "limits = (4, 8, 1.5, 4.5)\n",
        "h = 0.1 # step size\n",
        "(x_, y_, prediction_grid) = make_prediction_grid(predictors, outcomes, limits, h, k)\n",
        "plot_prediction_grid(x_, y_, prediction_grid)"
      ],
      "execution_count": 80,
      "outputs": [
        {
          "output_type": "display_data",
          "data": {
            "image/png": "[encoded data removed]",
            "text/plain": [
              "<Figure size 720x720 with 1 Axes>"
            ]
          },
          "metadata": {
            "tags": []
          }
        }
      ]
    },
    {
      "cell_type": "code",
      "metadata": {
        "colab": {
          "base_uri": "https://localhost:8080/"
        },
        "id": "Ftr_-g56E8ju",
        "outputId": "f7a48f1a-3529-433f-cc16-946a3cbfbf04"
      },
      "source": [
        "# comparison between knn_predict and KNeighborsClassifier\n",
        "\n",
        "from sklearn.neighbors import KNeighborsClassifier\n",
        "\n",
        "knn = KNeighborsClassifier(n_neighbors=5)\n",
        "knn.fit(predictors, outcomes)\n",
        "\n",
        "sk_predictions = knn.predict(predictors)\n",
        "\n",
        "sk_predictions.shape"
      ],
      "execution_count": 83,
      "outputs": [
        {
          "output_type": "execute_result",
          "data": {
            "text/plain": [
              "(150,)"
            ]
          },
          "metadata": {
            "tags": []
          },
          "execution_count": 83
        }
      ]
    },
    {
      "cell_type": "code",
      "metadata": {
        "colab": {
          "base_uri": "https://localhost:8080/"
        },
        "id": "uGRYaUkIKOAT",
        "outputId": "ab866a0e-a384-40d9-ba63-b9d51e8f968a"
      },
      "source": [
        "my_predictions = np.array([knn_predict(p, predictors, outcomes, k=5) for p in predictors])\n",
        "\n",
        "my_predictions.shape"
      ],
      "execution_count": 84,
      "outputs": [
        {
          "output_type": "execute_result",
          "data": {
            "text/plain": [
              "(150,)"
            ]
          },
          "metadata": {
            "tags": []
          },
          "execution_count": 84
        }
      ]
    },
    {
      "cell_type": "code",
      "metadata": {
        "colab": {
          "base_uri": "https://localhost:8080/"
        },
        "id": "-_16DzWsKSUa",
        "outputId": "26a0114d-a5b7-438f-df3c-243077c602d7"
      },
      "source": [
        "# check how often sk_predictions agree with my_predictions\n",
        "\n",
        "sk_predictions == my_predictions"
      ],
      "execution_count": 85,
      "outputs": [
        {
          "output_type": "execute_result",
          "data": {
            "text/plain": [
              "array([ True,  True,  True,  True,  True,  True,  True,  True,  True,\n",
              "        True,  True,  True,  True,  True,  True,  True,  True,  True,\n",
              "        True,  True,  True,  True,  True,  True,  True,  True,  True,\n",
              "        True,  True,  True,  True,  True,  True,  True,  True,  True,\n",
              "        True,  True,  True,  True,  True,  True,  True,  True,  True,\n",
              "        True,  True,  True,  True,  True,  True,  True,  True,  True,\n",
              "        True,  True,  True,  True,  True,  True,  True, False,  True,\n",
              "        True,  True,  True,  True,  True,  True,  True,  True,  True,\n",
              "        True,  True,  True,  True,  True, False,  True,  True,  True,\n",
              "        True,  True,  True,  True, False,  True,  True,  True,  True,\n",
              "        True,  True,  True,  True,  True,  True,  True,  True,  True,\n",
              "        True,  True,  True,  True,  True,  True,  True,  True,  True,\n",
              "       False,  True,  True,  True,  True,  True,  True,  True,  True,\n",
              "        True,  True,  True,  True,  True,  True,  True,  True,  True,\n",
              "        True,  True,  True,  True,  True,  True,  True,  True,  True,\n",
              "        True,  True,  True,  True,  True,  True,  True,  True,  True,\n",
              "        True, False,  True,  True,  True, False])"
            ]
          },
          "metadata": {
            "tags": []
          },
          "execution_count": 85
        }
      ]
    },
    {
      "cell_type": "code",
      "metadata": {
        "colab": {
          "base_uri": "https://localhost:8080/"
        },
        "id": "pma0REeLKopw",
        "outputId": "3cedb7f3-c36b-47c4-f3ed-43e2090bccb8"
      },
      "source": [
        "np.mean(sk_predictions == my_predictions)"
      ],
      "execution_count": 86,
      "outputs": [
        {
          "output_type": "execute_result",
          "data": {
            "text/plain": [
              "0.96"
            ]
          },
          "metadata": {
            "tags": []
          },
          "execution_count": 86
        }
      ]
    },
    {
      "cell_type": "code",
      "metadata": {
        "colab": {
          "base_uri": "https://localhost:8080/"
        },
        "id": "SPK04cA2KyRk",
        "outputId": "765b73b2-d761-4c70-cf43-46c29f3e5dc8"
      },
      "source": [
        "# check percentage of how often sk_predictions agree with my_predictions\n",
        "\n",
        "100 * np.mean(sk_predictions == my_predictions)"
      ],
      "execution_count": 87,
      "outputs": [
        {
          "output_type": "execute_result",
          "data": {
            "text/plain": [
              "96.0"
            ]
          },
          "metadata": {
            "tags": []
          },
          "execution_count": 87
        }
      ]
    },
    {
      "cell_type": "code",
      "metadata": {
        "colab": {
          "base_uri": "https://localhost:8080/"
        },
        "id": "15Mq9jsALrfX",
        "outputId": "14a1d298-b53c-45ab-ec8f-58a03710728e"
      },
      "source": [
        "# check percentage of how often sk_predictions agree with actual outcomes\n",
        "\n",
        "100 * np.mean(sk_predictions == outcomes)"
      ],
      "execution_count": 88,
      "outputs": [
        {
          "output_type": "execute_result",
          "data": {
            "text/plain": [
              "83.33333333333334"
            ]
          },
          "metadata": {
            "tags": []
          },
          "execution_count": 88
        }
      ]
    },
    {
      "cell_type": "code",
      "metadata": {
        "colab": {
          "base_uri": "https://localhost:8080/"
        },
        "id": "La4ilkEtL2J5",
        "outputId": "f6225589-2071-487b-d9da-5cae09d38dd0"
      },
      "source": [
        "# check percentage of how often my_predictions agree with actual outcomes\n",
        "\n",
        "100 * np.mean(my_predictions == outcomes)"
      ],
      "execution_count": 89,
      "outputs": [
        {
          "output_type": "execute_result",
          "data": {
            "text/plain": [
              "84.66666666666667"
            ]
          },
          "metadata": {
            "tags": []
          },
          "execution_count": 89
        }
      ]
    }
  ]
}