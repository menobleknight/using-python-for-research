{
  "nbformat": 4,
  "nbformat_minor": 0,
  "metadata": {
    "kernelspec": {
      "display_name": "Python 3",
      "language": "python",
      "name": "python3"
    },
    "language_info": {
      "codemirror_mode": {
        "name": "ipython",
        "version": 3
      },
      "file_extension": ".py",
      "mimetype": "text/x-python",
      "name": "python",
      "nbconvert_exporter": "python",
      "pygments_lexer": "ipython3",
      "version": "3.7.7"
    },
    "toc": {
      "base_numbering": 1,
      "nav_menu": {},
      "number_sections": true,
      "sideBar": true,
      "skip_h1_title": false,
      "title_cell": "Table of Contents",
      "title_sidebar": "Contents",
      "toc_cell": false,
      "toc_position": {},
      "toc_section_display": true,
      "toc_window_display": false
    },
    "colab": {
      "name": "week-3-part-3-homework.ipynb",
      "provenance": [],
      "include_colab_link": true
    }
  },
  "cells": [
    {
      "cell_type": "markdown",
      "metadata": {
        "id": "view-in-github",
        "colab_type": "text"
      },
      "source": [
        "<a href=\"https://colab.research.google.com/github/er-knight/using-python-for-research/blob/main/week-3-part-3/week-3-part-3-homework.ipynb\" target=\"_parent\"><img src=\"https://colab.research.google.com/assets/colab-badge.svg\" alt=\"Open In Colab\"/></a>"
      ]
    },
    {
      "cell_type": "markdown",
      "metadata": {
        "id": "e2_PUW3l5KcI"
      },
      "source": [
        "# **Using Python for Research Homework: Week 3, Case Study 3**\n",
        "\n",
        "In this case study, we will analyze a dataset consisting of an assortment of wines classified as \"high quality\" and \"low quality\" and will use k-Nearest Neighbors classification to determine whether or not other information about the wine helps us correctly guess whether a new wine will be of high quality."
      ]
    },
    {
      "cell_type": "code",
      "metadata": {
        "id": "RBdG94b_5KcZ"
      },
      "source": [
        "# DO NOT EDIT\n",
        "import numpy as np\n",
        "import random\n",
        "import scipy.stats as ss\n",
        "\n",
        "def majority_vote_fast(votes):\n",
        "    mode, count = ss.mstats.mode(votes)\n",
        "    return mode\n",
        "\n",
        "def distance(p1, p2):\n",
        "    return np.sqrt(np.sum(np.power(p2 - p1, 2)))\n",
        "\n",
        "def find_nearest_neighbors(p, points, k=5):\n",
        "    distances = np.zeros(points.shape[0])\n",
        "    for i in range(len(distances)):\n",
        "        distances[i] = distance(p, points[i])\n",
        "    ind = np.argsort(distances)\n",
        "    return ind[:k]\n",
        "\n",
        "def knn_predict(p, points, outcomes, k=5):\n",
        "    ind = find_nearest_neighbors(p, points, k)\n",
        "    return majority_vote_fast(outcomes[ind])[0]"
      ],
      "execution_count": 1,
      "outputs": []
    },
    {
      "cell_type": "markdown",
      "metadata": {
        "id": "oHHjcw9n5Kcd"
      },
      "source": [
        "### **Exercise 1**\n",
        "\n",
        "Our first step is to import the dataset.\n",
        "\n",
        "**Instructions** \n",
        "- Read in the data as a pandas dataframe using `pd.read_csv`. The data can be found [here](https://courses.edx.org/asset-v1:HarvardX+PH526x+2T2019+type@asset+block@wine.csv)."
      ]
    },
    {
      "cell_type": "code",
      "metadata": {
        "id": "r1XpELFU5Kcg",
        "colab": {
          "base_uri": "https://localhost:8080/",
          "height": 459
        },
        "outputId": "cbcc4040-4535-4a6d-845d-70b74868f2e8"
      },
      "source": [
        "import pandas as pd\n",
        "\n",
        "# write your code here!\n",
        "\n",
        "path = \"https://raw.githubusercontent.com/er-knight/using-python-for-research/main/week-3-part-3/wine.csv\"\n",
        "data = pd.read_csv(path, index_col=0, encoding=\"utf-8\")\n",
        "\n",
        "data"
      ],
      "execution_count": 2,
      "outputs": [
        {
          "output_type": "execute_result",
          "data": {
            "text/html": [
              "<div>\n",
              "<style scoped>\n",
              "    .dataframe tbody tr th:only-of-type {\n",
              "        vertical-align: middle;\n",
              "    }\n",
              "\n",
              "    .dataframe tbody tr th {\n",
              "        vertical-align: top;\n",
              "    }\n",
              "\n",
              "    .dataframe thead th {\n",
              "        text-align: right;\n",
              "    }\n",
              "</style>\n",
              "<table border=\"1\" class=\"dataframe\">\n",
              "  <thead>\n",
              "    <tr style=\"text-align: right;\">\n",
              "      <th></th>\n",
              "      <th>fixed acidity</th>\n",
              "      <th>volatile acidity</th>\n",
              "      <th>citric acid</th>\n",
              "      <th>residual sugar</th>\n",
              "      <th>chlorides</th>\n",
              "      <th>free sulfur dioxide</th>\n",
              "      <th>total sulfur dioxide</th>\n",
              "      <th>density</th>\n",
              "      <th>pH</th>\n",
              "      <th>sulphates</th>\n",
              "      <th>alcohol</th>\n",
              "      <th>quality</th>\n",
              "      <th>color</th>\n",
              "      <th>high_quality</th>\n",
              "    </tr>\n",
              "  </thead>\n",
              "  <tbody>\n",
              "    <tr>\n",
              "      <th>0</th>\n",
              "      <td>7.4</td>\n",
              "      <td>0.70</td>\n",
              "      <td>0.00</td>\n",
              "      <td>1.9</td>\n",
              "      <td>0.076</td>\n",
              "      <td>11.0</td>\n",
              "      <td>34.0</td>\n",
              "      <td>0.99780</td>\n",
              "      <td>3.51</td>\n",
              "      <td>0.56</td>\n",
              "      <td>9.4</td>\n",
              "      <td>5</td>\n",
              "      <td>red</td>\n",
              "      <td>0</td>\n",
              "    </tr>\n",
              "    <tr>\n",
              "      <th>1</th>\n",
              "      <td>7.8</td>\n",
              "      <td>0.88</td>\n",
              "      <td>0.00</td>\n",
              "      <td>2.6</td>\n",
              "      <td>0.098</td>\n",
              "      <td>25.0</td>\n",
              "      <td>67.0</td>\n",
              "      <td>0.99680</td>\n",
              "      <td>3.20</td>\n",
              "      <td>0.68</td>\n",
              "      <td>9.8</td>\n",
              "      <td>5</td>\n",
              "      <td>red</td>\n",
              "      <td>0</td>\n",
              "    </tr>\n",
              "    <tr>\n",
              "      <th>2</th>\n",
              "      <td>7.8</td>\n",
              "      <td>0.76</td>\n",
              "      <td>0.04</td>\n",
              "      <td>2.3</td>\n",
              "      <td>0.092</td>\n",
              "      <td>15.0</td>\n",
              "      <td>54.0</td>\n",
              "      <td>0.99700</td>\n",
              "      <td>3.26</td>\n",
              "      <td>0.65</td>\n",
              "      <td>9.8</td>\n",
              "      <td>5</td>\n",
              "      <td>red</td>\n",
              "      <td>0</td>\n",
              "    </tr>\n",
              "    <tr>\n",
              "      <th>3</th>\n",
              "      <td>11.2</td>\n",
              "      <td>0.28</td>\n",
              "      <td>0.56</td>\n",
              "      <td>1.9</td>\n",
              "      <td>0.075</td>\n",
              "      <td>17.0</td>\n",
              "      <td>60.0</td>\n",
              "      <td>0.99800</td>\n",
              "      <td>3.16</td>\n",
              "      <td>0.58</td>\n",
              "      <td>9.8</td>\n",
              "      <td>6</td>\n",
              "      <td>red</td>\n",
              "      <td>1</td>\n",
              "    </tr>\n",
              "    <tr>\n",
              "      <th>4</th>\n",
              "      <td>7.4</td>\n",
              "      <td>0.70</td>\n",
              "      <td>0.00</td>\n",
              "      <td>1.9</td>\n",
              "      <td>0.076</td>\n",
              "      <td>11.0</td>\n",
              "      <td>34.0</td>\n",
              "      <td>0.99780</td>\n",
              "      <td>3.51</td>\n",
              "      <td>0.56</td>\n",
              "      <td>9.4</td>\n",
              "      <td>5</td>\n",
              "      <td>red</td>\n",
              "      <td>0</td>\n",
              "    </tr>\n",
              "    <tr>\n",
              "      <th>...</th>\n",
              "      <td>...</td>\n",
              "      <td>...</td>\n",
              "      <td>...</td>\n",
              "      <td>...</td>\n",
              "      <td>...</td>\n",
              "      <td>...</td>\n",
              "      <td>...</td>\n",
              "      <td>...</td>\n",
              "      <td>...</td>\n",
              "      <td>...</td>\n",
              "      <td>...</td>\n",
              "      <td>...</td>\n",
              "      <td>...</td>\n",
              "      <td>...</td>\n",
              "    </tr>\n",
              "    <tr>\n",
              "      <th>4893</th>\n",
              "      <td>6.2</td>\n",
              "      <td>0.21</td>\n",
              "      <td>0.29</td>\n",
              "      <td>1.6</td>\n",
              "      <td>0.039</td>\n",
              "      <td>24.0</td>\n",
              "      <td>92.0</td>\n",
              "      <td>0.99114</td>\n",
              "      <td>3.27</td>\n",
              "      <td>0.50</td>\n",
              "      <td>11.2</td>\n",
              "      <td>6</td>\n",
              "      <td>white</td>\n",
              "      <td>1</td>\n",
              "    </tr>\n",
              "    <tr>\n",
              "      <th>4894</th>\n",
              "      <td>6.6</td>\n",
              "      <td>0.32</td>\n",
              "      <td>0.36</td>\n",
              "      <td>8.0</td>\n",
              "      <td>0.047</td>\n",
              "      <td>57.0</td>\n",
              "      <td>168.0</td>\n",
              "      <td>0.99490</td>\n",
              "      <td>3.15</td>\n",
              "      <td>0.46</td>\n",
              "      <td>9.6</td>\n",
              "      <td>5</td>\n",
              "      <td>white</td>\n",
              "      <td>0</td>\n",
              "    </tr>\n",
              "    <tr>\n",
              "      <th>4895</th>\n",
              "      <td>6.5</td>\n",
              "      <td>0.24</td>\n",
              "      <td>0.19</td>\n",
              "      <td>1.2</td>\n",
              "      <td>0.041</td>\n",
              "      <td>30.0</td>\n",
              "      <td>111.0</td>\n",
              "      <td>0.99254</td>\n",
              "      <td>2.99</td>\n",
              "      <td>0.46</td>\n",
              "      <td>9.4</td>\n",
              "      <td>6</td>\n",
              "      <td>white</td>\n",
              "      <td>1</td>\n",
              "    </tr>\n",
              "    <tr>\n",
              "      <th>4896</th>\n",
              "      <td>5.5</td>\n",
              "      <td>0.29</td>\n",
              "      <td>0.30</td>\n",
              "      <td>1.1</td>\n",
              "      <td>0.022</td>\n",
              "      <td>20.0</td>\n",
              "      <td>110.0</td>\n",
              "      <td>0.98869</td>\n",
              "      <td>3.34</td>\n",
              "      <td>0.38</td>\n",
              "      <td>12.8</td>\n",
              "      <td>7</td>\n",
              "      <td>white</td>\n",
              "      <td>1</td>\n",
              "    </tr>\n",
              "    <tr>\n",
              "      <th>4897</th>\n",
              "      <td>6.0</td>\n",
              "      <td>0.21</td>\n",
              "      <td>0.38</td>\n",
              "      <td>0.8</td>\n",
              "      <td>0.020</td>\n",
              "      <td>22.0</td>\n",
              "      <td>98.0</td>\n",
              "      <td>0.98941</td>\n",
              "      <td>3.26</td>\n",
              "      <td>0.32</td>\n",
              "      <td>11.8</td>\n",
              "      <td>6</td>\n",
              "      <td>white</td>\n",
              "      <td>1</td>\n",
              "    </tr>\n",
              "  </tbody>\n",
              "</table>\n",
              "<p>6497 rows × 14 columns</p>\n",
              "</div>"
            ],
            "text/plain": [
              "      fixed acidity  volatile acidity  ...  color  high_quality\n",
              "0               7.4              0.70  ...    red             0\n",
              "1               7.8              0.88  ...    red             0\n",
              "2               7.8              0.76  ...    red             0\n",
              "3              11.2              0.28  ...    red             1\n",
              "4               7.4              0.70  ...    red             0\n",
              "...             ...               ...  ...    ...           ...\n",
              "4893            6.2              0.21  ...  white             1\n",
              "4894            6.6              0.32  ...  white             0\n",
              "4895            6.5              0.24  ...  white             1\n",
              "4896            5.5              0.29  ...  white             1\n",
              "4897            6.0              0.21  ...  white             1\n",
              "\n",
              "[6497 rows x 14 columns]"
            ]
          },
          "metadata": {
            "tags": []
          },
          "execution_count": 2
        }
      ]
    },
    {
      "cell_type": "markdown",
      "metadata": {
        "id": "OBZoC0eO5Kch"
      },
      "source": [
        "### **Exercise 2**\n",
        "\n",
        "Next, we will inspect the dataset and perform some mild data cleaning.\n",
        "\n",
        "**Instructions**\n",
        "- In order to get all numeric data, we will change the `color` column to an `is_red` column. \n",
        "    - If `color == 'red'`, we will encode a `1` for `is_red`\n",
        "    - If `color == 'white'`, we will encode a `0` for `is_red`\n",
        "- Create this new column, `is_red`.\n",
        "- Drop the `color`, `quality`, and `high_quality` columns as we will be predict the quality of wine using numeric data in a later exercise\n",
        "- Store this all numeric data in a pandas dataframe called `numeric_data`"
      ]
    },
    {
      "cell_type": "code",
      "metadata": {
        "id": "n706CmZA5Kci"
      },
      "source": [
        "# write your code here!\n",
        "\n",
        "data[\"is_red\"] = (data[\"color\"] == \"red\").astype(int)\n",
        "numeric_data = data.drop(\"color\", axis=1)"
      ],
      "execution_count": 3,
      "outputs": []
    },
    {
      "cell_type": "markdown",
      "metadata": {
        "id": "hJwPvxkkQBIc"
      },
      "source": [
        "How many red wines are in the dataset?  \n",
        "Answer → 1599"
      ]
    },
    {
      "cell_type": "code",
      "metadata": {
        "id": "c9DDPN-5QAID",
        "colab": {
          "base_uri": "https://localhost:8080/",
          "height": 178
        },
        "outputId": "b3670d08-167f-45bc-f4c0-998e7ea83516"
      },
      "source": [
        "numeric_data.groupby('is_red').count()"
      ],
      "execution_count": 4,
      "outputs": [
        {
          "output_type": "execute_result",
          "data": {
            "text/html": [
              "<div>\n",
              "<style scoped>\n",
              "    .dataframe tbody tr th:only-of-type {\n",
              "        vertical-align: middle;\n",
              "    }\n",
              "\n",
              "    .dataframe tbody tr th {\n",
              "        vertical-align: top;\n",
              "    }\n",
              "\n",
              "    .dataframe thead th {\n",
              "        text-align: right;\n",
              "    }\n",
              "</style>\n",
              "<table border=\"1\" class=\"dataframe\">\n",
              "  <thead>\n",
              "    <tr style=\"text-align: right;\">\n",
              "      <th></th>\n",
              "      <th>fixed acidity</th>\n",
              "      <th>volatile acidity</th>\n",
              "      <th>citric acid</th>\n",
              "      <th>residual sugar</th>\n",
              "      <th>chlorides</th>\n",
              "      <th>free sulfur dioxide</th>\n",
              "      <th>total sulfur dioxide</th>\n",
              "      <th>density</th>\n",
              "      <th>pH</th>\n",
              "      <th>sulphates</th>\n",
              "      <th>alcohol</th>\n",
              "      <th>quality</th>\n",
              "      <th>high_quality</th>\n",
              "    </tr>\n",
              "    <tr>\n",
              "      <th>is_red</th>\n",
              "      <th></th>\n",
              "      <th></th>\n",
              "      <th></th>\n",
              "      <th></th>\n",
              "      <th></th>\n",
              "      <th></th>\n",
              "      <th></th>\n",
              "      <th></th>\n",
              "      <th></th>\n",
              "      <th></th>\n",
              "      <th></th>\n",
              "      <th></th>\n",
              "      <th></th>\n",
              "    </tr>\n",
              "  </thead>\n",
              "  <tbody>\n",
              "    <tr>\n",
              "      <th>0</th>\n",
              "      <td>4898</td>\n",
              "      <td>4898</td>\n",
              "      <td>4898</td>\n",
              "      <td>4898</td>\n",
              "      <td>4898</td>\n",
              "      <td>4898</td>\n",
              "      <td>4898</td>\n",
              "      <td>4898</td>\n",
              "      <td>4898</td>\n",
              "      <td>4898</td>\n",
              "      <td>4898</td>\n",
              "      <td>4898</td>\n",
              "      <td>4898</td>\n",
              "    </tr>\n",
              "    <tr>\n",
              "      <th>1</th>\n",
              "      <td>1599</td>\n",
              "      <td>1599</td>\n",
              "      <td>1599</td>\n",
              "      <td>1599</td>\n",
              "      <td>1599</td>\n",
              "      <td>1599</td>\n",
              "      <td>1599</td>\n",
              "      <td>1599</td>\n",
              "      <td>1599</td>\n",
              "      <td>1599</td>\n",
              "      <td>1599</td>\n",
              "      <td>1599</td>\n",
              "      <td>1599</td>\n",
              "    </tr>\n",
              "  </tbody>\n",
              "</table>\n",
              "</div>"
            ],
            "text/plain": [
              "        fixed acidity  volatile acidity  ...  quality  high_quality\n",
              "is_red                                   ...                       \n",
              "0                4898              4898  ...     4898          4898\n",
              "1                1599              1599  ...     1599          1599\n",
              "\n",
              "[2 rows x 13 columns]"
            ]
          },
          "metadata": {
            "tags": []
          },
          "execution_count": 4
        }
      ]
    },
    {
      "cell_type": "markdown",
      "metadata": {
        "id": "YY1iIv875Kcj"
      },
      "source": [
        "### **Exercise 3**\n",
        "\n",
        "We want to ensure that each variable contributes equally to the kNN classifier, so we will need to scale the data by subtracting the mean of each variable (column) and dividing each variable (column) by its standard deviation. Then, we will use principal components to take a linear snapshot of the data from several different angles, with each snapshot ordered by how well it aligns with variation in the data. In this exercise, we will scale the numeric data and extract the first two principal components.\n",
        "\n",
        "**Instructions**\n",
        "- Scale the data using the `sklearn.preprocessing` function `scale()` on `numeric_data`.\n",
        "- Convert this to a `pandas` dataframe, and store as `numeric_data`.\n",
        "    - Include the numeric variable names using the parameter `columns = numeric_data.columns`.\n",
        "- Use the `sklearn.decomposition` module `PCA()` and store it as `pca`.\n",
        "- Use the `fit_transform()` function to extract the first two principal components from the data, and store them as `principal_components`.\n",
        "- *Note*: You may get a `DataConversionWarning`, but you can safely ignore it"
      ]
    },
    {
      "cell_type": "code",
      "metadata": {
        "id": "Zx_rxmjy5Kcl"
      },
      "source": [
        "import sklearn.preprocessing\n",
        "scaled_data = sklearn.preprocessing.scale(numeric_data)\n",
        "numeric_data = pd.DataFrame(scaled_data, columns=numeric_data.columns)\n",
        "\n",
        "import sklearn.decomposition\n",
        "pca = sklearn.decomposition.PCA(n_components=2)\n",
        "principal_components = pca.fit_transform(numeric_data)"
      ],
      "execution_count": 5,
      "outputs": []
    },
    {
      "cell_type": "markdown",
      "metadata": {
        "id": "2IPv8-NoUOYk"
      },
      "source": [
        "What is the shape of the new dataset?  \n",
        "Answer &rarr; (6497, 2)"
      ]
    },
    {
      "cell_type": "code",
      "metadata": {
        "id": "4mxqfQgWT9xJ",
        "colab": {
          "base_uri": "https://localhost:8080/"
        },
        "outputId": "9a17a47f-1e8f-4ff6-dd5f-486149be4bd2"
      },
      "source": [
        "principal_components.shape"
      ],
      "execution_count": 6,
      "outputs": [
        {
          "output_type": "execute_result",
          "data": {
            "text/plain": [
              "(6497, 2)"
            ]
          },
          "metadata": {
            "tags": []
          },
          "execution_count": 6
        }
      ]
    },
    {
      "cell_type": "markdown",
      "metadata": {
        "id": "ESMlpYTG5Kcm"
      },
      "source": [
        "### **Exercise 4**\n",
        "\n",
        "In this exercise, we will plot the first two principal components of the covariates in the dataset. The high and low quality wines will be colored using red and blue, respectively.\n",
        "\n",
        "**Instructions**\n",
        "- The first two principal components can be accessed using `principal_components[:,0]` and `principal_components[:,1]`. Store these as `x` and `y` respectively, and make a scatter plot of these first two principal components.\n",
        "- How well are the two groups of wines separated by the first two principal components?"
      ]
    },
    {
      "cell_type": "code",
      "metadata": {
        "id": "cQ3ZQu6c5Kcn",
        "colab": {
          "base_uri": "https://localhost:8080/",
          "height": 295
        },
        "outputId": "c8402ee3-406e-4920-ec38-131aa405e3cf"
      },
      "source": [
        "import matplotlib.pyplot as plt\n",
        "from matplotlib.colors import ListedColormap\n",
        "from matplotlib.backends.backend_pdf import PdfPages\n",
        "observation_colormap = ListedColormap(['red', 'blue'])\n",
        "x = principal_components[:, 0] # Enter your code here!\n",
        "y = principal_components[:, 1] # Enter your code here!\n",
        "\n",
        "plt.title(\"Principal Components of Wine\")\n",
        "plt.scatter(x, y, alpha = 0.2, c = data['high_quality'], cmap = observation_colormap, edgecolors = 'none')\n",
        "plt.xlim(-8, 8) \n",
        "plt.ylim(-8, 8)\n",
        "plt.xlabel(\"Principal Component 1\")\n",
        "plt.ylabel(\"Principal Component 2\")\n",
        "plt.show();"
      ],
      "execution_count": 7,
      "outputs": [
        {
          "output_type": "display_data",
          "data": {
            "image/png": "[encoded data removed]",
            "text/plain": [
              "<Figure size 432x288 with 1 Axes>"
            ]
          },
          "metadata": {
            "tags": [],
            "needs_background": "light"
          }
        }
      ]
    },
    {
      "cell_type": "markdown",
      "metadata": {
        "id": "wtJRNZ3v5Kco"
      },
      "source": [
        "### **Exercise 5**\n",
        "\n",
        "In this exercise, we will create a function that calculates the accuracy between predictions and outcomes.\n",
        "\n",
        "**Instructions**\n",
        "- Create a function `accuracy(predictions, outcomes)` that takes two lists of the same size as arguments and returns a single number, which is the percentage of elements that are equal for the two lists.\n",
        "- Use accuracy to compare the percentage of similar elements in the `x` and `y` `numpy` arrays defined below.\n",
        "- Print your answer."
      ]
    },
    {
      "cell_type": "code",
      "metadata": {
        "id": "Og0Bvg2B5Kcs",
        "colab": {
          "base_uri": "https://localhost:8080/"
        },
        "outputId": "ffc1d810-df22-4cfa-9081-fbf6ac41be4e"
      },
      "source": [
        "import numpy as np \n",
        "np.random.seed(1) # do not change\n",
        "\n",
        "x = np.random.randint(0, 2, 1000)\n",
        "y = np.random.randint(0 ,2, 1000)\n",
        "\n",
        "def accuracy(predictions, outcomes):\n",
        "    # write your code here!\n",
        "    return 100 * np.mean(predictions == outcomes)\n",
        "\n",
        "accuracy(x, y)"
      ],
      "execution_count": 8,
      "outputs": [
        {
          "output_type": "execute_result",
          "data": {
            "text/plain": [
              "51.5"
            ]
          },
          "metadata": {
            "tags": []
          },
          "execution_count": 8
        }
      ]
    },
    {
      "cell_type": "markdown",
      "metadata": {
        "id": "7GM9FVKY5Kct"
      },
      "source": [
        "### **Exercise 6**\n",
        "\n",
        "The dataset remains stored as data. Because most wines in the dataset are classified as low quality, one very simple classification rule is to predict that all wines are of low quality. In this exercise, we determine the accuracy of this simple rule. \n",
        "\n",
        "**Instructions**\n",
        "- Use `accuracy()` to calculate how many wines in the dataset are of low quality. Do this by using 0 as the first argument, and `data[\"high_quality\"]` as the second argument.\n",
        "- Print your result."
      ]
    },
    {
      "cell_type": "code",
      "metadata": {
        "id": "PTP6d1lm5Kcv",
        "colab": {
          "base_uri": "https://localhost:8080/"
        },
        "outputId": "bec596ab-463f-4a99-d39b-3651160ae148"
      },
      "source": [
        "# write your code here!\n",
        "\n",
        "accuracy(0, data[\"high_quality\"])"
      ],
      "execution_count": 9,
      "outputs": [
        {
          "output_type": "execute_result",
          "data": {
            "text/plain": [
              "36.69385870401724"
            ]
          },
          "metadata": {
            "tags": []
          },
          "execution_count": 9
        }
      ]
    },
    {
      "cell_type": "markdown",
      "metadata": {
        "id": "HViy1JDr5Kcv"
      },
      "source": [
        "### Exercise 7 \n",
        "\n",
        "In this exercise, we will use the kNN classifier from `scikit-learn` to predict the quality of wines in our dataset.\n",
        "\n",
        "#### Instructions\n",
        "- Use `knn.predict(numeric_data)` to predict which wines are high and low quality and store the result as `library_predictions`.\n",
        "- Use `accuracy` to find the accuracy of your predictions, using `library_predictions` as the first argument and `data[\"high_quality\"]` as the second argument.\n",
        "- Print your answer. Is this prediction better than the simple classifier in Exercise 6?"
      ]
    },
    {
      "cell_type": "code",
      "metadata": {
        "id": "jhW2a4Kp5Kcw",
        "colab": {
          "base_uri": "https://localhost:8080/"
        },
        "outputId": "75aba29e-5cb0-4c5d-8382-21cf0630e252"
      },
      "source": [
        "from sklearn.neighbors import KNeighborsClassifier\n",
        "knn = KNeighborsClassifier(n_neighbors = 5)\n",
        "knn.fit(numeric_data, data['high_quality'])\n",
        "\n",
        "# Enter your code here!\n",
        "\n",
        "library_predictions = knn.predict(numeric_data)\n",
        "accuracy(library_predictions, data[\"high_quality\"])"
      ],
      "execution_count": 10,
      "outputs": [
        {
          "output_type": "execute_result",
          "data": {
            "text/plain": [
              "99.96921656148992"
            ]
          },
          "metadata": {
            "tags": []
          },
          "execution_count": 10
        }
      ]
    },
    {
      "cell_type": "markdown",
      "metadata": {
        "id": "GqXd9CgN5Kcw"
      },
      "source": [
        "### **Exercise 8**\n",
        "\n",
        "Unlike the `scikit-learn` function, our homemade kNN classifier does not take any shortcuts in calculating which neighbors are closest to each observation, so it is likely too slow to carry out on the whole dataset. In this exercise, we will select a subset of our data to use in our homemade kNN classifier.\n",
        "\n",
        "**Instructions**\n",
        "- Fix the random generator using `random.seed(123)`, and select 10 rows from the dataset using `random.sample(range(n_rows), 10)`. Store this selection as `selection`."
      ]
    },
    {
      "cell_type": "code",
      "metadata": {
        "id": "HbsLJRVq5Kcx",
        "colab": {
          "base_uri": "https://localhost:8080/"
        },
        "outputId": "879efd0c-11f2-41a9-8dfc-b0f9159db160"
      },
      "source": [
        "n_rows = data.shape[0]\n",
        "\n",
        "# Enter your code here.\n",
        "\n",
        "random.seed(123)\n",
        "selection = random.sample(range(n_rows), 10)\n",
        "\n",
        "selection"
      ],
      "execution_count": 11,
      "outputs": [
        {
          "output_type": "execute_result",
          "data": {
            "text/plain": [
              "[428, 2192, 714, 6299, 3336, 2183, 882, 312, 3105, 4392]"
            ]
          },
          "metadata": {
            "tags": []
          },
          "execution_count": 11
        }
      ]
    },
    {
      "cell_type": "markdown",
      "metadata": {
        "id": "HMpu1Tbh5Kcx"
      },
      "source": [
        "### **Exercise 9**\n",
        "\n",
        "We are now ready to use our homemade kNN classifier and compare the accuracy of our results to the baseline.\n",
        "\n",
        "**Instructions**\n",
        "- For each predictor` p` in `predictors[selection]`, use `knn_predict(p, predictors[training_indices,:], outcomes[training_indices], k=5)` to predict the quality of each wine in the prediction set, and store these predictions as a np.array called `my_predictions`. Note that knn_predict is already defined as in the Case 3 videos.\n",
        "- Using the `accuracy` function, compare these results to the selected rows from the `high_quality` variable in data using `my_predictions` as the first argument and `data.high_quality.iloc[selection]` as the second argument. Store these results as `percentage`.\n",
        "- Print your answer."
      ]
    },
    {
      "cell_type": "code",
      "metadata": {
        "id": "pzF_mdOh5Kcx",
        "colab": {
          "base_uri": "https://localhost:8080/"
        },
        "outputId": "149448a2-8e6c-4205-c7ca-56ca6469c0d6"
      },
      "source": [
        "predictors = np.array(numeric_data)\n",
        "training_indices = [i for i in range(len(predictors)) if i not in selection]\n",
        "outcomes = np.array(data[\"high_quality\"])\n",
        "\n",
        "my_predictions = [knn_predict(p, predictors[training_indices,:], outcomes[training_indices], k=5) for p in predictors[selection]] # Enter your code here!\n",
        "percentage = accuracy(my_predictions, data.high_quality.iloc[selection]) # Enter your code here!\n",
        "\n",
        "percentage"
      ],
      "execution_count": 12,
      "outputs": [
        {
          "output_type": "execute_result",
          "data": {
            "text/plain": [
              "100.0"
            ]
          },
          "metadata": {
            "tags": []
          },
          "execution_count": 12
        }
      ]
    }
  ]
}