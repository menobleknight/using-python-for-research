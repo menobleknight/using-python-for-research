{
  "nbformat": 4,
  "nbformat_minor": 0,
  "metadata": {
    "colab": {
      "name": "language-processing.ipynb",
      "provenance": [],
      "authorship_tag": "ABX9TyNAfqs8vvEm4WNz3JsqDx3O",
      "include_colab_link": true
    },
    "kernelspec": {
      "name": "python3",
      "display_name": "Python 3"
    },
    "language_info": {
      "name": "python"
    }
  },
  "cells": [
    {
      "cell_type": "markdown",
      "metadata": {
        "id": "view-in-github",
        "colab_type": "text"
      },
      "source": [
        "<a href=\"https://colab.research.google.com/github/menobleknight/using-python-for-research/blob/main/week-3-part-2/language-processing.ipynb\" target=\"_parent\"><img src=\"https://colab.research.google.com/assets/colab-badge.svg\" alt=\"Open In Colab\"/></a>"
      ]
    },
    {
      "cell_type": "markdown",
      "metadata": {
        "id": "AwCD4aTFgK36"
      },
      "source": [
        "### `Case Study: Language Processing`\n",
        "- [`English and French Books`](https://courses.edx.org/assets/courseware/v1/1d1e264f416e27b22a0b8c970d52f3e3/asset-v1:HarvardX+PH526x+2T2020+type@asset+block/Books_EngFr.zip)\n",
        "- [`German and Portuguese Books`](https://courses.edx.org/assets/courseware/v1/9ae1e86b60c734de6665509f7fff25ae/asset-v1:HarvardX+PH526x+2T2020+type@asset+block/Books_GerPort.zip)"
      ]
    },
    {
      "cell_type": "code",
      "metadata": {
        "colab": {
          "base_uri": "https://localhost:8080/"
        },
        "id": "fcC7dTfug1MI",
        "outputId": "b5447be8-21fb-4975-c014-0f4cb7ae74d9"
      },
      "source": [
        "text = \"This is my test text. We're keeping this text short to keep things manageable.\"\n",
        "\n",
        "def count_words(text):\n",
        "    word_counts = {}\n",
        "    for word in text.split():\n",
        "        if word in word_counts:\n",
        "            word_counts[word] += 1\n",
        "        else:\n",
        "            word_counts[word] = 1\n",
        "\n",
        "    return word_counts\n",
        "\n",
        "count_words(text)"
      ],
      "execution_count": 120,
      "outputs": [
        {
          "output_type": "execute_result",
          "data": {
            "text/plain": [
              "{'This': 1,\n",
              " \"We're\": 1,\n",
              " 'is': 1,\n",
              " 'keep': 1,\n",
              " 'keeping': 1,\n",
              " 'manageable.': 1,\n",
              " 'my': 1,\n",
              " 'short': 1,\n",
              " 'test': 1,\n",
              " 'text': 1,\n",
              " 'text.': 1,\n",
              " 'things': 1,\n",
              " 'this': 1,\n",
              " 'to': 1}"
            ]
          },
          "metadata": {
            "tags": []
          },
          "execution_count": 120
        }
      ]
    },
    {
      "cell_type": "code",
      "metadata": {
        "colab": {
          "base_uri": "https://localhost:8080/"
        },
        "id": "MlTJ6Os4i9Ew",
        "outputId": "1728969d-2c9a-4561-dbae-840ef562bf40"
      },
      "source": [
        "text = \"This is my test text. We're keeping this text short to keep things manageable.\"\n",
        "\n",
        "def count_words(text):\n",
        "    text = text.lower()\n",
        "    skips = [\".\", \",\", \";\", \":\", \"'\", '\"', \"\\n\", \"!\", \"?\", \"(\", \")\"]\n",
        "    for char in skips:\n",
        "        text = text.replace(char, \"\")\n",
        "\n",
        "    word_counts = {}\n",
        "    for word in text.split():\n",
        "        if word in word_counts:\n",
        "            word_counts[word] += 1\n",
        "        else:\n",
        "            word_counts[word] = 1\n",
        "\n",
        "    return word_counts\n",
        "\n",
        "count_words(text)"
      ],
      "execution_count": 121,
      "outputs": [
        {
          "output_type": "execute_result",
          "data": {
            "text/plain": [
              "{'is': 1,\n",
              " 'keep': 1,\n",
              " 'keeping': 1,\n",
              " 'manageable': 1,\n",
              " 'my': 1,\n",
              " 'short': 1,\n",
              " 'test': 1,\n",
              " 'text': 2,\n",
              " 'things': 1,\n",
              " 'this': 2,\n",
              " 'to': 1,\n",
              " 'were': 1}"
            ]
          },
          "metadata": {
            "tags": []
          },
          "execution_count": 121
        }
      ]
    },
    {
      "cell_type": "code",
      "metadata": {
        "colab": {
          "base_uri": "https://localhost:8080/"
        },
        "id": "VPwrDA_QkUrb",
        "outputId": "1ddfd606-2d8a-450e-bd76-e2adbae907ff"
      },
      "source": [
        "from collections import Counter\n",
        "\n",
        "def count_words_fast(text):\n",
        "    text = text.lower()\n",
        "    punctuations = [\".\", \",\", \";\", \":\", \"'\", '\"', \"?\"] # to skip punctuations in the text\n",
        "    for char in punctuations:\n",
        "        text = text.replace(char, \"\")\n",
        "        \n",
        "    word_counts = Counter(text.split())\n",
        "\n",
        "    return word_counts\n",
        "\n",
        "count_words_fast(text)"
      ],
      "execution_count": 122,
      "outputs": [
        {
          "output_type": "execute_result",
          "data": {
            "text/plain": [
              "Counter({'is': 1,\n",
              "         'keep': 1,\n",
              "         'keeping': 1,\n",
              "         'manageable': 1,\n",
              "         'my': 1,\n",
              "         'short': 1,\n",
              "         'test': 1,\n",
              "         'text': 2,\n",
              "         'things': 1,\n",
              "         'this': 2,\n",
              "         'to': 1,\n",
              "         'were': 1})"
            ]
          },
          "metadata": {
            "tags": []
          },
          "execution_count": 122
        }
      ]
    },
    {
      "cell_type": "code",
      "metadata": {
        "colab": {
          "base_uri": "https://localhost:8080/"
        },
        "id": "47QMkJ5_lIUN",
        "outputId": "170b77c9-a731-4421-8967-24a74b1d3a4d"
      },
      "source": [
        "count_words(text) == count_words_fast(text)"
      ],
      "execution_count": 123,
      "outputs": [
        {
          "output_type": "execute_result",
          "data": {
            "text/plain": [
              "True"
            ]
          },
          "metadata": {
            "tags": []
          },
          "execution_count": 123
        }
      ]
    },
    {
      "cell_type": "code",
      "metadata": {
        "colab": {
          "base_uri": "https://localhost:8080/"
        },
        "id": "Z3A9LuuL7mR1",
        "outputId": "d7573ca4-8717-43c3-cfa3-4446bbc04b7c"
      },
      "source": [
        "def read_book(book_path):\n",
        "    import urllib, bs4\n",
        "    text = []\n",
        "    book_path = urllib.parse.quote(book_path, safe=\"/:\") # don't encode '/' and ':'\n",
        "    with urllib.request.urlopen(book_path) as book:\n",
        "        for line in bs4.BeautifulSoup(book)('td'):\n",
        "            if len(line) > 0:\n",
        "                text.append(line.contents[0].strip())\n",
        "\n",
        "    text = ' '.join(text)\n",
        "    return text\n",
        "\n",
        "book_path = \"https://github.com/menobleknight/using-python-for-research/blob/main/week-3-part-2/books/english/shakespeare/Romeo-and-Juliet.txt\"\n",
        "text = read_book(book_path) # Romeo and Juliet (English)\n",
        "len(text)"
      ],
      "execution_count": 124,
      "outputs": [
        {
          "output_type": "execute_result",
          "data": {
            "text/plain": [
              "159276"
            ]
          },
          "metadata": {
            "tags": []
          },
          "execution_count": 124
        }
      ]
    },
    {
      "cell_type": "code",
      "metadata": {
        "colab": {
          "base_uri": "https://localhost:8080/"
        },
        "id": "gbJYbJY8EGJS",
        "outputId": "4044a6a4-558f-462f-84ca-54ae51b1c738"
      },
      "source": [
        "index = text.find(\"What's in a name?\") # famous line in Romeo and Juliet\n",
        "index"
      ],
      "execution_count": 125,
      "outputs": [
        {
          "output_type": "execute_result",
          "data": {
            "text/plain": [
              "40345"
            ]
          },
          "metadata": {
            "tags": []
          },
          "execution_count": 125
        }
      ]
    },
    {
      "cell_type": "code",
      "metadata": {
        "colab": {
          "base_uri": "https://localhost:8080/",
          "height": 148
        },
        "id": "9IlN-WrJErId",
        "outputId": "de59833f-86cc-4748-cf0c-7ef5ff99928a"
      },
      "source": [
        "sample_text = text[index : index+1000]\n",
        "sample_text"
      ],
      "execution_count": 126,
      "outputs": [
        {
          "output_type": "execute_result",
          "data": {
            "application/vnd.google.colaboratory.intrinsic+json": {
              "type": "string"
            },
            "text/plain": [
              "\"What's in a name? That which we call a rose By any other name would smell as sweet. So Romeo would, were he not Romeo call'd, Retain that dear perfection which he owes Without that title. Romeo, doff thy name; And for that name, which is no part of thee, Take all myself.  Rom. I take thee at thy word. Call me but love, and I'll be new baptiz'd; Henceforth I never will be Romeo.  Jul. What man art thou that, thus bescreen'd in night, So stumblest on my counsel?  Rom. By a name I know not how to tell thee who I am. My name, dear saint, is hateful to myself, Because it is an enemy to thee. Had I it written, I would tear the word.  Jul. My ears have yet not drunk a hundred words Of that tongue's utterance, yet I know the sound. Art thou not Romeo, and a Montague?  Rom. Neither, fair saint, if either thee dislike.  Jul. How cam'st thou hither, tell me, and wherefore? The orchard walls are high and hard to climb, And the place death, considering who thou art, If any of my kinsmen find thee h\""
            ]
          },
          "metadata": {
            "tags": []
          },
          "execution_count": 126
        }
      ]
    },
    {
      "cell_type": "code",
      "metadata": {
        "id": "a6m5ZT8XG7Wr"
      },
      "source": [
        "def word_stats(word_counts):\n",
        "    num_unique = len(word_counts) # number of unique words\n",
        "    counts = word_counts.values() # frequency of each unique word\n",
        "    return (num_unique, counts) \n",
        "\n",
        "word_counts = count_words_fast(text) # text from 'Romeo and Juliet (English)' book\n",
        "(num_unique, counts) = word_stats(word_counts)"
      ],
      "execution_count": 127,
      "outputs": []
    },
    {
      "cell_type": "code",
      "metadata": {
        "colab": {
          "base_uri": "https://localhost:8080/"
        },
        "id": "5L7aIQSQIRXP",
        "outputId": "e5f56650-dcf9-486c-a3f8-62b8d88903f3"
      },
      "source": [
        "num_unique"
      ],
      "execution_count": 128,
      "outputs": [
        {
          "output_type": "execute_result",
          "data": {
            "text/plain": [
              "4709"
            ]
          },
          "metadata": {
            "tags": []
          },
          "execution_count": 128
        }
      ]
    },
    {
      "cell_type": "code",
      "metadata": {
        "colab": {
          "base_uri": "https://localhost:8080/"
        },
        "id": "LNelhyg4JP2R",
        "outputId": "0246c361-f9ac-4848-91ba-17e035374228"
      },
      "source": [
        "sum(counts) # total number of words"
      ],
      "execution_count": 129,
      "outputs": [
        {
          "output_type": "execute_result",
          "data": {
            "text/plain": [
              "28981"
            ]
          },
          "metadata": {
            "tags": []
          },
          "execution_count": 129
        }
      ]
    },
    {
      "cell_type": "code",
      "metadata": {
        "colab": {
          "base_uri": "https://localhost:8080/"
        },
        "id": "IpzpvcQvJuxq",
        "outputId": "3792e80d-5865-4a34-e636-2be799be5468"
      },
      "source": [
        "book_path = \"https://github.com/menobleknight/using-python-for-research/blob/main/week-3-part-2/books/german/shakespeare/Romeo-und-Julia.txt\"\n",
        "text = read_book(book_path) # Romeo and Juliet (German)\n",
        "len(text)"
      ],
      "execution_count": 130,
      "outputs": [
        {
          "output_type": "execute_result",
          "data": {
            "text/plain": [
              "142281"
            ]
          },
          "metadata": {
            "tags": []
          },
          "execution_count": 130
        }
      ]
    },
    {
      "cell_type": "code",
      "metadata": {
        "id": "rFROQ8lcJ7ey"
      },
      "source": [
        "word_counts = count_words_fast(text) # text from 'Romeo and Juliet (German)' book\n",
        "(num_unique, counts) = word_stats(word_counts)"
      ],
      "execution_count": 131,
      "outputs": []
    },
    {
      "cell_type": "code",
      "metadata": {
        "colab": {
          "base_uri": "https://localhost:8080/"
        },
        "id": "_9SRsTglKLpQ",
        "outputId": "074e737b-5566-4915-bc08-7bbfd98258f8"
      },
      "source": [
        "num_unique"
      ],
      "execution_count": 132,
      "outputs": [
        {
          "output_type": "execute_result",
          "data": {
            "text/plain": [
              "5868"
            ]
          },
          "metadata": {
            "tags": []
          },
          "execution_count": 132
        }
      ]
    },
    {
      "cell_type": "code",
      "metadata": {
        "colab": {
          "base_uri": "https://localhost:8080/"
        },
        "id": "CZSlK6ncKOHG",
        "outputId": "f21ffd5d-7f7f-4140-8310-3bb60d19ed49"
      },
      "source": [
        "sum(counts)"
      ],
      "execution_count": 133,
      "outputs": [
        {
          "output_type": "execute_result",
          "data": {
            "text/plain": [
              "23355"
            ]
          },
          "metadata": {
            "tags": []
          },
          "execution_count": 133
        }
      ]
    },
    {
      "cell_type": "code",
      "metadata": {
        "colab": {
          "base_uri": "https://localhost:8080/"
        },
        "id": "A3MujgCgPnOw",
        "outputId": "40e66abb-0bd8-4a39-d3b2-69d856602e3f"
      },
      "source": [
        "initial = \"https://github.com/menobleknight/using-python-for-research/blob/main/week-3-part-2\" # initial path\n",
        "\n",
        "# list of paths for each book\n",
        "paths = ['./books/portuguese/dinis/A-Morgadinha-dos-Cannaviaes.txt', './books/portuguese/dinis/Os-fidalgos-da-Casa-Mourisca.txt', './books/portuguese/dinis/Uma-fam°lia-ingleza.txt', \"./books/portuguese/branco/A-Queda-d'um-Anjo.txt\", './books/portuguese/branco/Scenas-Contemporaneas.txt', './books/portuguese/branco/Agulha-em-Palheiro.txt', './books/portuguese/branco/Carlota-Angela.txt', './books/portuguese/branco/Annos-de-Prosa.txt', './books/portuguese/branco/Amor-de-Perdição.txt', './books/portuguese/branco/Estrellas-Funestas.txt', './books/portuguese/branco/O-Olho-de-Vidro.txt', './books/portuguese/branco/Amor-de-Salvação.txt', './books/portuguese/branco/O-Regicida.txt', './books/portuguese/branco/O-que-fazem-mulheres.txt', './books/portuguese/branco/A-Filha-do-Arcediago.txt', './books/portuguese/branco/Estrellas-Prop°cias.txt', './books/portuguese/branco/Livro-d-Consolação.txt', './books/portuguese/branco/A-Neta-do-Arcediago.txt', './books/portuguese/branco/Lagrimas-Abenáoadas.txt', './books/portuguese/queirós/O-Primo-Bazilio.txt', './books/portuguese/queirós/A-Illustre-Casa-de-Ramires.txt', './books/portuguese/queirós/A-Rel°quia.txt', './books/portuguese/queirós/Os-Maias.txt', './books/portuguese/queirós/O-crime-do-padre-Amaro.txt', './books/portuguese/queirós/O-Mandarim.txt', './books/portuguese/queirós/A-correspondància-de-Fradique-Mendes.txt', './books/portuguese/queirós/Cartas-de-Inglaterra.txt', './books/portuguese/queirós/A-Cidade-e-as-Serras.txt', './books/portuguese/shakespeare/Hamlet.txt', './books/french/sand/La-Marquise.txt', './books/french/sand/Pauline.txt', './books/french/sand/Metella.txt', './books/french/sand/Le-poâme-de-Myrza.txt', './books/french/sand/Jacques-le-fataliste-et-son-maåtre.txt', './books/french/sand/Oeuvres-illustrÇes-de-George-Sand.txt', './books/french/sand/Mattea.txt', \"./books/french/sand/L' Orco.txt\", './books/french/sand/Le-Piccinino.txt', './books/french/sand/cora.txt', './books/french/sand/La-Coupe-Lupo-Liverani-Le-Toast-Garnier-Le-Contrebandier-La-Ràverie-Ö-Paris.txt', \"./books/french/diderot/Entretien-d'un-päre-avec-ses-enfants.txt\", './books/french/diderot/Les-deux-amis-de-Bourbonne.txt', \"./books/french/diderot/L'oiseau-blanc.txt\", './books/french/diderot/Regrets-sur-ma-vieille-robe-de-chambre.txt', \"./books/french/diderot/Ceci-n'est-pas-un-conte.txt\", './books/french/de-maupassant/La-Main-Gauche.txt', './books/french/de-maupassant/La-petite-roque.txt', \"./books/french/de-maupassant/L'inutile-beautÇ.txt\", './books/french/de-maupassant/Le-Horla.txt', './books/french/de-maupassant/Boule-de-Suif.txt', './books/french/de-maupassant/Œuvres-complètes-de-Guy-de-Maupassant.txt', './books/french/de-maupassant/La-Maison-Tellier.txt', './books/french/de-maupassant/Claire-de-Lune.txt', './books/french/de-maupassant/Contes-de-la-Becasse.txt', './books/french/chevalier/La-fille-du-pirate.txt', \"./books/french/chevalier/L'enfer-et-le-paradis-de-l'autre-monde.txt\", './books/french/chevalier/La-fille-des-indiens-rouges.txt', \"./books/french/chevalier/L'åle-de-sable.txt\", './books/french/chevalier/Le-chasseur-noir.txt', './books/french/chevalier/La-capitaine.txt', './books/french/chevalier/Les-derniers-Iroquois.txt', './books/german/lessing/emilia-galotti.txt', './books/german/lessing/hamburgische-dramaturgie.txt', './books/german/lessing/der-junge-gelehrte.txt', './books/german/lessing/die-juden.txt', './books/german/lessing/der-freigeist.txt', './books/german/lessing/philotas.txt', './books/german/lessing/miss-sara-sampson.txt', './books/german/lessing/minna-von-barnhelm.txt', './books/german/schiller/Der-Parasit-oder-die-Kunst-sein-GlÅck-zu-machen.txt', './books/german/schiller/Die-Huldigung-der-KÅnste.txt', './books/german/schiller/die-braut-von-messina.txt', './books/german/schiller/Der-Neffe-als-Onkel.txt', './books/german/schiller/Turandot-Prinzessin-von-China.txt', './books/german/schiller/Die-Jungfrau-von-Orleans.txt', './books/german/schiller/Wallensteins-Lager.txt', './books/german/schiller/Kabale-und-Liebe.txt', './books/german/schiller/Die-Verschwîrung-des-Fiesco-zu-Genua.txt', './books/german/schiller/Die-Piccolomini.txt', './books/german/schiller/Wallensteins-Tod.txt', './books/german/raimund/Der-Diamant-des-Geisterkînigs.txt', './books/german/raimund/Die-unheilbringende-Krone.txt', './books/german/raimund/Moisasurs-Zauberfluch.txt', './books/german/raimund/Das-MÑdchen-aus-der-Feenwelt.txt', './books/german/raimund/Der-Alpenkînig-und-der-Menschenfeind.txt', './books/german/raimund/Die-gefesselte-Phantasie.txt', './books/german/raimund/Der-Barometermacher-auf-der-Zauberinsel.txt', './books/german/raimund/Der-Verschwender.txt', './books/german/shakespeare/Richard-III.txt', './books/german/shakespeare/Othello.txt', './books/german/shakespeare/Hamlet.txt', './books/german/shakespeare/Macbeth.txt', './books/german/shakespeare/Romeo-und-Julia.txt', './books/german/shakespeare/Ein-Sommernachtstraum.txt', './books/german/shakespeare/Der-Kaufmann-von-Venedig.txt', './books/english/shakespeare/Richard-III.txt', './books/english/shakespeare/The-Merchant-of-Venice.txt', './books/english/shakespeare/Romeo-and-Juliet.txt', './books/english/shakespeare/Othello.txt', \"./books/english/shakespeare/A-Midsummer-Night's-Dream.txt\", './books/english/shakespeare/Hamlet.txt', './books/english/shakespeare/Macbeth.txt']\n",
        "\n",
        "len(paths)"
      ],
      "execution_count": 134,
      "outputs": [
        {
          "output_type": "execute_result",
          "data": {
            "text/plain": [
              "102"
            ]
          },
          "metadata": {
            "tags": []
          },
          "execution_count": 134
        }
      ]
    },
    {
      "cell_type": "code",
      "metadata": {
        "colab": {
          "base_uri": "https://localhost:8080/",
          "height": 112
        },
        "id": "RmbiBRCFQytC",
        "outputId": "de222832-a8b7-43ae-81ee-8c2384f763cd"
      },
      "source": [
        "import pandas as pd\n",
        "\n",
        "table = pd.DataFrame(columns=(\"name\", \"age\"))\n",
        "\n",
        "table.loc[1] = \"James\", 22\n",
        "table.loc[2] = \"Jess\", 32\n",
        "\n",
        "table"
      ],
      "execution_count": 135,
      "outputs": [
        {
          "output_type": "execute_result",
          "data": {
            "text/html": [
              "<div>\n",
              "<style scoped>\n",
              "    .dataframe tbody tr th:only-of-type {\n",
              "        vertical-align: middle;\n",
              "    }\n",
              "\n",
              "    .dataframe tbody tr th {\n",
              "        vertical-align: top;\n",
              "    }\n",
              "\n",
              "    .dataframe thead th {\n",
              "        text-align: right;\n",
              "    }\n",
              "</style>\n",
              "<table border=\"1\" class=\"dataframe\">\n",
              "  <thead>\n",
              "    <tr style=\"text-align: right;\">\n",
              "      <th></th>\n",
              "      <th>name</th>\n",
              "      <th>age</th>\n",
              "    </tr>\n",
              "  </thead>\n",
              "  <tbody>\n",
              "    <tr>\n",
              "      <th>1</th>\n",
              "      <td>James</td>\n",
              "      <td>22</td>\n",
              "    </tr>\n",
              "    <tr>\n",
              "      <th>2</th>\n",
              "      <td>Jess</td>\n",
              "      <td>32</td>\n",
              "    </tr>\n",
              "  </tbody>\n",
              "</table>\n",
              "</div>"
            ],
            "text/plain": [
              "    name age\n",
              "1  James  22\n",
              "2   Jess  32"
            ]
          },
          "metadata": {
            "tags": []
          },
          "execution_count": 135
        }
      ]
    },
    {
      "cell_type": "code",
      "metadata": {
        "colab": {
          "base_uri": "https://localhost:8080/",
          "height": 424
        },
        "id": "aRxte-bIR2FO",
        "outputId": "75f88928-c073-48d9-8463-40a0b79aa69f"
      },
      "source": [
        "stats = pd.DataFrame(columns=(\"language\", \"author\", \"title\", \"length\", \"unique words\"))\n",
        "\n",
        "for row, path in enumerate(paths, start=1):\n",
        "    book_path = (initial + path.lstrip('.'))\n",
        "    text = read_book(book_path)\n",
        "\n",
        "    word_counts = count_words_fast(text)\n",
        "    (num_unique, counts) = word_stats(word_counts)\n",
        "\n",
        "    language, author, title = path.split(\"/\")[2:] # exclude '.' and 'books' from path\n",
        "\n",
        "    language = language.capitalize()\n",
        "    author = author.capitalize()\n",
        "    title = ' '.join(title[:-4].split('-')) # exclude '.txt' from title\n",
        "    # OR title = title.replace(\"-\", \" \").replace(\".txt\", \"\")\n",
        "\n",
        "    stats.loc[row] = language, author, title, sum(counts), num_unique\n",
        "\n",
        "stats "
      ],
      "execution_count": 136,
      "outputs": [
        {
          "output_type": "execute_result",
          "data": {
            "text/html": [
              "<div>\n",
              "<style scoped>\n",
              "    .dataframe tbody tr th:only-of-type {\n",
              "        vertical-align: middle;\n",
              "    }\n",
              "\n",
              "    .dataframe tbody tr th {\n",
              "        vertical-align: top;\n",
              "    }\n",
              "\n",
              "    .dataframe thead th {\n",
              "        text-align: right;\n",
              "    }\n",
              "</style>\n",
              "<table border=\"1\" class=\"dataframe\">\n",
              "  <thead>\n",
              "    <tr style=\"text-align: right;\">\n",
              "      <th></th>\n",
              "      <th>language</th>\n",
              "      <th>author</th>\n",
              "      <th>title</th>\n",
              "      <th>length</th>\n",
              "      <th>unique words</th>\n",
              "    </tr>\n",
              "  </thead>\n",
              "  <tbody>\n",
              "    <tr>\n",
              "      <th>1</th>\n",
              "      <td>Portuguese</td>\n",
              "      <td>Dinis</td>\n",
              "      <td>A Morgadinha dos Cannaviaes</td>\n",
              "      <td>148778</td>\n",
              "      <td>20860</td>\n",
              "    </tr>\n",
              "    <tr>\n",
              "      <th>2</th>\n",
              "      <td>Portuguese</td>\n",
              "      <td>Dinis</td>\n",
              "      <td>Os fidalgos da Casa Mourisca</td>\n",
              "      <td>144502</td>\n",
              "      <td>18477</td>\n",
              "    </tr>\n",
              "    <tr>\n",
              "      <th>3</th>\n",
              "      <td>Portuguese</td>\n",
              "      <td>Dinis</td>\n",
              "      <td>Uma fam°lia ingleza</td>\n",
              "      <td>121976</td>\n",
              "      <td>18668</td>\n",
              "    </tr>\n",
              "    <tr>\n",
              "      <th>4</th>\n",
              "      <td>Portuguese</td>\n",
              "      <td>Branco</td>\n",
              "      <td>A Queda d'um Anjo</td>\n",
              "      <td>52958</td>\n",
              "      <td>12813</td>\n",
              "    </tr>\n",
              "    <tr>\n",
              "      <th>5</th>\n",
              "      <td>Portuguese</td>\n",
              "      <td>Branco</td>\n",
              "      <td>Scenas Contemporaneas</td>\n",
              "      <td>53291</td>\n",
              "      <td>11671</td>\n",
              "    </tr>\n",
              "    <tr>\n",
              "      <th>...</th>\n",
              "      <td>...</td>\n",
              "      <td>...</td>\n",
              "      <td>...</td>\n",
              "      <td>...</td>\n",
              "      <td>...</td>\n",
              "    </tr>\n",
              "    <tr>\n",
              "      <th>98</th>\n",
              "      <td>English</td>\n",
              "      <td>Shakespeare</td>\n",
              "      <td>Romeo and Juliet</td>\n",
              "      <td>28981</td>\n",
              "      <td>4709</td>\n",
              "    </tr>\n",
              "    <tr>\n",
              "      <th>99</th>\n",
              "      <td>English</td>\n",
              "      <td>Shakespeare</td>\n",
              "      <td>Othello</td>\n",
              "      <td>27383</td>\n",
              "      <td>4036</td>\n",
              "    </tr>\n",
              "    <tr>\n",
              "      <th>100</th>\n",
              "      <td>English</td>\n",
              "      <td>Shakespeare</td>\n",
              "      <td>A Midsummer Night's Dream</td>\n",
              "      <td>16972</td>\n",
              "      <td>3231</td>\n",
              "    </tr>\n",
              "    <tr>\n",
              "      <th>101</th>\n",
              "      <td>English</td>\n",
              "      <td>Shakespeare</td>\n",
              "      <td>Hamlet</td>\n",
              "      <td>29575</td>\n",
              "      <td>4796</td>\n",
              "    </tr>\n",
              "    <tr>\n",
              "      <th>102</th>\n",
              "      <td>English</td>\n",
              "      <td>Shakespeare</td>\n",
              "      <td>Macbeth</td>\n",
              "      <td>17718</td>\n",
              "      <td>3557</td>\n",
              "    </tr>\n",
              "  </tbody>\n",
              "</table>\n",
              "<p>102 rows × 5 columns</p>\n",
              "</div>"
            ],
            "text/plain": [
              "       language       author                         title  length unique words\n",
              "1    Portuguese        Dinis   A Morgadinha dos Cannaviaes  148778        20860\n",
              "2    Portuguese        Dinis  Os fidalgos da Casa Mourisca  144502        18477\n",
              "3    Portuguese        Dinis           Uma fam°lia ingleza  121976        18668\n",
              "4    Portuguese       Branco             A Queda d'um Anjo   52958        12813\n",
              "5    Portuguese       Branco         Scenas Contemporaneas   53291        11671\n",
              "..          ...          ...                           ...     ...          ...\n",
              "98      English  Shakespeare              Romeo and Juliet   28981         4709\n",
              "99      English  Shakespeare                       Othello   27383         4036\n",
              "100     English  Shakespeare     A Midsummer Night's Dream   16972         3231\n",
              "101     English  Shakespeare                        Hamlet   29575         4796\n",
              "102     English  Shakespeare                       Macbeth   17718         3557\n",
              "\n",
              "[102 rows x 5 columns]"
            ]
          },
          "metadata": {
            "tags": []
          },
          "execution_count": 136
        }
      ]
    },
    {
      "cell_type": "code",
      "metadata": {
        "colab": {
          "base_uri": "https://localhost:8080/",
          "height": 206
        },
        "id": "3rusOHBpesYZ",
        "outputId": "506e37fe-022d-4c05-d428-d1c91853c949"
      },
      "source": [
        "stats.head()"
      ],
      "execution_count": 137,
      "outputs": [
        {
          "output_type": "execute_result",
          "data": {
            "text/html": [
              "<div>\n",
              "<style scoped>\n",
              "    .dataframe tbody tr th:only-of-type {\n",
              "        vertical-align: middle;\n",
              "    }\n",
              "\n",
              "    .dataframe tbody tr th {\n",
              "        vertical-align: top;\n",
              "    }\n",
              "\n",
              "    .dataframe thead th {\n",
              "        text-align: right;\n",
              "    }\n",
              "</style>\n",
              "<table border=\"1\" class=\"dataframe\">\n",
              "  <thead>\n",
              "    <tr style=\"text-align: right;\">\n",
              "      <th></th>\n",
              "      <th>language</th>\n",
              "      <th>author</th>\n",
              "      <th>title</th>\n",
              "      <th>length</th>\n",
              "      <th>unique words</th>\n",
              "    </tr>\n",
              "  </thead>\n",
              "  <tbody>\n",
              "    <tr>\n",
              "      <th>1</th>\n",
              "      <td>Portuguese</td>\n",
              "      <td>Dinis</td>\n",
              "      <td>A Morgadinha dos Cannaviaes</td>\n",
              "      <td>148778</td>\n",
              "      <td>20860</td>\n",
              "    </tr>\n",
              "    <tr>\n",
              "      <th>2</th>\n",
              "      <td>Portuguese</td>\n",
              "      <td>Dinis</td>\n",
              "      <td>Os fidalgos da Casa Mourisca</td>\n",
              "      <td>144502</td>\n",
              "      <td>18477</td>\n",
              "    </tr>\n",
              "    <tr>\n",
              "      <th>3</th>\n",
              "      <td>Portuguese</td>\n",
              "      <td>Dinis</td>\n",
              "      <td>Uma fam°lia ingleza</td>\n",
              "      <td>121976</td>\n",
              "      <td>18668</td>\n",
              "    </tr>\n",
              "    <tr>\n",
              "      <th>4</th>\n",
              "      <td>Portuguese</td>\n",
              "      <td>Branco</td>\n",
              "      <td>A Queda d'um Anjo</td>\n",
              "      <td>52958</td>\n",
              "      <td>12813</td>\n",
              "    </tr>\n",
              "    <tr>\n",
              "      <th>5</th>\n",
              "      <td>Portuguese</td>\n",
              "      <td>Branco</td>\n",
              "      <td>Scenas Contemporaneas</td>\n",
              "      <td>53291</td>\n",
              "      <td>11671</td>\n",
              "    </tr>\n",
              "  </tbody>\n",
              "</table>\n",
              "</div>"
            ],
            "text/plain": [
              "     language  author                         title  length unique words\n",
              "1  Portuguese   Dinis   A Morgadinha dos Cannaviaes  148778        20860\n",
              "2  Portuguese   Dinis  Os fidalgos da Casa Mourisca  144502        18477\n",
              "3  Portuguese   Dinis           Uma fam°lia ingleza  121976        18668\n",
              "4  Portuguese  Branco             A Queda d'um Anjo   52958        12813\n",
              "5  Portuguese  Branco         Scenas Contemporaneas   53291        11671"
            ]
          },
          "metadata": {
            "tags": []
          },
          "execution_count": 137
        }
      ]
    },
    {
      "cell_type": "code",
      "metadata": {
        "colab": {
          "base_uri": "https://localhost:8080/",
          "height": 206
        },
        "id": "DN5Vaopee39V",
        "outputId": "9d79abf2-2b48-42d8-ded8-b2f82cdaf3f7"
      },
      "source": [
        "stats.tail()"
      ],
      "execution_count": 138,
      "outputs": [
        {
          "output_type": "execute_result",
          "data": {
            "text/html": [
              "<div>\n",
              "<style scoped>\n",
              "    .dataframe tbody tr th:only-of-type {\n",
              "        vertical-align: middle;\n",
              "    }\n",
              "\n",
              "    .dataframe tbody tr th {\n",
              "        vertical-align: top;\n",
              "    }\n",
              "\n",
              "    .dataframe thead th {\n",
              "        text-align: right;\n",
              "    }\n",
              "</style>\n",
              "<table border=\"1\" class=\"dataframe\">\n",
              "  <thead>\n",
              "    <tr style=\"text-align: right;\">\n",
              "      <th></th>\n",
              "      <th>language</th>\n",
              "      <th>author</th>\n",
              "      <th>title</th>\n",
              "      <th>length</th>\n",
              "      <th>unique words</th>\n",
              "    </tr>\n",
              "  </thead>\n",
              "  <tbody>\n",
              "    <tr>\n",
              "      <th>98</th>\n",
              "      <td>English</td>\n",
              "      <td>Shakespeare</td>\n",
              "      <td>Romeo and Juliet</td>\n",
              "      <td>28981</td>\n",
              "      <td>4709</td>\n",
              "    </tr>\n",
              "    <tr>\n",
              "      <th>99</th>\n",
              "      <td>English</td>\n",
              "      <td>Shakespeare</td>\n",
              "      <td>Othello</td>\n",
              "      <td>27383</td>\n",
              "      <td>4036</td>\n",
              "    </tr>\n",
              "    <tr>\n",
              "      <th>100</th>\n",
              "      <td>English</td>\n",
              "      <td>Shakespeare</td>\n",
              "      <td>A Midsummer Night's Dream</td>\n",
              "      <td>16972</td>\n",
              "      <td>3231</td>\n",
              "    </tr>\n",
              "    <tr>\n",
              "      <th>101</th>\n",
              "      <td>English</td>\n",
              "      <td>Shakespeare</td>\n",
              "      <td>Hamlet</td>\n",
              "      <td>29575</td>\n",
              "      <td>4796</td>\n",
              "    </tr>\n",
              "    <tr>\n",
              "      <th>102</th>\n",
              "      <td>English</td>\n",
              "      <td>Shakespeare</td>\n",
              "      <td>Macbeth</td>\n",
              "      <td>17718</td>\n",
              "      <td>3557</td>\n",
              "    </tr>\n",
              "  </tbody>\n",
              "</table>\n",
              "</div>"
            ],
            "text/plain": [
              "    language       author                      title length unique words\n",
              "98   English  Shakespeare           Romeo and Juliet  28981         4709\n",
              "99   English  Shakespeare                    Othello  27383         4036\n",
              "100  English  Shakespeare  A Midsummer Night's Dream  16972         3231\n",
              "101  English  Shakespeare                     Hamlet  29575         4796\n",
              "102  English  Shakespeare                    Macbeth  17718         3557"
            ]
          },
          "metadata": {
            "tags": []
          },
          "execution_count": 138
        }
      ]
    },
    {
      "cell_type": "code",
      "metadata": {
        "colab": {
          "base_uri": "https://localhost:8080/"
        },
        "id": "xCOSztCqkDOs",
        "outputId": "4c80be96-9597-4ee8-d2c8-ff98970d8448"
      },
      "source": [
        "# accessing columns by column-name\n",
        "stats.columns"
      ],
      "execution_count": 139,
      "outputs": [
        {
          "output_type": "execute_result",
          "data": {
            "text/plain": [
              "Index(['language', 'author', 'title', 'length', 'unique words'], dtype='object')"
            ]
          },
          "metadata": {
            "tags": []
          },
          "execution_count": 139
        }
      ]
    },
    {
      "cell_type": "code",
      "metadata": {
        "colab": {
          "base_uri": "https://localhost:8080/"
        },
        "id": "9DWWLrOOlPcl",
        "outputId": "c5d91ebe-cb6e-4554-a7e7-77f4d374127c"
      },
      "source": [
        "stats.length # 1st way - using dot notation"
      ],
      "execution_count": 140,
      "outputs": [
        {
          "output_type": "execute_result",
          "data": {
            "text/plain": [
              "1      148778\n",
              "2      144502\n",
              "3      121976\n",
              "4       52958\n",
              "5       53291\n",
              "        ...  \n",
              "98      28981\n",
              "99      27383\n",
              "100     16972\n",
              "101     29575\n",
              "102     17718\n",
              "Name: length, Length: 102, dtype: object"
            ]
          },
          "metadata": {
            "tags": []
          },
          "execution_count": 140
        }
      ]
    },
    {
      "cell_type": "code",
      "metadata": {
        "colab": {
          "base_uri": "https://localhost:8080/"
        },
        "id": "v0XSPZXzkOqx",
        "outputId": "faa7df8b-1695-4f18-d3ac-2c7c3fb4358f"
      },
      "source": [
        "stats['unique words'] # 2nd way - using brackets"
      ],
      "execution_count": 141,
      "outputs": [
        {
          "output_type": "execute_result",
          "data": {
            "text/plain": [
              "1      20860\n",
              "2      18477\n",
              "3      18668\n",
              "4      12813\n",
              "5      11671\n",
              "       ...  \n",
              "98      4709\n",
              "99      4036\n",
              "100     3231\n",
              "101     4796\n",
              "102     3557\n",
              "Name: unique words, Length: 102, dtype: object"
            ]
          },
          "metadata": {
            "tags": []
          },
          "execution_count": 141
        }
      ]
    },
    {
      "cell_type": "code",
      "metadata": {
        "colab": {
          "base_uri": "https://localhost:8080/",
          "height": 265
        },
        "id": "v7uFQys6lzCH",
        "outputId": "8cd55d56-1d07-4976-ee57-01f722aa28db"
      },
      "source": [
        "# plotting the data\n",
        "\n",
        "import matplotlib.pyplot as plt\n",
        "\n",
        "plt.plot(stats['length'], stats['unique words'], 'bo'); # 'bo' - blue circles"
      ],
      "execution_count": 142,
      "outputs": [
        {
          "output_type": "display_data",
          "data": {
            "image/png": "[encoded data removed]",
            "text/plain": [
              "<Figure size 432x288 with 1 Axes>"
            ]
          },
          "metadata": {
            "tags": [],
            "needs_background": "light"
          }
        }
      ]
    },
    {
      "cell_type": "code",
      "metadata": {
        "colab": {
          "base_uri": "https://localhost:8080/",
          "height": 269
        },
        "id": "9S5-7FlmmS4w",
        "outputId": "d4115ecc-c341-4bd3-9aea-4086bd0c9ff3"
      },
      "source": [
        "# plot where x and y axis are logarithmic\n",
        "plt.loglog(stats['length'], stats['unique words'], 'bo'); # 'bo' - blue circles"
      ],
      "execution_count": 143,
      "outputs": [
        {
          "output_type": "display_data",
          "data": {
            "image/png": "[encoded data removed]",
            "text/plain": [
              "<Figure size 432x288 with 1 Axes>"
            ]
          },
          "metadata": {
            "tags": [],
            "needs_background": "light"
          }
        }
      ]
    },
    {
      "cell_type": "code",
      "metadata": {
        "colab": {
          "base_uri": "https://localhost:8080/",
          "height": 269
        },
        "id": "-0Oc9mk_m0AQ",
        "outputId": "543ed9f2-a590-48af-bc00-f06cfdae0c8e"
      },
      "source": [
        "stats[stats.language == \"English\"] # only rows where language is English"
      ],
      "execution_count": 144,
      "outputs": [
        {
          "output_type": "execute_result",
          "data": {
            "text/html": [
              "<div>\n",
              "<style scoped>\n",
              "    .dataframe tbody tr th:only-of-type {\n",
              "        vertical-align: middle;\n",
              "    }\n",
              "\n",
              "    .dataframe tbody tr th {\n",
              "        vertical-align: top;\n",
              "    }\n",
              "\n",
              "    .dataframe thead th {\n",
              "        text-align: right;\n",
              "    }\n",
              "</style>\n",
              "<table border=\"1\" class=\"dataframe\">\n",
              "  <thead>\n",
              "    <tr style=\"text-align: right;\">\n",
              "      <th></th>\n",
              "      <th>language</th>\n",
              "      <th>author</th>\n",
              "      <th>title</th>\n",
              "      <th>length</th>\n",
              "      <th>unique words</th>\n",
              "    </tr>\n",
              "  </thead>\n",
              "  <tbody>\n",
              "    <tr>\n",
              "      <th>96</th>\n",
              "      <td>English</td>\n",
              "      <td>Shakespeare</td>\n",
              "      <td>Richard III</td>\n",
              "      <td>34745</td>\n",
              "      <td>5034</td>\n",
              "    </tr>\n",
              "    <tr>\n",
              "      <th>97</th>\n",
              "      <td>English</td>\n",
              "      <td>Shakespeare</td>\n",
              "      <td>The Merchant of Venice</td>\n",
              "      <td>21951</td>\n",
              "      <td>3529</td>\n",
              "    </tr>\n",
              "    <tr>\n",
              "      <th>98</th>\n",
              "      <td>English</td>\n",
              "      <td>Shakespeare</td>\n",
              "      <td>Romeo and Juliet</td>\n",
              "      <td>28981</td>\n",
              "      <td>4709</td>\n",
              "    </tr>\n",
              "    <tr>\n",
              "      <th>99</th>\n",
              "      <td>English</td>\n",
              "      <td>Shakespeare</td>\n",
              "      <td>Othello</td>\n",
              "      <td>27383</td>\n",
              "      <td>4036</td>\n",
              "    </tr>\n",
              "    <tr>\n",
              "      <th>100</th>\n",
              "      <td>English</td>\n",
              "      <td>Shakespeare</td>\n",
              "      <td>A Midsummer Night's Dream</td>\n",
              "      <td>16972</td>\n",
              "      <td>3231</td>\n",
              "    </tr>\n",
              "    <tr>\n",
              "      <th>101</th>\n",
              "      <td>English</td>\n",
              "      <td>Shakespeare</td>\n",
              "      <td>Hamlet</td>\n",
              "      <td>29575</td>\n",
              "      <td>4796</td>\n",
              "    </tr>\n",
              "    <tr>\n",
              "      <th>102</th>\n",
              "      <td>English</td>\n",
              "      <td>Shakespeare</td>\n",
              "      <td>Macbeth</td>\n",
              "      <td>17718</td>\n",
              "      <td>3557</td>\n",
              "    </tr>\n",
              "  </tbody>\n",
              "</table>\n",
              "</div>"
            ],
            "text/plain": [
              "    language       author                      title length unique words\n",
              "96   English  Shakespeare                Richard III  34745         5034\n",
              "97   English  Shakespeare     The Merchant of Venice  21951         3529\n",
              "98   English  Shakespeare           Romeo and Juliet  28981         4709\n",
              "99   English  Shakespeare                    Othello  27383         4036\n",
              "100  English  Shakespeare  A Midsummer Night's Dream  16972         3231\n",
              "101  English  Shakespeare                     Hamlet  29575         4796\n",
              "102  English  Shakespeare                    Macbeth  17718         3557"
            ]
          },
          "metadata": {
            "tags": []
          },
          "execution_count": 144
        }
      ]
    },
    {
      "cell_type": "code",
      "metadata": {
        "colab": {
          "base_uri": "https://localhost:8080/",
          "height": 283
        },
        "id": "HdyG5x3Cnb2W",
        "outputId": "85e50b15-e774-4a76-a637-61aa4c06339d"
      },
      "source": [
        "english = stats[stats.language == \"English\"]\n",
        "plt.loglog(english['length'], english['unique words'], \"o\", label=\"English\", color=\"crimson\");\n",
        "\n",
        "french = stats[stats.language == \"French\"]\n",
        "plt.loglog(french['length'], french['unique words'], \"o\", label=\"French\", color=\"forestgreen\");\n",
        "\n",
        "german = stats[stats.language == \"German\"]\n",
        "plt.loglog(german['length'], german['unique words'], \"o\", label=\"German\", color=\"orange\");\n",
        "\n",
        "portuguese = stats[stats.language == \"Portuguese\"]\n",
        "plt.loglog(portuguese['length'], portuguese['unique words'], \"o\", label=\"Portuguese\", color=\"blueviolet\");\n",
        "\n",
        "plt.legend();\n",
        "plt.xlabel(\"Book Length\");\n",
        "plt.ylabel(\"Unique Words\");"
      ],
      "execution_count": 145,
      "outputs": [
        {
          "output_type": "display_data",
          "data": {
            "image/png": "[encoded data removed]",
            "text/plain": [
              "<Figure size 432x288 with 1 Axes>"
            ]
          },
          "metadata": {
            "tags": [],
            "needs_background": "light"
          }
        }
      ]
    }
  ]
}