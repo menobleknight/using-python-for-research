{
  "nbformat": 4,
  "nbformat_minor": 0,
  "metadata": {
    "colab": {
      "name": "language-processing.ipynb",
      "provenance": [],
      "authorship_tag": "ABX9TyMqAsj3nRh+ScbAl5MYJvyJ",
      "include_colab_link": true
    },
    "kernelspec": {
      "name": "python3",
      "display_name": "Python 3"
    },
    "language_info": {
      "name": "python"
    }
  },
  "cells": [
    {
      "cell_type": "markdown",
      "metadata": {
        "id": "view-in-github",
        "colab_type": "text"
      },
      "source": [
        "<a href=\"https://colab.research.google.com/github/menobleknight/using-python-for-research/blob/main/week-3-part-2/language-processing.ipynb\" target=\"_parent\"><img src=\"https://colab.research.google.com/assets/colab-badge.svg\" alt=\"Open In Colab\"/></a>"
      ]
    },
    {
      "cell_type": "markdown",
      "metadata": {
        "id": "AwCD4aTFgK36"
      },
      "source": [
        "### `Case Study: Language Processing`\n",
        "- [`English and French Books`](https://courses.edx.org/assets/courseware/v1/1d1e264f416e27b22a0b8c970d52f3e3/asset-v1:HarvardX+PH526x+2T2020+type@asset+block/Books_EngFr.zip)\n",
        "- [`German and Portuguese Books`](https://courses.edx.org/assets/courseware/v1/9ae1e86b60c734de6665509f7fff25ae/asset-v1:HarvardX+PH526x+2T2020+type@asset+block/Books_GerPort.zip)"
      ]
    },
    {
      "cell_type": "code",
      "metadata": {
        "colab": {
          "base_uri": "https://localhost:8080/"
        },
        "id": "fcC7dTfug1MI",
        "outputId": "42fb9745-97f9-4f55-d39d-86426ba92bb3"
      },
      "source": [
        "text = \"This is my test text. We're keeping this text short to keep things manageable.\"\n",
        "\n",
        "def count_words(text):\n",
        "    word_counts = {}\n",
        "    for word in text.split():\n",
        "        if word in word_counts:\n",
        "            word_counts[word] += 1\n",
        "        else:\n",
        "            word_counts[word] = 1\n",
        "\n",
        "    return word_counts\n",
        "\n",
        "count_words(text)"
      ],
      "execution_count": 2,
      "outputs": [
        {
          "output_type": "execute_result",
          "data": {
            "text/plain": [
              "{'This': 1,\n",
              " \"We're\": 1,\n",
              " 'is': 1,\n",
              " 'keep': 1,\n",
              " 'keeping': 1,\n",
              " 'manageable.': 1,\n",
              " 'my': 1,\n",
              " 'short': 1,\n",
              " 'test': 1,\n",
              " 'text': 1,\n",
              " 'text.': 1,\n",
              " 'things': 1,\n",
              " 'this': 1,\n",
              " 'to': 1}"
            ]
          },
          "metadata": {
            "tags": []
          },
          "execution_count": 2
        }
      ]
    },
    {
      "cell_type": "code",
      "metadata": {
        "colab": {
          "base_uri": "https://localhost:8080/"
        },
        "id": "MlTJ6Os4i9Ew",
        "outputId": "6207f8ac-51af-45a3-aa31-1ec551cea833"
      },
      "source": [
        "text = \"This is my test text. We're keeping this text short to keep things manageable.\"\n",
        "\n",
        "def count_words(text):\n",
        "    text = text.lower()\n",
        "    punctuations = [\".\", \",\", \";\", \":\", \"'\", '\"'] # to skip punctuations in the text\n",
        "    for char in punctuations:\n",
        "        text = text.replace(char, '')\n",
        "        \n",
        "    word_counts = {}\n",
        "    for word in text.split():\n",
        "        if word in word_counts:\n",
        "            word_counts[word] += 1\n",
        "        else:\n",
        "            word_counts[word] = 1\n",
        "\n",
        "    return word_counts\n",
        "\n",
        "count_words(text)"
      ],
      "execution_count": 3,
      "outputs": [
        {
          "output_type": "execute_result",
          "data": {
            "text/plain": [
              "{'is': 1,\n",
              " 'keep': 1,\n",
              " 'keeping': 1,\n",
              " 'manageable': 1,\n",
              " 'my': 1,\n",
              " 'short': 1,\n",
              " 'test': 1,\n",
              " 'text': 2,\n",
              " 'things': 1,\n",
              " 'this': 2,\n",
              " 'to': 1,\n",
              " 'were': 1}"
            ]
          },
          "metadata": {
            "tags": []
          },
          "execution_count": 3
        }
      ]
    },
    {
      "cell_type": "code",
      "metadata": {
        "colab": {
          "base_uri": "https://localhost:8080/"
        },
        "id": "VPwrDA_QkUrb",
        "outputId": "b7ffb4d4-affb-4ab2-8808-8c43d9cb41ce"
      },
      "source": [
        "from collections import Counter\n",
        "\n",
        "def count_words_fast(text):\n",
        "    text = text.lower()\n",
        "    punctuations = [\".\", \",\", \";\", \":\", \"'\", '\"'] # to skip punctuations in the text\n",
        "    for char in punctuations:\n",
        "        text = text.replace(char, '')\n",
        "        \n",
        "    word_counts = Counter(text.split())\n",
        "\n",
        "    return word_counts\n",
        "\n",
        "count_words_fast(text)"
      ],
      "execution_count": 5,
      "outputs": [
        {
          "output_type": "execute_result",
          "data": {
            "text/plain": [
              "Counter({'is': 1,\n",
              "         'keep': 1,\n",
              "         'keeping': 1,\n",
              "         'manageable': 1,\n",
              "         'my': 1,\n",
              "         'short': 1,\n",
              "         'test': 1,\n",
              "         'text': 2,\n",
              "         'things': 1,\n",
              "         'this': 2,\n",
              "         'to': 1,\n",
              "         'were': 1})"
            ]
          },
          "metadata": {
            "tags": []
          },
          "execution_count": 5
        }
      ]
    },
    {
      "cell_type": "code",
      "metadata": {
        "colab": {
          "base_uri": "https://localhost:8080/"
        },
        "id": "47QMkJ5_lIUN",
        "outputId": "f83d5b0d-06dc-4e57-92f2-b65aa1518a2e"
      },
      "source": [
        "count_words(text) == count_words_fast(text)"
      ],
      "execution_count": 6,
      "outputs": [
        {
          "output_type": "execute_result",
          "data": {
            "text/plain": [
              "True"
            ]
          },
          "metadata": {
            "tags": []
          },
          "execution_count": 6
        }
      ]
    }
  ]
}